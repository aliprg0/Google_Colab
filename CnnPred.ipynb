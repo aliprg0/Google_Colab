{
  "cells": [
    {
      "cell_type": "code",
      "execution_count": null,
      "metadata": {
        "id": "_5bxbCoe9do9"
      },
      "outputs": [],
      "source": [
        "!pip install yfinance\n",
        "!pip install yahooquery\n",
        "!pip install tvdatafeed\n",
        "!pip install tensorflow\n",
        "!pip install --upgrade mplfinance\n",
        "from tvDatafeed import TvDatafeed, Interval\n",
        "from yahooquery import Screener\n",
        "import yfinance as yf   \n",
        "import pandas as pd\n",
        "import numpy as np\n",
        "from sklearn.model_selection import train_test_split\n",
        "from sklearn.preprocessing import MinMaxScaler\n",
        "import tensorflow as tf\n",
        "import random \n",
        "from tensorflow.keras.models import load_model\n",
        "import os\n",
        "import shutil\n",
        "import mplfinance as mpl \n",
        "from datetime import datetime\n",
        "import glob\n",
        "from PIL import Image\n",
        "import cv2\n",
        "import gc\n",
        "import gc\n",
        "%matplotlib inline\n",
        "import matplotlib.pyplot as plt\n",
        "import matplotlib\n",
        "matplotlib.use('agg')\n",
        "from keras.models import Sequential\n",
        "from keras.layers import Conv2D,MaxPooling2D,Activation,Dropout,Flatten,Dense,AveragePooling2D,GlobalAveragePooling2D"
      ]
    },
    {
      "cell_type": "code",
      "execution_count": 97,
      "metadata": {
        "id": "IB_YMoe09qVP"
      },
      "outputs": [],
      "source": [
        "\n",
        "def work_with_dir():\n",
        "  if os.path.exists(\"/content/data/\"):\n",
        "    shutil.rmtree(\"/content/data/\", ignore_errors=True)\n",
        "    print(\"Data Folder Removed\")\n",
        "    os.mkdir(\"/content/data/\")\n",
        "  if not os.path.exists(\"/content/data/\"):\n",
        "    os.mkdir(\"/content/data/\")\n",
        "  if not os.path.exists(\"/content/extracted/\"):\n",
        "    os.mkdir(\"/content/extracted/\")\n",
        "  if not os.path.exists(\"/content/checkpoints/\"):\n",
        "    os.mkdir(\"/content/checkpoints/\")\n",
        "\n",
        "\n",
        "def get_crypto_syms():\n",
        "   # 'all_cryptocurrencies_au','all_cryptocurrencies_ca','all_cryptocurrencies_eu','all_cryptocurrencies_gb','all_cryptocurrencies_in',\n",
        "   screens = [\n",
        "       'all_cryptocurrencies_us', 'all_cryptocurrencies_au', 'all_cryptocurrencies_ca', 'all_cryptocurrencies_eu', 'all_cryptocurrencies_gb', 'all_cryptocurrencies_in', ]\n",
        "   s = Screener()\n",
        "   symbols = []\n",
        "   for i in screens:\n",
        "      data = s.get_screeners(i, count=250)\n",
        "      dicts = data[i]['quotes']\n",
        "      syms = [d['symbol'] for d in dicts]\n",
        "      for sym in syms:\n",
        "        symbols.append(sym)\n",
        "   # print(len(symbols))\n",
        "   # pieces = 15\n",
        "   # new_arrays = np.array_split(symbols, pieces)\n",
        "   return symbols\n",
        "\n",
        "\n",
        "def download_data(symbols, periodd, intervall):\n",
        "  indexx = 100\n",
        "  work_with_dir()\n",
        "  for symbol in symbols:\n",
        "    if ((symbols.index(symbol)+1) % 100 == 0):\n",
        "      print(f\" -- {indexx}\", end=\"\")\n",
        "      indexx = indexx + 100\n",
        "    try:\n",
        "        data = yf.download(symbol, period=periodd,\n",
        "                           interval=intervall, progress=False, show_errors=False)\n",
        "        if data.empty:\n",
        "           pass\n",
        "        else:\n",
        "            data.to_csv(f\"/content/data/{symbol}.csv\")\n",
        "    except:\n",
        "       print(\"Error!\")\n",
        "  print(\" \")\n",
        "\n",
        "\n",
        "def extract_data(how_many_future_candles, how_many_past_candles, each_row_past):\n",
        "  print(f\"Files In Data : {len(os.listdir('/content/data/'))}\")\n",
        "  pd.options.mode.chained_assignment = None\n",
        "  files = os.listdir(\"/content/data/\")\n",
        "  print(\"Processing File:\")\n",
        "  now = datetime.now().strftime(\"%H%M%S\")\n",
        "  os.mkdir(f\"/content/extracted/{now}/\")\n",
        "  index = 1\n",
        "  for file in files:\n",
        "     print(f\"File Number {index}:\", end=\" \")\n",
        "     each_file_proc(file, now, how_many_future_candles,\n",
        "                    how_many_past_candles, each_row_past)\n",
        "     index = index + 1\n",
        "  print(\" \")\n",
        "  return now\n",
        "\n",
        "\n",
        "def each_file_proc(file, now, how_many_future_candles, how_many_past_candles, each_row_past):\n",
        "\n",
        "    address = f\"/content/data/{file}\"\n",
        "    data = pd.read_csv(address)\n",
        "    data = data.dropna()\n",
        "    dfs = []\n",
        "    suggs = []\n",
        "    if len(data.columns) == 7:\n",
        "      data = data.iloc[:, 1:]\n",
        "    data = np.array(data)\n",
        "    data = data.astype(float)\n",
        "    for i in range(each_row_past, data.shape[0]-which_future_or_past):\n",
        "\n",
        "        rows = data[i-each_row_past:i, :4]\n",
        "\n",
        "        past_candles = []\n",
        "        #for z in range(1, how_many_past_candles+1):\n",
        "        #  past_candles.append(data[i-z][3])\n",
        "        #past_candles = sum(past_candles)/len(past_candles)\n",
        "        next_candles = []\n",
        "        for z in range(0, how_many_future_candles):\n",
        "          next_candles.append(data[i+z][3])\n",
        "        next_candles = sum(next_candles)/len(next_candles)\n",
        "        if next_candles > data[i-1][3]:\n",
        "          suggs.append(1)\n",
        "        else:\n",
        "          suggs.append(0)\n",
        "\n",
        "        x = pd.DataFrame(rows, columns=[\"Open\", \"High\", \"Low\", \"Close\"])\n",
        "        del rows\n",
        "        del past_candles\n",
        "        del next_candles\n",
        "        dfs.append(x)\n",
        "        del x\n",
        "    del data\n",
        "\n",
        "    index = 0\n",
        "    all_n = np.array(dfs).shape[0]\n",
        "    for df in dfs:\n",
        "        date_list = []\n",
        "        rrng = np.array(df).shape[0]\n",
        "        for i in range(rrng):\n",
        "            date_list.append(datetime.fromordinal(\n",
        "                datetime.today().toordinal()+i).strftime('%Y-%m-%d'))\n",
        "        df.index = date_list\n",
        "        df.index.name = \"Date\"\n",
        "        df.index = pd.to_datetime(df.index)\n",
        "        right_now = datetime.now().strftime(\"%H%M%S%f\")\n",
        "        address = f\"/content/extracted/{now}/{right_now}_{suggs[index]}.png\"\n",
        "        mpl.plot(df, type=\"candle\", style=\"yahoo\", axisoff=True,\n",
        "                           scale_padding=0.2, returnfig=True, savefig=address, tight_layout=True,figsize =(3,2))\n",
        "        plt.close(\"all\")\n",
        "        del df\n",
        "        del date_list\n",
        "        del rrng\n",
        "        del i\n",
        "        del right_now\n",
        "        gc.collect()\n",
        "\n",
        "\n",
        "\n",
        "        index = index + 1\n",
        "        if index % 10 == 0:\n",
        "            print(f\"{index}/{all_n}\", end=\" \")\n",
        "        if index % 170 == 0:\n",
        "          print(\" \")\n",
        "\n",
        "    print(\"\")\n",
        "    del dfs\n",
        "    del suggs\n",
        "    del index\n",
        "    del all_n\n",
        "    gc.collect()\n",
        "\n",
        "\n",
        "\n",
        "def start(how_many_future_candles, how_many_past_candles, each_row_past):\n",
        "    folder_name = extract_data(\n",
        "        how_many_future_candles, how_many_past_candles, each_row_past)\n",
        "    return folder_name\n"
      ]
    },
    {
      "cell_type": "code",
      "execution_count": 60,
      "metadata": {
        "colab": {
          "base_uri": "https://localhost:8080/"
        },
        "id": "AMR8z1BIS-M_",
        "outputId": "c0db1615-d99b-4b3a-f554-c32597b12de0"
      },
      "outputs": [
        {
          "output_type": "stream",
          "name": "stdout",
          "text": [
            "Symbols : 1500\n",
            "Data Folder Removed\n",
            " \n"
          ]
        }
      ],
      "source": [
        "symbols = get_crypto_syms()\n",
        "print(f\"Symbols : {len(symbols)}\")\n",
        "symbols = [\"btc-usd\",\"eth-usd\",\"trx-usd\"]\n",
        "download_data(symbols,\"max\",\"1wk\")"
      ]
    },
    {
      "cell_type": "code",
      "execution_count": 128,
      "metadata": {
        "colab": {
          "base_uri": "https://localhost:8080/"
        },
        "id": "TxTyv_osQAnY",
        "outputId": "b1064fd9-749a-4c45-ab14-cb46bebfee1a"
      },
      "outputs": [
        {
          "output_type": "stream",
          "name": "stdout",
          "text": [
            "Files In Data : 3\n",
            "Processing File:\n",
            "File Number 1: 10/151 20/151 30/151 40/151 50/151 60/151 70/151 80/151 90/151 100/151 110/151 120/151 130/151 140/151 150/151 \n",
            "File Number 2: 10/151 20/151 30/151 40/151 50/151 60/151 70/151 80/151 90/151 100/151 110/151 120/151 130/151 140/151 150/151 \n",
            "File Number 3: 10/315 20/315 30/315 40/315 50/315 60/315 70/315 80/315 90/315 100/315 110/315 120/315 130/315 140/315 150/315 160/315 170/315  \n",
            "180/315 190/315 200/315 210/315 220/315 230/315 240/315 250/315 260/315 270/315 280/315 290/315 300/315 310/315 \n",
            " \n"
          ]
        },
        {
          "output_type": "execute_result",
          "data": {
            "text/plain": [
              "617"
            ]
          },
          "metadata": {},
          "execution_count": 128
        }
      ],
      "source": [
        "how_many_future_candles = 5\n",
        "how_many_past_candles = 5\n",
        "each_row_past = 90\n",
        "\n",
        "global which_future_or_past\n",
        "which_future_or_past = None\n",
        "if how_many_future_candles > how_many_past_candles:\n",
        "    which_future_or_past = how_many_future_candles\n",
        "else:\n",
        "    which_future_or_past = how_many_past_candles\n",
        "\n",
        "folder_name = start(how_many_future_candles,how_many_past_candles,each_row_past)\n",
        "len(os.listdir(f\"/content/extracted/{folder_name}\"))"
      ]
    },
    {
      "cell_type": "code",
      "source": [
        "#folder_name = '083812'\n",
        "label = []\n",
        "data  = []\n",
        "files = os.listdir(f\"/content/extracted/{folder_name}/\")\n",
        "for i, image_name in enumerate(files):\n",
        "  if image_name.split(\".\")[1] == \"png\":\n",
        "    image = cv2.imread(f\"/content/extracted/{folder_name}\"+\"/\"+image_name,0)\n",
        "    dim = (128, 128)\n",
        "    resized = cv2.resize(image, dim)\n",
        "    data.append(np.array(resized))\n",
        "    sugg = image_name.split(\"_\")[1].split(\".\")[0]\n",
        "    label.append(int(sugg))\n",
        "data = np.array(data)\n",
        "data = data / 255.0\n",
        "data.shape"
      ],
      "metadata": {
        "colab": {
          "base_uri": "https://localhost:8080/"
        },
        "id": "dQpQvhf-pwpR",
        "outputId": "aac4c1c3-7bc9-41c2-800d-9d479bdfb139"
      },
      "execution_count": 129,
      "outputs": [
        {
          "output_type": "execute_result",
          "data": {
            "text/plain": [
              "(617, 128, 128)"
            ]
          },
          "metadata": {},
          "execution_count": 129
        }
      ]
    },
    {
      "cell_type": "code",
      "source": [
        "xTrain , xTest , yTrain , yTest = train_test_split(data,label,test_size=0.1,random_state=99)\n",
        "\n",
        "data = None\n",
        "label = None\n",
        "print(f\"xTrain : {len(xTrain)} \\\\ xTest : {len(xTest)}\")\n",
        "\n",
        "nytrain = []\n",
        "nytest = []\n",
        "yn = 0\n",
        "nn = 0\n",
        "\n",
        "for i in yTrain:\n",
        "  if i == 1:\n",
        "    nytrain.append([1,0])\n",
        "    yn += 1\n",
        "  else:\n",
        "    nytrain.append([0,1])\n",
        "    nn += 1\n",
        "for i in yTest:\n",
        "  if i == 1:\n",
        "    nytest.append([1,0])\n",
        "    yn += 1\n",
        "  else:\n",
        "    nytest.append([0,1])\n",
        "    nn += 1\n",
        "\n",
        "yTrain = np.array(nytrain)\n",
        "yTest = np.array(nytest)\n",
        "\n",
        "print(f\"yn: {yn} nn: {nn}\")"
      ],
      "metadata": {
        "id": "viaOP2N6xoZp",
        "colab": {
          "base_uri": "https://localhost:8080/"
        },
        "outputId": "d7b82eb6-1b8d-4252-f5dd-5f3c7d38ae2a"
      },
      "execution_count": 130,
      "outputs": [
        {
          "output_type": "stream",
          "name": "stdout",
          "text": [
            "xTrain : 555 \\ xTest : 62\n",
            "yn: 357 nn: 260\n"
          ]
        }
      ]
    },
    {
      "cell_type": "code",
      "source": [
        "model = Sequential()\n",
        "\n",
        "model.add(Conv2D(50,  (9, 9),activation=\"relu\", input_shape=(xTrain.shape[1], xTrain.shape[2],1)))\n",
        "model.add(MaxPooling2D(pool_size=(3, 3)))\n",
        "model.add(Conv2D(150,  (9, 9),activation=\"relu\"))\n",
        "model.add(MaxPooling2D(pool_size=(3, 3)))\n",
        "model.add(Flatten())\n",
        "model.add(Dense(1024,activation=\"relu\"))\n",
        "model.add(Dense(750,activation=\"relu\"))\n",
        "model.add(Dense(750,activation=\"relu\"))\n",
        "model.add(Dense(512,activation=\"relu\"))\n",
        "model.add(Dense(2,activation=\"sigmoid\"))\n",
        "\n",
        "adamax = tf.keras.optimizers.Adamax(\n",
        "    learning_rate=0.001)\n",
        "model.compile(loss='categorical_crossentropy',\n",
        "              optimizer=adamax,\n",
        "              metrics=['accuracy'])\n",
        "\n",
        "model.summary()"
      ],
      "metadata": {
        "id": "9stbJK8Nx_0c",
        "colab": {
          "base_uri": "https://localhost:8080/"
        },
        "outputId": "63598477-4ef8-4d6e-b81b-7fe3d5dbd7b3"
      },
      "execution_count": 144,
      "outputs": [
        {
          "output_type": "stream",
          "name": "stdout",
          "text": [
            "Model: \"sequential_35\"\n",
            "_________________________________________________________________\n",
            " Layer (type)                Output Shape              Param #   \n",
            "=================================================================\n",
            " conv2d_105 (Conv2D)         (None, 120, 120, 50)      4100      \n",
            "                                                                 \n",
            " max_pooling2d_96 (MaxPoolin  (None, 40, 40, 50)       0         \n",
            " g2D)                                                            \n",
            "                                                                 \n",
            " conv2d_106 (Conv2D)         (None, 32, 32, 150)       607650    \n",
            "                                                                 \n",
            " max_pooling2d_97 (MaxPoolin  (None, 10, 10, 150)      0         \n",
            " g2D)                                                            \n",
            "                                                                 \n",
            " flatten_33 (Flatten)        (None, 15000)             0         \n",
            "                                                                 \n",
            " dense_151 (Dense)           (None, 1024)              15361024  \n",
            "                                                                 \n",
            " dense_152 (Dense)           (None, 750)               768750    \n",
            "                                                                 \n",
            " dense_153 (Dense)           (None, 750)               563250    \n",
            "                                                                 \n",
            " dense_154 (Dense)           (None, 512)               384512    \n",
            "                                                                 \n",
            " dense_155 (Dense)           (None, 2)                 1026      \n",
            "                                                                 \n",
            "=================================================================\n",
            "Total params: 17,690,312\n",
            "Trainable params: 17,690,312\n",
            "Non-trainable params: 0\n",
            "_________________________________________________________________\n"
          ]
        }
      ]
    },
    {
      "cell_type": "code",
      "source": [
        "filepath = \"/content/checkpoints/{epoch:02d}-{val_accuracy:.2f}.h5\"\n",
        "model_checkpoint_callback = tf.keras.callbacks.ModelCheckpoint(\n",
        "    filepath=filepath,\n",
        "    save_weights_only=False,\n",
        "    monitor='val_accuracy',\n",
        "    mode='max',\n",
        "    save_best_only=True)\n",
        "\n",
        "model.fit(xTrain,yTrain,batch_size=8,epochs=25,validation_data=(xTest,yTest), callbacks=model_checkpoint_callback)\n"
      ],
      "metadata": {
        "id": "cytWxowTyInc",
        "colab": {
          "base_uri": "https://localhost:8080/"
        },
        "outputId": "7815e028-ca3b-4c6d-929f-7615699923d7"
      },
      "execution_count": null,
      "outputs": [
        {
          "output_type": "stream",
          "name": "stdout",
          "text": [
            "Epoch 1/25\n",
            "70/70 [==============================] - 3s 29ms/step - loss: 0.7650 - accuracy: 0.5676 - val_loss: 0.6837 - val_accuracy: 0.5806\n",
            "Epoch 2/25\n",
            "70/70 [==============================] - 1s 16ms/step - loss: 0.6880 - accuracy: 0.5784 - val_loss: 0.6836 - val_accuracy: 0.5806\n",
            "Epoch 3/25\n",
            "70/70 [==============================] - 1s 16ms/step - loss: 0.6834 - accuracy: 0.5784 - val_loss: 0.6796 - val_accuracy: 0.5806\n",
            "Epoch 4/25\n",
            "70/70 [==============================] - 1s 16ms/step - loss: 0.6807 - accuracy: 0.5784 - val_loss: 0.6797 - val_accuracy: 0.5806\n",
            "Epoch 5/25\n",
            "70/70 [==============================] - 1s 16ms/step - loss: 0.6777 - accuracy: 0.5820 - val_loss: 0.6833 - val_accuracy: 0.5806\n",
            "Epoch 6/25\n",
            "70/70 [==============================] - 1s 16ms/step - loss: 0.6824 - accuracy: 0.5784 - val_loss: 0.6805 - val_accuracy: 0.5806\n",
            "Epoch 7/25\n",
            "70/70 [==============================] - 1s 16ms/step - loss: 0.6822 - accuracy: 0.5784 - val_loss: 0.6801 - val_accuracy: 0.5806\n",
            "Epoch 8/25\n",
            "70/70 [==============================] - 1s 16ms/step - loss: 0.6814 - accuracy: 0.5784 - val_loss: 0.6802 - val_accuracy: 0.5806\n",
            "Epoch 9/25\n",
            "70/70 [==============================] - 1s 16ms/step - loss: 0.6822 - accuracy: 0.5784 - val_loss: 0.6801 - val_accuracy: 0.5806\n",
            "Epoch 10/25\n",
            "70/70 [==============================] - 1s 16ms/step - loss: 0.6820 - accuracy: 0.5784 - val_loss: 0.6802 - val_accuracy: 0.5806\n",
            "Epoch 11/25\n",
            "70/70 [==============================] - 1s 16ms/step - loss: 0.6812 - accuracy: 0.5784 - val_loss: 0.6801 - val_accuracy: 0.5806\n",
            "Epoch 12/25\n",
            "70/70 [==============================] - 1s 16ms/step - loss: 0.6815 - accuracy: 0.5784 - val_loss: 0.6801 - val_accuracy: 0.5806\n",
            "Epoch 13/25\n",
            "70/70 [==============================] - 1s 16ms/step - loss: 0.6813 - accuracy: 0.5784 - val_loss: 0.6801 - val_accuracy: 0.5806\n",
            "Epoch 14/25\n",
            "70/70 [==============================] - 1s 16ms/step - loss: 0.6816 - accuracy: 0.5784 - val_loss: 0.6802 - val_accuracy: 0.5806\n",
            "Epoch 15/25\n",
            "69/70 [============================>.] - ETA: 0s - loss: 0.6810 - accuracy: 0.5797"
          ]
        }
      ]
    }
  ],
  "metadata": {
    "colab": {
      "collapsed_sections": [],
      "name": "CnnPred.ipynb",
      "provenance": []
    },
    "gpuClass": "standard",
    "kernelspec": {
      "display_name": "Python 3",
      "name": "python3"
    },
    "language_info": {
      "name": "python"
    },
    "accelerator": "GPU"
  },
  "nbformat": 4,
  "nbformat_minor": 0
}