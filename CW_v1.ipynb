{
  "cells": [
    {
      "cell_type": "code",
      "execution_count": 1,
      "metadata": {
        "id": "_5bxbCoe9do9",
        "colab": {
          "base_uri": "https://localhost:8080/"
        },
        "outputId": "1d8658a6-fdd0-4f82-be9b-b1f9478fbae4"
      },
      "outputs": [
        {
          "output_type": "stream",
          "name": "stdout",
          "text": [
            "Requirement already satisfied: yfinance in /usr/local/lib/python3.7/dist-packages (0.1.70)\n",
            "Requirement already satisfied: multitasking>=0.0.7 in /usr/local/lib/python3.7/dist-packages (from yfinance) (0.0.10)\n",
            "Requirement already satisfied: requests>=2.26 in /usr/local/lib/python3.7/dist-packages (from yfinance) (2.27.1)\n",
            "Requirement already satisfied: numpy>=1.15 in /usr/local/lib/python3.7/dist-packages (from yfinance) (1.21.6)\n",
            "Requirement already satisfied: lxml>=4.5.1 in /usr/local/lib/python3.7/dist-packages (from yfinance) (4.8.0)\n",
            "Requirement already satisfied: pandas>=0.24.0 in /usr/local/lib/python3.7/dist-packages (from yfinance) (1.3.5)\n",
            "Requirement already satisfied: pytz>=2017.3 in /usr/local/lib/python3.7/dist-packages (from pandas>=0.24.0->yfinance) (2022.1)\n",
            "Requirement already satisfied: python-dateutil>=2.7.3 in /usr/local/lib/python3.7/dist-packages (from pandas>=0.24.0->yfinance) (2.8.2)\n",
            "Requirement already satisfied: six>=1.5 in /usr/local/lib/python3.7/dist-packages (from python-dateutil>=2.7.3->pandas>=0.24.0->yfinance) (1.15.0)\n",
            "Requirement already satisfied: urllib3<1.27,>=1.21.1 in /usr/local/lib/python3.7/dist-packages (from requests>=2.26->yfinance) (1.24.3)\n",
            "Requirement already satisfied: idna<4,>=2.5 in /usr/local/lib/python3.7/dist-packages (from requests>=2.26->yfinance) (2.10)\n",
            "Requirement already satisfied: charset-normalizer~=2.0.0 in /usr/local/lib/python3.7/dist-packages (from requests>=2.26->yfinance) (2.0.12)\n",
            "Requirement already satisfied: certifi>=2017.4.17 in /usr/local/lib/python3.7/dist-packages (from requests>=2.26->yfinance) (2021.10.8)\n",
            "Requirement already satisfied: yahooquery in /usr/local/lib/python3.7/dist-packages (2.2.15)\n",
            "Requirement already satisfied: tqdm>=4.54.1 in /usr/local/lib/python3.7/dist-packages (from yahooquery) (4.64.0)\n",
            "Requirement already satisfied: requests-futures>=1.0.0 in /usr/local/lib/python3.7/dist-packages (from yahooquery) (1.0.0)\n",
            "Requirement already satisfied: lxml>=4.6.2 in /usr/local/lib/python3.7/dist-packages (from yahooquery) (4.8.0)\n",
            "Requirement already satisfied: pandas>=0.24.0 in /usr/local/lib/python3.7/dist-packages (from yahooquery) (1.3.5)\n",
            "Requirement already satisfied: numpy>=1.17.3 in /usr/local/lib/python3.7/dist-packages (from pandas>=0.24.0->yahooquery) (1.21.6)\n",
            "Requirement already satisfied: python-dateutil>=2.7.3 in /usr/local/lib/python3.7/dist-packages (from pandas>=0.24.0->yahooquery) (2.8.2)\n",
            "Requirement already satisfied: pytz>=2017.3 in /usr/local/lib/python3.7/dist-packages (from pandas>=0.24.0->yahooquery) (2022.1)\n",
            "Requirement already satisfied: six>=1.5 in /usr/local/lib/python3.7/dist-packages (from python-dateutil>=2.7.3->pandas>=0.24.0->yahooquery) (1.15.0)\n",
            "Requirement already satisfied: requests>=1.2.0 in /usr/local/lib/python3.7/dist-packages (from requests-futures>=1.0.0->yahooquery) (2.27.1)\n",
            "Requirement already satisfied: idna<4,>=2.5 in /usr/local/lib/python3.7/dist-packages (from requests>=1.2.0->requests-futures>=1.0.0->yahooquery) (2.10)\n",
            "Requirement already satisfied: certifi>=2017.4.17 in /usr/local/lib/python3.7/dist-packages (from requests>=1.2.0->requests-futures>=1.0.0->yahooquery) (2021.10.8)\n",
            "Requirement already satisfied: charset-normalizer~=2.0.0 in /usr/local/lib/python3.7/dist-packages (from requests>=1.2.0->requests-futures>=1.0.0->yahooquery) (2.0.12)\n",
            "Requirement already satisfied: urllib3<1.27,>=1.21.1 in /usr/local/lib/python3.7/dist-packages (from requests>=1.2.0->requests-futures>=1.0.0->yahooquery) (1.24.3)\n"
          ]
        }
      ],
      "source": [
        "!pip install yfinance\n",
        "!pip install yahooquery\n",
        "from yahooquery import Screener\n",
        "import yfinance as yf   \n",
        "import pandas as pd\n",
        "import numpy as np\n",
        "from tensorflow.keras import Sequential\n",
        "from tensorflow.keras.layers import Dense,Dropout\n",
        "from sklearn.model_selection import train_test_split\n",
        "from sklearn.preprocessing import MinMaxScaler\n",
        "import tensorflow as tf\n",
        "import random \n",
        "from tensorflow.keras.models import load_model\n"
      ]
    },
    {
      "cell_type": "code",
      "execution_count": 59,
      "metadata": {
        "id": "IB_YMoe09qVP"
      },
      "outputs": [],
      "source": [
        "clmns = [\n",
        "    \"Open 12-11\",\"Open 11-10\",\"Open 10-9\",\"Open 9-8\",\"Open 8-7\",\"Open 7-6\",\"Open 6-5\",\"Open 5-4\",\"Open 4-3\",\"Open 3-2\",\"Open 2-1\",\n",
        "    \"Close 12-11\",\"Close 11-10\",\"Close 10-9\",\"Close 9-8\",\"Close 8-7\",\"Close 7-6\",\"Close 6-5\",\"Close 5-4\",\"Close 4-3\",\"Close 3-2\",\"Close 2-1\",\n",
        "    \"High 12-11\",\"High 11-10\",\"High 10-9\",\"High 9-8\",\"High 8-7\",\"High 7-6\",\"High 6-5\",\"High 5-4\",\"High 4-3\",\"High 3-2\",\"High 2-1\",\n",
        "    \"Low 12-11\",\"Low 11-10\",\"Low 10-9\",\"Low 9-8\",\"Low 8-7\",\"Low 7-6\",\"Low 6-5\",\"Low 5-4\",\"Low 4-3\",\"Low 3-2\",\"Low 2-1\",\n",
        "    \"AdjV 12-11\",\"AdjV 11-10\",\"AdjV 10-9\",\"AdjV 9-8\",\"AdjV 8-7\",\"AdjV 7-6\",\"AdjV 6-5\",\"AdjV 5-4\",\"AdjV 4-3\",\"AdjV 3-2\",\"AdjV 2-1\",\n",
        "    \"Volume 12-11\",\"Volume 11-10\",\"Volume 10-9\",\"Volume 9-8\",\"Volume 8-7\",\"Volume 7-6\",\"Volume 6-5\",\"Volume 5-4\",\"Volume 4-3\",\"Volume 3-2\",\"Volume 2-1\",\n",
        "    \"suggestion\"\n",
        "]\n",
        "\n",
        "def read_syms_from_txt():\n",
        "  with open(\"syms.txt\", \"r\") as f:\n",
        "    lines = f.readlines()\n",
        "    f.close()\n",
        "  lst = []\n",
        "  for line in lines:\n",
        "    line = line.strip()\n",
        "    lst.append(line)\n",
        "  symbols = lst\n",
        "  return symbols\n",
        "def get_crypto_syms():\n",
        "   # 'all_cryptocurrencies_au','all_cryptocurrencies_ca','all_cryptocurrencies_eu','all_cryptocurrencies_gb','all_cryptocurrencies_in',\n",
        "   screens = [\n",
        "       'all_cryptocurrencies_us', 'all_cryptocurrencies_au', 'all_cryptocurrencies_ca', 'all_cryptocurrencies_eu', 'all_cryptocurrencies_gb', 'all_cryptocurrencies_in', ]\n",
        "   s = Screener()\n",
        "   symbols = []\n",
        "   for i in screens:\n",
        "      data = s.get_screeners(i, count=250)\n",
        "      dicts = data[i]['quotes']\n",
        "      syms = [d['symbol'] for d in dicts]\n",
        "      for sym in syms:\n",
        "        symbols.append(sym)\n",
        "   # print(len(symbols))\n",
        "   # pieces = 15\n",
        "   # new_arrays = np.array_split(symbols, pieces)\n",
        "   return symbols\n",
        "def spliting(data):\n",
        "  X = data.drop([\"yes\",\"no\"], axis=1)\n",
        "  y = data[[\"yes\",\"no\"]]\n",
        "  xTrain, xTest, yTrain, yTest = train_test_split(X, y, test_size=0.1)\n",
        "  print(xTrain.shape, end=\" \")\n",
        "  print(yTrain.shape)\n",
        "  print(xTest.shape, end=\" \")\n",
        "  print(yTest.shape)\n",
        "  return xTrain, xTest, yTrain, yTest\n",
        "def scaler(row):\n",
        "    scaler = MinMaxScaler(feature_range=(-3, 3))\n",
        "    row = scaler.fit_transform(row)\n",
        "    return row\n",
        "def process(data):\n",
        "    data = data.dropna()\n",
        "    row = []\n",
        "    data = np.array(data)\n",
        "    llst = [0, 1, 2, 3, 4, 5]\n",
        "\n",
        "    for i in range(12, data.shape[0]):\n",
        "        grow = []\n",
        "        srow = []\n",
        "\n",
        "        for j in llst:\n",
        "\n",
        "           srow.append([\n",
        "               data[i-1][j] - data[i-2][j],\n",
        "               data[i-2][j] - data[i-3][j],\n",
        "               data[i-3][j] - data[i-4][j],\n",
        "               data[i-4][j] - data[i-5][j],\n",
        "               data[i-5][j] - data[i-6][j],\n",
        "               data[i-6][j] - data[i-7][j],\n",
        "               data[i-7][j] - data[i-8][j],\n",
        "               data[i-8][j] - data[i-9][j],\n",
        "               data[i-9][j] - data[i-10][j],\n",
        "               data[i-10][j] - data[i-11][j],\n",
        "               data[i-11][j] - data[i-12][j]\n",
        "           ])\n",
        "\n",
        "        for lst in srow:\n",
        "            mm = np.array(lst)\n",
        "            mm = np.reshape(mm, (-1, 1))\n",
        "            grow.append(scaler(mm))\n",
        "\n",
        "        sugg = \"no\"\n",
        "        if data[i][3] > data[i][0]:\n",
        "            sugg = \"yes\"\n",
        "\n",
        "        arr = np.array(grow).flatten()\n",
        "        arr = np.append(arr, sugg)\n",
        "        row.append(arr)\n",
        "\n",
        "\n",
        "    grow = []\n",
        "    srow = []\n",
        "    llst = []\n",
        "    data = []\n",
        "    arr = []\n",
        "    mm = []\n",
        "\n",
        "    return np.array(row)"
      ]
    },
    {
      "cell_type": "code",
      "execution_count": 60,
      "metadata": {
        "id": "hIAuU_ILbU27",
        "colab": {
          "base_uri": "https://localhost:8080/"
        },
        "outputId": "604958bb-5c76-4ebf-b4c1-c02a97373db5"
      },
      "outputs": [
        {
          "output_type": "stream",
          "name": "stdout",
          "text": [
            "\n",
            "1 Failed download:\n",
            "- OXEN-AUD: No data found for this date range, symbol may be delisted\n",
            "\n",
            "1 Failed download:\n",
            "- VAL-AUD: No data found for this date range, symbol may be delisted\n",
            "\n",
            "1 Failed download:\n",
            "- ICP-CAD: No data found for this date range, symbol may be delisted\n",
            "\n",
            "1 Failed download:\n",
            "- XNO-CAD: No data found for this date range, symbol may be delisted\n",
            "\n",
            "1 Failed download:\n",
            "- OXEN-CAD: No data found for this date range, symbol may be delisted\n",
            "\n",
            "1 Failed download:\n",
            "- VAL-CAD: No data found for this date range, symbol may be delisted\n",
            "\n",
            "1 Failed download:\n",
            "- ICP-EUR: No data found for this date range, symbol may be delisted\n",
            "\n",
            "1 Failed download:\n",
            "- XNO-EUR: No data found for this date range, symbol may be delisted\n",
            "\n",
            "1 Failed download:\n",
            "- OXEN-EUR: No data found for this date range, symbol may be delisted\n",
            "\n",
            "1 Failed download:\n",
            "- VAL-EUR: No data found for this date range, symbol may be delisted\n",
            "\n",
            "1 Failed download:\n",
            "- ICP-GBP: No data found for this date range, symbol may be delisted\n",
            "\n",
            "1 Failed download:\n",
            "- XNO-GBP: No data found for this date range, symbol may be delisted\n",
            "\n",
            "1 Failed download:\n",
            "- OXEN-GBP: No data found for this date range, symbol may be delisted\n",
            "\n",
            "1 Failed download:\n",
            "- VAL-GBP: No data found for this date range, symbol may be delisted\n",
            "\n",
            "1 Failed download:\n",
            "- ICP-INR: No data found for this date range, symbol may be delisted\n",
            "\n",
            "1 Failed download:\n",
            "- XNO-INR: No data found for this date range, symbol may be delisted\n",
            "\n",
            "1 Failed download:\n",
            "- OXEN-INR: No data found for this date range, symbol may be delisted\n",
            "\n",
            "1 Failed download:\n",
            "- VAL-INR: No data found, symbol may be delisted\n",
            "(217481, 66) (217481, 2)\n",
            "(24165, 66) (24165, 2)\n",
            "(241646, 68)\n"
          ]
        }
      ],
      "source": [
        "def get_data(symbols):\n",
        "    unattached_dfs = []\n",
        "    for symbol in symbols:\n",
        "         data = yf.download(symbol, period=\"max\",\n",
        "                            interval=\"1wk\", progress=False)\n",
        "         if data.empty:\n",
        "              pass\n",
        "         else:\n",
        "               if data.shape[0] > 12:\n",
        "                   unattached_dfs.append(\n",
        "                       process(data))\n",
        "\n",
        "    data = np.array(unattached_dfs[0])\n",
        "    for i in unattached_dfs[1:]:\n",
        "        data = np.append(data, np.array(i), axis=0)\n",
        "        \n",
        "    symbol = []\n",
        "\n",
        "    data = pd.DataFrame(data, columns=clmns)\n",
        "    sugg = data[\"suggestion\"]\n",
        "    data.drop(\"suggestion\",axis=1,inplace=True)\n",
        "    sugg = pd.get_dummies(sugg)\n",
        "    data = pd.concat([data,sugg],axis=1)\n",
        "    data = data.astype(float)\n",
        "\n",
        "    xTrain, xTest, yTrain, yTest = spliting(data)\n",
        "    print(data.shape)\n",
        "    data.to_csv(f\"{random.randint(1,10000)}.csv\")\n",
        "    #data = []\n",
        "    return xTrain, xTest, yTrain, yTest,data\n",
        "\n",
        "\n",
        "\n",
        "#symbols = read_syms_from_txt()\n",
        "symbols = get_crypto_syms()\n",
        "\n",
        "#pieces = 15\n",
        "#new_arrays = np.array_split(symbols, pieces)\n",
        "#for symbols in new_arrays[7:]:\n",
        "#    get_data(symbols)\n",
        "#symbols = [\"btc-usd\",\"eth-usd\",\"trx-usd\",\"bnb-usd\",\"xrp-usd\"]\n",
        "xTrain, xTest, yTrain, yTest,data= get_data(symbols)\n",
        "#data "
      ]
    },
    {
      "cell_type": "code",
      "execution_count": 61,
      "metadata": {
        "colab": {
          "base_uri": "https://localhost:8080/"
        },
        "id": "xN93WT9e8ueQ",
        "outputId": "47ae0122-a630-4ead-ead5-0fb17ccce04a"
      },
      "outputs": [
        {
          "output_type": "stream",
          "name": "stdout",
          "text": [
            "Model: \"sequential_13\"\n",
            "_________________________________________________________________\n",
            " Layer (type)                Output Shape              Param #   \n",
            "=================================================================\n",
            " dense_76 (Dense)            (None, 2000)              134000    \n",
            "                                                                 \n",
            " dense_77 (Dense)            (None, 1000)              2001000   \n",
            "                                                                 \n",
            " dense_78 (Dense)            (None, 1000)              1001000   \n",
            "                                                                 \n",
            " dense_79 (Dense)            (None, 1000)              1001000   \n",
            "                                                                 \n",
            " dense_80 (Dense)            (None, 1000)              1001000   \n",
            "                                                                 \n",
            " dense_81 (Dense)            (None, 1000)              1001000   \n",
            "                                                                 \n",
            " dense_82 (Dense)            (None, 2)                 2002      \n",
            "                                                                 \n",
            "=================================================================\n",
            "Total params: 6,141,002\n",
            "Trainable params: 6,141,002\n",
            "Non-trainable params: 0\n",
            "_________________________________________________________________\n"
          ]
        }
      ],
      "source": [
        "model = Sequential()\n",
        "\n",
        "\n",
        "\n",
        "model.add(Dense(2000, activation='relu', input_shape=(xTrain.shape[1],)))\n",
        "model.add(Dense(1000, activation='relu'))\n",
        "model.add(Dense(1000, activation='relu'))\n",
        "model.add(Dense(1000, activation='relu'))\n",
        "model.add(Dense(1000, activation='relu'))\n",
        "model.add(Dense(1000, activation='relu'))\n",
        "\n",
        "\n",
        "\n",
        "model.add(Dense(2, activation='sigmoid'))\n",
        "model.compile(optimizer=\"adam\", loss='binary_crossentropy',metrics=['accuracy'])\n",
        "model.summary()"
      ]
    },
    {
      "cell_type": "code",
      "execution_count": 62,
      "metadata": {
        "id": "_SBxPzRd89uy",
        "colab": {
          "base_uri": "https://localhost:8080/"
        },
        "outputId": "3468e13d-afed-49ae-b1b7-0d990f7b347e"
      },
      "outputs": [
        {
          "output_type": "stream",
          "name": "stdout",
          "text": [
            "Epoch 1/35\n",
            "54/54 [==============================] - 148s 3s/step - loss: 0.6607 - accuracy: 0.5926 - val_loss: 0.6133 - val_accuracy: 0.6533\n",
            "Epoch 2/35\n",
            "54/54 [==============================] - 141s 3s/step - loss: 0.5657 - accuracy: 0.6948 - val_loss: 0.5333 - val_accuracy: 0.7211\n",
            "Epoch 3/35\n",
            "54/54 [==============================] - 146s 3s/step - loss: 0.4859 - accuracy: 0.7551 - val_loss: 0.4670 - val_accuracy: 0.7689\n",
            "Epoch 4/35\n",
            "54/54 [==============================] - 140s 3s/step - loss: 0.4011 - accuracy: 0.8140 - val_loss: 0.4109 - val_accuracy: 0.8142\n",
            "Epoch 5/35\n",
            "54/54 [==============================] - 140s 3s/step - loss: 0.2992 - accuracy: 0.8735 - val_loss: 0.4127 - val_accuracy: 0.8228\n",
            "Epoch 6/35\n",
            "54/54 [==============================] - 141s 3s/step - loss: 0.2311 - accuracy: 0.9092 - val_loss: 0.2521 - val_accuracy: 0.9053\n",
            "Epoch 7/35\n",
            "54/54 [==============================] - 144s 3s/step - loss: 0.1692 - accuracy: 0.9385 - val_loss: 0.2266 - val_accuracy: 0.9238\n",
            "Epoch 8/35\n",
            "54/54 [==============================] - 139s 3s/step - loss: 0.1336 - accuracy: 0.9530 - val_loss: 0.2053 - val_accuracy: 0.9332\n",
            "Epoch 9/35\n",
            "54/54 [==============================] - 139s 3s/step - loss: 0.1175 - accuracy: 0.9588 - val_loss: 0.2088 - val_accuracy: 0.9333\n",
            "Epoch 10/35\n",
            "54/54 [==============================] - 138s 3s/step - loss: 0.1044 - accuracy: 0.9629 - val_loss: 0.2058 - val_accuracy: 0.9397\n",
            "Epoch 11/35\n",
            "54/54 [==============================] - 139s 3s/step - loss: 0.0967 - accuracy: 0.9655 - val_loss: 0.2325 - val_accuracy: 0.9309\n",
            "Epoch 12/35\n",
            "54/54 [==============================] - 139s 3s/step - loss: 0.0900 - accuracy: 0.9673 - val_loss: 0.2185 - val_accuracy: 0.9375\n",
            "Epoch 13/35\n",
            "54/54 [==============================] - 139s 3s/step - loss: 0.0781 - accuracy: 0.9706 - val_loss: 0.2143 - val_accuracy: 0.9432\n",
            "Epoch 14/35\n",
            "54/54 [==============================] - 138s 3s/step - loss: 0.0654 - accuracy: 0.9745 - val_loss: 0.2155 - val_accuracy: 0.9448\n",
            "Epoch 15/35\n",
            "54/54 [==============================] - 137s 3s/step - loss: 0.0712 - accuracy: 0.9721 - val_loss: 0.2206 - val_accuracy: 0.9418\n",
            "Epoch 16/35\n",
            "54/54 [==============================] - 138s 3s/step - loss: 0.0627 - accuracy: 0.9747 - val_loss: 0.2342 - val_accuracy: 0.9441\n",
            "Epoch 17/35\n",
            "54/54 [==============================] - 138s 3s/step - loss: 0.0608 - accuracy: 0.9752 - val_loss: 0.2366 - val_accuracy: 0.9437\n",
            "Epoch 18/35\n",
            "54/54 [==============================] - 138s 3s/step - loss: 0.0599 - accuracy: 0.9755 - val_loss: 0.2313 - val_accuracy: 0.9442\n",
            "Epoch 19/35\n",
            "54/54 [==============================] - 138s 3s/step - loss: 0.0567 - accuracy: 0.9764 - val_loss: 0.2369 - val_accuracy: 0.9462\n",
            "Epoch 20/35\n",
            "54/54 [==============================] - 138s 3s/step - loss: 0.0562 - accuracy: 0.9762 - val_loss: 0.2507 - val_accuracy: 0.9421\n",
            "Epoch 21/35\n",
            "54/54 [==============================] - 137s 3s/step - loss: 0.0621 - accuracy: 0.9747 - val_loss: 0.2300 - val_accuracy: 0.9458\n",
            "Epoch 22/35\n",
            "54/54 [==============================] - 138s 3s/step - loss: 0.0559 - accuracy: 0.9766 - val_loss: 0.2399 - val_accuracy: 0.9474\n",
            "Epoch 23/35\n",
            "54/54 [==============================] - 138s 3s/step - loss: 0.0520 - accuracy: 0.9779 - val_loss: 0.2637 - val_accuracy: 0.9457\n",
            "Epoch 24/35\n",
            "54/54 [==============================] - 139s 3s/step - loss: 0.0507 - accuracy: 0.9786 - val_loss: 0.2452 - val_accuracy: 0.9475\n",
            "Epoch 25/35\n",
            "54/54 [==============================] - 137s 3s/step - loss: 0.0510 - accuracy: 0.9784 - val_loss: 0.2392 - val_accuracy: 0.9485\n",
            "Epoch 26/35\n",
            "54/54 [==============================] - 138s 3s/step - loss: 0.0478 - accuracy: 0.9800 - val_loss: 0.2502 - val_accuracy: 0.9479\n",
            "Epoch 27/35\n",
            "54/54 [==============================] - 138s 3s/step - loss: 0.0473 - accuracy: 0.9796 - val_loss: 0.2579 - val_accuracy: 0.9484\n",
            "Epoch 28/35\n",
            "54/54 [==============================] - 138s 3s/step - loss: 0.0442 - accuracy: 0.9808 - val_loss: 0.2703 - val_accuracy: 0.9464\n",
            "Epoch 29/35\n",
            "54/54 [==============================] - 138s 3s/step - loss: 0.0458 - accuracy: 0.9802 - val_loss: 0.2822 - val_accuracy: 0.9484\n",
            "Epoch 30/35\n",
            "54/54 [==============================] - 138s 3s/step - loss: 0.0458 - accuracy: 0.9803 - val_loss: 0.2571 - val_accuracy: 0.9483\n",
            "Epoch 31/35\n",
            "54/54 [==============================] - 138s 3s/step - loss: 0.0410 - accuracy: 0.9820 - val_loss: 0.2945 - val_accuracy: 0.9465\n",
            "Epoch 32/35\n",
            "54/54 [==============================] - 138s 3s/step - loss: 0.0475 - accuracy: 0.9795 - val_loss: 0.2568 - val_accuracy: 0.9500\n",
            "Epoch 33/35\n",
            "54/54 [==============================] - 138s 3s/step - loss: 0.0456 - accuracy: 0.9801 - val_loss: 0.2531 - val_accuracy: 0.9485\n",
            "Epoch 34/35\n",
            "54/54 [==============================] - 139s 3s/step - loss: 0.0443 - accuracy: 0.9805 - val_loss: 0.2643 - val_accuracy: 0.9508\n",
            "Epoch 35/35\n",
            "54/54 [==============================] - 138s 3s/step - loss: 0.0454 - accuracy: 0.9805 - val_loss: 0.2605 - val_accuracy: 0.9483\n"
          ]
        },
        {
          "output_type": "execute_result",
          "data": {
            "text/plain": [
              "<keras.callbacks.History at 0x7f78f5c60e10>"
            ]
          },
          "metadata": {},
          "execution_count": 62
        }
      ],
      "source": [
        "model.fit(xTrain,yTrain,epochs=35,batch_size=4096,validation_data=(xTest,yTest))"
      ]
    },
    {
      "cell_type": "code",
      "execution_count": 30,
      "metadata": {
        "colab": {
          "base_uri": "https://localhost:8080/"
        },
        "id": "YAKTl3fbHIE6",
        "outputId": "e3d02c75-2780-46a7-90f4-ad7b207f6112"
      },
      "outputs": [
        {
          "output_type": "stream",
          "name": "stdout",
          "text": [
            "Mounted at /content/drive\n"
          ]
        }
      ],
      "source": [
        "from google.colab import drive\n",
        "drive.mount(\"/content/drive\")"
      ]
    },
    {
      "cell_type": "code",
      "source": [
        "model = load_model(\"/content/drive/MyDrive/[0.23090815544128418, 0.9449216723442078].h5\")"
      ],
      "metadata": {
        "id": "9kmhgkKzF9jB"
      },
      "execution_count": null,
      "outputs": []
    },
    {
      "cell_type": "code",
      "source": [
        "model.fit(xTrain,yTrain,epochs=10,batch_size=55555,validation_data=(xTest,yTest))"
      ],
      "metadata": {
        "id": "ZCCh3v0SGKyF"
      },
      "execution_count": null,
      "outputs": []
    }
  ],
  "metadata": {
    "colab": {
      "name": "CW_v1.ipynb",
      "provenance": []
    },
    "kernelspec": {
      "display_name": "Python 3",
      "name": "python3"
    },
    "language_info": {
      "name": "python"
    }
  },
  "nbformat": 4,
  "nbformat_minor": 0
}