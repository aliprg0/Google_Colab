{
  "cells": [
    {
      "cell_type": "code",
      "execution_count": 1,
      "metadata": {
        "colab": {
          "base_uri": "https://localhost:8080/"
        },
        "id": "_5bxbCoe9do9",
        "outputId": "a5ac8955-d878-4d1d-eeb5-daeb97a55cc7"
      },
      "outputs": [
        {
          "output_type": "stream",
          "name": "stdout",
          "text": [
            "Looking in indexes: https://pypi.org/simple, https://us-python.pkg.dev/colab-wheels/public/simple/\n",
            "Requirement already satisfied: yfinance in /usr/local/lib/python3.7/dist-packages (0.1.74)\n",
            "Requirement already satisfied: lxml>=4.5.1 in /usr/local/lib/python3.7/dist-packages (from yfinance) (4.9.1)\n",
            "Requirement already satisfied: multitasking>=0.0.7 in /usr/local/lib/python3.7/dist-packages (from yfinance) (0.0.11)\n",
            "Requirement already satisfied: numpy>=1.15 in /usr/local/lib/python3.7/dist-packages (from yfinance) (1.21.6)\n",
            "Requirement already satisfied: pandas>=0.24.0 in /usr/local/lib/python3.7/dist-packages (from yfinance) (1.3.5)\n",
            "Requirement already satisfied: requests>=2.26 in /usr/local/lib/python3.7/dist-packages (from yfinance) (2.28.1)\n",
            "Requirement already satisfied: python-dateutil>=2.7.3 in /usr/local/lib/python3.7/dist-packages (from pandas>=0.24.0->yfinance) (2.8.2)\n",
            "Requirement already satisfied: pytz>=2017.3 in /usr/local/lib/python3.7/dist-packages (from pandas>=0.24.0->yfinance) (2022.1)\n",
            "Requirement already satisfied: six>=1.5 in /usr/local/lib/python3.7/dist-packages (from python-dateutil>=2.7.3->pandas>=0.24.0->yfinance) (1.15.0)\n",
            "Requirement already satisfied: charset-normalizer<3,>=2 in /usr/local/lib/python3.7/dist-packages (from requests>=2.26->yfinance) (2.1.0)\n",
            "Requirement already satisfied: urllib3<1.27,>=1.21.1 in /usr/local/lib/python3.7/dist-packages (from requests>=2.26->yfinance) (1.26.11)\n",
            "Requirement already satisfied: certifi>=2017.4.17 in /usr/local/lib/python3.7/dist-packages (from requests>=2.26->yfinance) (2022.6.15)\n",
            "Requirement already satisfied: idna<4,>=2.5 in /usr/local/lib/python3.7/dist-packages (from requests>=2.26->yfinance) (2.10)\n",
            "Looking in indexes: https://pypi.org/simple, https://us-python.pkg.dev/colab-wheels/public/simple/\n",
            "Requirement already satisfied: yahooquery in /usr/local/lib/python3.7/dist-packages (2.2.15)\n",
            "Requirement already satisfied: requests-futures>=1.0.0 in /usr/local/lib/python3.7/dist-packages (from yahooquery) (1.0.0)\n",
            "Requirement already satisfied: tqdm>=4.54.1 in /usr/local/lib/python3.7/dist-packages (from yahooquery) (4.64.0)\n",
            "Requirement already satisfied: lxml>=4.6.2 in /usr/local/lib/python3.7/dist-packages (from yahooquery) (4.9.1)\n",
            "Requirement already satisfied: pandas>=0.24.0 in /usr/local/lib/python3.7/dist-packages (from yahooquery) (1.3.5)\n",
            "Requirement already satisfied: python-dateutil>=2.7.3 in /usr/local/lib/python3.7/dist-packages (from pandas>=0.24.0->yahooquery) (2.8.2)\n",
            "Requirement already satisfied: pytz>=2017.3 in /usr/local/lib/python3.7/dist-packages (from pandas>=0.24.0->yahooquery) (2022.1)\n",
            "Requirement already satisfied: numpy>=1.17.3 in /usr/local/lib/python3.7/dist-packages (from pandas>=0.24.0->yahooquery) (1.21.6)\n",
            "Requirement already satisfied: six>=1.5 in /usr/local/lib/python3.7/dist-packages (from python-dateutil>=2.7.3->pandas>=0.24.0->yahooquery) (1.15.0)\n",
            "Requirement already satisfied: requests>=1.2.0 in /usr/local/lib/python3.7/dist-packages (from requests-futures>=1.0.0->yahooquery) (2.28.1)\n",
            "Requirement already satisfied: urllib3<1.27,>=1.21.1 in /usr/local/lib/python3.7/dist-packages (from requests>=1.2.0->requests-futures>=1.0.0->yahooquery) (1.26.11)\n",
            "Requirement already satisfied: certifi>=2017.4.17 in /usr/local/lib/python3.7/dist-packages (from requests>=1.2.0->requests-futures>=1.0.0->yahooquery) (2022.6.15)\n",
            "Requirement already satisfied: idna<4,>=2.5 in /usr/local/lib/python3.7/dist-packages (from requests>=1.2.0->requests-futures>=1.0.0->yahooquery) (2.10)\n",
            "Requirement already satisfied: charset-normalizer<3,>=2 in /usr/local/lib/python3.7/dist-packages (from requests>=1.2.0->requests-futures>=1.0.0->yahooquery) (2.1.0)\n",
            "Looking in indexes: https://pypi.org/simple, https://us-python.pkg.dev/colab-wheels/public/simple/\n",
            "Requirement already satisfied: tvdatafeed in /usr/local/lib/python3.7/dist-packages (1.2.1)\n",
            "Requirement already satisfied: selenium in /usr/local/lib/python3.7/dist-packages (from tvdatafeed) (4.3.0)\n",
            "Requirement already satisfied: pandas in /usr/local/lib/python3.7/dist-packages (from tvdatafeed) (1.3.5)\n",
            "Requirement already satisfied: websocket-client in /usr/local/lib/python3.7/dist-packages (from tvdatafeed) (1.3.3)\n",
            "Requirement already satisfied: chromedriver-autoinstaller in /usr/local/lib/python3.7/dist-packages (from tvdatafeed) (0.4.0)\n",
            "Requirement already satisfied: setuptools in /usr/local/lib/python3.7/dist-packages (from tvdatafeed) (57.4.0)\n",
            "Requirement already satisfied: python-dateutil>=2.7.3 in /usr/local/lib/python3.7/dist-packages (from pandas->tvdatafeed) (2.8.2)\n",
            "Requirement already satisfied: pytz>=2017.3 in /usr/local/lib/python3.7/dist-packages (from pandas->tvdatafeed) (2022.1)\n",
            "Requirement already satisfied: numpy>=1.17.3 in /usr/local/lib/python3.7/dist-packages (from pandas->tvdatafeed) (1.21.6)\n",
            "Requirement already satisfied: six>=1.5 in /usr/local/lib/python3.7/dist-packages (from python-dateutil>=2.7.3->pandas->tvdatafeed) (1.15.0)\n",
            "Requirement already satisfied: trio-websocket~=0.9 in /usr/local/lib/python3.7/dist-packages (from selenium->tvdatafeed) (0.9.2)\n",
            "Requirement already satisfied: trio~=0.17 in /usr/local/lib/python3.7/dist-packages (from selenium->tvdatafeed) (0.21.0)\n",
            "Requirement already satisfied: urllib3[secure,socks]~=1.26 in /usr/local/lib/python3.7/dist-packages (from selenium->tvdatafeed) (1.26.11)\n",
            "Requirement already satisfied: outcome in /usr/local/lib/python3.7/dist-packages (from trio~=0.17->selenium->tvdatafeed) (1.2.0)\n",
            "Requirement already satisfied: attrs>=19.2.0 in /usr/local/lib/python3.7/dist-packages (from trio~=0.17->selenium->tvdatafeed) (22.1.0)\n",
            "Requirement already satisfied: sniffio in /usr/local/lib/python3.7/dist-packages (from trio~=0.17->selenium->tvdatafeed) (1.2.0)\n",
            "Requirement already satisfied: idna in /usr/local/lib/python3.7/dist-packages (from trio~=0.17->selenium->tvdatafeed) (2.10)\n",
            "Requirement already satisfied: sortedcontainers in /usr/local/lib/python3.7/dist-packages (from trio~=0.17->selenium->tvdatafeed) (2.4.0)\n",
            "Requirement already satisfied: async-generator>=1.9 in /usr/local/lib/python3.7/dist-packages (from trio~=0.17->selenium->tvdatafeed) (1.10)\n",
            "Requirement already satisfied: wsproto>=0.14 in /usr/local/lib/python3.7/dist-packages (from trio-websocket~=0.9->selenium->tvdatafeed) (1.1.0)\n",
            "Requirement already satisfied: PySocks!=1.5.7,<2.0,>=1.5.6 in /usr/local/lib/python3.7/dist-packages (from urllib3[secure,socks]~=1.26->selenium->tvdatafeed) (1.7.1)\n",
            "Requirement already satisfied: certifi in /usr/local/lib/python3.7/dist-packages (from urllib3[secure,socks]~=1.26->selenium->tvdatafeed) (2022.6.15)\n",
            "Requirement already satisfied: pyOpenSSL>=0.14 in /usr/local/lib/python3.7/dist-packages (from urllib3[secure,socks]~=1.26->selenium->tvdatafeed) (22.0.0)\n",
            "Requirement already satisfied: cryptography>=1.3.4 in /usr/local/lib/python3.7/dist-packages (from urllib3[secure,socks]~=1.26->selenium->tvdatafeed) (37.0.4)\n",
            "Requirement already satisfied: cffi>=1.12 in /usr/local/lib/python3.7/dist-packages (from cryptography>=1.3.4->urllib3[secure,socks]~=1.26->selenium->tvdatafeed) (1.15.1)\n",
            "Requirement already satisfied: pycparser in /usr/local/lib/python3.7/dist-packages (from cffi>=1.12->cryptography>=1.3.4->urllib3[secure,socks]~=1.26->selenium->tvdatafeed) (2.21)\n",
            "Requirement already satisfied: h11<1,>=0.9.0 in /usr/local/lib/python3.7/dist-packages (from wsproto>=0.14->trio-websocket~=0.9->selenium->tvdatafeed) (0.13.0)\n",
            "Requirement already satisfied: typing-extensions in /usr/local/lib/python3.7/dist-packages (from h11<1,>=0.9.0->wsproto>=0.14->trio-websocket~=0.9->selenium->tvdatafeed) (4.1.1)\n",
            "Looking in indexes: https://pypi.org/simple, https://us-python.pkg.dev/colab-wheels/public/simple/\n",
            "Requirement already satisfied: tensorflow in /usr/local/lib/python3.7/dist-packages (2.8.2+zzzcolab20220719082949)\n",
            "Requirement already satisfied: keras<2.9,>=2.8.0rc0 in /usr/local/lib/python3.7/dist-packages (from tensorflow) (2.8.0)\n",
            "Requirement already satisfied: astunparse>=1.6.0 in /usr/local/lib/python3.7/dist-packages (from tensorflow) (1.6.3)\n",
            "Requirement already satisfied: tensorboard<2.9,>=2.8 in /usr/local/lib/python3.7/dist-packages (from tensorflow) (2.8.0)\n",
            "Requirement already satisfied: setuptools in /usr/local/lib/python3.7/dist-packages (from tensorflow) (57.4.0)\n",
            "Requirement already satisfied: h5py>=2.9.0 in /usr/local/lib/python3.7/dist-packages (from tensorflow) (3.1.0)\n",
            "Requirement already satisfied: wrapt>=1.11.0 in /usr/local/lib/python3.7/dist-packages (from tensorflow) (1.14.1)\n",
            "Requirement already satisfied: gast>=0.2.1 in /usr/local/lib/python3.7/dist-packages (from tensorflow) (0.5.3)\n",
            "Requirement already satisfied: opt-einsum>=2.3.2 in /usr/local/lib/python3.7/dist-packages (from tensorflow) (3.3.0)\n",
            "Requirement already satisfied: numpy>=1.20 in /usr/local/lib/python3.7/dist-packages (from tensorflow) (1.21.6)\n",
            "Requirement already satisfied: typing-extensions>=3.6.6 in /usr/local/lib/python3.7/dist-packages (from tensorflow) (4.1.1)\n",
            "Requirement already satisfied: termcolor>=1.1.0 in /usr/local/lib/python3.7/dist-packages (from tensorflow) (1.1.0)\n",
            "Requirement already satisfied: tensorflow-io-gcs-filesystem>=0.23.1 in /usr/local/lib/python3.7/dist-packages (from tensorflow) (0.26.0)\n",
            "Requirement already satisfied: flatbuffers>=1.12 in /usr/local/lib/python3.7/dist-packages (from tensorflow) (2.0)\n",
            "Requirement already satisfied: absl-py>=0.4.0 in /usr/local/lib/python3.7/dist-packages (from tensorflow) (1.2.0)\n",
            "Requirement already satisfied: tensorflow-estimator<2.9,>=2.8 in /usr/local/lib/python3.7/dist-packages (from tensorflow) (2.8.0)\n",
            "Requirement already satisfied: six>=1.12.0 in /usr/local/lib/python3.7/dist-packages (from tensorflow) (1.15.0)\n",
            "Requirement already satisfied: keras-preprocessing>=1.1.1 in /usr/local/lib/python3.7/dist-packages (from tensorflow) (1.1.2)\n",
            "Requirement already satisfied: protobuf<3.20,>=3.9.2 in /usr/local/lib/python3.7/dist-packages (from tensorflow) (3.17.3)\n",
            "Requirement already satisfied: google-pasta>=0.1.1 in /usr/local/lib/python3.7/dist-packages (from tensorflow) (0.2.0)\n",
            "Requirement already satisfied: libclang>=9.0.1 in /usr/local/lib/python3.7/dist-packages (from tensorflow) (14.0.1)\n",
            "Requirement already satisfied: grpcio<2.0,>=1.24.3 in /usr/local/lib/python3.7/dist-packages (from tensorflow) (1.47.0)\n",
            "Requirement already satisfied: wheel<1.0,>=0.23.0 in /usr/local/lib/python3.7/dist-packages (from astunparse>=1.6.0->tensorflow) (0.37.1)\n",
            "Requirement already satisfied: cached-property in /usr/local/lib/python3.7/dist-packages (from h5py>=2.9.0->tensorflow) (1.5.2)\n",
            "Requirement already satisfied: requests<3,>=2.21.0 in /usr/local/lib/python3.7/dist-packages (from tensorboard<2.9,>=2.8->tensorflow) (2.28.1)\n",
            "Requirement already satisfied: tensorboard-plugin-wit>=1.6.0 in /usr/local/lib/python3.7/dist-packages (from tensorboard<2.9,>=2.8->tensorflow) (1.8.1)\n",
            "Requirement already satisfied: werkzeug>=0.11.15 in /usr/local/lib/python3.7/dist-packages (from tensorboard<2.9,>=2.8->tensorflow) (1.0.1)\n",
            "Requirement already satisfied: markdown>=2.6.8 in /usr/local/lib/python3.7/dist-packages (from tensorboard<2.9,>=2.8->tensorflow) (3.4.1)\n",
            "Requirement already satisfied: tensorboard-data-server<0.7.0,>=0.6.0 in /usr/local/lib/python3.7/dist-packages (from tensorboard<2.9,>=2.8->tensorflow) (0.6.1)\n",
            "Requirement already satisfied: google-auth<3,>=1.6.3 in /usr/local/lib/python3.7/dist-packages (from tensorboard<2.9,>=2.8->tensorflow) (1.35.0)\n",
            "Requirement already satisfied: google-auth-oauthlib<0.5,>=0.4.1 in /usr/local/lib/python3.7/dist-packages (from tensorboard<2.9,>=2.8->tensorflow) (0.4.6)\n",
            "Requirement already satisfied: rsa<5,>=3.1.4 in /usr/local/lib/python3.7/dist-packages (from google-auth<3,>=1.6.3->tensorboard<2.9,>=2.8->tensorflow) (4.9)\n",
            "Requirement already satisfied: pyasn1-modules>=0.2.1 in /usr/local/lib/python3.7/dist-packages (from google-auth<3,>=1.6.3->tensorboard<2.9,>=2.8->tensorflow) (0.2.8)\n",
            "Requirement already satisfied: cachetools<5.0,>=2.0.0 in /usr/local/lib/python3.7/dist-packages (from google-auth<3,>=1.6.3->tensorboard<2.9,>=2.8->tensorflow) (4.2.4)\n",
            "Requirement already satisfied: requests-oauthlib>=0.7.0 in /usr/local/lib/python3.7/dist-packages (from google-auth-oauthlib<0.5,>=0.4.1->tensorboard<2.9,>=2.8->tensorflow) (1.3.1)\n",
            "Requirement already satisfied: importlib-metadata>=4.4 in /usr/local/lib/python3.7/dist-packages (from markdown>=2.6.8->tensorboard<2.9,>=2.8->tensorflow) (4.12.0)\n",
            "Requirement already satisfied: zipp>=0.5 in /usr/local/lib/python3.7/dist-packages (from importlib-metadata>=4.4->markdown>=2.6.8->tensorboard<2.9,>=2.8->tensorflow) (3.8.1)\n",
            "Requirement already satisfied: pyasn1<0.5.0,>=0.4.6 in /usr/local/lib/python3.7/dist-packages (from pyasn1-modules>=0.2.1->google-auth<3,>=1.6.3->tensorboard<2.9,>=2.8->tensorflow) (0.4.8)\n",
            "Requirement already satisfied: charset-normalizer<3,>=2 in /usr/local/lib/python3.7/dist-packages (from requests<3,>=2.21.0->tensorboard<2.9,>=2.8->tensorflow) (2.1.0)\n",
            "Requirement already satisfied: certifi>=2017.4.17 in /usr/local/lib/python3.7/dist-packages (from requests<3,>=2.21.0->tensorboard<2.9,>=2.8->tensorflow) (2022.6.15)\n",
            "Requirement already satisfied: idna<4,>=2.5 in /usr/local/lib/python3.7/dist-packages (from requests<3,>=2.21.0->tensorboard<2.9,>=2.8->tensorflow) (2.10)\n",
            "Requirement already satisfied: urllib3<1.27,>=1.21.1 in /usr/local/lib/python3.7/dist-packages (from requests<3,>=2.21.0->tensorboard<2.9,>=2.8->tensorflow) (1.26.11)\n",
            "Requirement already satisfied: oauthlib>=3.0.0 in /usr/local/lib/python3.7/dist-packages (from requests-oauthlib>=0.7.0->google-auth-oauthlib<0.5,>=0.4.1->tensorboard<2.9,>=2.8->tensorflow) (3.2.0)\n",
            "Looking in indexes: https://pypi.org/simple, https://us-python.pkg.dev/colab-wheels/public/simple/\n",
            "Requirement already satisfied: mplfinance in /usr/local/lib/python3.7/dist-packages (0.12.9b1)\n",
            "Requirement already satisfied: matplotlib in /usr/local/lib/python3.7/dist-packages (from mplfinance) (3.2.2)\n",
            "Requirement already satisfied: pandas in /usr/local/lib/python3.7/dist-packages (from mplfinance) (1.3.5)\n",
            "Requirement already satisfied: kiwisolver>=1.0.1 in /usr/local/lib/python3.7/dist-packages (from matplotlib->mplfinance) (1.4.4)\n",
            "Requirement already satisfied: python-dateutil>=2.1 in /usr/local/lib/python3.7/dist-packages (from matplotlib->mplfinance) (2.8.2)\n",
            "Requirement already satisfied: pyparsing!=2.0.4,!=2.1.2,!=2.1.6,>=2.0.1 in /usr/local/lib/python3.7/dist-packages (from matplotlib->mplfinance) (3.0.9)\n",
            "Requirement already satisfied: numpy>=1.11 in /usr/local/lib/python3.7/dist-packages (from matplotlib->mplfinance) (1.21.6)\n",
            "Requirement already satisfied: cycler>=0.10 in /usr/local/lib/python3.7/dist-packages (from matplotlib->mplfinance) (0.11.0)\n",
            "Requirement already satisfied: typing-extensions in /usr/local/lib/python3.7/dist-packages (from kiwisolver>=1.0.1->matplotlib->mplfinance) (4.1.1)\n",
            "Requirement already satisfied: six>=1.5 in /usr/local/lib/python3.7/dist-packages (from python-dateutil>=2.1->matplotlib->mplfinance) (1.15.0)\n",
            "Requirement already satisfied: pytz>=2017.3 in /usr/local/lib/python3.7/dist-packages (from pandas->mplfinance) (2022.1)\n",
            "Looking in indexes: https://pypi.org/simple, https://us-python.pkg.dev/colab-wheels/public/simple/\n",
            "Requirement already satisfied: cairocffi in /usr/local/lib/python3.7/dist-packages (1.3.0)\n",
            "Requirement already satisfied: cffi>=1.1.0 in /usr/local/lib/python3.7/dist-packages (from cairocffi) (1.15.1)\n",
            "Requirement already satisfied: pycparser in /usr/local/lib/python3.7/dist-packages (from cffi>=1.1.0->cairocffi) (2.21)\n"
          ]
        }
      ],
      "source": [
        "!pip install yfinance\n",
        "!pip install yahooquery\n",
        "!pip install tvdatafeed\n",
        "!pip install tensorflow\n",
        "!pip install mplfinance\n",
        "!pip install cairocffi\n",
        "from tvDatafeed import TvDatafeed, Interval\n",
        "from yahooquery import Screener\n",
        "import yfinance as yf   \n",
        "import pandas as pd\n",
        "import numpy as np\n",
        "from sklearn.model_selection import train_test_split\n",
        "from sklearn.preprocessing import MinMaxScaler\n",
        "import tensorflow as tf\n",
        "import random \n",
        "from tensorflow.keras.models import load_model\n",
        "import os\n",
        "import shutil\n",
        "import mplfinance as mpl \n",
        "from datetime import datetime\n",
        "import glob\n",
        "from PIL import Image\n",
        "import cv2\n",
        "%matplotlib notebook\n",
        "import gc\n",
        "import matplotlib.pyplot as plt\n",
        "import matplotlib\n",
        "matplotlib.use('agg')\n",
        "from keras.models import Sequential\n",
        "from keras.layers import Conv2D,MaxPooling2D,Activation,Dropout,Flatten,Dense,AveragePooling2D,GlobalAveragePooling2D\n",
        "%matplotlib inline"
      ]
    },
    {
      "cell_type": "code",
      "execution_count": 2,
      "metadata": {
        "id": "IB_YMoe09qVP"
      },
      "outputs": [],
      "source": [
        "def work_with_dir():\n",
        "  if os.path.exists(\"/content/data/\"):\n",
        "    shutil.rmtree(\"/content/data/\", ignore_errors=True)\n",
        "    print(\"Data Folder Removed\")\n",
        "    os.mkdir(\"/content/data/\")\n",
        "  if not os.path.exists(\"/content/data/\"):\n",
        "    os.mkdir(\"/content/data/\")\n",
        "  if not os.path.exists(\"/content/extracted/\"):\n",
        "    os.mkdir(\"/content/extracted/\")\n",
        "  if not os.path.exists(\"/content/checkpoints/\"):\n",
        "    os.mkdir(\"/content/checkpoints/\")\n",
        "def get_crypto_syms():\n",
        "   screens = [\n",
        "       'all_cryptocurrencies_us', 'all_cryptocurrencies_au', 'all_cryptocurrencies_ca', 'all_cryptocurrencies_eu', 'all_cryptocurrencies_gb', 'all_cryptocurrencies_in', ]\n",
        "   s = Screener()\n",
        "   symbols = []\n",
        "   for i in screens:\n",
        "      data = s.get_screeners(i, count=250)\n",
        "      dicts = data[i]['quotes']\n",
        "      syms = [d['symbol'] for d in dicts]\n",
        "      for sym in syms:\n",
        "        symbols.append(sym)\n",
        "   return symbols\n",
        "def download_data(symbols, periodd, intervall):\n",
        "  indexx = 100\n",
        "  work_with_dir()\n",
        "  for symbol in symbols:\n",
        "    if ((symbols.index(symbol)+1) % 100 == 0):\n",
        "      print(f\" -- {indexx}\", end=\"\")\n",
        "      indexx = indexx + 100\n",
        "    try:\n",
        "        data = yf.download(symbol, period=periodd,\n",
        "                           interval=intervall, progress=False, show_errors=False)\n",
        "        if data.empty:\n",
        "           pass\n",
        "        else:\n",
        "            data.to_csv(f\"/content/data/{symbol}.csv\")\n",
        "    except:\n",
        "       print(\"Error!\")\n",
        "  print(\" \")\n",
        "def extract_data(max_check, each_row_past):\n",
        "  print(f\"Files In Data : {len(os.listdir('/content/data/'))}\")\n",
        "  pd.options.mode.chained_assignment = None\n",
        "  files = os.listdir(\"/content/data/\")\n",
        "  print(\"Processing File:\")\n",
        "  now = datetime.now().strftime(\"%H%M%S\")\n",
        "  os.mkdir(f\"/content/extracted/{now}/\")\n",
        "  index = 1\n",
        "  for file in files:\n",
        "     print(f\"File Number {index}:\", end=\" \")\n",
        "     each_file_proc(file, now, max_check,\n",
        "                     each_row_past)\n",
        "     index = index + 1\n",
        "  print(\" \")\n",
        "  return now\n",
        "def each_file_proc(file, now, max_check, each_row_past):\n",
        "    address = f\"/content/data/{file}\"\n",
        "    data = pd.read_csv(address)\n",
        "    if len(data.columns) == 7:\n",
        "      data = data.iloc[:, 1:]\n",
        "    data = np.array(data)\n",
        "    data = data.astype(float)\n",
        "    max_index = data.shape[0]-max_check\n",
        "    lst = []\n",
        "    for i in range(11,101,10):\n",
        "            lst2 = []\n",
        "            for x in range(i,i-10,-1):\n",
        "              lst2.append(abs(data[-i][3]-data[-i][0]))\n",
        "            lst.append(sum(lst2)/len(lst2))\n",
        "    mean_candle = sum(lst)/len(lst)\n",
        "\n",
        "    for i in range(each_row_past,max_index):\n",
        "        rows = data[i-each_row_past:i, :]\n",
        "\n",
        "        current_price = (data[i][0] + data[i][3])/2\n",
        "        delta = mean_candle * 3\n",
        "\n",
        "        high =round(current_price + delta)\n",
        "        low = round(current_price - delta)\n",
        "\n",
        "        sugg = 0\n",
        "        for p in range(i+1,i+max_check):\n",
        "          if data[p][3] <= low:\n",
        "            sugg = 0\n",
        "            break\n",
        "          if data[p][3] >= high:\n",
        "            sugg = 1\n",
        "            break\n",
        "\n",
        "\n",
        "        df = pd.DataFrame(rows, columns=[\"Open\", \"High\", \"Low\", \"Close\",\"Adj Close\",\"Volume\"])\n",
        "\n",
        "        df.index.name = \"Date\"\n",
        "\n",
        "        df.index = pd.to_datetime(df.index)\n",
        "        right_now = datetime.now().strftime(\"%H%M%S%f\")\n",
        "        address = f\"/content/extracted/{now}/{right_now}_{sugg}.png\"\n",
        "        \n",
        "\n",
        "        fig, _a = mpl.plot(df, type=\"candle\", style=\"yahoo\", axisoff=True,\n",
        "                            returnfig=True, tight_layout=True,figsize =(1.5,1.5))\n",
        "        \n",
        "        fig.savefig(address)\n",
        "        fig.clf()\n",
        "\n",
        "        if i % 10 == 0:\n",
        "            print(f\"{i}/{max_index}\", end=\" \")\n",
        "        if i % 20:\n",
        "          plt.close(\"all\")\n",
        "        if i % 270 ==0:\n",
        "          print(\"\")\n",
        "    plt.close(\"all\")\n",
        "    print(\"\")\n",
        "\n",
        "def start(max_check, each_row_past):\n",
        "    folder_name = extract_data(\n",
        "        max_check, each_row_past)\n",
        "    return folder_name"
      ]
    },
    {
      "cell_type": "code",
      "execution_count": 11,
      "metadata": {
        "colab": {
          "base_uri": "https://localhost:8080/"
        },
        "id": "AMR8z1BIS-M_",
        "outputId": "9446c743-5264-40d5-b11d-00448a5d71b5"
      },
      "outputs": [
        {
          "output_type": "stream",
          "name": "stdout",
          "text": [
            "Symbols : 1500\n",
            "Data Folder Removed\n",
            " \n"
          ]
        }
      ],
      "source": [
        "symbols = get_crypto_syms()\n",
        "print(f\"Symbols : {len(symbols)}\")\n",
        "symbols = [\"btc-usd\",\"eth-usd\",\"trx-usd\",\"ltc-usd\",\"xrp-usd\",\"bnb-usd\"]\n",
        "symbols = [\"btc-usd\"]\n",
        "download_data(symbols[:300],\"730d\",\"1h\")"
      ]
    },
    {
      "cell_type": "code",
      "execution_count": 12,
      "metadata": {
        "colab": {
          "base_uri": "https://localhost:8080/"
        },
        "id": "TxTyv_osQAnY",
        "outputId": "36a70900-db6c-4733-b59c-dc9be73f54d1"
      },
      "outputs": [
        {
          "output_type": "stream",
          "name": "stdout",
          "text": [
            "Files In Data : 1\n",
            "Processing File:\n",
            "File Number 1: 90/17167 100/17167 110/17167 120/17167 130/17167 140/17167 150/17167 160/17167 170/17167 180/17167 190/17167 200/17167 210/17167 220/17167 230/17167 240/17167 250/17167 260/17167 270/17167 \n",
            "280/17167 290/17167 300/17167 310/17167 320/17167 330/17167 340/17167 350/17167 360/17167 370/17167 380/17167 390/17167 400/17167 410/17167 420/17167 430/17167 440/17167 450/17167 460/17167 470/17167 480/17167 490/17167 500/17167 510/17167 520/17167 530/17167 540/17167 \n",
            "550/17167 560/17167 570/17167 580/17167 590/17167 600/17167 610/17167 620/17167 630/17167 640/17167 650/17167 660/17167 670/17167 680/17167 690/17167 700/17167 710/17167 720/17167 730/17167 740/17167 750/17167 760/17167 770/17167 780/17167 790/17167 800/17167 810/17167 \n",
            "820/17167 830/17167 840/17167 850/17167 860/17167 870/17167 880/17167 890/17167 900/17167 910/17167 920/17167 930/17167 940/17167 950/17167 960/17167 970/17167 980/17167 990/17167 1000/17167 1010/17167 1020/17167 1030/17167 1040/17167 1050/17167 1060/17167 1070/17167 1080/17167 \n",
            "1090/17167 1100/17167 1110/17167 1120/17167 1130/17167 1140/17167 1150/17167 1160/17167 1170/17167 1180/17167 1190/17167 1200/17167 1210/17167 1220/17167 1230/17167 1240/17167 1250/17167 1260/17167 1270/17167 1280/17167 1290/17167 1300/17167 1310/17167 1320/17167 1330/17167 1340/17167 1350/17167 \n",
            "1360/17167 1370/17167 1380/17167 1390/17167 1400/17167 1410/17167 1420/17167 1430/17167 1440/17167 1450/17167 1460/17167 1470/17167 1480/17167 1490/17167 1500/17167 1510/17167 1520/17167 1530/17167 1540/17167 1550/17167 1560/17167 1570/17167 1580/17167 1590/17167 1600/17167 1610/17167 1620/17167 \n",
            "1630/17167 1640/17167 1650/17167 1660/17167 1670/17167 1680/17167 1690/17167 1700/17167 1710/17167 1720/17167 1730/17167 1740/17167 1750/17167 1760/17167 1770/17167 1780/17167 1790/17167 1800/17167 1810/17167 1820/17167 1830/17167 1840/17167 1850/17167 1860/17167 1870/17167 1880/17167 1890/17167 \n",
            "1900/17167 1910/17167 1920/17167 1930/17167 1940/17167 1950/17167 1960/17167 1970/17167 1980/17167 1990/17167 2000/17167 2010/17167 2020/17167 2030/17167 2040/17167 2050/17167 2060/17167 2070/17167 2080/17167 2090/17167 2100/17167 2110/17167 2120/17167 2130/17167 2140/17167 2150/17167 2160/17167 \n",
            "2170/17167 2180/17167 2190/17167 2200/17167 2210/17167 2220/17167 2230/17167 2240/17167 2250/17167 2260/17167 2270/17167 2280/17167 2290/17167 2300/17167 2310/17167 2320/17167 2330/17167 2340/17167 2350/17167 2360/17167 2370/17167 2380/17167 2390/17167 2400/17167 2410/17167 2420/17167 2430/17167 \n",
            "2440/17167 2450/17167 2460/17167 2470/17167 2480/17167 2490/17167 2500/17167 2510/17167 2520/17167 2530/17167 2540/17167 2550/17167 2560/17167 2570/17167 2580/17167 2590/17167 2600/17167 2610/17167 2620/17167 2630/17167 2640/17167 2650/17167 2660/17167 2670/17167 2680/17167 2690/17167 2700/17167 \n",
            "2710/17167 2720/17167 2730/17167 2740/17167 2750/17167 2760/17167 2770/17167 2780/17167 2790/17167 2800/17167 2810/17167 2820/17167 2830/17167 2840/17167 2850/17167 2860/17167 2870/17167 2880/17167 2890/17167 2900/17167 2910/17167 2920/17167 2930/17167 2940/17167 2950/17167 2960/17167 2970/17167 \n",
            "2980/17167 2990/17167 3000/17167 3010/17167 3020/17167 3030/17167 3040/17167 3050/17167 3060/17167 3070/17167 3080/17167 3090/17167 3100/17167 3110/17167 3120/17167 3130/17167 3140/17167 3150/17167 3160/17167 3170/17167 3180/17167 3190/17167 3200/17167 3210/17167 3220/17167 3230/17167 3240/17167 \n",
            "3250/17167 3260/17167 3270/17167 3280/17167 3290/17167 3300/17167 3310/17167 3320/17167 3330/17167 3340/17167 3350/17167 3360/17167 3370/17167 3380/17167 3390/17167 3400/17167 3410/17167 3420/17167 3430/17167 3440/17167 3450/17167 3460/17167 3470/17167 3480/17167 3490/17167 3500/17167 3510/17167 \n",
            "3520/17167 3530/17167 3540/17167 3550/17167 3560/17167 3570/17167 3580/17167 3590/17167 3600/17167 3610/17167 3620/17167 3630/17167 3640/17167 3650/17167 3660/17167 3670/17167 3680/17167 3690/17167 3700/17167 3710/17167 3720/17167 3730/17167 3740/17167 3750/17167 3760/17167 3770/17167 3780/17167 \n",
            "3790/17167 3800/17167 3810/17167 3820/17167 3830/17167 3840/17167 3850/17167 3860/17167 3870/17167 3880/17167 3890/17167 3900/17167 3910/17167 3920/17167 3930/17167 3940/17167 3950/17167 3960/17167 3970/17167 3980/17167 3990/17167 4000/17167 4010/17167 4020/17167 4030/17167 4040/17167 4050/17167 \n",
            "4060/17167 4070/17167 4080/17167 4090/17167 4100/17167 4110/17167 4120/17167 4130/17167 4140/17167 4150/17167 4160/17167 4170/17167 4180/17167 4190/17167 4200/17167 4210/17167 4220/17167 4230/17167 4240/17167 4250/17167 4260/17167 4270/17167 4280/17167 4290/17167 4300/17167 4310/17167 4320/17167 \n",
            "4330/17167 4340/17167 4350/17167 4360/17167 4370/17167 4380/17167 4390/17167 4400/17167 4410/17167 4420/17167 4430/17167 4440/17167 4450/17167 4460/17167 4470/17167 4480/17167 4490/17167 4500/17167 4510/17167 4520/17167 4530/17167 4540/17167 4550/17167 4560/17167 4570/17167 4580/17167 4590/17167 \n",
            "4600/17167 4610/17167 4620/17167 4630/17167 4640/17167 4650/17167 4660/17167 4670/17167 4680/17167 4690/17167 4700/17167 4710/17167 4720/17167 4730/17167 4740/17167 4750/17167 4760/17167 4770/17167 4780/17167 4790/17167 4800/17167 4810/17167 4820/17167 4830/17167 4840/17167 4850/17167 4860/17167 \n",
            "4870/17167 4880/17167 4890/17167 4900/17167 4910/17167 4920/17167 4930/17167 4940/17167 4950/17167 4960/17167 4970/17167 4980/17167 4990/17167 5000/17167 5010/17167 5020/17167 5030/17167 5040/17167 5050/17167 5060/17167 5070/17167 5080/17167 5090/17167 5100/17167 5110/17167 5120/17167 5130/17167 \n",
            "5140/17167 5150/17167 5160/17167 5170/17167 5180/17167 5190/17167 5200/17167 5210/17167 5220/17167 5230/17167 5240/17167 5250/17167 5260/17167 5270/17167 5280/17167 5290/17167 5300/17167 5310/17167 5320/17167 5330/17167 5340/17167 5350/17167 5360/17167 5370/17167 5380/17167 5390/17167 5400/17167 \n",
            "5410/17167 5420/17167 5430/17167 5440/17167 5450/17167 5460/17167 5470/17167 5480/17167 5490/17167 5500/17167 5510/17167 5520/17167 5530/17167 5540/17167 5550/17167 5560/17167 5570/17167 5580/17167 5590/17167 5600/17167 5610/17167 5620/17167 5630/17167 5640/17167 5650/17167 5660/17167 5670/17167 \n",
            "5680/17167 5690/17167 5700/17167 5710/17167 5720/17167 5730/17167 5740/17167 5750/17167 5760/17167 5770/17167 5780/17167 5790/17167 5800/17167 5810/17167 5820/17167 5830/17167 5840/17167 5850/17167 5860/17167 5870/17167 5880/17167 5890/17167 5900/17167 5910/17167 5920/17167 5930/17167 5940/17167 \n",
            "5950/17167 5960/17167 5970/17167 5980/17167 5990/17167 6000/17167 6010/17167 6020/17167 6030/17167 6040/17167 6050/17167 6060/17167 6070/17167 6080/17167 6090/17167 6100/17167 6110/17167 6120/17167 6130/17167 6140/17167 6150/17167 6160/17167 6170/17167 6180/17167 6190/17167 6200/17167 6210/17167 \n",
            "6220/17167 6230/17167 6240/17167 6250/17167 6260/17167 6270/17167 6280/17167 6290/17167 6300/17167 6310/17167 6320/17167 6330/17167 6340/17167 6350/17167 6360/17167 6370/17167 6380/17167 6390/17167 6400/17167 6410/17167 6420/17167 6430/17167 6440/17167 6450/17167 6460/17167 6470/17167 6480/17167 \n",
            "6490/17167 6500/17167 6510/17167 6520/17167 6530/17167 6540/17167 6550/17167 6560/17167 6570/17167 6580/17167 6590/17167 6600/17167 6610/17167 6620/17167 6630/17167 6640/17167 6650/17167 6660/17167 6670/17167 6680/17167 6690/17167 6700/17167 6710/17167 6720/17167 6730/17167 6740/17167 6750/17167 \n",
            "6760/17167 6770/17167 6780/17167 6790/17167 6800/17167 6810/17167 6820/17167 6830/17167 6840/17167 6850/17167 6860/17167 6870/17167 6880/17167 6890/17167 6900/17167 6910/17167 6920/17167 6930/17167 6940/17167 6950/17167 6960/17167 6970/17167 6980/17167 6990/17167 7000/17167 7010/17167 7020/17167 \n",
            "7030/17167 7040/17167 7050/17167 7060/17167 7070/17167 7080/17167 7090/17167 7100/17167 7110/17167 7120/17167 7130/17167 7140/17167 7150/17167 7160/17167 7170/17167 7180/17167 7190/17167 7200/17167 7210/17167 7220/17167 7230/17167 7240/17167 7250/17167 7260/17167 7270/17167 7280/17167 7290/17167 \n",
            "7300/17167 7310/17167 7320/17167 7330/17167 7340/17167 7350/17167 7360/17167 7370/17167 7380/17167 7390/17167 7400/17167 7410/17167 7420/17167 7430/17167 7440/17167 7450/17167 7460/17167 7470/17167 7480/17167 7490/17167 7500/17167 7510/17167 7520/17167 7530/17167 7540/17167 7550/17167 7560/17167 \n",
            "7570/17167 7580/17167 7590/17167 7600/17167 7610/17167 7620/17167 7630/17167 7640/17167 7650/17167 7660/17167 7670/17167 7680/17167 7690/17167 7700/17167 7710/17167 7720/17167 7730/17167 7740/17167 7750/17167 7760/17167 7770/17167 7780/17167 7790/17167 7800/17167 7810/17167 7820/17167 7830/17167 \n",
            "7840/17167 7850/17167 7860/17167 7870/17167 7880/17167 7890/17167 7900/17167 7910/17167 7920/17167 7930/17167 7940/17167 7950/17167 7960/17167 7970/17167 7980/17167 7990/17167 8000/17167 8010/17167 8020/17167 8030/17167 8040/17167 8050/17167 8060/17167 8070/17167 8080/17167 8090/17167 8100/17167 \n",
            "8110/17167 8120/17167 8130/17167 8140/17167 8150/17167 8160/17167 8170/17167 8180/17167 8190/17167 8200/17167 8210/17167 8220/17167 8230/17167 8240/17167 8250/17167 8260/17167 8270/17167 8280/17167 8290/17167 8300/17167 8310/17167 8320/17167 8330/17167 8340/17167 8350/17167 8360/17167 8370/17167 \n",
            "8380/17167 8390/17167 8400/17167 8410/17167 8420/17167 8430/17167 8440/17167 8450/17167 8460/17167 8470/17167 8480/17167 8490/17167 8500/17167 8510/17167 8520/17167 8530/17167 8540/17167 8550/17167 8560/17167 8570/17167 8580/17167 8590/17167 8600/17167 8610/17167 8620/17167 8630/17167 8640/17167 \n",
            "8650/17167 8660/17167 8670/17167 8680/17167 8690/17167 8700/17167 8710/17167 8720/17167 8730/17167 8740/17167 8750/17167 8760/17167 8770/17167 8780/17167 8790/17167 8800/17167 8810/17167 8820/17167 8830/17167 8840/17167 8850/17167 8860/17167 8870/17167 8880/17167 8890/17167 8900/17167 8910/17167 \n",
            "8920/17167 8930/17167 8940/17167 8950/17167 8960/17167 8970/17167 8980/17167 8990/17167 9000/17167 9010/17167 9020/17167 9030/17167 9040/17167 9050/17167 9060/17167 9070/17167 9080/17167 9090/17167 9100/17167 9110/17167 9120/17167 9130/17167 9140/17167 9150/17167 9160/17167 9170/17167 9180/17167 \n",
            "9190/17167 9200/17167 9210/17167 9220/17167 9230/17167 9240/17167 9250/17167 9260/17167 9270/17167 9280/17167 9290/17167 9300/17167 9310/17167 9320/17167 9330/17167 9340/17167 9350/17167 9360/17167 9370/17167 9380/17167 9390/17167 9400/17167 9410/17167 9420/17167 9430/17167 9440/17167 9450/17167 \n",
            "9460/17167 9470/17167 9480/17167 9490/17167 9500/17167 9510/17167 9520/17167 9530/17167 9540/17167 9550/17167 9560/17167 9570/17167 9580/17167 9590/17167 9600/17167 9610/17167 9620/17167 9630/17167 9640/17167 9650/17167 9660/17167 9670/17167 9680/17167 9690/17167 9700/17167 9710/17167 9720/17167 \n",
            "9730/17167 9740/17167 9750/17167 9760/17167 9770/17167 9780/17167 9790/17167 9800/17167 9810/17167 9820/17167 9830/17167 9840/17167 9850/17167 9860/17167 9870/17167 9880/17167 9890/17167 9900/17167 9910/17167 9920/17167 9930/17167 9940/17167 9950/17167 9960/17167 9970/17167 9980/17167 9990/17167 \n",
            "10000/17167 10010/17167 10020/17167 10030/17167 10040/17167 10050/17167 10060/17167 10070/17167 10080/17167 10090/17167 10100/17167 10110/17167 10120/17167 10130/17167 10140/17167 10150/17167 10160/17167 10170/17167 10180/17167 10190/17167 10200/17167 10210/17167 10220/17167 10230/17167 10240/17167 10250/17167 10260/17167 \n",
            "10270/17167 10280/17167 10290/17167 10300/17167 10310/17167 10320/17167 10330/17167 10340/17167 10350/17167 10360/17167 10370/17167 10380/17167 10390/17167 10400/17167 10410/17167 10420/17167 10430/17167 10440/17167 10450/17167 10460/17167 10470/17167 10480/17167 10490/17167 10500/17167 10510/17167 10520/17167 10530/17167 \n",
            "10540/17167 10550/17167 10560/17167 10570/17167 10580/17167 10590/17167 10600/17167 10610/17167 10620/17167 10630/17167 10640/17167 10650/17167 10660/17167 10670/17167 10680/17167 10690/17167 10700/17167 10710/17167 10720/17167 10730/17167 10740/17167 10750/17167 10760/17167 10770/17167 10780/17167 10790/17167 10800/17167 \n",
            "10810/17167 10820/17167 10830/17167 10840/17167 10850/17167 10860/17167 10870/17167 10880/17167 10890/17167 10900/17167 10910/17167 10920/17167 10930/17167 10940/17167 10950/17167 10960/17167 10970/17167 10980/17167 10990/17167 11000/17167 11010/17167 11020/17167 11030/17167 11040/17167 11050/17167 11060/17167 11070/17167 \n",
            "11080/17167 11090/17167 11100/17167 11110/17167 11120/17167 11130/17167 11140/17167 11150/17167 11160/17167 11170/17167 11180/17167 11190/17167 11200/17167 11210/17167 11220/17167 11230/17167 11240/17167 11250/17167 11260/17167 11270/17167 11280/17167 11290/17167 11300/17167 11310/17167 11320/17167 11330/17167 11340/17167 \n",
            "11350/17167 11360/17167 11370/17167 11380/17167 11390/17167 11400/17167 11410/17167 11420/17167 11430/17167 11440/17167 11450/17167 11460/17167 11470/17167 11480/17167 11490/17167 11500/17167 11510/17167 11520/17167 11530/17167 11540/17167 11550/17167 11560/17167 11570/17167 11580/17167 11590/17167 11600/17167 11610/17167 \n",
            "11620/17167 11630/17167 11640/17167 11650/17167 11660/17167 11670/17167 11680/17167 11690/17167 11700/17167 11710/17167 11720/17167 11730/17167 11740/17167 11750/17167 11760/17167 11770/17167 11780/17167 11790/17167 11800/17167 11810/17167 11820/17167 11830/17167 11840/17167 11850/17167 11860/17167 11870/17167 11880/17167 \n",
            "11890/17167 11900/17167 11910/17167 11920/17167 11930/17167 11940/17167 11950/17167 11960/17167 11970/17167 11980/17167 11990/17167 12000/17167 12010/17167 12020/17167 12030/17167 12040/17167 12050/17167 12060/17167 12070/17167 12080/17167 12090/17167 12100/17167 12110/17167 12120/17167 12130/17167 12140/17167 12150/17167 \n",
            "12160/17167 12170/17167 12180/17167 12190/17167 12200/17167 12210/17167 12220/17167 12230/17167 12240/17167 12250/17167 12260/17167 12270/17167 12280/17167 12290/17167 12300/17167 12310/17167 12320/17167 12330/17167 12340/17167 12350/17167 12360/17167 12370/17167 12380/17167 12390/17167 12400/17167 12410/17167 12420/17167 \n",
            "12430/17167 12440/17167 12450/17167 12460/17167 12470/17167 12480/17167 12490/17167 12500/17167 12510/17167 12520/17167 12530/17167 12540/17167 12550/17167 12560/17167 12570/17167 12580/17167 12590/17167 12600/17167 12610/17167 12620/17167 12630/17167 12640/17167 12650/17167 12660/17167 12670/17167 12680/17167 12690/17167 \n",
            "12700/17167 12710/17167 12720/17167 12730/17167 12740/17167 12750/17167 12760/17167 12770/17167 12780/17167 12790/17167 12800/17167 12810/17167 12820/17167 12830/17167 12840/17167 12850/17167 12860/17167 12870/17167 12880/17167 12890/17167 12900/17167 12910/17167 12920/17167 12930/17167 12940/17167 12950/17167 12960/17167 \n",
            "12970/17167 12980/17167 12990/17167 13000/17167 13010/17167 13020/17167 13030/17167 13040/17167 13050/17167 13060/17167 13070/17167 13080/17167 13090/17167 13100/17167 13110/17167 13120/17167 13130/17167 13140/17167 13150/17167 13160/17167 13170/17167 13180/17167 13190/17167 13200/17167 13210/17167 13220/17167 13230/17167 \n",
            "13240/17167 13250/17167 13260/17167 13270/17167 13280/17167 13290/17167 13300/17167 13310/17167 13320/17167 13330/17167 13340/17167 13350/17167 13360/17167 13370/17167 13380/17167 13390/17167 13400/17167 13410/17167 13420/17167 13430/17167 13440/17167 13450/17167 13460/17167 13470/17167 13480/17167 13490/17167 13500/17167 \n",
            "13510/17167 13520/17167 13530/17167 13540/17167 13550/17167 13560/17167 13570/17167 13580/17167 13590/17167 13600/17167 13610/17167 13620/17167 13630/17167 13640/17167 13650/17167 13660/17167 13670/17167 13680/17167 13690/17167 13700/17167 13710/17167 13720/17167 13730/17167 13740/17167 13750/17167 13760/17167 13770/17167 \n",
            "13780/17167 13790/17167 13800/17167 13810/17167 13820/17167 13830/17167 13840/17167 13850/17167 13860/17167 13870/17167 13880/17167 13890/17167 13900/17167 13910/17167 13920/17167 13930/17167 13940/17167 13950/17167 13960/17167 13970/17167 13980/17167 13990/17167 14000/17167 14010/17167 14020/17167 14030/17167 14040/17167 \n",
            "14050/17167 14060/17167 14070/17167 14080/17167 14090/17167 14100/17167 14110/17167 14120/17167 14130/17167 14140/17167 14150/17167 14160/17167 14170/17167 14180/17167 14190/17167 14200/17167 14210/17167 14220/17167 14230/17167 14240/17167 14250/17167 14260/17167 14270/17167 14280/17167 14290/17167 14300/17167 14310/17167 \n",
            "14320/17167 14330/17167 14340/17167 14350/17167 14360/17167 14370/17167 14380/17167 14390/17167 14400/17167 14410/17167 14420/17167 14430/17167 14440/17167 14450/17167 14460/17167 14470/17167 14480/17167 14490/17167 14500/17167 14510/17167 14520/17167 14530/17167 14540/17167 14550/17167 14560/17167 14570/17167 14580/17167 \n",
            "14590/17167 14600/17167 14610/17167 14620/17167 14630/17167 14640/17167 14650/17167 14660/17167 14670/17167 14680/17167 14690/17167 14700/17167 14710/17167 14720/17167 14730/17167 14740/17167 14750/17167 14760/17167 14770/17167 14780/17167 14790/17167 14800/17167 14810/17167 14820/17167 14830/17167 14840/17167 14850/17167 \n",
            "14860/17167 14870/17167 14880/17167 14890/17167 14900/17167 14910/17167 14920/17167 14930/17167 14940/17167 14950/17167 14960/17167 14970/17167 14980/17167 14990/17167 15000/17167 15010/17167 15020/17167 15030/17167 15040/17167 15050/17167 15060/17167 15070/17167 15080/17167 15090/17167 15100/17167 15110/17167 15120/17167 \n",
            "15130/17167 15140/17167 15150/17167 15160/17167 15170/17167 15180/17167 15190/17167 15200/17167 15210/17167 15220/17167 15230/17167 15240/17167 15250/17167 15260/17167 15270/17167 15280/17167 15290/17167 15300/17167 15310/17167 15320/17167 15330/17167 15340/17167 15350/17167 15360/17167 15370/17167 15380/17167 15390/17167 \n",
            "15400/17167 15410/17167 15420/17167 15430/17167 15440/17167 15450/17167 15460/17167 15470/17167 15480/17167 15490/17167 15500/17167 15510/17167 15520/17167 15530/17167 15540/17167 15550/17167 15560/17167 15570/17167 15580/17167 15590/17167 15600/17167 15610/17167 15620/17167 15630/17167 15640/17167 15650/17167 15660/17167 \n",
            "15670/17167 15680/17167 15690/17167 15700/17167 15710/17167 15720/17167 15730/17167 15740/17167 15750/17167 15760/17167 15770/17167 15780/17167 15790/17167 15800/17167 15810/17167 15820/17167 15830/17167 15840/17167 15850/17167 15860/17167 15870/17167 15880/17167 15890/17167 15900/17167 15910/17167 15920/17167 15930/17167 \n",
            "15940/17167 15950/17167 15960/17167 15970/17167 15980/17167 15990/17167 16000/17167 16010/17167 16020/17167 16030/17167 16040/17167 16050/17167 16060/17167 16070/17167 16080/17167 16090/17167 16100/17167 16110/17167 16120/17167 16130/17167 16140/17167 16150/17167 16160/17167 16170/17167 16180/17167 16190/17167 16200/17167 \n",
            "16210/17167 16220/17167 16230/17167 16240/17167 16250/17167 16260/17167 16270/17167 16280/17167 16290/17167 16300/17167 16310/17167 16320/17167 16330/17167 16340/17167 16350/17167 16360/17167 16370/17167 16380/17167 16390/17167 16400/17167 16410/17167 16420/17167 16430/17167 16440/17167 16450/17167 16460/17167 16470/17167 \n",
            "16480/17167 16490/17167 16500/17167 16510/17167 16520/17167 16530/17167 16540/17167 16550/17167 16560/17167 16570/17167 16580/17167 16590/17167 16600/17167 16610/17167 16620/17167 16630/17167 16640/17167 16650/17167 16660/17167 16670/17167 16680/17167 16690/17167 16700/17167 16710/17167 16720/17167 16730/17167 16740/17167 \n",
            "16750/17167 16760/17167 16770/17167 16780/17167 16790/17167 16800/17167 16810/17167 16820/17167 16830/17167 16840/17167 16850/17167 16860/17167 16870/17167 16880/17167 16890/17167 16900/17167 16910/17167 16920/17167 16930/17167 16940/17167 16950/17167 16960/17167 16970/17167 16980/17167 16990/17167 17000/17167 17010/17167 \n",
            "17020/17167 17030/17167 17040/17167 17050/17167 17060/17167 17070/17167 17080/17167 17090/17167 17100/17167 17110/17167 17120/17167 17130/17167 17140/17167 17150/17167 17160/17167 \n",
            " \n"
          ]
        },
        {
          "output_type": "execute_result",
          "data": {
            "text/plain": [
              "17082"
            ]
          },
          "metadata": {},
          "execution_count": 12
        }
      ],
      "source": [
        "max_check = 15\n",
        "each_row_past = 85\n",
        "\n",
        "folder_name = start(max_check,each_row_past)\n",
        "len(os.listdir(f\"/content/extracted/{folder_name}\"))"
      ]
    },
    {
      "cell_type": "code",
      "execution_count": 3,
      "metadata": {
        "colab": {
          "base_uri": "https://localhost:8080/"
        },
        "id": "dQpQvhf-pwpR",
        "outputId": "890e0cce-b008-4227-8b37-ab70089e5897"
      },
      "outputs": [
        {
          "output_type": "stream",
          "name": "stdout",
          "text": [
            "(17082, 128, 128)\n",
            "xTrain : 13665 \\ xTest : 3417\n",
            "yn: 7697 nn: 9385\n"
          ]
        }
      ],
      "source": [
        "folder_name = \"181613\"\n",
        "\n",
        "shutil.make_archive(folder_name,\"zip\",f\"/content/extracted/{folder_name}/\")\n",
        "#shutil.unpack_archive(f\"/content/{folder_name}.zip\",f\"/content/extracted/{folder_name}\")\n",
        "label = []\n",
        "data  = []\n",
        "files = os.listdir(f\"/content/extracted/{folder_name}/\")\n",
        "for i, image_name in enumerate(files):\n",
        "  if image_name.split(\".\")[1] == \"png\":\n",
        "    image = cv2.imread(f\"/content/extracted/{folder_name}\"+\"/\"+image_name,0)\n",
        "    dim = (128, 128)\n",
        "    resized = cv2.resize(image, dim)\n",
        "    data.append(np.array(resized))\n",
        "    sugg = image_name.split(\"_\")[1].split(\".\")[0]\n",
        "    label.append(int(sugg))\n",
        "data = np.array(data)\n",
        "data = data / 255\n",
        "print(data.shape)\n",
        "xTrain , xTest , yTrain , yTest = train_test_split(data,label,test_size=0.2,random_state=99)\n",
        "data = None\n",
        "label = None\n",
        "print(f\"xTrain : {len(xTrain)} \\\\ xTest : {len(xTest)}\")\n",
        "nytrain = []\n",
        "nytest = []\n",
        "yn = 0\n",
        "nn = 0\n",
        "for i in yTrain:\n",
        "  if i == 1:\n",
        "    nytrain.append([1,0])\n",
        "    yn += 1\n",
        "  else:\n",
        "    nytrain.append([0,1])\n",
        "    nn += 1\n",
        "for i in yTest:\n",
        "  if i == 1:\n",
        "    nytest.append([1,0])\n",
        "    yn += 1\n",
        "  else:\n",
        "    nytest.append([0,1])\n",
        "    nn += 1\n",
        "yTrain = np.array(nytrain)\n",
        "yTest = np.array(nytest)\n",
        "print(f\"yn: {yn} nn: {nn}\")"
      ]
    },
    {
      "cell_type": "code",
      "source": [
        "model = load_model(\"1.h5\")"
      ],
      "metadata": {
        "id": "AD1YVmB9CFhk"
      },
      "execution_count": 4,
      "outputs": []
    },
    {
      "cell_type": "code",
      "execution_count": null,
      "metadata": {
        "id": "9stbJK8Nx_0c"
      },
      "outputs": [],
      "source": [
        "from keras.regularizers import l2\n",
        "\n",
        "model = Sequential()\n",
        "\n",
        "model.add(Conv2D(128,     (3,3),activation=\"relu\", input_shape=(xTrain.shape[1], xTrain.shape[2],1), kernel_regularizer=l2(0.00005), bias_regularizer=l2(0.00005)))\n",
        "model.add(MaxPooling2D(pool_size=(2, 2)))\n",
        "model.add(Conv2D(128,     (3,3),activation=\"relu\", kernel_regularizer=l2(0.00005), bias_regularizer=l2(0.00005))) \n",
        "model.add(AveragePooling2D(pool_size=(2, 2)))\n",
        "model.add(Conv2D(100,     (3,3),activation=\"relu\", kernel_regularizer=l2(0.00005), bias_regularizer=l2(0.00005)))\n",
        "model.add(AveragePooling2D(pool_size=(2, 2)))\n",
        "model.add(Conv2D(64,      (3,3),activation=\"relu\", kernel_regularizer=l2(0.00005), bias_regularizer=l2(0.00005)))\n",
        "model.add(Flatten())\n",
        "model.add(Dense(900,activation=\"relu\", kernel_regularizer=l2(0.00005), bias_regularizer=l2(0.00005)))\n",
        "model.add(Dropout(0.1))\n",
        "model.add(Dense(900,activation=\"relu\", kernel_regularizer=l2(0.00005), bias_regularizer=l2(0.00005)))\n",
        "model.add(Dropout(0.1))\n",
        "model.add(Dense(900,activation=\"relu\", kernel_regularizer=l2(0.00005), bias_regularizer=l2(0.00005)))\n",
        "model.add(Dropout(0.1))\n",
        "model.add(Dense(900,activation=\"relu\", kernel_regularizer=l2(0.00005), bias_regularizer=l2(0.00005)))\n",
        "model.add(Dense(2,activation=\"sigmoid\"))\n",
        "\n",
        "adamax = tf.keras.optimizers.Adamax(\n",
        "    learning_rate=0.00015)\n",
        "model.compile(loss='categorical_crossentropy',\n",
        "              optimizer=adamax,\n",
        "              metrics=['accuracy'])\n",
        "model.summary()"
      ]
    },
    {
      "cell_type": "code",
      "execution_count": 15,
      "metadata": {
        "colab": {
          "base_uri": "https://localhost:8080/"
        },
        "id": "cytWxowTyInc",
        "outputId": "a26afa2e-ab97-48ce-ff6a-ed40688e458f"
      },
      "outputs": [
        {
          "output_type": "stream",
          "name": "stdout",
          "text": [
            "Epoch 1/20\n",
            "428/428 [==============================] - 22s 52ms/step - loss: 0.0337 - accuracy: 0.9967 - val_loss: 1.0596 - val_accuracy: 0.8183\n",
            "Epoch 2/20\n",
            "428/428 [==============================] - 22s 52ms/step - loss: 0.0297 - accuracy: 0.9981 - val_loss: 1.2220 - val_accuracy: 0.8174\n",
            "Epoch 3/20\n",
            "428/428 [==============================] - 22s 52ms/step - loss: 0.0332 - accuracy: 0.9968 - val_loss: 1.0867 - val_accuracy: 0.8232\n",
            "Epoch 4/20\n",
            "428/428 [==============================] - 22s 52ms/step - loss: 0.0309 - accuracy: 0.9974 - val_loss: 1.2508 - val_accuracy: 0.8180\n",
            "Epoch 5/20\n",
            "428/428 [==============================] - 22s 52ms/step - loss: 0.0291 - accuracy: 0.9979 - val_loss: 1.1528 - val_accuracy: 0.8206\n",
            "Epoch 6/20\n",
            "428/428 [==============================] - 22s 52ms/step - loss: 0.0269 - accuracy: 0.9987 - val_loss: 1.1839 - val_accuracy: 0.8209\n",
            "Epoch 7/20\n",
            "428/428 [==============================] - 22s 52ms/step - loss: 0.0273 - accuracy: 0.9982 - val_loss: 1.1574 - val_accuracy: 0.8247\n",
            "Epoch 8/20\n",
            "428/428 [==============================] - 22s 52ms/step - loss: 0.0303 - accuracy: 0.9972 - val_loss: 1.1014 - val_accuracy: 0.8147\n",
            "Epoch 9/20\n",
            "428/428 [==============================] - 22s 52ms/step - loss: 0.0274 - accuracy: 0.9982 - val_loss: 1.1021 - val_accuracy: 0.8221\n",
            "Epoch 10/20\n",
            "428/428 [==============================] - 22s 52ms/step - loss: 0.0255 - accuracy: 0.9989 - val_loss: 1.1176 - val_accuracy: 0.8241\n",
            "Epoch 11/20\n",
            "428/428 [==============================] - 22s 52ms/step - loss: 0.0249 - accuracy: 0.9990 - val_loss: 1.1882 - val_accuracy: 0.8177\n",
            "Epoch 12/20\n",
            "428/428 [==============================] - 22s 52ms/step - loss: 0.0250 - accuracy: 0.9989 - val_loss: 1.1906 - val_accuracy: 0.8229\n",
            "Epoch 13/20\n",
            "428/428 [==============================] - 22s 52ms/step - loss: 0.0267 - accuracy: 0.9985 - val_loss: 1.1595 - val_accuracy: 0.8206\n",
            "Epoch 14/20\n",
            "428/428 [==============================] - 22s 52ms/step - loss: 0.0246 - accuracy: 0.9990 - val_loss: 1.1617 - val_accuracy: 0.8150\n",
            "Epoch 15/20\n",
            "428/428 [==============================] - 22s 52ms/step - loss: 0.0257 - accuracy: 0.9985 - val_loss: 1.1988 - val_accuracy: 0.8197\n",
            "Epoch 16/20\n",
            "428/428 [==============================] - 22s 52ms/step - loss: 0.0253 - accuracy: 0.9983 - val_loss: 1.1272 - val_accuracy: 0.8142\n",
            "Epoch 17/20\n",
            "428/428 [==============================] - 22s 52ms/step - loss: 0.0241 - accuracy: 0.9986 - val_loss: 1.1933 - val_accuracy: 0.8209\n",
            "Epoch 18/20\n",
            "428/428 [==============================] - 22s 52ms/step - loss: 0.0263 - accuracy: 0.9985 - val_loss: 1.1137 - val_accuracy: 0.8174\n",
            "Epoch 19/20\n",
            "428/428 [==============================] - 22s 52ms/step - loss: 0.0253 - accuracy: 0.9985 - val_loss: 1.1228 - val_accuracy: 0.8127\n",
            "Epoch 20/20\n",
            "428/428 [==============================] - 22s 52ms/step - loss: 0.0229 - accuracy: 0.9992 - val_loss: 1.1469 - val_accuracy: 0.8150\n"
          ]
        },
        {
          "output_type": "execute_result",
          "data": {
            "text/plain": [
              "<keras.callbacks.History at 0x7f670a3af410>"
            ]
          },
          "metadata": {},
          "execution_count": 15
        }
      ],
      "source": [
        "filepath = \"/content/checkpoints/{epoch:02d}-{val_accuracy:.2f}.h5\"\n",
        "model_checkpoint_callback = tf.keras.callbacks.ModelCheckpoint(\n",
        "    filepath=filepath,\n",
        "    save_weights_only=False,\n",
        "    monitor='val_accuracy',\n",
        "    mode='max',\n",
        "    save_best_only=True)\n",
        "\n",
        "#model.fit(xTrain,yTrain,batch_size=64,epochs=30,validation_data=(xTest,yTest), callbacks=model_checkpoint_callback)\n",
        "model.fit(xTrain,yTrain,batch_size=32,epochs=20,validation_data=(xTest,yTest))"
      ]
    },
    {
      "cell_type": "code",
      "execution_count": null,
      "metadata": {
        "id": "qjRn1rKTEFSH"
      },
      "outputs": [],
      "source": [
        "model.evaluate(xTest,yTest)"
      ]
    },
    {
      "cell_type": "code",
      "execution_count": 15,
      "metadata": {
        "id": "UgUhFkNfwDtr"
      },
      "outputs": [],
      "source": [
        "model.save(f\"1.h5\")"
      ]
    },
    {
      "cell_type": "code",
      "source": [
        "each_row_past= 85"
      ],
      "metadata": {
        "id": "YTfv0tSmXNg2"
      },
      "execution_count": 10,
      "outputs": []
    },
    {
      "cell_type": "code",
      "execution_count": 11,
      "metadata": {
        "id": "qgz7BAj5wwlN",
        "colab": {
          "base_uri": "https://localhost:8080/",
          "height": 652
        },
        "outputId": "0ceb3ad6-df0e-4bf9-82d8-1eb777a594d6"
      },
      "outputs": [
        {
          "output_type": "stream",
          "name": "stdout",
          "text": [
            "\r[*********************100%***********************]  1 of 1 completed\n",
            "                                   Open          High           Low  \\\n",
            "2022-07-26 00:00:00+00:00  21361.121094  21361.121094  21028.496094   \n",
            "2022-07-26 01:00:00+00:00  21022.257812  21109.111328  21020.304688   \n",
            "2022-07-26 02:00:00+00:00  21093.880859  21119.511719  21081.531250   \n",
            "2022-07-26 03:00:00+00:00  21087.292969  21190.025391  21019.888672   \n",
            "2022-07-26 04:00:00+00:00  21155.894531  21201.144531  21128.802734   \n",
            "...                                 ...           ...           ...   \n",
            "2022-08-04 16:00:00+00:00  22927.541016  22954.425781  22575.986328   \n",
            "2022-08-04 17:00:00+00:00  22590.181641  22638.937500  22590.181641   \n",
            "2022-08-04 18:00:00+00:00  22639.583984  22662.275391  22502.861328   \n",
            "2022-08-04 19:00:00+00:00  22557.619141  22612.839844  22548.386719   \n",
            "2022-08-04 19:34:00+00:00  22582.818359  22582.818359  22582.818359   \n",
            "\n",
            "                                  Close     Adj Close      Volume  \n",
            "2022-07-26 00:00:00+00:00  21028.496094  21028.496094           0  \n",
            "2022-07-26 01:00:00+00:00  21101.935547  21101.935547           0  \n",
            "2022-07-26 02:00:00+00:00  21082.515625  21082.515625           0  \n",
            "2022-07-26 03:00:00+00:00  21155.400391  21155.400391  1328877568  \n",
            "2022-07-26 04:00:00+00:00  21148.976562  21148.976562   115187712  \n",
            "...                                 ...           ...         ...  \n",
            "2022-08-04 16:00:00+00:00  22575.986328  22575.986328   461979648  \n",
            "2022-08-04 17:00:00+00:00  22630.423828  22630.423828   229662720  \n",
            "2022-08-04 18:00:00+00:00  22554.027344  22554.027344   785582080  \n",
            "2022-08-04 19:00:00+00:00  22594.683594  22594.683594    59379712  \n",
            "2022-08-04 19:34:00+00:00  22582.818359  22582.818359           0  \n",
            "\n",
            "[237 rows x 6 columns]\n"
          ]
        },
        {
          "output_type": "display_data",
          "data": {
            "text/plain": [
              "<Figure size 150x150 with 2 Axes>"
            ],
            "image/png": "[encoded data removed]"
          },
          "metadata": {}
        }
      ],
      "source": [
        "symbol,period,interval=\"btc-usd\",\"10d\",\"1h\"\n",
        "data = yf.download(tickers=symbol,period=period,interval=interval)\n",
        "print(data)\n",
        "data = np.array(data)\n",
        "data = data.astype(float)\n",
        "i = -2\n",
        "rows = data[i-each_row_past:i, :]\n",
        "df = pd.DataFrame(rows, columns=[\"Open\", \"High\", \"Low\", \"Close\",\"Adj Close\",\"Volume\"])\n",
        "df.index.name = \"Date\"\n",
        "df.index = pd.to_datetime(df.index)\n",
        "fig, _a = mpl.plot(df, type=\"candle\", style=\"yahoo\", axisoff=True,\n",
        "                            returnfig=True, tight_layout=True,figsize =(1.5,1.5))\n",
        "fig.savefig(\"picture.png\")"
      ]
    },
    {
      "cell_type": "code",
      "execution_count": 12,
      "metadata": {
        "id": "Hdb2r1l8yB-0",
        "colab": {
          "base_uri": "https://localhost:8080/"
        },
        "outputId": "da464a71-3414-4c64-cc03-1159d98e6c9f"
      },
      "outputs": [
        {
          "output_type": "execute_result",
          "data": {
            "text/plain": [
              "array([[1., 0.]], dtype=float32)"
            ]
          },
          "metadata": {},
          "execution_count": 12
        }
      ],
      "source": [
        "image = cv2.imread(\"/content/picture.png\",0)\n",
        "dim = (128, 128)\n",
        "resized = cv2.resize(image, dim)\n",
        "data = np.array(resized)\n",
        "model.predict([[data.reshape(1,128,128,1)]])"
      ]
    },
    {
      "cell_type": "code",
      "execution_count": 13,
      "metadata": {
        "id": "I8nJ2wI-ynZw",
        "colab": {
          "base_uri": "https://localhost:8080/",
          "height": 183
        },
        "outputId": "6c27a32a-ff7c-42f9-ec94-864e14bd1ca5"
      },
      "outputs": [
        {
          "output_type": "stream",
          "name": "stderr",
          "text": [
            "you are using nologin method, data you access may be limited\n"
          ]
        },
        {
          "output_type": "display_data",
          "data": {
            "text/plain": [
              "<Figure size 150x150 with 2 Axes>"
            ],
            "image/png": "[encoded data removed]"
          },
          "metadata": {}
        }
      ],
      "source": [
        "tv = TvDatafeed()\n",
        "data = tv.get_hist(symbol=\"btcusdt\",exchange=\"binance\",interval=Interval.in_1_hour,n_bars=1000)\n",
        "data = np.array(data)\n",
        "i = -1\n",
        "rows = data[i-each_row_past:i, 1:5]\n",
        "rows.shape\n",
        "df = pd.DataFrame(rows, columns=[\"Open\", \"High\", \"Low\", \"Close\"])\n",
        "df.index.name = \"Date\"\n",
        "df.index = pd.to_datetime(df.index)\n",
        "df = df.apply(lambda col:pd.to_numeric(col, errors='coerce'))\n",
        "fig, _a = mpl.plot(df, type=\"candle\", style=\"yahoo\", axisoff=True,\n",
        "                            returnfig=True, tight_layout=True,figsize =(1.5,1.5))\n",
        "fig.savefig(\"picture1.png\")"
      ]
    },
    {
      "cell_type": "code",
      "execution_count": 14,
      "metadata": {
        "id": "zpTFxbUd5mXt",
        "colab": {
          "base_uri": "https://localhost:8080/"
        },
        "outputId": "b0f0a93e-4ffb-4cf3-ce39-9d078a9ce35d"
      },
      "outputs": [
        {
          "output_type": "execute_result",
          "data": {
            "text/plain": [
              "array([[1., 0.]], dtype=float32)"
            ]
          },
          "metadata": {},
          "execution_count": 14
        }
      ],
      "source": [
        "image = cv2.imread(\"/content/picture1.png\",0)\n",
        "dim = (128, 128)\n",
        "resized = cv2.resize(image, dim)\n",
        "data = np.array(resized)\n",
        "model.predict([[data.reshape(1,128,128,1)]])"
      ]
    },
    {
      "cell_type": "code",
      "execution_count": null,
      "metadata": {
        "id": "3B7lUM_NBNxj"
      },
      "outputs": [],
      "source": [
        "from google.colab import drive\n",
        "drive.mount('/content/drive')"
      ]
    }
  ],
  "metadata": {
    "colab": {
      "collapsed_sections": [],
      "name": "G33 (2).ipynb",
      "provenance": []
    },
    "gpuClass": "standard",
    "kernelspec": {
      "display_name": "Python 3",
      "name": "python3"
    },
    "language_info": {
      "name": "python"
    },
    "accelerator": "GPU"
  },
  "nbformat": 4,
  "nbformat_minor": 0
}