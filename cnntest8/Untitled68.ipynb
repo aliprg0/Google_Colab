{
  "nbformat": 4,
  "nbformat_minor": 0,
  "metadata": {
    "colab": {
      "name": "Untitled68.ipynb",
      "provenance": [],
      "collapsed_sections": []
    },
    "kernelspec": {
      "name": "python3",
      "display_name": "Python 3"
    },
    "language_info": {
      "name": "python"
    }
  },
  "cells": [
    {
      "cell_type": "code",
      "execution_count": 5,
      "metadata": {
        "colab": {
          "base_uri": "https://localhost:8080/"
        },
        "id": "KgdfdSmwfNl6",
        "outputId": "b712b5b2-519a-4c53-afd1-e2cd904497f1"
      },
      "outputs": [
        {
          "output_type": "stream",
          "name": "stdout",
          "text": [
            "Looking in indexes: https://pypi.org/simple, https://us-python.pkg.dev/colab-wheels/public/simple/\n",
            "Collecting yfinance\n",
            "  Downloading yfinance-0.1.74-py2.py3-none-any.whl (27 kB)\n",
            "Requirement already satisfied: pandas>=0.24.0 in /usr/local/lib/python3.7/dist-packages (from yfinance) (1.3.5)\n",
            "Requirement already satisfied: multitasking>=0.0.7 in /usr/local/lib/python3.7/dist-packages (from yfinance) (0.0.11)\n",
            "Requirement already satisfied: numpy>=1.15 in /usr/local/lib/python3.7/dist-packages (from yfinance) (1.21.6)\n",
            "Requirement already satisfied: lxml>=4.5.1 in /usr/local/lib/python3.7/dist-packages (from yfinance) (4.9.1)\n",
            "Collecting requests>=2.26\n",
            "  Downloading requests-2.28.1-py3-none-any.whl (62 kB)\n",
            "\u001b[K     |████████████████████████████████| 62 kB 1.3 MB/s \n",
            "\u001b[?25hRequirement already satisfied: pytz>=2017.3 in /usr/local/lib/python3.7/dist-packages (from pandas>=0.24.0->yfinance) (2022.1)\n",
            "Requirement already satisfied: python-dateutil>=2.7.3 in /usr/local/lib/python3.7/dist-packages (from pandas>=0.24.0->yfinance) (2.8.2)\n",
            "Requirement already satisfied: six>=1.5 in /usr/local/lib/python3.7/dist-packages (from python-dateutil>=2.7.3->pandas>=0.24.0->yfinance) (1.15.0)\n",
            "Requirement already satisfied: charset-normalizer<3,>=2 in /usr/local/lib/python3.7/dist-packages (from requests>=2.26->yfinance) (2.1.0)\n",
            "Requirement already satisfied: idna<4,>=2.5 in /usr/local/lib/python3.7/dist-packages (from requests>=2.26->yfinance) (2.10)\n",
            "Requirement already satisfied: urllib3<1.27,>=1.21.1 in /usr/local/lib/python3.7/dist-packages (from requests>=2.26->yfinance) (1.24.3)\n",
            "Requirement already satisfied: certifi>=2017.4.17 in /usr/local/lib/python3.7/dist-packages (from requests>=2.26->yfinance) (2022.6.15)\n",
            "Installing collected packages: requests, yfinance\n",
            "  Attempting uninstall: requests\n",
            "    Found existing installation: requests 2.23.0\n",
            "    Uninstalling requests-2.23.0:\n",
            "      Successfully uninstalled requests-2.23.0\n",
            "\u001b[31mERROR: pip's dependency resolver does not currently take into account all the packages that are installed. This behaviour is the source of the following dependency conflicts.\n",
            "google-colab 1.0.0 requires requests~=2.23.0, but you have requests 2.28.1 which is incompatible.\u001b[0m\n",
            "Successfully installed requests-2.28.1 yfinance-0.1.74\n"
          ]
        }
      ],
      "source": [
        "!pip install yfinance"
      ]
    },
    {
      "cell_type": "code",
      "source": [
        "import yfinance as yf"
      ],
      "metadata": {
        "id": "zlyJpfQafScY"
      },
      "execution_count": 9,
      "outputs": []
    },
    {
      "cell_type": "code",
      "source": [
        "data = yf.download(\"btc-usd\",period=\"100d\",interval=\"1h\")"
      ],
      "metadata": {
        "colab": {
          "base_uri": "https://localhost:8080/"
        },
        "id": "1aMkM9pkfT-y",
        "outputId": "bb4d5fee-2af6-46fa-ee13-8f0ca7de27bf"
      },
      "execution_count": 67,
      "outputs": [
        {
          "output_type": "stream",
          "name": "stdout",
          "text": [
            "\r[*********************100%***********************]  1 of 1 completed\n"
          ]
        }
      ]
    },
    {
      "cell_type": "code",
      "source": [
        "data"
      ],
      "metadata": {
        "colab": {
          "base_uri": "https://localhost:8080/",
          "height": 423
        },
        "id": "EjciMyYQgQid",
        "outputId": "f985b4a7-c96f-416f-872b-efa9a8f647ff"
      },
      "execution_count": 68,
      "outputs": [
        {
          "output_type": "execute_result",
          "data": {
            "text/plain": [
              "                                   Open          High           Low  \\\n",
              "2022-04-25 00:00:00+00:00  39472.605469  39487.976562  38919.621094   \n",
              "2022-04-25 01:00:00+00:00  38908.238281  39084.804688  38812.457031   \n",
              "2022-04-25 02:00:00+00:00  39083.812500  39115.917969  39014.625000   \n",
              "2022-04-25 03:00:00+00:00  39078.796875  39251.855469  39078.796875   \n",
              "2022-04-25 04:00:00+00:00  39245.867188  39252.429688  39131.132812   \n",
              "...                                 ...           ...           ...   \n",
              "2022-08-02 09:00:00+00:00  22827.187500  22844.921875  22716.599609   \n",
              "2022-08-02 10:00:00+00:00  22737.546875  22860.355469  22712.753906   \n",
              "2022-08-02 11:00:00+00:00  22859.486328  22959.447266  22859.486328   \n",
              "2022-08-02 12:00:00+00:00  22895.896484  22912.351562  22792.720703   \n",
              "2022-08-02 12:49:00+00:00  22781.169922  22781.169922  22781.169922   \n",
              "\n",
              "                                  Close     Adj Close      Volume  \n",
              "2022-04-25 00:00:00+00:00  38919.621094  38919.621094           0  \n",
              "2022-04-25 01:00:00+00:00  39070.316406  39070.316406  5042493440  \n",
              "2022-04-25 02:00:00+00:00  39070.125000  39070.125000  1871507456  \n",
              "2022-04-25 03:00:00+00:00  39245.734375  39245.734375   258422784  \n",
              "2022-04-25 04:00:00+00:00  39166.953125  39166.953125   193044480  \n",
              "...                                 ...           ...         ...  \n",
              "2022-08-02 09:00:00+00:00  22737.595703  22737.595703   437989376  \n",
              "2022-08-02 10:00:00+00:00  22843.574219  22843.574219   134658048  \n",
              "2022-08-02 11:00:00+00:00  22898.341797  22898.341797    83908608  \n",
              "2022-08-02 12:00:00+00:00  22802.046875  22802.046875    76075008  \n",
              "2022-08-02 12:49:00+00:00  22781.169922  22781.169922           0  \n",
              "\n",
              "[2390 rows x 6 columns]"
            ],
            "text/html": [
              "\n",
              "  <div id=\"df-acce1594-303b-4b35-a5eb-624e2b84f0e5\">\n",
              "    <div class=\"colab-df-container\">\n",
              "      <div>\n",
              "<style scoped>\n",
              "    .dataframe tbody tr th:only-of-type {\n",
              "        vertical-align: middle;\n",
              "    }\n",
              "\n",
              "    .dataframe tbody tr th {\n",
              "        vertical-align: top;\n",
              "    }\n",
              "\n",
              "    .dataframe thead th {\n",
              "        text-align: right;\n",
              "    }\n",
              "</style>\n",
              "<table border=\"1\" class=\"dataframe\">\n",
              "  <thead>\n",
              "    <tr style=\"text-align: right;\">\n",
              "      <th></th>\n",
              "      <th>Open</th>\n",
              "      <th>High</th>\n",
              "      <th>Low</th>\n",
              "      <th>Close</th>\n",
              "      <th>Adj Close</th>\n",
              "      <th>Volume</th>\n",
              "    </tr>\n",
              "  </thead>\n",
              "  <tbody>\n",
              "    <tr>\n",
              "      <th>2022-04-25 00:00:00+00:00</th>\n",
              "      <td>39472.605469</td>\n",
              "      <td>39487.976562</td>\n",
              "      <td>38919.621094</td>\n",
              "      <td>38919.621094</td>\n",
              "      <td>38919.621094</td>\n",
              "      <td>0</td>\n",
              "    </tr>\n",
              "    <tr>\n",
              "      <th>2022-04-25 01:00:00+00:00</th>\n",
              "      <td>38908.238281</td>\n",
              "      <td>39084.804688</td>\n",
              "      <td>38812.457031</td>\n",
              "      <td>39070.316406</td>\n",
              "      <td>39070.316406</td>\n",
              "      <td>5042493440</td>\n",
              "    </tr>\n",
              "    <tr>\n",
              "      <th>2022-04-25 02:00:00+00:00</th>\n",
              "      <td>39083.812500</td>\n",
              "      <td>39115.917969</td>\n",
              "      <td>39014.625000</td>\n",
              "      <td>39070.125000</td>\n",
              "      <td>39070.125000</td>\n",
              "      <td>1871507456</td>\n",
              "    </tr>\n",
              "    <tr>\n",
              "      <th>2022-04-25 03:00:00+00:00</th>\n",
              "      <td>39078.796875</td>\n",
              "      <td>39251.855469</td>\n",
              "      <td>39078.796875</td>\n",
              "      <td>39245.734375</td>\n",
              "      <td>39245.734375</td>\n",
              "      <td>258422784</td>\n",
              "    </tr>\n",
              "    <tr>\n",
              "      <th>2022-04-25 04:00:00+00:00</th>\n",
              "      <td>39245.867188</td>\n",
              "      <td>39252.429688</td>\n",
              "      <td>39131.132812</td>\n",
              "      <td>39166.953125</td>\n",
              "      <td>39166.953125</td>\n",
              "      <td>193044480</td>\n",
              "    </tr>\n",
              "    <tr>\n",
              "      <th>...</th>\n",
              "      <td>...</td>\n",
              "      <td>...</td>\n",
              "      <td>...</td>\n",
              "      <td>...</td>\n",
              "      <td>...</td>\n",
              "      <td>...</td>\n",
              "    </tr>\n",
              "    <tr>\n",
              "      <th>2022-08-02 09:00:00+00:00</th>\n",
              "      <td>22827.187500</td>\n",
              "      <td>22844.921875</td>\n",
              "      <td>22716.599609</td>\n",
              "      <td>22737.595703</td>\n",
              "      <td>22737.595703</td>\n",
              "      <td>437989376</td>\n",
              "    </tr>\n",
              "    <tr>\n",
              "      <th>2022-08-02 10:00:00+00:00</th>\n",
              "      <td>22737.546875</td>\n",
              "      <td>22860.355469</td>\n",
              "      <td>22712.753906</td>\n",
              "      <td>22843.574219</td>\n",
              "      <td>22843.574219</td>\n",
              "      <td>134658048</td>\n",
              "    </tr>\n",
              "    <tr>\n",
              "      <th>2022-08-02 11:00:00+00:00</th>\n",
              "      <td>22859.486328</td>\n",
              "      <td>22959.447266</td>\n",
              "      <td>22859.486328</td>\n",
              "      <td>22898.341797</td>\n",
              "      <td>22898.341797</td>\n",
              "      <td>83908608</td>\n",
              "    </tr>\n",
              "    <tr>\n",
              "      <th>2022-08-02 12:00:00+00:00</th>\n",
              "      <td>22895.896484</td>\n",
              "      <td>22912.351562</td>\n",
              "      <td>22792.720703</td>\n",
              "      <td>22802.046875</td>\n",
              "      <td>22802.046875</td>\n",
              "      <td>76075008</td>\n",
              "    </tr>\n",
              "    <tr>\n",
              "      <th>2022-08-02 12:49:00+00:00</th>\n",
              "      <td>22781.169922</td>\n",
              "      <td>22781.169922</td>\n",
              "      <td>22781.169922</td>\n",
              "      <td>22781.169922</td>\n",
              "      <td>22781.169922</td>\n",
              "      <td>0</td>\n",
              "    </tr>\n",
              "  </tbody>\n",
              "</table>\n",
              "<p>2390 rows × 6 columns</p>\n",
              "</div>\n",
              "      <button class=\"colab-df-convert\" onclick=\"convertToInteractive('df-acce1594-303b-4b35-a5eb-624e2b84f0e5')\"\n",
              "              title=\"Convert this dataframe to an interactive table.\"\n",
              "              style=\"display:none;\">\n",
              "        \n",
              "  <svg xmlns=\"http://www.w3.org/2000/svg\" height=\"24px\"viewBox=\"0 0 24 24\"\n",
              "       width=\"24px\">\n",
              "    <path d=\"M0 0h24v24H0V0z\" fill=\"none\"/>\n",
              "    <path d=\"M18.56 5.44l.94 2.06.94-2.06 2.06-.94-2.06-.94-.94-2.06-.94 2.06-2.06.94zm-11 1L8.5 8.5l.94-2.06 2.06-.94-2.06-.94L8.5 2.5l-.94 2.06-2.06.94zm10 10l.94 2.06.94-2.06 2.06-.94-2.06-.94-.94-2.06-.94 2.06-2.06.94z\"/><path d=\"M17.41 7.96l-1.37-1.37c-.4-.4-.92-.59-1.43-.59-.52 0-1.04.2-1.43.59L10.3 9.45l-7.72 7.72c-.78.78-.78 2.05 0 2.83L4 21.41c.39.39.9.59 1.41.59.51 0 1.02-.2 1.41-.59l7.78-7.78 2.81-2.81c.8-.78.8-2.07 0-2.86zM5.41 20L4 18.59l7.72-7.72 1.47 1.35L5.41 20z\"/>\n",
              "  </svg>\n",
              "      </button>\n",
              "      \n",
              "  <style>\n",
              "    .colab-df-container {\n",
              "      display:flex;\n",
              "      flex-wrap:wrap;\n",
              "      gap: 12px;\n",
              "    }\n",
              "\n",
              "    .colab-df-convert {\n",
              "      background-color: #E8F0FE;\n",
              "      border: none;\n",
              "      border-radius: 50%;\n",
              "      cursor: pointer;\n",
              "      display: none;\n",
              "      fill: #1967D2;\n",
              "      height: 32px;\n",
              "      padding: 0 0 0 0;\n",
              "      width: 32px;\n",
              "    }\n",
              "\n",
              "    .colab-df-convert:hover {\n",
              "      background-color: #E2EBFA;\n",
              "      box-shadow: 0px 1px 2px rgba(60, 64, 67, 0.3), 0px 1px 3px 1px rgba(60, 64, 67, 0.15);\n",
              "      fill: #174EA6;\n",
              "    }\n",
              "\n",
              "    [theme=dark] .colab-df-convert {\n",
              "      background-color: #3B4455;\n",
              "      fill: #D2E3FC;\n",
              "    }\n",
              "\n",
              "    [theme=dark] .colab-df-convert:hover {\n",
              "      background-color: #434B5C;\n",
              "      box-shadow: 0px 1px 3px 1px rgba(0, 0, 0, 0.15);\n",
              "      filter: drop-shadow(0px 1px 2px rgba(0, 0, 0, 0.3));\n",
              "      fill: #FFFFFF;\n",
              "    }\n",
              "  </style>\n",
              "\n",
              "      <script>\n",
              "        const buttonEl =\n",
              "          document.querySelector('#df-acce1594-303b-4b35-a5eb-624e2b84f0e5 button.colab-df-convert');\n",
              "        buttonEl.style.display =\n",
              "          google.colab.kernel.accessAllowed ? 'block' : 'none';\n",
              "\n",
              "        async function convertToInteractive(key) {\n",
              "          const element = document.querySelector('#df-acce1594-303b-4b35-a5eb-624e2b84f0e5');\n",
              "          const dataTable =\n",
              "            await google.colab.kernel.invokeFunction('convertToInteractive',\n",
              "                                                     [key], {});\n",
              "          if (!dataTable) return;\n",
              "\n",
              "          const docLinkHtml = 'Like what you see? Visit the ' +\n",
              "            '<a target=\"_blank\" href=https://colab.research.google.com/notebooks/data_table.ipynb>data table notebook</a>'\n",
              "            + ' to learn more about interactive tables.';\n",
              "          element.innerHTML = '';\n",
              "          dataTable['output_type'] = 'display_data';\n",
              "          await google.colab.output.renderOutput(dataTable, element);\n",
              "          const docLink = document.createElement('div');\n",
              "          docLink.innerHTML = docLinkHtml;\n",
              "          element.appendChild(docLink);\n",
              "        }\n",
              "      </script>\n",
              "    </div>\n",
              "  </div>\n",
              "  "
            ]
          },
          "metadata": {},
          "execution_count": 68
        }
      ]
    },
    {
      "cell_type": "code",
      "source": [
        "import numpy as np"
      ],
      "metadata": {
        "id": "0Fd-bDXTgx0x"
      },
      "execution_count": 12,
      "outputs": []
    },
    {
      "cell_type": "code",
      "source": [
        "x = []\n",
        "data = np.array(data)\n",
        "for i in range(2,1000):\n",
        "   x.append(abs(data[-i][3]-data[-i][0]))"
      ],
      "metadata": {
        "id": "ckOqHz-ngVQx"
      },
      "execution_count": 69,
      "outputs": []
    },
    {
      "cell_type": "code",
      "source": [
        "x"
      ],
      "metadata": {
        "id": "rO4gbJ7DirLT"
      },
      "execution_count": null,
      "outputs": []
    },
    {
      "cell_type": "code",
      "source": [
        "sum(x)/len(x)"
      ],
      "metadata": {
        "colab": {
          "base_uri": "https://localhost:8080/"
        },
        "id": "L3nJSYmcjUVq",
        "outputId": "1cebdf6f-c3cf-42b9-cb25-8eade80f24de"
      },
      "execution_count": 71,
      "outputs": [
        {
          "output_type": "execute_result",
          "data": {
            "text/plain": [
              "99.64650003131263"
            ]
          },
          "metadata": {},
          "execution_count": 71
        }
      ]
    },
    {
      "cell_type": "code",
      "source": [
        ""
      ],
      "metadata": {
        "id": "8w00PlzIir67"
      },
      "execution_count": 28,
      "outputs": []
    },
    {
      "cell_type": "code",
      "source": [
        "x = x +1"
      ],
      "metadata": {
        "id": "nZtHEHm8ithf"
      },
      "execution_count": 29,
      "outputs": []
    },
    {
      "cell_type": "code",
      "source": [
        "lst"
      ],
      "metadata": {
        "colab": {
          "base_uri": "https://localhost:8080/"
        },
        "id": "zKpvWh4biucO",
        "outputId": "ddb744cc-ea08-42b1-b0ea-3b650b5dda56"
      },
      "execution_count": 31,
      "outputs": [
        {
          "output_type": "execute_result",
          "data": {
            "text/plain": [
              "[]"
            ]
          },
          "metadata": {},
          "execution_count": 31
        }
      ]
    },
    {
      "cell_type": "code",
      "source": [
        "lst.append(\"amir\")"
      ],
      "metadata": {
        "id": "r5Bf3Ltqiyjf"
      },
      "execution_count": 32,
      "outputs": []
    },
    {
      "cell_type": "code",
      "source": [
        "lst"
      ],
      "metadata": {
        "colab": {
          "base_uri": "https://localhost:8080/"
        },
        "id": "qf2k0kiuiz-Q",
        "outputId": "39796648-5b5b-475b-ed5c-e821b909e11f"
      },
      "execution_count": 33,
      "outputs": [
        {
          "output_type": "execute_result",
          "data": {
            "text/plain": [
              "['amir']"
            ]
          },
          "metadata": {},
          "execution_count": 33
        }
      ]
    },
    {
      "cell_type": "code",
      "source": [
        "lst.append(183838)"
      ],
      "metadata": {
        "id": "ti4RdiHSi4If"
      },
      "execution_count": 34,
      "outputs": []
    },
    {
      "cell_type": "code",
      "source": [
        "lst"
      ],
      "metadata": {
        "colab": {
          "base_uri": "https://localhost:8080/"
        },
        "id": "60PLp1DKi58T",
        "outputId": "cf47f265-b28c-4727-c188-cb67d6e210ec"
      },
      "execution_count": 35,
      "outputs": [
        {
          "output_type": "execute_result",
          "data": {
            "text/plain": [
              "['amir', 183838]"
            ]
          },
          "metadata": {},
          "execution_count": 35
        }
      ]
    },
    {
      "cell_type": "code",
      "source": [
        "lst[0]"
      ],
      "metadata": {
        "colab": {
          "base_uri": "https://localhost:8080/",
          "height": 35
        },
        "id": "4KvjoFPBi87L",
        "outputId": "ac03322e-0c88-4b70-e9bb-dd1b54415750"
      },
      "execution_count": 36,
      "outputs": [
        {
          "output_type": "execute_result",
          "data": {
            "text/plain": [
              "'amir'"
            ],
            "application/vnd.google.colaboratory.intrinsic+json": {
              "type": "string"
            }
          },
          "metadata": {},
          "execution_count": 36
        }
      ]
    },
    {
      "cell_type": "code",
      "source": [
        "x"
      ],
      "metadata": {
        "colab": {
          "base_uri": "https://localhost:8080/"
        },
        "id": "BzuelWdQiM1X",
        "outputId": "a95ab57d-d4a3-43ed-d742-8d93a8d0d3f7"
      },
      "execution_count": 26,
      "outputs": [
        {
          "output_type": "execute_result",
          "data": {
            "text/plain": [
              "[-20.890625,\n",
              " 38.85546875,\n",
              " 106.02734375,\n",
              " -89.591796875,\n",
              " -73.03125,\n",
              " 16.220703125,\n",
              " 21.51171875,\n",
              " 8.201171875,\n",
              " 6.94140625]"
            ]
          },
          "metadata": {},
          "execution_count": 26
        }
      ]
    },
    {
      "cell_type": "code",
      "source": [
        "print(123)"
      ],
      "metadata": {
        "colab": {
          "base_uri": "https://localhost:8080/"
        },
        "id": "Oqe_pc2aiSpJ",
        "outputId": "53d4d78b-4147-478b-8867-445534e13447"
      },
      "execution_count": 22,
      "outputs": [
        {
          "output_type": "stream",
          "name": "stdout",
          "text": [
            "123\n"
          ]
        }
      ]
    },
    {
      "cell_type": "code",
      "source": [
        "for i in range(1,11):\n",
        "   print(i)"
      ],
      "metadata": {
        "colab": {
          "base_uri": "https://localhost:8080/"
        },
        "id": "H6D5F6UVhwL1",
        "outputId": "a7291287-84ea-4494-9f9a-18ced11b9c89"
      },
      "execution_count": 19,
      "outputs": [
        {
          "output_type": "stream",
          "name": "stdout",
          "text": [
            "1\n",
            "2\n",
            "3\n",
            "4\n",
            "5\n",
            "6\n",
            "7\n",
            "8\n",
            "9\n",
            "10\n"
          ]
        }
      ]
    },
    {
      "cell_type": "code",
      "source": [
        "data = np.array(data)"
      ],
      "metadata": {
        "id": "ylObO3ktg_KE"
      },
      "execution_count": 13,
      "outputs": []
    },
    {
      "cell_type": "code",
      "source": [
        ""
      ],
      "metadata": {
        "id": "33qzXSf9hCdZ"
      },
      "execution_count": null,
      "outputs": []
    }
  ]
}