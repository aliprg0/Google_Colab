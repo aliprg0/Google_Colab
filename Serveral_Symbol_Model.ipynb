{
  "cells": [
    {
      "cell_type": "code",
      "execution_count": 1,
      "metadata": {
        "colab": {
          "base_uri": "https://localhost:8080/"
        },
        "id": "_ygJ_wFxYm7M",
        "outputId": "a36f9608-6689-4eac-8fed-5e213b61cdd8"
      },
      "outputs": [
        {
          "output_type": "stream",
          "name": "stdout",
          "text": [
            "Requirement already satisfied: yfinance in /usr/local/lib/python3.7/dist-packages (0.1.70)\n",
            "Requirement already satisfied: multitasking>=0.0.7 in /usr/local/lib/python3.7/dist-packages (from yfinance) (0.0.10)\n",
            "Requirement already satisfied: requests>=2.26 in /usr/local/lib/python3.7/dist-packages (from yfinance) (2.27.1)\n",
            "Requirement already satisfied: lxml>=4.5.1 in /usr/local/lib/python3.7/dist-packages (from yfinance) (4.8.0)\n",
            "Requirement already satisfied: numpy>=1.15 in /usr/local/lib/python3.7/dist-packages (from yfinance) (1.21.5)\n",
            "Requirement already satisfied: pandas>=0.24.0 in /usr/local/lib/python3.7/dist-packages (from yfinance) (1.3.5)\n",
            "Requirement already satisfied: python-dateutil>=2.7.3 in /usr/local/lib/python3.7/dist-packages (from pandas>=0.24.0->yfinance) (2.8.2)\n",
            "Requirement already satisfied: pytz>=2017.3 in /usr/local/lib/python3.7/dist-packages (from pandas>=0.24.0->yfinance) (2018.9)\n",
            "Requirement already satisfied: six>=1.5 in /usr/local/lib/python3.7/dist-packages (from python-dateutil>=2.7.3->pandas>=0.24.0->yfinance) (1.15.0)\n",
            "Requirement already satisfied: certifi>=2017.4.17 in /usr/local/lib/python3.7/dist-packages (from requests>=2.26->yfinance) (2021.10.8)\n",
            "Requirement already satisfied: urllib3<1.27,>=1.21.1 in /usr/local/lib/python3.7/dist-packages (from requests>=2.26->yfinance) (1.24.3)\n",
            "Requirement already satisfied: charset-normalizer~=2.0.0 in /usr/local/lib/python3.7/dist-packages (from requests>=2.26->yfinance) (2.0.12)\n",
            "Requirement already satisfied: idna<4,>=2.5 in /usr/local/lib/python3.7/dist-packages (from requests>=2.26->yfinance) (2.10)\n"
          ]
        }
      ],
      "source": [
        "!pip install yfinance\n",
        "import yfinance as yf   \n",
        "import pandas as pd\n",
        "import numpy as np"
      ]
    },
    {
      "cell_type": "code",
      "source": [
        "from tensorflow.keras import Sequential\n",
        "from tensorflow.keras.layers import Dense\n",
        "from tensorflow.keras.layers import Dropout\n",
        "from sklearn.linear_model import LogisticRegression\n",
        "from sklearn.ensemble import RandomForestClassifier\n",
        "from sklearn.model_selection import train_test_split\n",
        "from sklearn.preprocessing import MinMaxScaler\n",
        "from sklearn.svm import SVC\n"
      ],
      "metadata": {
        "id": "_5bxbCoe9do9"
      },
      "execution_count": 5,
      "outputs": []
    },
    {
      "cell_type": "code",
      "execution_count": 6,
      "metadata": {
        "colab": {
          "base_uri": "https://localhost:8080/"
        },
        "id": "kn3S59KUYp6P",
        "outputId": "5404015e-846e-4b9a-e769-70ee74f2fe88"
      },
      "outputs": [
        {
          "output_type": "stream",
          "name": "stdout",
          "text": [
            "[*********************100%***********************]  1 of 1 completed\n",
            "[*********************100%***********************]  1 of 1 completed\n",
            "[*********************100%***********************]  1 of 1 completed\n",
            "[*********************100%***********************]  1 of 1 completed\n",
            "[*********************100%***********************]  1 of 1 completed\n",
            "[*********************100%***********************]  1 of 1 completed\n",
            "[*********************100%***********************]  1 of 1 completed\n",
            "[*********************100%***********************]  1 of 1 completed\n",
            "[*********************100%***********************]  1 of 1 completed\n",
            "[*********************100%***********************]  1 of 1 completed\n",
            "[*********************100%***********************]  1 of 1 completed\n"
          ]
        }
      ],
      "source": [
        "#symbols = [\"MSFT\",\"AAPL\",\"GOOG\",\"TSLA\",\"BTC-USD\",\"LTC-USD\",\"TRX-USD\",\"GGPI\",\"BIM\",\"AI\",\"AMZN\"]\n",
        "symbols = [\"BTC-USD\",\"LTC-USD\",\"TRX-USD\",\"XRP-USD\",\"ETH-USD\",\"BNB-USD\",\"DASH-USD\",\"VET-USD\",\"LINK-USD\",\"ADA-USD\",\"DOT-USD\"]\n",
        "#symbols = [\"MSFT\",\"AMZN\",\"AAPL\",\"TSLA\",\"GOOG\",\"GOOGL\"]\n",
        "\n",
        "dfs = []\n",
        "for i in symbols:\n",
        "   data = yf.download(i,period=\"60d\",interval=\"5m\")\n",
        "   dfs.append(data)\n"
      ]
    },
    {
      "cell_type": "code",
      "source": [
        "for df in dfs:\n",
        "  print(df.isnull().sum(),end=\" \")\n",
        "  print(df.shape)"
      ],
      "metadata": {
        "colab": {
          "base_uri": "https://localhost:8080/"
        },
        "id": "lIp18gMO_wfb",
        "outputId": "dbf98991-93f8-4617-b805-cc0ddefb0d54"
      },
      "execution_count": 7,
      "outputs": [
        {
          "output_type": "stream",
          "name": "stdout",
          "text": [
            "Open         0\n",
            "High         0\n",
            "Low          0\n",
            "Close        0\n",
            "Adj Close    0\n",
            "Volume       0\n",
            "dtype: int64 (17157, 6)\n",
            "Open         0\n",
            "High         0\n",
            "Low          0\n",
            "Close        0\n",
            "Adj Close    0\n",
            "Volume       0\n",
            "dtype: int64 (17149, 6)\n",
            "Open         0\n",
            "High         0\n",
            "Low          0\n",
            "Close        0\n",
            "Adj Close    0\n",
            "Volume       0\n",
            "dtype: int64 (17151, 6)\n",
            "Open         0\n",
            "High         0\n",
            "Low          0\n",
            "Close        0\n",
            "Adj Close    0\n",
            "Volume       0\n",
            "dtype: int64 (17155, 6)\n",
            "Open         0\n",
            "High         0\n",
            "Low          0\n",
            "Close        0\n",
            "Adj Close    0\n",
            "Volume       0\n",
            "dtype: int64 (17157, 6)\n",
            "Open         0\n",
            "High         0\n",
            "Low          0\n",
            "Close        0\n",
            "Adj Close    0\n",
            "Volume       0\n",
            "dtype: int64 (17150, 6)\n",
            "Open         0\n",
            "High         0\n",
            "Low          0\n",
            "Close        0\n",
            "Adj Close    0\n",
            "Volume       0\n",
            "dtype: int64 (17158, 6)\n",
            "Open         0\n",
            "High         0\n",
            "Low          0\n",
            "Close        0\n",
            "Adj Close    0\n",
            "Volume       0\n",
            "dtype: int64 (17154, 6)\n",
            "Open         0\n",
            "High         0\n",
            "Low          0\n",
            "Close        0\n",
            "Adj Close    0\n",
            "Volume       0\n",
            "dtype: int64 (17154, 6)\n",
            "Open         0\n",
            "High         0\n",
            "Low          0\n",
            "Close        0\n",
            "Adj Close    0\n",
            "Volume       0\n",
            "dtype: int64 (17158, 6)\n",
            "Open         0\n",
            "High         0\n",
            "Low          0\n",
            "Close        0\n",
            "Adj Close    0\n",
            "Volume       0\n",
            "dtype: int64 (17154, 6)\n"
          ]
        }
      ]
    },
    {
      "cell_type": "code",
      "source": [
        "fixed_dfs = []\n",
        "for df in dfs:\n",
        "    full = []\n",
        "    df = np.array(df)\n",
        "    for i in range(10, df.shape[0]-1):\n",
        "        ten_days_ago = i-10\n",
        "        nine_days_ago = i-9\n",
        "        eight_days_ago = i-8\n",
        "        seven_days_ago = i-7\n",
        "        six_days_ago = i-6\n",
        "        five_days_ago = i-5\n",
        "        four_days_ago = i-4\n",
        "        three_days_ago = i-3\n",
        "        two_days_ago = i - 2\n",
        "        yesterday = i - 1\n",
        "        today = i\n",
        "        tomorrow = i + 1\n",
        "        if df[tomorrow][3] > df[today][3]:\n",
        "            future = 1\n",
        "        else:\n",
        "            future = 0\n",
        "        new_lst = [df[ten_days_ago][3], df[nine_days_ago][3], df[eight_days_ago][3], df[seven_days_ago][3], df[six_days_ago][3],\n",
        "                   df[five_days_ago][3], df[four_days_ago][3], df[three_days_ago][3], df[two_days_ago][3], df[yesterday][3], df[today][3], future]\n",
        "        full.append(new_lst)\n",
        "    fuu = np.array([full])\n",
        "    lst = []\n",
        "    for i in range(0, fuu.shape[1]):\n",
        "        lst.append(fuu[0][i])\n",
        "    mm = np.array(lst)\n",
        "    dff = pd.DataFrame(mm, columns=[\"ten_days_ago\", \"nine_days_ago\", \"eight_days_ago\", \"seven_days_ago\", \"six_days_ago\",\n",
        "                           \"five_days_ago\", \"four_days_ago\", \"three_days_ago\", \"two_days_ago\", \"yesterday\", \"today\", \"result\"])\n",
        "    scaler = MinMaxScaler()\n",
        "    scaled = pd.DataFrame(scaler.fit_transform(dff.T).T, columns=[\"ten_days_ago\", \"nine_days_ago\", \"eight_days_ago\", \"seven_days_ago\",\n",
        "                              \"six_days_ago\", \"five_days_ago\", \"four_days_ago\", \"three_days_ago\", \"two_days_ago\", \"yesterday\", \"today\", \"result\"])\n",
        "    scaled.drop(\"result\",axis=1,inplace=True)\n",
        "    scaled[\"result\"] = dff[\"result\"]\n",
        "    fixed_dfs.append(scaled)"
      ],
      "metadata": {
        "id": "IB_YMoe09qVP"
      },
      "execution_count": 8,
      "outputs": []
    },
    {
      "cell_type": "code",
      "source": [
        "for i in fixed_dfs:\n",
        "  print(i.shape)"
      ],
      "metadata": {
        "colab": {
          "base_uri": "https://localhost:8080/"
        },
        "id": "G2c_JcjfCzaT",
        "outputId": "6ac5711f-ce67-40ca-f141-c0cd3886a182"
      },
      "execution_count": 9,
      "outputs": [
        {
          "output_type": "stream",
          "name": "stdout",
          "text": [
            "(17146, 12)\n",
            "(17138, 12)\n",
            "(17140, 12)\n",
            "(17144, 12)\n",
            "(17146, 12)\n",
            "(17139, 12)\n",
            "(17147, 12)\n",
            "(17143, 12)\n",
            "(17143, 12)\n",
            "(17147, 12)\n",
            "(17143, 12)\n"
          ]
        }
      ]
    },
    {
      "cell_type": "code",
      "source": [
        "data = fixed_dfs[0]\n",
        "for i in range(1,len(symbols)):\n",
        "  data = pd.concat([data,fixed_dfs[i]], ignore_index = True)"
      ],
      "metadata": {
        "id": "_aYjMIfT6y6u"
      },
      "execution_count": 10,
      "outputs": []
    },
    {
      "cell_type": "code",
      "source": [
        "data"
      ],
      "metadata": {
        "colab": {
          "base_uri": "https://localhost:8080/",
          "height": 423
        },
        "id": "ORjxJp0tEWil",
        "outputId": "19083524-d921-4306-ac14-93a9ce7d8a3b"
      },
      "execution_count": 11,
      "outputs": [
        {
          "output_type": "execute_result",
          "data": {
            "text/plain": [
              "        ten_days_ago  nine_days_ago  eight_days_ago  seven_days_ago  \\\n",
              "0           1.000000       0.997996        0.996235        0.993588   \n",
              "1           0.998703       0.996941        0.994292        0.996348   \n",
              "2           0.996941       0.994292        0.996348        0.997103   \n",
              "3           0.993584       0.995639        0.996393        0.998304   \n",
              "4           0.995639       0.996393        0.998304        0.997237   \n",
              "...              ...            ...             ...             ...   \n",
              "188571      0.994076       0.992466        0.993121        0.992474   \n",
              "188572      0.992069       0.992759        0.992078        0.989097   \n",
              "188573      0.992759       0.992078        0.989097        0.991336   \n",
              "188574      0.984613       0.981655        0.983877        0.984269   \n",
              "188575      0.979923       0.982029        0.982401        0.982690   \n",
              "\n",
              "        six_days_ago  five_days_ago  four_days_ago  three_days_ago  \\\n",
              "0           0.995643       0.996397       0.998308        0.997241   \n",
              "1           0.997103       0.999016       0.997948        0.999232   \n",
              "2           0.999016       0.997948       0.999232        0.999859   \n",
              "3           0.997237       0.998520       0.999147        0.999288   \n",
              "4           0.998520       0.999147       0.999288        0.998214   \n",
              "...              ...            ...            ...             ...   \n",
              "188571      0.989642       0.991769       0.992144        0.992436   \n",
              "188572      0.991336       0.991731       0.992038        0.994500   \n",
              "188573      0.991731       0.992038       0.994500        1.000000   \n",
              "188574      0.984574       0.987017       0.992476        0.990421   \n",
              "188575      0.985006       0.990179       0.988232        0.987653   \n",
              "\n",
              "        two_days_ago  yesterday     today  result  \n",
              "0           0.998524   0.999151  0.999291     0.0  \n",
              "1           0.999859   1.000000  0.998926     1.0  \n",
              "2           1.000000   0.998926  0.999748     1.0  \n",
              "3           0.998214   0.999036  1.000000     0.0  \n",
              "4           0.999036   1.000000  0.999860     1.0  \n",
              "...              ...        ...       ...     ...  \n",
              "188571      0.994775   1.000000  0.998033     0.0  \n",
              "188572      1.000000   0.997930  0.997315     1.0  \n",
              "188573      0.997930   0.997315  0.999515     1.0  \n",
              "188574      0.989811   0.991995  1.000000     1.0  \n",
              "188575      0.989724   0.997311  1.000000     0.0  \n",
              "\n",
              "[188576 rows x 12 columns]"
            ],
            "text/html": [
              "\n",
              "  <div id=\"df-ea48c8aa-4a91-4271-a094-1b455b5dd3b3\">\n",
              "    <div class=\"colab-df-container\">\n",
              "      <div>\n",
              "<style scoped>\n",
              "    .dataframe tbody tr th:only-of-type {\n",
              "        vertical-align: middle;\n",
              "    }\n",
              "\n",
              "    .dataframe tbody tr th {\n",
              "        vertical-align: top;\n",
              "    }\n",
              "\n",
              "    .dataframe thead th {\n",
              "        text-align: right;\n",
              "    }\n",
              "</style>\n",
              "<table border=\"1\" class=\"dataframe\">\n",
              "  <thead>\n",
              "    <tr style=\"text-align: right;\">\n",
              "      <th></th>\n",
              "      <th>ten_days_ago</th>\n",
              "      <th>nine_days_ago</th>\n",
              "      <th>eight_days_ago</th>\n",
              "      <th>seven_days_ago</th>\n",
              "      <th>six_days_ago</th>\n",
              "      <th>five_days_ago</th>\n",
              "      <th>four_days_ago</th>\n",
              "      <th>three_days_ago</th>\n",
              "      <th>two_days_ago</th>\n",
              "      <th>yesterday</th>\n",
              "      <th>today</th>\n",
              "      <th>result</th>\n",
              "    </tr>\n",
              "  </thead>\n",
              "  <tbody>\n",
              "    <tr>\n",
              "      <th>0</th>\n",
              "      <td>1.000000</td>\n",
              "      <td>0.997996</td>\n",
              "      <td>0.996235</td>\n",
              "      <td>0.993588</td>\n",
              "      <td>0.995643</td>\n",
              "      <td>0.996397</td>\n",
              "      <td>0.998308</td>\n",
              "      <td>0.997241</td>\n",
              "      <td>0.998524</td>\n",
              "      <td>0.999151</td>\n",
              "      <td>0.999291</td>\n",
              "      <td>0.0</td>\n",
              "    </tr>\n",
              "    <tr>\n",
              "      <th>1</th>\n",
              "      <td>0.998703</td>\n",
              "      <td>0.996941</td>\n",
              "      <td>0.994292</td>\n",
              "      <td>0.996348</td>\n",
              "      <td>0.997103</td>\n",
              "      <td>0.999016</td>\n",
              "      <td>0.997948</td>\n",
              "      <td>0.999232</td>\n",
              "      <td>0.999859</td>\n",
              "      <td>1.000000</td>\n",
              "      <td>0.998926</td>\n",
              "      <td>1.0</td>\n",
              "    </tr>\n",
              "    <tr>\n",
              "      <th>2</th>\n",
              "      <td>0.996941</td>\n",
              "      <td>0.994292</td>\n",
              "      <td>0.996348</td>\n",
              "      <td>0.997103</td>\n",
              "      <td>0.999016</td>\n",
              "      <td>0.997948</td>\n",
              "      <td>0.999232</td>\n",
              "      <td>0.999859</td>\n",
              "      <td>1.000000</td>\n",
              "      <td>0.998926</td>\n",
              "      <td>0.999748</td>\n",
              "      <td>1.0</td>\n",
              "    </tr>\n",
              "    <tr>\n",
              "      <th>3</th>\n",
              "      <td>0.993584</td>\n",
              "      <td>0.995639</td>\n",
              "      <td>0.996393</td>\n",
              "      <td>0.998304</td>\n",
              "      <td>0.997237</td>\n",
              "      <td>0.998520</td>\n",
              "      <td>0.999147</td>\n",
              "      <td>0.999288</td>\n",
              "      <td>0.998214</td>\n",
              "      <td>0.999036</td>\n",
              "      <td>1.000000</td>\n",
              "      <td>0.0</td>\n",
              "    </tr>\n",
              "    <tr>\n",
              "      <th>4</th>\n",
              "      <td>0.995639</td>\n",
              "      <td>0.996393</td>\n",
              "      <td>0.998304</td>\n",
              "      <td>0.997237</td>\n",
              "      <td>0.998520</td>\n",
              "      <td>0.999147</td>\n",
              "      <td>0.999288</td>\n",
              "      <td>0.998214</td>\n",
              "      <td>0.999036</td>\n",
              "      <td>1.000000</td>\n",
              "      <td>0.999860</td>\n",
              "      <td>1.0</td>\n",
              "    </tr>\n",
              "    <tr>\n",
              "      <th>...</th>\n",
              "      <td>...</td>\n",
              "      <td>...</td>\n",
              "      <td>...</td>\n",
              "      <td>...</td>\n",
              "      <td>...</td>\n",
              "      <td>...</td>\n",
              "      <td>...</td>\n",
              "      <td>...</td>\n",
              "      <td>...</td>\n",
              "      <td>...</td>\n",
              "      <td>...</td>\n",
              "      <td>...</td>\n",
              "    </tr>\n",
              "    <tr>\n",
              "      <th>188571</th>\n",
              "      <td>0.994076</td>\n",
              "      <td>0.992466</td>\n",
              "      <td>0.993121</td>\n",
              "      <td>0.992474</td>\n",
              "      <td>0.989642</td>\n",
              "      <td>0.991769</td>\n",
              "      <td>0.992144</td>\n",
              "      <td>0.992436</td>\n",
              "      <td>0.994775</td>\n",
              "      <td>1.000000</td>\n",
              "      <td>0.998033</td>\n",
              "      <td>0.0</td>\n",
              "    </tr>\n",
              "    <tr>\n",
              "      <th>188572</th>\n",
              "      <td>0.992069</td>\n",
              "      <td>0.992759</td>\n",
              "      <td>0.992078</td>\n",
              "      <td>0.989097</td>\n",
              "      <td>0.991336</td>\n",
              "      <td>0.991731</td>\n",
              "      <td>0.992038</td>\n",
              "      <td>0.994500</td>\n",
              "      <td>1.000000</td>\n",
              "      <td>0.997930</td>\n",
              "      <td>0.997315</td>\n",
              "      <td>1.0</td>\n",
              "    </tr>\n",
              "    <tr>\n",
              "      <th>188573</th>\n",
              "      <td>0.992759</td>\n",
              "      <td>0.992078</td>\n",
              "      <td>0.989097</td>\n",
              "      <td>0.991336</td>\n",
              "      <td>0.991731</td>\n",
              "      <td>0.992038</td>\n",
              "      <td>0.994500</td>\n",
              "      <td>1.000000</td>\n",
              "      <td>0.997930</td>\n",
              "      <td>0.997315</td>\n",
              "      <td>0.999515</td>\n",
              "      <td>1.0</td>\n",
              "    </tr>\n",
              "    <tr>\n",
              "      <th>188574</th>\n",
              "      <td>0.984613</td>\n",
              "      <td>0.981655</td>\n",
              "      <td>0.983877</td>\n",
              "      <td>0.984269</td>\n",
              "      <td>0.984574</td>\n",
              "      <td>0.987017</td>\n",
              "      <td>0.992476</td>\n",
              "      <td>0.990421</td>\n",
              "      <td>0.989811</td>\n",
              "      <td>0.991995</td>\n",
              "      <td>1.000000</td>\n",
              "      <td>1.0</td>\n",
              "    </tr>\n",
              "    <tr>\n",
              "      <th>188575</th>\n",
              "      <td>0.979923</td>\n",
              "      <td>0.982029</td>\n",
              "      <td>0.982401</td>\n",
              "      <td>0.982690</td>\n",
              "      <td>0.985006</td>\n",
              "      <td>0.990179</td>\n",
              "      <td>0.988232</td>\n",
              "      <td>0.987653</td>\n",
              "      <td>0.989724</td>\n",
              "      <td>0.997311</td>\n",
              "      <td>1.000000</td>\n",
              "      <td>0.0</td>\n",
              "    </tr>\n",
              "  </tbody>\n",
              "</table>\n",
              "<p>188576 rows × 12 columns</p>\n",
              "</div>\n",
              "      <button class=\"colab-df-convert\" onclick=\"convertToInteractive('df-ea48c8aa-4a91-4271-a094-1b455b5dd3b3')\"\n",
              "              title=\"Convert this dataframe to an interactive table.\"\n",
              "              style=\"display:none;\">\n",
              "        \n",
              "  <svg xmlns=\"http://www.w3.org/2000/svg\" height=\"24px\"viewBox=\"0 0 24 24\"\n",
              "       width=\"24px\">\n",
              "    <path d=\"M0 0h24v24H0V0z\" fill=\"none\"/>\n",
              "    <path d=\"M18.56 5.44l.94 2.06.94-2.06 2.06-.94-2.06-.94-.94-2.06-.94 2.06-2.06.94zm-11 1L8.5 8.5l.94-2.06 2.06-.94-2.06-.94L8.5 2.5l-.94 2.06-2.06.94zm10 10l.94 2.06.94-2.06 2.06-.94-2.06-.94-.94-2.06-.94 2.06-2.06.94z\"/><path d=\"M17.41 7.96l-1.37-1.37c-.4-.4-.92-.59-1.43-.59-.52 0-1.04.2-1.43.59L10.3 9.45l-7.72 7.72c-.78.78-.78 2.05 0 2.83L4 21.41c.39.39.9.59 1.41.59.51 0 1.02-.2 1.41-.59l7.78-7.78 2.81-2.81c.8-.78.8-2.07 0-2.86zM5.41 20L4 18.59l7.72-7.72 1.47 1.35L5.41 20z\"/>\n",
              "  </svg>\n",
              "      </button>\n",
              "      \n",
              "  <style>\n",
              "    .colab-df-container {\n",
              "      display:flex;\n",
              "      flex-wrap:wrap;\n",
              "      gap: 12px;\n",
              "    }\n",
              "\n",
              "    .colab-df-convert {\n",
              "      background-color: #E8F0FE;\n",
              "      border: none;\n",
              "      border-radius: 50%;\n",
              "      cursor: pointer;\n",
              "      display: none;\n",
              "      fill: #1967D2;\n",
              "      height: 32px;\n",
              "      padding: 0 0 0 0;\n",
              "      width: 32px;\n",
              "    }\n",
              "\n",
              "    .colab-df-convert:hover {\n",
              "      background-color: #E2EBFA;\n",
              "      box-shadow: 0px 1px 2px rgba(60, 64, 67, 0.3), 0px 1px 3px 1px rgba(60, 64, 67, 0.15);\n",
              "      fill: #174EA6;\n",
              "    }\n",
              "\n",
              "    [theme=dark] .colab-df-convert {\n",
              "      background-color: #3B4455;\n",
              "      fill: #D2E3FC;\n",
              "    }\n",
              "\n",
              "    [theme=dark] .colab-df-convert:hover {\n",
              "      background-color: #434B5C;\n",
              "      box-shadow: 0px 1px 3px 1px rgba(0, 0, 0, 0.15);\n",
              "      filter: drop-shadow(0px 1px 2px rgba(0, 0, 0, 0.3));\n",
              "      fill: #FFFFFF;\n",
              "    }\n",
              "  </style>\n",
              "\n",
              "      <script>\n",
              "        const buttonEl =\n",
              "          document.querySelector('#df-ea48c8aa-4a91-4271-a094-1b455b5dd3b3 button.colab-df-convert');\n",
              "        buttonEl.style.display =\n",
              "          google.colab.kernel.accessAllowed ? 'block' : 'none';\n",
              "\n",
              "        async function convertToInteractive(key) {\n",
              "          const element = document.querySelector('#df-ea48c8aa-4a91-4271-a094-1b455b5dd3b3');\n",
              "          const dataTable =\n",
              "            await google.colab.kernel.invokeFunction('convertToInteractive',\n",
              "                                                     [key], {});\n",
              "          if (!dataTable) return;\n",
              "\n",
              "          const docLinkHtml = 'Like what you see? Visit the ' +\n",
              "            '<a target=\"_blank\" href=https://colab.research.google.com/notebooks/data_table.ipynb>data table notebook</a>'\n",
              "            + ' to learn more about interactive tables.';\n",
              "          element.innerHTML = '';\n",
              "          dataTable['output_type'] = 'display_data';\n",
              "          await google.colab.output.renderOutput(dataTable, element);\n",
              "          const docLink = document.createElement('div');\n",
              "          docLink.innerHTML = docLinkHtml;\n",
              "          element.appendChild(docLink);\n",
              "        }\n",
              "      </script>\n",
              "    </div>\n",
              "  </div>\n",
              "  "
            ]
          },
          "metadata": {},
          "execution_count": 11
        }
      ]
    },
    {
      "cell_type": "code",
      "source": [
        "data = data.dropna()"
      ],
      "metadata": {
        "id": "46M8IzrdKgf8"
      },
      "execution_count": 12,
      "outputs": []
    },
    {
      "cell_type": "code",
      "source": [
        "X = data.drop(\"result\",axis=1)\n",
        "xTrain, xTest, yTrain, yTest = train_test_split(X, data[\"result\"], test_size=0.1,random_state=11)\n",
        "\n",
        "print(xTrain.shape)\n",
        "print(yTrain.shape)\n",
        "\n",
        "print(xTest.shape)\n",
        "print(yTest.shape)\n"
      ],
      "metadata": {
        "colab": {
          "base_uri": "https://localhost:8080/"
        },
        "id": "S1J0OHRSzeW8",
        "outputId": "d69c1a82-b172-458d-e5a3-d5e02aa783a3"
      },
      "execution_count": 13,
      "outputs": [
        {
          "output_type": "stream",
          "name": "stdout",
          "text": [
            "(169718, 11)\n",
            "(169718,)\n",
            "(18858, 11)\n",
            "(18858,)\n"
          ]
        }
      ]
    },
    {
      "cell_type": "code",
      "source": [
        "clf = RandomForestClassifier(n_estimators=100)\n",
        "clf.fit(xTrain,yTrain)\n",
        "clf.score(xTest,yTest)"
      ],
      "metadata": {
        "colab": {
          "base_uri": "https://localhost:8080/"
        },
        "id": "JgRefOUSp70m",
        "outputId": "c4199806-c933-4ec3-96bb-1ae762183266"
      },
      "execution_count": 131,
      "outputs": [
        {
          "output_type": "execute_result",
          "data": {
            "text/plain": [
              "0.6784255477163015"
            ]
          },
          "metadata": {},
          "execution_count": 131
        }
      ]
    },
    {
      "cell_type": "code",
      "source": [
        "logisticRegr = LogisticRegression()\n",
        "logisticRegr.fit(xTrain, yTrain)\n",
        "logisticRegr.score(xTest, yTest)"
      ],
      "metadata": {
        "colab": {
          "base_uri": "https://localhost:8080/"
        },
        "id": "0xE04oaprnAX",
        "outputId": "80fb8bae-2557-4496-9006-9360632214c2"
      },
      "execution_count": 132,
      "outputs": [
        {
          "output_type": "execute_result",
          "data": {
            "text/plain": [
              "0.6687178399023924"
            ]
          },
          "metadata": {},
          "execution_count": 132
        }
      ]
    },
    {
      "cell_type": "code",
      "source": [
        "svm = SVC()\n",
        "svm.fit(xTrain,yTrain)\n",
        "svm.score(xTest,yTest)"
      ],
      "metadata": {
        "id": "D2pfGHIbPlOk"
      },
      "execution_count": null,
      "outputs": []
    },
    {
      "cell_type": "code",
      "source": [
        "from sklearn.neighbors import NearestCentroid\n",
        "nc = NearestCentroid()\n",
        "nc.fit(xTrain,yTrain)\n",
        "nc.score(xTest,yTest)"
      ],
      "metadata": {
        "id": "BVtW0X40PHx3"
      },
      "execution_count": null,
      "outputs": []
    },
    {
      "cell_type": "code",
      "source": [
        "from sklearn.naive_bayes import GaussianNB\n",
        "gnb = GaussianNB()\n",
        "gnb.fit(xTrain, yTrain).score(xTest,yTest)"
      ],
      "metadata": {
        "id": "qwExbeX5ReEj"
      },
      "execution_count": null,
      "outputs": []
    },
    {
      "cell_type": "code",
      "source": [
        "from sklearn import tree\n",
        "tree = tree.DecisionTreeClassifier()\n",
        "tree.fit(xTrain, yTrain)\n",
        "tree.score(xTest,yTest)"
      ],
      "metadata": {
        "id": "J7dQTjK7Rwf9"
      },
      "execution_count": null,
      "outputs": []
    },
    {
      "cell_type": "code",
      "source": [
        "from sklearn.ensemble import GradientBoostingClassifier\n",
        "gb = GradientBoostingClassifier(n_estimators=100, learning_rate=1.0,\n",
        "   max_depth=1, random_state=0).fit(xTrain, yTrain)\n",
        "gb.score(xTest, yTest)"
      ],
      "metadata": {
        "id": "iF9-IqlqSMAB"
      },
      "execution_count": null,
      "outputs": []
    },
    {
      "cell_type": "code",
      "source": [
        "from sklearn.neighbors import KNeighborsClassifier\n",
        "clf2 = KNeighborsClassifier(n_neighbors=7)\n",
        "clf2.fit(xTrain, yTrain)\n",
        "clf2.score(xTest,yTest)"
      ],
      "metadata": {
        "id": "5IMIL4Z5SsyU"
      },
      "execution_count": null,
      "outputs": []
    },
    {
      "cell_type": "code",
      "source": [
        "model = Sequential()\n",
        "model.add(Dense(64, activation='relu', kernel_initializer='he_normal', input_shape=(11,)))\n",
        "model.add(Dropout(0.2))\n",
        "model.add(Dense(64, activation='relu', kernel_initializer='he_normal', input_shape=(11,)))\n",
        "model.add(Dropout(0.2))\n",
        "model.add(Dense(32, activation='relu', kernel_initializer='he_normal', input_shape=(11,)))\n",
        "model.add(Dropout(0.2))\n",
        "model.add(Dense(1, activation='sigmoid'))\n",
        "\n",
        "model.compile(optimizer='adam', loss='binary_crossentropy',metrics=['accuracy'])\n",
        "\n",
        "model.summary()"
      ],
      "metadata": {
        "colab": {
          "base_uri": "https://localhost:8080/"
        },
        "id": "1rI1oRc9VRwO",
        "outputId": "488605f7-cb4a-49c6-b4af-9bf718ec0bcb"
      },
      "execution_count": 14,
      "outputs": [
        {
          "output_type": "stream",
          "name": "stdout",
          "text": [
            "Model: \"sequential\"\n",
            "_________________________________________________________________\n",
            " Layer (type)                Output Shape              Param #   \n",
            "=================================================================\n",
            " dense (Dense)               (None, 64)                768       \n",
            "                                                                 \n",
            " dropout (Dropout)           (None, 64)                0         \n",
            "                                                                 \n",
            " dense_1 (Dense)             (None, 64)                4160      \n",
            "                                                                 \n",
            " dropout_1 (Dropout)         (None, 64)                0         \n",
            "                                                                 \n",
            " dense_2 (Dense)             (None, 32)                2080      \n",
            "                                                                 \n",
            " dropout_2 (Dropout)         (None, 32)                0         \n",
            "                                                                 \n",
            " dense_3 (Dense)             (None, 1)                 33        \n",
            "                                                                 \n",
            "=================================================================\n",
            "Total params: 7,041\n",
            "Trainable params: 7,041\n",
            "Non-trainable params: 0\n",
            "_________________________________________________________________\n"
          ]
        }
      ]
    },
    {
      "cell_type": "code",
      "source": [
        "model.fit(xTrain,yTrain,epochs=15,batch_size=32,validation_data=(xTest,yTest))"
      ],
      "metadata": {
        "colab": {
          "base_uri": "https://localhost:8080/"
        },
        "id": "9h7BV3HrVags",
        "outputId": "1b0fa881-326b-4be7-d8f8-ab8f700c7055"
      },
      "execution_count": 15,
      "outputs": [
        {
          "output_type": "stream",
          "name": "stdout",
          "text": [
            "Epoch 1/15\n",
            "5304/5304 [==============================] - 15s 3ms/step - loss: 0.5710 - accuracy: 0.6542 - val_loss: 0.5673 - val_accuracy: 0.6588\n",
            "Epoch 2/15\n",
            "5304/5304 [==============================] - 13s 2ms/step - loss: 0.5657 - accuracy: 0.6579 - val_loss: 0.5664 - val_accuracy: 0.6589\n",
            "Epoch 3/15\n",
            "5304/5304 [==============================] - 14s 3ms/step - loss: 0.5653 - accuracy: 0.6582 - val_loss: 0.5665 - val_accuracy: 0.6588\n",
            "Epoch 4/15\n",
            "5304/5304 [==============================] - 13s 3ms/step - loss: 0.5653 - accuracy: 0.6581 - val_loss: 0.5661 - val_accuracy: 0.6594\n",
            "Epoch 5/15\n",
            "5304/5304 [==============================] - 13s 3ms/step - loss: 0.5646 - accuracy: 0.6589 - val_loss: 0.5642 - val_accuracy: 0.6619\n",
            "Epoch 6/15\n",
            "5304/5304 [==============================] - 14s 3ms/step - loss: 0.5630 - accuracy: 0.6611 - val_loss: 0.5640 - val_accuracy: 0.6622\n",
            "Epoch 7/15\n",
            "5304/5304 [==============================] - 13s 2ms/step - loss: 0.5629 - accuracy: 0.6611 - val_loss: 0.5647 - val_accuracy: 0.6611\n",
            "Epoch 8/15\n",
            "5304/5304 [==============================] - 13s 2ms/step - loss: 0.5630 - accuracy: 0.6609 - val_loss: 0.5651 - val_accuracy: 0.6605\n",
            "Epoch 9/15\n",
            "5304/5304 [==============================] - 14s 3ms/step - loss: 0.5627 - accuracy: 0.6614 - val_loss: 0.5646 - val_accuracy: 0.6612\n",
            "Epoch 10/15\n",
            "5304/5304 [==============================] - 14s 3ms/step - loss: 0.5637 - accuracy: 0.6600 - val_loss: 0.5647 - val_accuracy: 0.6610\n",
            "Epoch 11/15\n",
            "5304/5304 [==============================] - 13s 3ms/step - loss: 0.5627 - accuracy: 0.6615 - val_loss: 0.5626 - val_accuracy: 0.6634\n",
            "Epoch 12/15\n",
            "5304/5304 [==============================] - 13s 3ms/step - loss: 0.5626 - accuracy: 0.6618 - val_loss: 0.5622 - val_accuracy: 0.6645\n",
            "Epoch 13/15\n",
            "5304/5304 [==============================] - 13s 2ms/step - loss: 0.5625 - accuracy: 0.6617 - val_loss: 0.5637 - val_accuracy: 0.6622\n",
            "Epoch 14/15\n",
            "5304/5304 [==============================] - 15s 3ms/step - loss: 0.5620 - accuracy: 0.6623 - val_loss: 0.5643 - val_accuracy: 0.6614\n",
            "Epoch 15/15\n",
            "5304/5304 [==============================] - 14s 3ms/step - loss: 0.5625 - accuracy: 0.6620 - val_loss: 0.5621 - val_accuracy: 0.6646\n"
          ]
        },
        {
          "output_type": "execute_result",
          "data": {
            "text/plain": [
              "<keras.callbacks.History at 0x7f8414e14b50>"
            ]
          },
          "metadata": {},
          "execution_count": 15
        }
      ]
    }
  ],
  "metadata": {
    "colab": {
      "name": "Serveral_Symbol_Model.ipynb",
      "provenance": []
    },
    "kernelspec": {
      "display_name": "Python 3",
      "name": "python3"
    },
    "language_info": {
      "name": "python"
    }
  },
  "nbformat": 4,
  "nbformat_minor": 0
}