{
  "cells": [
    {
      "cell_type": "code",
      "execution_count": null,
      "metadata": {
        "id": "_5bxbCoe9do9",
        "colab": {
          "base_uri": "https://localhost:8080/"
        },
        "outputId": "400a3c04-0f14-4246-a06c-8cc00eb9e2cb"
      },
      "outputs": [
        {
          "output_type": "stream",
          "name": "stdout",
          "text": [
            "Requirement already satisfied: yfinance in /usr/local/lib/python3.7/dist-packages (0.1.70)\n",
            "Requirement already satisfied: multitasking>=0.0.7 in /usr/local/lib/python3.7/dist-packages (from yfinance) (0.0.10)\n",
            "Requirement already satisfied: pandas>=0.24.0 in /usr/local/lib/python3.7/dist-packages (from yfinance) (1.3.5)\n",
            "Requirement already satisfied: requests>=2.26 in /usr/local/lib/python3.7/dist-packages (from yfinance) (2.27.1)\n",
            "Requirement already satisfied: numpy>=1.15 in /usr/local/lib/python3.7/dist-packages (from yfinance) (1.21.6)\n",
            "Requirement already satisfied: lxml>=4.5.1 in /usr/local/lib/python3.7/dist-packages (from yfinance) (4.8.0)\n",
            "Requirement already satisfied: python-dateutil>=2.7.3 in /usr/local/lib/python3.7/dist-packages (from pandas>=0.24.0->yfinance) (2.8.2)\n",
            "Requirement already satisfied: pytz>=2017.3 in /usr/local/lib/python3.7/dist-packages (from pandas>=0.24.0->yfinance) (2022.1)\n",
            "Requirement already satisfied: six>=1.5 in /usr/local/lib/python3.7/dist-packages (from python-dateutil>=2.7.3->pandas>=0.24.0->yfinance) (1.15.0)\n",
            "Requirement already satisfied: certifi>=2017.4.17 in /usr/local/lib/python3.7/dist-packages (from requests>=2.26->yfinance) (2021.10.8)\n",
            "Requirement already satisfied: charset-normalizer~=2.0.0 in /usr/local/lib/python3.7/dist-packages (from requests>=2.26->yfinance) (2.0.12)\n",
            "Requirement already satisfied: idna<4,>=2.5 in /usr/local/lib/python3.7/dist-packages (from requests>=2.26->yfinance) (2.10)\n",
            "Requirement already satisfied: urllib3<1.27,>=1.21.1 in /usr/local/lib/python3.7/dist-packages (from requests>=2.26->yfinance) (1.24.3)\n",
            "Requirement already satisfied: yahooquery in /usr/local/lib/python3.7/dist-packages (2.2.15)\n",
            "Requirement already satisfied: requests-futures>=1.0.0 in /usr/local/lib/python3.7/dist-packages (from yahooquery) (1.0.0)\n",
            "Requirement already satisfied: lxml>=4.6.2 in /usr/local/lib/python3.7/dist-packages (from yahooquery) (4.8.0)\n",
            "Requirement already satisfied: pandas>=0.24.0 in /usr/local/lib/python3.7/dist-packages (from yahooquery) (1.3.5)\n",
            "Requirement already satisfied: tqdm>=4.54.1 in /usr/local/lib/python3.7/dist-packages (from yahooquery) (4.64.0)\n",
            "Requirement already satisfied: pytz>=2017.3 in /usr/local/lib/python3.7/dist-packages (from pandas>=0.24.0->yahooquery) (2022.1)\n",
            "Requirement already satisfied: python-dateutil>=2.7.3 in /usr/local/lib/python3.7/dist-packages (from pandas>=0.24.0->yahooquery) (2.8.2)\n",
            "Requirement already satisfied: numpy>=1.17.3 in /usr/local/lib/python3.7/dist-packages (from pandas>=0.24.0->yahooquery) (1.21.6)\n",
            "Requirement already satisfied: six>=1.5 in /usr/local/lib/python3.7/dist-packages (from python-dateutil>=2.7.3->pandas>=0.24.0->yahooquery) (1.15.0)\n",
            "Requirement already satisfied: requests>=1.2.0 in /usr/local/lib/python3.7/dist-packages (from requests-futures>=1.0.0->yahooquery) (2.27.1)\n",
            "Requirement already satisfied: charset-normalizer~=2.0.0 in /usr/local/lib/python3.7/dist-packages (from requests>=1.2.0->requests-futures>=1.0.0->yahooquery) (2.0.12)\n",
            "Requirement already satisfied: urllib3<1.27,>=1.21.1 in /usr/local/lib/python3.7/dist-packages (from requests>=1.2.0->requests-futures>=1.0.0->yahooquery) (1.24.3)\n",
            "Requirement already satisfied: idna<4,>=2.5 in /usr/local/lib/python3.7/dist-packages (from requests>=1.2.0->requests-futures>=1.0.0->yahooquery) (2.10)\n",
            "Requirement already satisfied: certifi>=2017.4.17 in /usr/local/lib/python3.7/dist-packages (from requests>=1.2.0->requests-futures>=1.0.0->yahooquery) (2021.10.8)\n"
          ]
        }
      ],
      "source": [
        "!pip install yfinance\n",
        "!pip install yahooquery\n",
        "from yahooquery import Screener\n",
        "import yfinance as yf   \n",
        "import pandas as pd\n",
        "import numpy as np\n",
        "from tensorflow.keras import Sequential\n",
        "from tensorflow.keras.layers import Dense\n",
        "from sklearn.model_selection import train_test_split\n",
        "from sklearn.preprocessing import MinMaxScaler\n",
        "import tensorflow as tf\n",
        "import random "
      ]
    },
    {
      "cell_type": "code",
      "execution_count": null,
      "metadata": {
        "id": "IB_YMoe09qVP"
      },
      "outputs": [],
      "source": [
        "clmns = [\n",
        "    \"Open 12-11\",\"Open 11-10\",\"Open 10-9\",\"Open 9-8\",\"Open 8-7\",\"Open 7-6\",\"Open 6-5\",\"Open 5-4\",\"Open 4-3\",\"Open 3-2\",\"Open 2-1\",\n",
        "    \"Close 12-11\",\"Close 11-10\",\"Close 10-9\",\"Close 9-8\",\"Close 8-7\",\"Close 7-6\",\"Close 6-5\",\"Close 5-4\",\"Close 4-3\",\"Close 3-2\",\"Close 2-1\",\n",
        "    \"High 12-11\",\"High 11-10\",\"High 10-9\",\"High 9-8\",\"High 8-7\",\"High 7-6\",\"High 6-5\",\"High 5-4\",\"High 4-3\",\"High 3-2\",\"High 2-1\",\n",
        "    \"Low 12-11\",\"Low 11-10\",\"Low 10-9\",\"Low 9-8\",\"Low 8-7\",\"Low 7-6\",\"Low 6-5\",\"Low 5-4\",\"Low 4-3\",\"Low 3-2\",\"Low 2-1\",\n",
        "    \"AdjV 12-11\",\"AdjV 11-10\",\"AdjV 10-9\",\"AdjV 9-8\",\"AdjV 8-7\",\"AdjV 7-6\",\"AdjV 6-5\",\"AdjV 5-4\",\"AdjV 4-3\",\"AdjV 3-2\",\"AdjV 2-1\",\n",
        "    \"Volume 12-11\",\"Volume 11-10\",\"Volume 10-9\",\"Volume 9-8\",\"Volume 8-7\",\"Volume 7-6\",\"Volume 6-5\",\"Volume 5-4\",\"Volume 4-3\",\"Volume 3-2\",\"Volume 2-1\",\n",
        "    \"suggestion\"\n",
        "]\n",
        "\n",
        "def read_syms_from_txt():\n",
        "  with open(\"syms.txt\", \"r\") as f:\n",
        "    lines = f.readlines()\n",
        "    f.close()\n",
        "  lst = []\n",
        "  for line in lines:\n",
        "    line = line.strip()\n",
        "    lst.append(line)\n",
        "  symbols = lst\n",
        "  return symbols\n",
        "\n",
        "\n",
        "def get_crypto_syms():\n",
        "   # 'all_cryptocurrencies_au','all_cryptocurrencies_ca','all_cryptocurrencies_eu','all_cryptocurrencies_gb','all_cryptocurrencies_in',\n",
        "   screens = [\n",
        "       'all_cryptocurrencies_us', 'all_cryptocurrencies_au', 'all_cryptocurrencies_ca', 'all_cryptocurrencies_eu', 'all_cryptocurrencies_gb', 'all_cryptocurrencies_in', ]\n",
        "   s = Screener()\n",
        "   symbols = []\n",
        "   for i in screens:\n",
        "      data = s.get_screeners(i, count=250)\n",
        "      dicts = data[i]['quotes']\n",
        "      syms = [d['symbol'] for d in dicts]\n",
        "      for sym in syms:\n",
        "        symbols.append(sym)\n",
        "   # print(len(symbols))\n",
        "   # pieces = 15\n",
        "   # new_arrays = np.array_split(symbols, pieces)\n",
        "   return symbols\n",
        "\n",
        "\n",
        "def spliting(data):\n",
        "  X = data.drop([\"suggestion\"], axis=1)\n",
        "  y = data[\"suggestion\"]\n",
        "  xTrain, xTest, yTrain, yTest = train_test_split(X, y, test_size=0.1)\n",
        "  print(xTrain.shape, end=\" \")\n",
        "  print(yTrain.shape)\n",
        "  print(xTest.shape, end=\" \")\n",
        "  print(yTest.shape)\n",
        "  return xTrain, xTest, yTrain, yTest\n",
        "\n",
        "\n",
        "def scaler(row):\n",
        "    scaler = MinMaxScaler(feature_range=(-10, 10))\n",
        "    row = scaler.fit_transform(row)\n",
        "    return row\n",
        "\n",
        "\n",
        "def process(data):\n",
        "    data = data.dropna()\n",
        "    row = []\n",
        "    data = np.array(data)\n",
        "    llst = [0, 1, 2, 3, 4, 5]\n",
        "\n",
        "    for i in range(12, data.shape[0]):\n",
        "        grow = []\n",
        "        srow = []\n",
        "\n",
        "        for j in llst:\n",
        "\n",
        "           srow.append([\n",
        "               data[i-1][j] - data[i-2][j],\n",
        "               data[i-2][j] - data[i-3][j],\n",
        "               data[i-3][j] - data[i-4][j],\n",
        "               data[i-4][j] - data[i-5][j],\n",
        "               data[i-5][j] - data[i-6][j],\n",
        "               data[i-6][j] - data[i-7][j],\n",
        "               data[i-7][j] - data[i-8][j],\n",
        "               data[i-8][j] - data[i-9][j],\n",
        "               data[i-9][j] - data[i-10][j],\n",
        "               data[i-10][j] - data[i-11][j],\n",
        "               data[i-11][j] - data[i-12][j]\n",
        "           ])\n",
        "\n",
        "        for lst in srow:\n",
        "            mm = np.array(lst)\n",
        "            mm = np.reshape(mm, (-1, 1))\n",
        "            grow.append(scaler(mm))\n",
        "\n",
        "        sugg = 0\n",
        "        if data[i][3] > data[i][0]:\n",
        "            sugg = 1\n",
        "\n",
        "        arr = np.array(grow).flatten()\n",
        "        arr = np.append(arr, sugg)\n",
        "        row.append(arr)\n",
        "\n",
        "\n",
        "    grow = []\n",
        "    srow = []\n",
        "    llst = []\n",
        "    data = []\n",
        "    arr = []\n",
        "    mm = []\n",
        "\n",
        "    return np.array(row)"
      ]
    },
    {
      "cell_type": "code",
      "execution_count": null,
      "metadata": {
        "id": "hIAuU_ILbU27"
      },
      "outputs": [],
      "source": [
        "def get_data(symbols):\n",
        "    unattached_dfs = []\n",
        "    for symbol in symbols:\n",
        "         data = yf.download(symbol, period=\"730d\",\n",
        "                            interval=\"1h\", progress=False)\n",
        "         if data.empty:\n",
        "              pass\n",
        "         else:\n",
        "               if data.shape[0] > 12:\n",
        "                   unattached_dfs.append(\n",
        "                       process(data))\n",
        "\n",
        "    data = np.array(unattached_dfs[0])\n",
        "    for i in unattached_dfs[1:]:\n",
        "        data = np.append(data, np.array(i), axis=0)\n",
        "        \n",
        "    symbol = []\n",
        "\n",
        "    data = pd.DataFrame(data, columns=clmns)\n",
        "    data = data.astype(float)\n",
        "    data = data.astype({'suggestion': 'int'})\n",
        "\n",
        "    # xTrain, xTest, yTrain, yTest = spliting(data)\n",
        "    print(data.shape)\n",
        "    data.to_csv(f\"{random.randint(1,10000)}.csv\")\n",
        "    # return xTrain, xTest, yTrain, yTest,data\n",
        "\n",
        "\n",
        "# symbols = [\"MSFT\",\"AAPL\",\"GOOG\",\"TSLA\",\"AMZN\"]\n",
        "# symbols = [\"BTC-USD\",\"LTC-USD\",\"TRX-USD\",\"XRP-USD\",\"ETH-USD\",\"BNB-USD\",\"DASH-USD\",\"VET-USD\",\"LINK-USD\",\"ADA-USD\",\"DOT-USD\",\"SOL-USD\",\"BCH-USD\",\"FTT-USD\",\"FIL-USD\",\"XMR-USD\"]\n",
        "\n",
        "# symbols = read_syms_from_txt()\n",
        "symbols = get_crypto_syms()\n",
        "\n",
        "pieces = 15\n",
        "new_arrays = np.array_split(symbols, pieces)\n",
        "for symbols in new_arrays[7:]:\n",
        "    get_data(symbols)\n",
        "\n",
        "# xTrain, xTest, yTrain, yTest,data= get_data(symbols)\n",
        "# data "
      ]
    },
    {
      "cell_type": "code",
      "source": [
        ""
      ],
      "metadata": {
        "id": "hDg3bsq4oIhG"
      },
      "execution_count": null,
      "outputs": []
    },
    {
      "cell_type": "code",
      "source": [
        "data = []\n",
        "data = pd.concat([pd.read_parquet(\"/content/drive/MyDrive/lol1.parquet\"),pd.read_parquet(\"/content/drive/MyDrive/lol1.parquet\")])\n",
        "data.drop(\"Unnamed: 0\",axis=1,inplace=True)\n",
        "xTrain, xTest, yTrain, yTest= spliting(data)\n",
        "data = []"
      ],
      "metadata": {
        "colab": {
          "base_uri": "https://localhost:8080/"
        },
        "id": "BEQDqOBYpI_0",
        "outputId": "d874754d-48b2-4c5f-a8e0-f3dda827a41d"
      },
      "execution_count": null,
      "outputs": [
        {
          "output_type": "stream",
          "name": "stdout",
          "text": [
            "(5741836, 66) (5741836,)\n",
            "(637982, 66) (637982,)\n"
          ]
        }
      ]
    },
    {
      "cell_type": "code",
      "execution_count": null,
      "metadata": {
        "colab": {
          "base_uri": "https://localhost:8080/"
        },
        "id": "xN93WT9e8ueQ",
        "outputId": "aa51bb7e-f283-4b22-f5e7-c295d2562420"
      },
      "outputs": [
        {
          "output_type": "stream",
          "name": "stdout",
          "text": [
            "Model: \"sequential_1\"\n",
            "_________________________________________________________________\n",
            " Layer (type)                Output Shape              Param #   \n",
            "=================================================================\n",
            " dense_7 (Dense)             (None, 3000)              201000    \n",
            "                                                                 \n",
            " dense_8 (Dense)             (None, 2000)              6002000   \n",
            "                                                                 \n",
            " dense_9 (Dense)             (None, 1750)              3501750   \n",
            "                                                                 \n",
            " dense_10 (Dense)            (None, 1500)              2626500   \n",
            "                                                                 \n",
            " dense_11 (Dense)            (None, 1250)              1876250   \n",
            "                                                                 \n",
            " dense_12 (Dense)            (None, 1000)              1251000   \n",
            "                                                                 \n",
            " dense_13 (Dense)            (None, 1000)              1001000   \n",
            "                                                                 \n",
            " dense_14 (Dense)            (None, 1)                 1001      \n",
            "                                                                 \n",
            "=================================================================\n",
            "Total params: 16,460,501\n",
            "Trainable params: 16,460,501\n",
            "Non-trainable params: 0\n",
            "_________________________________________________________________\n"
          ]
        }
      ],
      "source": [
        "model = Sequential()\n",
        "\n",
        "\n",
        "\n",
        "model.add(Dense(3000, activation='relu', input_shape=(xTrain.shape[1],)))\n",
        "model.add(Dense(2000, activation='relu'))\n",
        "model.add(Dense(1750, activation='relu'))\n",
        "model.add(Dense(1500, activation='relu'))\n",
        "model.add(Dense(1250, activation='relu'))\n",
        "model.add(Dense(1000, activation='relu'))\n",
        "model.add(Dense(1000, activation='relu'))\n",
        "\n",
        "model.add(Dense(1, activation='sigmoid'))\n",
        "model.compile(optimizer=\"adam\", loss='binary_crossentropy',metrics=['accuracy'])\n",
        "model.summary()"
      ]
    },
    {
      "cell_type": "code",
      "execution_count": null,
      "metadata": {
        "colab": {
          "base_uri": "https://localhost:8080/"
        },
        "id": "_SBxPzRd89uy",
        "outputId": "6d711270-7360-4857-bc8a-1dba5fed302b"
      },
      "outputs": [
        {
          "output_type": "stream",
          "name": "stdout",
          "text": [
            "Epoch 1/35\n",
            "575/575 [==============================] - 286s 489ms/step - loss: 0.7119 - accuracy: 0.5301 - val_loss: 0.6863 - val_accuracy: 0.5445\n",
            "Epoch 2/35\n",
            "575/575 [==============================] - 282s 491ms/step - loss: 0.6806 - accuracy: 0.5571 - val_loss: 0.6748 - val_accuracy: 0.5665\n",
            "Epoch 3/35\n",
            "575/575 [==============================] - 282s 490ms/step - loss: 0.6673 - accuracy: 0.5779 - val_loss: 0.6633 - val_accuracy: 0.5826\n",
            "Epoch 4/35\n",
            "575/575 [==============================] - 282s 490ms/step - loss: 0.6529 - accuracy: 0.5950 - val_loss: 0.6518 - val_accuracy: 0.5949\n",
            "Epoch 5/35\n",
            "575/575 [==============================] - 283s 491ms/step - loss: 0.6353 - accuracy: 0.6140 - val_loss: 0.6341 - val_accuracy: 0.6141\n",
            "Epoch 6/35\n",
            "575/575 [==============================] - 283s 493ms/step - loss: 0.6124 - accuracy: 0.6379 - val_loss: 0.6154 - val_accuracy: 0.6344\n",
            "Epoch 7/35\n",
            "575/575 [==============================] - 283s 493ms/step - loss: 0.5813 - accuracy: 0.6689 - val_loss: 0.5910 - val_accuracy: 0.6614\n",
            "Epoch 8/35\n",
            "575/575 [==============================] - 284s 493ms/step - loss: 0.5383 - accuracy: 0.7076 - val_loss: 0.5634 - val_accuracy: 0.6905\n",
            "Epoch 9/35\n",
            "575/575 [==============================] - 284s 494ms/step - loss: 0.4824 - accuracy: 0.7516 - val_loss: 0.5261 - val_accuracy: 0.7257\n",
            "Epoch 10/35\n",
            "575/575 [==============================] - 284s 494ms/step - loss: 0.4182 - accuracy: 0.7956 - val_loss: 0.4862 - val_accuracy: 0.7593\n",
            "Epoch 11/35\n",
            "575/575 [==============================] - 284s 494ms/step - loss: 0.3545 - accuracy: 0.8348 - val_loss: 0.4446 - val_accuracy: 0.7924\n",
            "Epoch 12/35\n",
            "575/575 [==============================] - 284s 494ms/step - loss: 0.2965 - accuracy: 0.8676 - val_loss: 0.4123 - val_accuracy: 0.8198\n",
            "Epoch 13/35\n",
            "575/575 [==============================] - 284s 494ms/step - loss: 0.2475 - accuracy: 0.8933 - val_loss: 0.3727 - val_accuracy: 0.8443\n",
            "Epoch 14/35\n",
            "575/575 [==============================] - 284s 494ms/step - loss: 0.2079 - accuracy: 0.9130 - val_loss: 0.3411 - val_accuracy: 0.8639\n",
            "Epoch 15/35\n",
            "575/575 [==============================] - 283s 493ms/step - loss: 0.1772 - accuracy: 0.9276 - val_loss: 0.3223 - val_accuracy: 0.8786\n",
            "Epoch 16/35\n",
            "575/575 [==============================] - 278s 483ms/step - loss: 0.1531 - accuracy: 0.9386 - val_loss: 0.3022 - val_accuracy: 0.8925\n",
            "Epoch 17/35\n",
            "575/575 [==============================] - 278s 484ms/step - loss: 0.1340 - accuracy: 0.9472 - val_loss: 0.2845 - val_accuracy: 0.9014\n",
            "Epoch 18/35\n",
            "575/575 [==============================] - 277s 482ms/step - loss: 0.1199 - accuracy: 0.9534 - val_loss: 0.2740 - val_accuracy: 0.9094\n",
            "Epoch 19/35\n",
            "575/575 [==============================] - 277s 482ms/step - loss: 0.1087 - accuracy: 0.9583 - val_loss: 0.2762 - val_accuracy: 0.9140\n",
            "Epoch 20/35\n",
            "575/575 [==============================] - 278s 483ms/step - loss: 0.0996 - accuracy: 0.9621 - val_loss: 0.2615 - val_accuracy: 0.9196\n",
            "Epoch 21/35\n",
            " 78/575 [===>..........................] - ETA: 3:51 - loss: 0.0867 - accuracy: 0.9673"
          ]
        }
      ],
      "source": [
        "model.fit(xTrain,yTrain,epochs=35,batch_size=12345,validation_data=(xTest,yTest))"
      ]
    },
    {
      "cell_type": "code",
      "source": [
        "model.save(f\"{model.evaluate(xTest,yTest)}.h5\")"
      ],
      "metadata": {
        "id": "6RU0aQ__9Vc_"
      },
      "execution_count": null,
      "outputs": []
    },
    {
      "cell_type": "code",
      "source": [
        "model.save(\"fffirst_model.h5\")\n",
        "model.fit(xTrain,yTrain,epochs=10,batch_size=256,validation_data=(xTest,yTest))\n",
        "model.save(\"sssecond_model.h5\")"
      ],
      "metadata": {
        "id": "rQ4xY_KcSI1O"
      },
      "execution_count": null,
      "outputs": []
    },
    {
      "cell_type": "code",
      "execution_count": null,
      "metadata": {
        "colab": {
          "base_uri": "https://localhost:8080/"
        },
        "id": "YAKTl3fbHIE6",
        "outputId": "b53dba26-76eb-4330-88e1-c20f30f94cab"
      },
      "outputs": [
        {
          "output_type": "stream",
          "name": "stdout",
          "text": [
            "Mounted at /content/drive\n"
          ]
        }
      ],
      "source": [
        "from google.colab import drive\n",
        "drive.mount(\"/content/drive\")"
      ]
    }
  ],
  "metadata": {
    "colab": {
      "name": "Crypto_Hour_Trading.ipynb",
      "provenance": []
    },
    "kernelspec": {
      "display_name": "Python 3",
      "name": "python3"
    },
    "language_info": {
      "name": "python"
    },
    "accelerator": "GPU"
  },
  "nbformat": 4,
  "nbformat_minor": 0
}