{
  "cells": [
    {
      "cell_type": "code",
      "execution_count": null,
      "metadata": {
        "id": "_5bxbCoe9do9"
      },
      "outputs": [],
      "source": [
        "!pip install yfinance\n",
        "!pip install yahooquery\n",
        "!pip install tvdatafeed\n",
        "!pip install tensorflow\n",
        "from tvDatafeed import TvDatafeed, Interval\n",
        "from yahooquery import Screener\n",
        "import yfinance as yf   \n",
        "import pandas as pd\n",
        "import numpy as np\n",
        "from tensorflow.keras import Sequential\n",
        "from tensorflow.keras.layers import Dense\n",
        "from sklearn.model_selection import train_test_split\n",
        "from sklearn.preprocessing import MinMaxScaler\n",
        "import tensorflow as tf\n",
        "import random \n",
        "from tensorflow.keras.models import load_model\n",
        "import os\n",
        "import shutil\n",
        "from datetime import datetime\n",
        "import glob"
      ]
    },
    {
      "cell_type": "code",
      "execution_count": 12,
      "metadata": {
        "id": "IB_YMoe09qVP"
      },
      "outputs": [],
      "source": [
        "clmns = [\n",
        "  \"Open 1\", \"Open 2\", \"Open 3\", \"Open 4\", \"Open 5\", \"Open 6\", \"Open 7\", \"Open 8\", \"Open 9\", \"Open 10\", \"Open 11\", \"Open 12\", \"Open 13\", \"Open 14\", \"Open 15\", \"Open 16\", \"Open 17\", \"Open 18\", \"Open 19\", \"Open 20\", \"Open 21\", \"Open 22\", \"Open 23\", \"Open 24\", \"Open 25\", \"Open 26\", \"Open 27\", \"Open 28\", \"Open 29\", \"Open 30\", \n",
        "  \"High 1\", \"High 2\", \"High 3\", \"High 4\", \"High 5\", \"High 6\", \"High 7\", \"High 8\", \"High 9\", \"High 10\", \"High 11\", \"High 12\", \"High 13\", \"High 14\", \"High 15\", \"High 16\", \"High 17\", \"High 18\", \"High 19\", \"High 20\", \"High 21\", \"High 22\", \"High 23\", \"High 24\", \"High 25\", \"High 26\", \"High 27\", \"High 28\", \"High 29\", \"High 30\",\n",
        "  \"Low 1\", \"Low 2\", \"Low 3\", \"Low 4\", \"Low 5\", \"Low 6\", \"Low 7\", \"Low 8\", \"Low 9\", \"Low 10\", \"Low 11\", \"Low 12\", \"Low 13\", \"Low 14\", \"Low 15\", \"Low 16\", \"Low 17\", \"Low 18\", \"Low 19\", \"Low 20\", \"Low 21\", \"Low 22\", \"Low 23\", \"Low 24\", \"Low 25\", \"Low 26\", \"Low 27\", \"Low 28\", \"Low 29\", \"Low 30\",\n",
        "  \"Close 1\", \"Close 2\", \"Close 3\", \"Close 4\", \"Close 5\", \"Close 6\", \"Close 7\", \"Close 8\", \"Close 9\", \"Close 10\", \"Close 11\", \"Close 12\", \"Close 13\", \"Close 14\", \"Close 15\", \"Close 16\", \"Close 17\", \"Close 18\", \"Close 19\", \"Close 20\", \"Close 21\", \"Close 22\", \"Close 23\", \"Close 24\", \"Close 25\", \"Close 26\", \"Close 27\", \"Close 28\", \"Close 29\", \"Close 30\",\n",
        "  \"suggestion\"]\n",
        "def work_with_dir():\n",
        "  if os.path.exists(\"/content/data/\"):\n",
        "    shutil.rmtree(\"/content/data/\", ignore_errors=True)\n",
        "    print(\"Data Folder Removed\")\n",
        "    os.mkdir(\"/content/data/\")\n",
        "  if not os.path.exists(\"/content/data/\"):\n",
        "    os.mkdir(\"/content/data/\")\n",
        "  if not os.path.exists(\"/content/extracted/\"):\n",
        "    os.mkdir(\"/content/extracted/\")\n",
        "def get_crypto_syms():\n",
        "   # 'all_cryptocurrencies_au','all_cryptocurrencies_ca','all_cryptocurrencies_eu','all_cryptocurrencies_gb','all_cryptocurrencies_in',\n",
        "   screens = [\n",
        "       'all_cryptocurrencies_us', 'all_cryptocurrencies_au', 'all_cryptocurrencies_ca', 'all_cryptocurrencies_eu', 'all_cryptocurrencies_gb', 'all_cryptocurrencies_in', ]\n",
        "   s = Screener()\n",
        "   symbols = []\n",
        "   for i in screens:\n",
        "      data = s.get_screeners(i, count=250)\n",
        "      dicts = data[i]['quotes']\n",
        "      syms = [d['symbol'] for d in dicts]\n",
        "      for sym in syms:\n",
        "        symbols.append(sym)\n",
        "   # print(len(symbols))\n",
        "   # pieces = 15\n",
        "   # new_arrays = np.array_split(symbols, pieces)\n",
        "   return symbols\n",
        "def spliting(data):\n",
        "  X = data.drop([\"buy\",\"sell\"], axis=1)\n",
        "  y = data[[\"buy\",\"sell\"]]\n",
        "  xTrain, xTest, yTrain, yTest = train_test_split(X, y, test_size=0.1)\n",
        "  print(xTrain.shape, end=\" \")\n",
        "  print(yTrain.shape)\n",
        "  print(xTest.shape, end=\" \")\n",
        "  print(yTest.shape)\n",
        "  return xTrain, xTest, yTrain, yTest\n",
        "def scaler(row):\n",
        "    scaler = MinMaxScaler(feature_range=(-10,10))\n",
        "    row = scaler.fit_transform(row)\n",
        "    return row\n",
        "def process(data):\n",
        "    data = data.dropna()\n",
        "    row = []\n",
        "    if len(data.columns) == 7:\n",
        "      data = data.iloc[:, 1:]\n",
        "    data = np.array(data)\n",
        "    for i in range(31, data.shape[0]-1):\n",
        "        grow = []\n",
        "        ggrow = []\n",
        "        gggrow = []\n",
        "        ggggrow = []\n",
        "        for x in range(1, 31):\n",
        "            grow.append([data[i-x][0] - data[i-(x-1)][0]] )\n",
        "            ggrow.append([data[i-x][1] - data[i-(x-1)][1]] )\n",
        "            gggrow.append([data[i-x][2] - data[i-(x-1)][2]] )\n",
        "            ggggrow.append([data[i-x][3] - data[i-(x-1)][3]] )\n",
        "\n",
        "        sugg = \"sell\"\n",
        "        if data[i+1][0] > data[i][0]:\n",
        "            sugg = \"buy\"\n",
        "        arr = np.array(grow).flatten()\n",
        "        arr2 = np.array(ggrow).flatten()\n",
        "        arr3 = np.array(gggrow).flatten()\n",
        "        arr4 = np.array(ggggrow).flatten()\n",
        "\n",
        "        arr = scaler(arr.reshape(-1, 1))\n",
        "        arr2 = scaler(arr2.reshape(-1, 1))\n",
        "        arr3 = scaler(arr3.reshape(-1, 1))\n",
        "        arr4 = scaler(arr4.reshape(-1, 1))\n",
        "\n",
        "        arr = np.concatenate((arr, arr2, arr3, arr4), axis=0).reshape(-1,1)\n",
        "        arr = np.append(arr, sugg)\n",
        "        row.append(arr)\n",
        "    grow = []\n",
        "    ggrow = []\n",
        "    gggrow = []\n",
        "    arr = []\n",
        "    return np.array(row)"
      ]
    },
    {
      "cell_type": "code",
      "execution_count": null,
      "metadata": {
        "id": "Rl4JHnPmp5z7"
      },
      "outputs": [],
      "source": [
        "def download_data(symbols,periodd,intervall):\n",
        "  indexx = 100\n",
        "  work_with_dir()\n",
        "  for symbol in symbols:\n",
        "    if ((symbols.index(symbol)+1) % 100 == 0):\n",
        "      print(f\" -- {indexx}\",end=\"\")\n",
        "      indexx = indexx + 100\n",
        "    try:\n",
        "        data = yf.download(symbol, period=periodd,interval=intervall, progress=False,show_errors=False)\n",
        "        if data.empty:\n",
        "           pass\n",
        "        else:\n",
        "           if data.shape[0] > 30:\n",
        "             data.to_csv(f\"/content/data/{symbol}.csv\")         \n",
        "    except:\n",
        "       print(\"Error!\")\n",
        "  print(\" \")\n",
        "def each_file_proc(files,now,index):\n",
        "     data = []\n",
        "     unattached_dfs = []\n",
        "     files = list(files)\n",
        "     for file in files:\n",
        "        print(f\"{files.index(file)+1+index}\",end=\" \")\n",
        "        if (files.index(file)+index+1) % 40 == 0:\n",
        "          print(\" \")\n",
        "        address = f\"/content/data/{file}\"\n",
        "        try:\n",
        "           unattached_dfs.append(process(pd.read_csv(address)))\n",
        "        except:\n",
        "          print(\" EP \")\n",
        "     if np.array(unattached_dfs[0]).shape[0] == 0:\n",
        "            print(\" Null \")\n",
        "            data = np.array(unattached_dfs[1])\n",
        "            for z in unattached_dfs[2:]:\n",
        "               try: \n",
        "                  data = np.append(data, np.array(z), axis=0)\n",
        "               except:\n",
        "                  pass\n",
        "     else:\n",
        "            data = np.array(unattached_dfs[0])\n",
        "            for z in unattached_dfs[1:]:\n",
        "               try: \n",
        "                  data = np.append(data, np.array(z), axis=0)\n",
        "               except:\n",
        "                  pass\n",
        "     unattached_dfs = []\n",
        "     data = pd.DataFrame(data, columns=clmns)\n",
        "     sugg = data[\"suggestion\"]\n",
        "     data.drop(\"suggestion\",axis=1,inplace=True)\n",
        "     sugg = pd.get_dummies(sugg)\n",
        "     data = pd.concat([data,sugg],axis=1)\n",
        "     data = data.astype(float)\n",
        "     right_now = datetime.now().strftime(\"%H%M%S%f\")\n",
        "     data.to_csv(f\"/content/extracted/{now}/{right_now}.csv\")  \n",
        "def extract_data(pieces):\n",
        "  pd.options.mode.chained_assignment = None\n",
        "  print(f\"Files In Data : {len(os.listdir('/content/data/'))}\")\n",
        "  files = os.listdir(\"/content/data/\")\n",
        "  new_files = np.array_split(files, pieces)\n",
        "  print(\"Processing File:\")\n",
        "  now = datetime.now().strftime(\"%H%M%S\")\n",
        "  os.mkdir(f\"/content/extracted/{now}/\")\n",
        "  \n",
        "  index = 0 \n",
        "  for files in new_files:\n",
        "     \n",
        "     each_file_proc(files,now,index)\n",
        "     index = index + len(files)\n",
        "  print(\" \")\n",
        "  return now\n",
        "def delete_all_csv(now):\n",
        "   path = f'/content/extracted/{now}/*.csv'\n",
        "   files = glob.glob(path)\n",
        "   for file in files:\n",
        "       os.remove(file)\n",
        "def make_df(now):\n",
        "   path = f'/content/extracted/{now}/*.parquet'\n",
        "   files = glob.glob(path)\n",
        "   #data = pd.DataFrame()\n",
        "   data = pd.DataFrame()\n",
        "   for adr in files:\n",
        "     data =pd.concat([data,pd.read_parquet(adr)])\n",
        "   if \"Unnamed: 0\" in data:\n",
        "     data.drop(\"Unnamed: 0\",axis=1,inplace=True)\n",
        "   print(data.shape)\n",
        "   xTrain,xTest,yTrain,yTest = spliting(data)\n",
        "   data.to_parquet(f'/content/extracted/{now}/data.parquet')\n",
        "   delete_all_csv(now)\n",
        "   data = []\n",
        "   return xTrain,xTest,yTrain,yTest\n",
        "def to_par(now,howmanyfiles): \n",
        "    files = os.listdir(f\"/content/extracted/{now}/\")\n",
        "    addresses = []\n",
        "    for file in files:\n",
        "      addresses.append(f\"/content/extracted/{now}/{file}\")\n",
        "    new_adr = np.array_split(addresses,howmanyfiles)\n",
        "    for adrs in new_adr:\n",
        "      datas = []\n",
        "      for adr in adrs:\n",
        "        datas.append(pd.read_csv(adr))\n",
        "      rnow = datetime.now().strftime(\"%H%M%S%f\")\n",
        "      datas = pd.concat(datas)\n",
        "      datas.to_parquet(f\"/content/extracted/{now}/part_{rnow}.parquet\")      "
      ]
    },
    {
      "cell_type": "code",
      "execution_count": null,
      "metadata": {
        "id": "AMR8z1BIS-M_"
      },
      "outputs": [],
      "source": [
        "symbols = get_crypto_syms()\n",
        "print(f\"Symbols : {len(symbols)}\")\n",
        "download_data(symbols,\"max\",\"1mo\")"
      ]
    },
    {
      "cell_type": "code",
      "execution_count": null,
      "metadata": {
        "id": "eT3YU88Edyb3"
      },
      "outputs": [],
      "source": [
        "folder_name = extract_data(100)\n",
        "to_par(folder_name,1)\n",
        "xTrain,xTest,yTrain,yTest = make_df(folder_name)"
      ]
    },
    {
      "cell_type": "code",
      "execution_count": null,
      "metadata": {
        "id": "xN93WT9e8ueQ"
      },
      "outputs": [],
      "source": [
        "model = Sequential()\n",
        "\n",
        "model.add(Dense(1024, activation='relu', input_shape=(xTrain.shape[1],)))\n",
        "model.add(Dense(1024, activation='relu'))\n",
        "model.add(Dense(1024, activation='relu'))\n",
        "model.add(Dense(1024, activation='relu'))\n",
        "model.add(Dense(1024, activation='relu'))\n",
        "\n",
        "\n",
        "\n",
        "opt = tf.keras.optimizers.Adamax()\n",
        "model.add(Dense(2, activation='sigmoid'))\n",
        "model.compile(optimizer=opt, loss='categorical_crossentropy',metrics=['accuracy'])\n",
        "model.summary()"
      ]
    },
    {
      "cell_type": "code",
      "execution_count": null,
      "metadata": {
        "id": "_SBxPzRd89uy"
      },
      "outputs": [],
      "source": [
        "model.fit(xTrain,yTrain,epochs=33,batch_size=32,validation_data=(xTest,yTest))"
      ]
    },
    {
      "cell_type": "code",
      "execution_count": null,
      "metadata": {
        "id": "VJU4ShbMU8tz"
      },
      "outputs": [],
      "source": [
        "model.save(\"MO_G12_.h5\")"
      ]
    },
    {
      "cell_type": "code",
      "execution_count": null,
      "metadata": {
        "id": "6bqkwjROb3lL"
      },
      "outputs": [],
      "source": [
        "yf.download(\"btc-usd\",period=\"max\",interval=\"1mo\")"
      ]
    },
    {
      "cell_type": "code",
      "execution_count": 23,
      "metadata": {
        "id": "fEcDYXMtSPUz"
      },
      "outputs": [],
      "source": [
        "def process_for_prediction(data):\n",
        "        i = -2\n",
        "        if len(pd.DataFrame(data).columns) == 7:\n",
        "          data = data.iloc[: , 1:]        \n",
        "        data = np.array(data)\n",
        "        grow = []\n",
        "        ggrow = []\n",
        "        gggrow = []\n",
        "        ggggrow = []\n",
        "        for x in range(1, 31):\n",
        "            grow.append([data[i-x][0] - data[i-(x-1)][0]] )\n",
        "            ggrow.append([data[i-x][1] - data[i-(x-1)][1]] )\n",
        "            gggrow.append([data[i-x][2] - data[i-(x-1)][2]] )\n",
        "            ggggrow.append([data[i-x][3] - data[i-(x-1)][3]] )\n",
        "\n",
        "        arr = np.array(grow).flatten()\n",
        "        arr2 = np.array(ggrow).flatten()\n",
        "        arr3 = np.array(gggrow).flatten()\n",
        "        arr4 = np.array(ggggrow).flatten()\n",
        "\n",
        "        arr = scaler(arr.reshape(-1, 1))\n",
        "        arr2 = scaler(arr2.reshape(-1, 1))\n",
        "        arr3 = scaler(arr3.reshape(-1, 1))\n",
        "        arr4 = scaler(arr4.reshape(-1, 1))\n",
        "\n",
        "        arr = np.concatenate((arr, arr2, arr3, arr4), axis=0).reshape(-1,1)\n",
        "        return arr\n",
        "def make_prediction_for_yf(symbol,period,timeframe):\n",
        "    raw_data = process_for_prediction(yf.download(symbol,period=period,interval=timeframe))\n",
        "    return  model.predict(np.array(raw_data).reshape(1,-1))"
      ]
    },
    {
      "cell_type": "code",
      "execution_count": null,
      "metadata": {
        "id": "RuUzTsN-SfnH"
      },
      "outputs": [],
      "source": [
        "make_prediction_for_yf(\"btc-usd\",\"max\",\"1mo\")"
      ]
    },
    {
      "cell_type": "code",
      "execution_count": 28,
      "metadata": {
        "id": "fA3NoIBLIHLY"
      },
      "outputs": [],
      "source": [
        "def process_for_prediction(data):\n",
        "        i = -1\n",
        "        row = []\n",
        "        data.drop(\"symbol\",axis=1,inplace=True) \n",
        "        data = np.array(data)\n",
        "        grow = []\n",
        "        ggrow = []\n",
        "        gggrow = []\n",
        "        ggggrow = []\n",
        "        for x in range(1, 31):\n",
        "            grow.append([data[i-x][0] - data[i-(x-1)][0]] )\n",
        "            ggrow.append([data[i-x][1] - data[i-(x-1)][1]] )\n",
        "            gggrow.append([data[i-x][2] - data[i-(x-1)][2]] )\n",
        "            ggggrow.append([data[i-x][3] - data[i-(x-1)][3]] )\n",
        "\n",
        "        arr = np.array(grow).flatten()\n",
        "        arr2 = np.array(ggrow).flatten()\n",
        "        arr3 = np.array(gggrow).flatten()\n",
        "        arr4 = np.array(ggggrow).flatten()\n",
        "\n",
        "        arr = scaler(arr.reshape(-1, 1))\n",
        "        arr2 = scaler(arr2.reshape(-1, 1))\n",
        "        arr3 = scaler(arr3.reshape(-1, 1))\n",
        "        arr4 = scaler(arr4.reshape(-1, 1))\n",
        "\n",
        "        arr = np.concatenate((arr, arr2, arr3, arr4), axis=0).reshape(-1,1)\n",
        "        return arr\n",
        "def make_prediction_for_tv(symbol,timeframe):\n",
        "   tv = TvDatafeed()\n",
        "   data = tv.get_hist(symbol='btcUSD',exchange='bitstamp',interval=Interval.in_monthly,n_bars=100)\n",
        "   return model.predict(np.array(process_for_prediction(data)).reshape(1,-1))"
      ]
    },
    {
      "cell_type": "code",
      "execution_count": null,
      "metadata": {
        "id": "aLgPS4HGIpgT"
      },
      "outputs": [],
      "source": [
        "make_prediction_for_tv(\"s\",\"x\")"
      ]
    }
  ],
  "metadata": {
    "colab": {
      "collapsed_sections": [],
      "name": "MO_G12T.ipynb",
      "provenance": []
    },
    "kernelspec": {
      "display_name": "Python 3",
      "name": "python3"
    },
    "language_info": {
      "name": "python"
    }
  },
  "nbformat": 4,
  "nbformat_minor": 0
}