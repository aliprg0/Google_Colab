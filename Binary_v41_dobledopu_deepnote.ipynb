{
 "cells": [
  {
   "cell_type": "code",
   "metadata": {
    "id": "_5bxbCoe9do9",
    "outputId": "a53f75e4-5aa5-4e9b-f588-4c42edabd200",
    "colab": {
     "base_uri": "https://localhost:8080/"
    },
    "cell_id": "5a2af6b7-6736-4760-a37b-0672c172058b",
    "deepnote_to_be_reexecuted": false,
    "source_hash": "4856123a",
    "execution_start": 1649932916028,
    "execution_millis": 14356,
    "deepnote_cell_type": "code",
    "deepnote_cell_height": 1061
   },
   "source": "!pip install yfinance\n!pip install yahooquery\nfrom yahooquery import Screener\nimport yfinance as yf   \nimport pandas as pd\nimport numpy as np\nfrom tensorflow.keras import Sequential\nfrom tensorflow.keras.layers import Dense,LSTM\nfrom tensorflow.keras.layers import Dropout\nfrom sklearn.linear_model import LogisticRegression\nfrom sklearn.ensemble import RandomForestClassifier\nfrom sklearn.model_selection import train_test_split\nfrom sklearn.preprocessing import MinMaxScaler\nfrom sklearn.svm import SVC\nfrom sklearn.naive_bayes import GaussianNB\nfrom sklearn.neighbors import NearestCentroid\nfrom sklearn.ensemble import GradientBoostingClassifier\nfrom sklearn.neighbors import KNeighborsClassifier\nimport tensorflow as tf\nfrom sklearn.tree import DecisionTreeClassifier\nfrom sys import getsizeof",
   "execution_count": 1,
   "outputs": [
    {
     "name": "stdout",
     "text": "Collecting yfinance\n  Downloading yfinance-0.1.70-py2.py3-none-any.whl (26 kB)\nRequirement already satisfied: pandas>=0.24.0 in /shared-libs/python3.7/py/lib/python3.7/site-packages (from yfinance) (1.2.5)\nRequirement already satisfied: lxml>=4.5.1 in /shared-libs/python3.7/py/lib/python3.7/site-packages (from yfinance) (4.8.0)\nRequirement already satisfied: requests>=2.26 in /shared-libs/python3.7/py/lib/python3.7/site-packages (from yfinance) (2.27.1)\nRequirement already satisfied: numpy>=1.15 in /shared-libs/python3.7/py/lib/python3.7/site-packages (from yfinance) (1.21.5)\nCollecting multitasking>=0.0.7\n  Downloading multitasking-0.0.10.tar.gz (8.2 kB)\nRequirement already satisfied: python-dateutil>=2.7.3 in /shared-libs/python3.7/py-core/lib/python3.7/site-packages (from pandas>=0.24.0->yfinance) (2.8.2)\nRequirement already satisfied: pytz>=2017.3 in /shared-libs/python3.7/py/lib/python3.7/site-packages (from pandas>=0.24.0->yfinance) (2022.1)\nRequirement already satisfied: charset-normalizer~=2.0.0; python_version >= \"3\" in /shared-libs/python3.7/py-core/lib/python3.7/site-packages (from requests>=2.26->yfinance) (2.0.12)\nRequirement already satisfied: idna<4,>=2.5; python_version >= \"3\" in /shared-libs/python3.7/py-core/lib/python3.7/site-packages (from requests>=2.26->yfinance) (3.3)\nRequirement already satisfied: certifi>=2017.4.17 in /shared-libs/python3.7/py/lib/python3.7/site-packages (from requests>=2.26->yfinance) (2021.10.8)\nRequirement already satisfied: urllib3<1.27,>=1.21.1 in /shared-libs/python3.7/py/lib/python3.7/site-packages (from requests>=2.26->yfinance) (1.26.9)\nRequirement already satisfied: six>=1.5 in /shared-libs/python3.7/py-core/lib/python3.7/site-packages (from python-dateutil>=2.7.3->pandas>=0.24.0->yfinance) (1.16.0)\nBuilding wheels for collected packages: multitasking\n  Building wheel for multitasking (setup.py) ... \u001b[?25ldone\n\u001b[?25h  Created wheel for multitasking: filename=multitasking-0.0.10-py3-none-any.whl size=8489 sha256=732e190cab248e8d057e15e94d1e889aaf38dff3b740911ee536963e94cf3148\n  Stored in directory: /root/.cache/pip/wheels/34/ba/79/c0260c6f1a03f420ec7673eff9981778f293b9107974679e36\nSuccessfully built multitasking\nInstalling collected packages: multitasking, yfinance\nSuccessfully installed multitasking-0.0.10 yfinance-0.1.70\n\u001b[33mWARNING: You are using pip version 20.1.1; however, version 22.0.4 is available.\nYou should consider upgrading via the '/root/venv/bin/python -m pip install --upgrade pip' command.\u001b[0m\nCollecting yahooquery\n  Downloading yahooquery-2.2.15-py2.py3-none-any.whl (46 kB)\n\u001b[K     |████████████████████████████████| 46 kB 8.2 MB/s \n\u001b[?25hRequirement already satisfied: lxml>=4.6.2 in /shared-libs/python3.7/py/lib/python3.7/site-packages (from yahooquery) (4.8.0)\nRequirement already satisfied: tqdm>=4.54.1 in /shared-libs/python3.7/py/lib/python3.7/site-packages (from yahooquery) (4.63.0)\nRequirement already satisfied: pandas>=0.24.0 in /shared-libs/python3.7/py/lib/python3.7/site-packages (from yahooquery) (1.2.5)\nCollecting requests-futures>=1.0.0\n  Downloading requests_futures-1.0.0-py2.py3-none-any.whl (7.4 kB)\nRequirement already satisfied: pytz>=2017.3 in /shared-libs/python3.7/py/lib/python3.7/site-packages (from pandas>=0.24.0->yahooquery) (2022.1)\nRequirement already satisfied: python-dateutil>=2.7.3 in /shared-libs/python3.7/py-core/lib/python3.7/site-packages (from pandas>=0.24.0->yahooquery) (2.8.2)\nRequirement already satisfied: numpy>=1.16.5 in /shared-libs/python3.7/py/lib/python3.7/site-packages (from pandas>=0.24.0->yahooquery) (1.21.5)\nRequirement already satisfied: requests>=1.2.0 in /shared-libs/python3.7/py/lib/python3.7/site-packages (from requests-futures>=1.0.0->yahooquery) (2.27.1)\nRequirement already satisfied: six>=1.5 in /shared-libs/python3.7/py-core/lib/python3.7/site-packages (from python-dateutil>=2.7.3->pandas>=0.24.0->yahooquery) (1.16.0)\nRequirement already satisfied: charset-normalizer~=2.0.0; python_version >= \"3\" in /shared-libs/python3.7/py-core/lib/python3.7/site-packages (from requests>=1.2.0->requests-futures>=1.0.0->yahooquery) (2.0.12)\nRequirement already satisfied: urllib3<1.27,>=1.21.1 in /shared-libs/python3.7/py/lib/python3.7/site-packages (from requests>=1.2.0->requests-futures>=1.0.0->yahooquery) (1.26.9)\nRequirement already satisfied: certifi>=2017.4.17 in /shared-libs/python3.7/py/lib/python3.7/site-packages (from requests>=1.2.0->requests-futures>=1.0.0->yahooquery) (2021.10.8)\nRequirement already satisfied: idna<4,>=2.5; python_version >= \"3\" in /shared-libs/python3.7/py-core/lib/python3.7/site-packages (from requests>=1.2.0->requests-futures>=1.0.0->yahooquery) (3.3)\nInstalling collected packages: requests-futures, yahooquery\nSuccessfully installed requests-futures-1.0.0 yahooquery-2.2.15\n\u001b[33mWARNING: You are using pip version 20.1.1; however, version 22.0.4 is available.\nYou should consider upgrading via the '/root/venv/bin/python -m pip install --upgrade pip' command.\u001b[0m\n",
     "output_type": "stream"
    }
   ]
  },
  {
   "cell_type": "code",
   "metadata": {
    "id": "IB_YMoe09qVP",
    "cell_id": "00001-cd36eb73-75b0-4b02-9005-173fe2605310",
    "deepnote_to_be_reexecuted": false,
    "source_hash": "ab6f042f",
    "execution_start": 1649932930399,
    "execution_millis": 2,
    "deepnote_cell_type": "code",
    "deepnote_cell_height": 1503
   },
   "source": "def read_syms_from_txt():  \n  with open(\"syms.txt\",\"r\") as f:\n    lines = f.readlines()\n    f.close()\n  lst = []\n  for line in lines:\n    line = line.strip()\n    lst.append(line)\n  symbols = lst\n  return symbols\ndef get_crypto_syms():\n  #'all_cryptocurrencies_au','all_cryptocurrencies_ca','all_cryptocurrencies_eu','all_cryptocurrencies_gb','all_cryptocurrencies_in',\n   screens = [\n 'all_cryptocurrencies_us','all_cryptocurrencies_au','all_cryptocurrencies_ca','all_cryptocurrencies_eu','all_cryptocurrencies_gb','all_cryptocurrencies_in']\n   s = Screener()\n   symbols = []\n   for i in screens:\n      data = s.get_screeners(i, count=250)\n      dicts = data[i]['quotes']\n      syms = [d['symbol'] for d in dicts]\n      for sym in syms:\n        symbols.append(sym)\n   #print(len(symbols))\n   #pieces = 15\n   # new_arrays = np.array_split(symbols, pieces)\n   return symbols\ndef spliting(data):\n  X = data.drop([\"sugg\"],axis=1)\n  y = data[\"sugg\"]\n  xTrain, xTest, yTrain, yTest = train_test_split(X, y, test_size=0.1,random_state=99)\n  print(xTrain.shape,end=\" \")\n  print(yTrain.shape)\n  print(xTest.shape,end=\" \")\n  print(yTest.shape)\n  return xTrain, xTest, yTrain, yTest\ndef extract_data(df):\n    rows = []\n    for each in range(11,df.shape[0]-1):\n        sugg = 0\n        if df[each][3] > df[each][0]:\n          sugg = 1\n        row = [\n                df[each-10][3],\n                df[each-9][3],\n                df[each-8][3],\n                df[each-7][3],\n                df[each-6][3],\n                df[each-5][3],\n                df[each-4][3],\n                df[each-3][3],\n                df[each-2][3],\n                df[each-1][3],\n                sugg\n        ]\n        rows.append(row)\n    return rows\ndef row_scaler(df):\n  scaler = MinMaxScaler(feature_range=(0,1))\n  last_column = df.iloc[: , -1]\n  df = df.drop(columns=df.columns[-1], axis=1)\n  scaled = pd.DataFrame(scaler.fit_transform(df.T).T,dtype=object)\n  scaled[\"sugg\"] = last_column\n  return scaled\ndef stick_dfs(dfs):\n  dataframe = dfs[0]\n  for i in range(1,len(dfs)):\n     dataframe = pd.concat([dataframe,dfs[i]], ignore_index = True)\n  dataframe = dataframe.dropna()\n  dataframe = dataframe.astype(float)\n  return dataframe\ndef process(dfs): \n   fixed_dfs = []\n   for df in dfs:\n      df = np.array(df)\n      df = extract_data(df)\n      df = pd.DataFrame(df)\n      df = row_scaler(df)\n      fixed_dfs.append(df)\n   df = stick_dfs(fixed_dfs)\n   return df      ",
   "execution_count": 2,
   "outputs": []
  },
  {
   "cell_type": "code",
   "metadata": {
    "id": "hIAuU_ILbU27",
    "colab": {
     "base_uri": "https://localhost:8080/",
     "height": 1000
    },
    "outputId": "01a593a7-3221-4127-dd9a-6394d06962c0",
    "cell_id": "00002-5a1ca63a-38b6-4231-a1f9-d11278bee413",
    "deepnote_cell_type": "code",
    "deepnote_cell_height": 1546.1875,
    "deepnote_output_heights": [
     null,
     382.1875
    ]
   },
   "source": "#symbols = [\"MSFT\",\"AAPL\",\"GOOG\",\"TSLA\",\"AMZN\"]\n#symbols = [\"BTC-USD\",\"LTC-USD\",\"TRX-USD\",\"XRP-USD\",\"ETH-USD\",\"BNB-USD\",\"DASH-USD\",\"VET-USD\",\"LINK-USD\",\"ADA-USD\",\"DOT-USD\",\"SOL-USD\",\"BCH-USD\",\"FTT-USD\",\"FIL-USD\",\"XMR-USD\"]\n#symbols = [\"AAPL\",\"MSFT\",\"TSLA\",\"GOOG\"]\n#symbols = [\"BTC-USD\",\"ETH-USD\"]\n#symbols = [\"BTC-USD\"]\n#df = pd.read_parquet(\"/content/drive/MyDrive/Colab Files/250_crypto_1d_scaled_yf.parquet\")\nfrom google.colab import drive\ndrive.mount(\"/content/gdrive\")\nsymbols = get_crypto_syms()\ndfs = []\nfor symbol in symbols:\n           data = yf.download(symbol,period=\"MAX\",interval=\"1d\",progress=False)\n           if data.empty :\n             print(\"Passing...\")\n           else:\n               dfs.append(data)\nndfs = dfs\ndfs = []\nfor df in ndfs:\n        if df.shape[0] > 12:\n          dfs.append(df)\ndata = process(dfs)\ndata.to_csv(\"1d_10pastcandle_newversion.csv\")\nxTrain, xTest, yTrain, yTest = spliting(data)\ndata",
   "execution_count": 3,
   "outputs": [
    {
     "output_type": "stream",
     "name": "stdout",
     "text": "Mounted at /content/gdrive\n\n1 Failed download:\n- XNO-AUD: No data found for this date range, symbol may be delisted\nPassing...\n\n1 Failed download:\n- OXEN-AUD: No data found for this date range, symbol may be delisted\nPassing...\n\n1 Failed download:\n- VAL-AUD: No data found for this date range, symbol may be delisted\nPassing...\n\n1 Failed download:\n- ICP-CAD: No data found for this date range, symbol may be delisted\nPassing...\n\n1 Failed download:\n- XNO-CAD: No data found for this date range, symbol may be delisted\nPassing...\n\n1 Failed download:\n- OXEN-CAD: No data found for this date range, symbol may be delisted\nPassing...\n\n1 Failed download:\n- VAL-CAD: No data found for this date range, symbol may be delisted\nPassing...\n\n1 Failed download:\n- ICP-EUR: No data found for this date range, symbol may be delisted\nPassing...\n\n1 Failed download:\n- XNO-EUR: No data found for this date range, symbol may be delisted\nPassing...\n\n1 Failed download:\n- OXEN-EUR: No data found for this date range, symbol may be delisted\nPassing...\n\n1 Failed download:\n- VAL-EUR: No data found for this date range, symbol may be delisted\nPassing...\n\n1 Failed download:\n- ICP-GBP: No data found for this date range, symbol may be delisted\nPassing...\n\n1 Failed download:\n- XNO-GBP: No data found for this date range, symbol may be delisted\nPassing...\n\n1 Failed download:\n- OXEN-GBP: No data found for this date range, symbol may be delisted\nPassing...\n\n1 Failed download:\n- VAL-GBP: No data found for this date range, symbol may be delisted\nPassing...\n\n1 Failed download:\n- ICP-INR: No data found for this date range, symbol may be delisted\nPassing...\n\n1 Failed download:\n- XNO-INR: No data found for this date range, symbol may be delisted\nPassing...\n\n1 Failed download:\n- OXEN-INR: No data found for this date range, symbol may be delisted\nPassing...\n\n1 Failed download:\n- VAL-INR: No data found, symbol may be delisted\nPassing...\n(1585459, 10) (1585459,)\n(176163, 10) (176163,)\n"
    },
    {
     "output_type": "execute_result",
     "data": {
      "text/plain": "                0         1         2         3         4         5         6  \\\n0        0.723113  0.000000  0.344140  0.098183  0.179437  1.000000  0.692987   \n1        0.300546  0.541256  0.369221  0.426054  1.000000  0.785258  0.586811   \n2        0.554290  0.387143  0.442361  1.000000  0.791360  0.598551  0.480041   \n3        0.387143  0.442361  1.000000  0.791360  0.598551  0.480041  0.398730   \n4        0.442361  1.000000  0.791360  0.598551  0.480041  0.398730  0.028413   \n...           ...       ...       ...       ...       ...       ...       ...   \n1761617  0.000000  0.110425  0.174078  0.177459  0.408812  0.400589  0.305815   \n1761618  0.000000  0.060724  0.063949  0.284657  0.276813  0.186399  0.477018   \n1761619  0.000000  0.003369  0.233901  0.225708  0.131269  0.434825  0.546900   \n1761620  0.000000  0.231311  0.223090  0.128333  0.432914  0.545369  0.822394   \n1761621  0.118140  0.108709  0.000000  0.349424  0.478435  0.796245  0.978229   \n\n                7         8         9  sugg  \n0        0.409270  0.234882  0.115234   0.0  \n1        0.464835  0.381146  0.000000   0.0  \n2        0.398730  0.028413  0.000000   1.0  \n3        0.028413  0.000000  0.190256   0.0  \n4        0.000000  0.190256  0.135070   0.0  \n...           ...       ...       ...   ...  \n1761617  0.610451  0.722925  1.000000   1.0  \n1761618  0.584317  0.848643  1.000000   1.0  \n1761619  0.822992  0.981087  1.000000   0.0  \n1761620  0.981023  1.000000  0.755756   0.0  \n1761621  1.000000  0.719797  0.497591   1.0  \n\n[1761622 rows x 11 columns]",
      "text/html": "\n  <div id=\"df-af93b35f-e1f4-4b05-941e-524e60818e84\">\n    <div class=\"colab-df-container\">\n      <div>\n<style scoped>\n    .dataframe tbody tr th:only-of-type {\n        vertical-align: middle;\n    }\n\n    .dataframe tbody tr th {\n        vertical-align: top;\n    }\n\n    .dataframe thead th {\n        text-align: right;\n    }\n</style>\n<table border=\"1\" class=\"dataframe\">\n  <thead>\n    <tr style=\"text-align: right;\">\n      <th></th>\n      <th>0</th>\n      <th>1</th>\n      <th>2</th>\n      <th>3</th>\n      <th>4</th>\n      <th>5</th>\n      <th>6</th>\n      <th>7</th>\n      <th>8</th>\n      <th>9</th>\n      <th>sugg</th>\n    </tr>\n  </thead>\n  <tbody>\n    <tr>\n      <th>0</th>\n      <td>0.723113</td>\n      <td>0.000000</td>\n      <td>0.344140</td>\n      <td>0.098183</td>\n      <td>0.179437</td>\n      <td>1.000000</td>\n      <td>0.692987</td>\n      <td>0.409270</td>\n      <td>0.234882</td>\n      <td>0.115234</td>\n      <td>0.0</td>\n    </tr>\n    <tr>\n      <th>1</th>\n      <td>0.300546</td>\n      <td>0.541256</td>\n      <td>0.369221</td>\n      <td>0.426054</td>\n      <td>1.000000</td>\n      <td>0.785258</td>\n      <td>0.586811</td>\n      <td>0.464835</td>\n      <td>0.381146</td>\n      <td>0.000000</td>\n      <td>0.0</td>\n    </tr>\n    <tr>\n      <th>2</th>\n      <td>0.554290</td>\n      <td>0.387143</td>\n      <td>0.442361</td>\n      <td>1.000000</td>\n      <td>0.791360</td>\n      <td>0.598551</td>\n      <td>0.480041</td>\n      <td>0.398730</td>\n      <td>0.028413</td>\n      <td>0.000000</td>\n      <td>1.0</td>\n    </tr>\n    <tr>\n      <th>3</th>\n      <td>0.387143</td>\n      <td>0.442361</td>\n      <td>1.000000</td>\n      <td>0.791360</td>\n      <td>0.598551</td>\n      <td>0.480041</td>\n      <td>0.398730</td>\n      <td>0.028413</td>\n      <td>0.000000</td>\n      <td>0.190256</td>\n      <td>0.0</td>\n    </tr>\n    <tr>\n      <th>4</th>\n      <td>0.442361</td>\n      <td>1.000000</td>\n      <td>0.791360</td>\n      <td>0.598551</td>\n      <td>0.480041</td>\n      <td>0.398730</td>\n      <td>0.028413</td>\n      <td>0.000000</td>\n      <td>0.190256</td>\n      <td>0.135070</td>\n      <td>0.0</td>\n    </tr>\n    <tr>\n      <th>...</th>\n      <td>...</td>\n      <td>...</td>\n      <td>...</td>\n      <td>...</td>\n      <td>...</td>\n      <td>...</td>\n      <td>...</td>\n      <td>...</td>\n      <td>...</td>\n      <td>...</td>\n      <td>...</td>\n    </tr>\n    <tr>\n      <th>1761617</th>\n      <td>0.000000</td>\n      <td>0.110425</td>\n      <td>0.174078</td>\n      <td>0.177459</td>\n      <td>0.408812</td>\n      <td>0.400589</td>\n      <td>0.305815</td>\n      <td>0.610451</td>\n      <td>0.722925</td>\n      <td>1.000000</td>\n      <td>1.0</td>\n    </tr>\n    <tr>\n      <th>1761618</th>\n      <td>0.000000</td>\n      <td>0.060724</td>\n      <td>0.063949</td>\n      <td>0.284657</td>\n      <td>0.276813</td>\n      <td>0.186399</td>\n      <td>0.477018</td>\n      <td>0.584317</td>\n      <td>0.848643</td>\n      <td>1.000000</td>\n      <td>1.0</td>\n    </tr>\n    <tr>\n      <th>1761619</th>\n      <td>0.000000</td>\n      <td>0.003369</td>\n      <td>0.233901</td>\n      <td>0.225708</td>\n      <td>0.131269</td>\n      <td>0.434825</td>\n      <td>0.546900</td>\n      <td>0.822992</td>\n      <td>0.981087</td>\n      <td>1.000000</td>\n      <td>0.0</td>\n    </tr>\n    <tr>\n      <th>1761620</th>\n      <td>0.000000</td>\n      <td>0.231311</td>\n      <td>0.223090</td>\n      <td>0.128333</td>\n      <td>0.432914</td>\n      <td>0.545369</td>\n      <td>0.822394</td>\n      <td>0.981023</td>\n      <td>1.000000</td>\n      <td>0.755756</td>\n      <td>0.0</td>\n    </tr>\n    <tr>\n      <th>1761621</th>\n      <td>0.118140</td>\n      <td>0.108709</td>\n      <td>0.000000</td>\n      <td>0.349424</td>\n      <td>0.478435</td>\n      <td>0.796245</td>\n      <td>0.978229</td>\n      <td>1.000000</td>\n      <td>0.719797</td>\n      <td>0.497591</td>\n      <td>1.0</td>\n    </tr>\n  </tbody>\n</table>\n<p>1761622 rows × 11 columns</p>\n</div>\n      <button class=\"colab-df-convert\" onclick=\"convertToInteractive('df-af93b35f-e1f4-4b05-941e-524e60818e84')\"\n              title=\"Convert this dataframe to an interactive table.\"\n              style=\"display:none;\">\n        \n  <svg xmlns=\"http://www.w3.org/2000/svg\" height=\"24px\"viewBox=\"0 0 24 24\"\n       width=\"24px\">\n    <path d=\"M0 0h24v24H0V0z\" fill=\"none\"/>\n    <path d=\"M18.56 5.44l.94 2.06.94-2.06 2.06-.94-2.06-.94-.94-2.06-.94 2.06-2.06.94zm-11 1L8.5 8.5l.94-2.06 2.06-.94-2.06-.94L8.5 2.5l-.94 2.06-2.06.94zm10 10l.94 2.06.94-2.06 2.06-.94-2.06-.94-.94-2.06-.94 2.06-2.06.94z\"/><path d=\"M17.41 7.96l-1.37-1.37c-.4-.4-.92-.59-1.43-.59-.52 0-1.04.2-1.43.59L10.3 9.45l-7.72 7.72c-.78.78-.78 2.05 0 2.83L4 21.41c.39.39.9.59 1.41.59.51 0 1.02-.2 1.41-.59l7.78-7.78 2.81-2.81c.8-.78.8-2.07 0-2.86zM5.41 20L4 18.59l7.72-7.72 1.47 1.35L5.41 20z\"/>\n  </svg>\n      </button>\n      \n  <style>\n    .colab-df-container {\n      display:flex;\n      flex-wrap:wrap;\n      gap: 12px;\n    }\n\n    .colab-df-convert {\n      background-color: #E8F0FE;\n      border: none;\n      border-radius: 50%;\n      cursor: pointer;\n      display: none;\n      fill: #1967D2;\n      height: 32px;\n      padding: 0 0 0 0;\n      width: 32px;\n    }\n\n    .colab-df-convert:hover {\n      background-color: #E2EBFA;\n      box-shadow: 0px 1px 2px rgba(60, 64, 67, 0.3), 0px 1px 3px 1px rgba(60, 64, 67, 0.15);\n      fill: #174EA6;\n    }\n\n    [theme=dark] .colab-df-convert {\n      background-color: #3B4455;\n      fill: #D2E3FC;\n    }\n\n    [theme=dark] .colab-df-convert:hover {\n      background-color: #434B5C;\n      box-shadow: 0px 1px 3px 1px rgba(0, 0, 0, 0.15);\n      filter: drop-shadow(0px 1px 2px rgba(0, 0, 0, 0.3));\n      fill: #FFFFFF;\n    }\n  </style>\n\n      <script>\n        const buttonEl =\n          document.querySelector('#df-af93b35f-e1f4-4b05-941e-524e60818e84 button.colab-df-convert');\n        buttonEl.style.display =\n          google.colab.kernel.accessAllowed ? 'block' : 'none';\n\n        async function convertToInteractive(key) {\n          const element = document.querySelector('#df-af93b35f-e1f4-4b05-941e-524e60818e84');\n          const dataTable =\n            await google.colab.kernel.invokeFunction('convertToInteractive',\n                                                     [key], {});\n          if (!dataTable) return;\n\n          const docLinkHtml = 'Like what you see? Visit the ' +\n            '<a target=\"_blank\" href=https://colab.research.google.com/notebooks/data_table.ipynb>data table notebook</a>'\n            + ' to learn more about interactive tables.';\n          element.innerHTML = '';\n          dataTable['output_type'] = 'display_data';\n          await google.colab.output.renderOutput(dataTable, element);\n          const docLink = document.createElement('div');\n          docLink.innerHTML = docLinkHtml;\n          element.appendChild(docLink);\n        }\n      </script>\n    </div>\n  </div>\n  "
     },
     "metadata": {},
     "execution_count": 3
    }
   ]
  },
  {
   "cell_type": "code",
   "metadata": {
    "id": "1rI1oRc9VRwO",
    "outputId": "eee77ebc-c660-453b-d74e-732a19093fe2",
    "colab": {
     "base_uri": "https://localhost:8080/"
    },
    "cell_id": "00003-47f4b2c6-c97b-48c8-a589-be63f4995e82",
    "deepnote_to_be_reexecuted": false,
    "source_hash": "2843d70e",
    "execution_start": 1649933123266,
    "execution_millis": 168,
    "deepnote_cell_type": "code",
    "deepnote_cell_height": 763.5625
   },
   "source": "model = Sequential()\nadam = tf.keras.optimizers.Adam(\n    learning_rate=0.01,\n    beta_1=0.9,\n    beta_2=0.999,\n    epsilon=1e-07,\n    amsgrad=True,\n    name=\"Adam\")\n\nmodel.add(Dense(4196, activation='relu', input_shape=(xTrain.shape[1],)))\nmodel.add(Dense(2048, activation='relu'))\nmodel.add(Dense(1024, activation='relu'))\nmodel.add(Dense(100, activation='relu'))\nmodel.add(Dense(1, activation='sigmoid'))\n\nmodel.compile(optimizer=adam, loss='binary_crossentropy',metrics=['accuracy'])\nmodel.summary()",
   "execution_count": 12,
   "outputs": [
    {
     "name": "stdout",
     "text": "Model: \"sequential_7\"\n_________________________________________________________________\n Layer (type)                Output Shape              Param #   \n=================================================================\n dense_43 (Dense)            (None, 4196)              46156     \n                                                                 \n dense_44 (Dense)            (None, 2048)              8595456   \n                                                                 \n dense_45 (Dense)            (None, 1024)              2098176   \n                                                                 \n dense_46 (Dense)            (None, 100)               102500    \n                                                                 \n dense_47 (Dense)            (None, 1)                 101       \n                                                                 \n=================================================================\nTotal params: 10,842,389\nTrainable params: 10,842,389\nNon-trainable params: 0\n_________________________________________________________________\n",
     "output_type": "stream"
    }
   ]
  },
  {
   "cell_type": "code",
   "metadata": {
    "id": "JDTaW4WnX330",
    "outputId": "e2c9328e-835f-43f3-c62e-b440e8c4e26c",
    "colab": {
     "base_uri": "https://localhost:8080/"
    },
    "cell_id": "00004-cbbc0e52-b29f-49d8-963f-db3eb28c6967",
    "deepnote_to_be_reexecuted": false,
    "source_hash": "6f424fc",
    "execution_start": 1649933133296,
    "execution_millis": 74330,
    "owner_user_id": "85c39880-66d6-4580-b95e-fedaac7f2e56",
    "deepnote_cell_type": "code",
    "deepnote_cell_height": 247
   },
   "source": "model.fit(xTrain,yTrain,epochs=200,batch_size=32768,validation_data=(xTest,yTest))\nmodel.evaluate(xTest,yTest)\nmodel.save(f\"{model.evaluate(xTest,yTest)}.h5\")",
   "execution_count": 13,
   "outputs": [
    {
     "name": "stdout",
     "text": "Epoch 1/222\n 5/97 [>.............................] - ETA: 18:51 - loss: 5.1768 - accuracy: 0.4996",
     "output_type": "stream"
    },
    {
     "output_type": "error",
     "ename": "KeyboardInterrupt",
     "evalue": "",
     "traceback": [
      "\u001b[0;31m---------------------------------------------------------------------------\u001b[0m",
      "\u001b[0;31mKeyboardInterrupt\u001b[0m                         Traceback (most recent call last)",
      "\u001b[0;32m<ipython-input-13-5542e69ea99f>\u001b[0m in \u001b[0;36m<module>\u001b[0;34m\u001b[0m\n\u001b[0;32m----> 1\u001b[0;31m \u001b[0mmodel\u001b[0m\u001b[0;34m.\u001b[0m\u001b[0mfit\u001b[0m\u001b[0;34m(\u001b[0m\u001b[0mxTrain\u001b[0m\u001b[0;34m,\u001b[0m\u001b[0myTrain\u001b[0m\u001b[0;34m,\u001b[0m\u001b[0mepochs\u001b[0m\u001b[0;34m=\u001b[0m\u001b[0;36m222\u001b[0m\u001b[0;34m,\u001b[0m\u001b[0mbatch_size\u001b[0m\u001b[0;34m=\u001b[0m\u001b[0;36m16384\u001b[0m\u001b[0;34m,\u001b[0m\u001b[0mvalidation_data\u001b[0m\u001b[0;34m=\u001b[0m\u001b[0;34m(\u001b[0m\u001b[0mxTest\u001b[0m\u001b[0;34m,\u001b[0m\u001b[0myTest\u001b[0m\u001b[0;34m)\u001b[0m\u001b[0;34m)\u001b[0m\u001b[0;34m\u001b[0m\u001b[0;34m\u001b[0m\u001b[0m\n\u001b[0m\u001b[1;32m      2\u001b[0m \u001b[0mmodel\u001b[0m\u001b[0;34m.\u001b[0m\u001b[0mevaluate\u001b[0m\u001b[0;34m(\u001b[0m\u001b[0mxTest\u001b[0m\u001b[0;34m,\u001b[0m\u001b[0myTest\u001b[0m\u001b[0;34m)\u001b[0m\u001b[0;34m\u001b[0m\u001b[0;34m\u001b[0m\u001b[0m\n\u001b[1;32m      3\u001b[0m \u001b[0mmodel\u001b[0m\u001b[0;34m.\u001b[0m\u001b[0msave\u001b[0m\u001b[0;34m(\u001b[0m\u001b[0;34mf\"{model.evaluate(xTest,yTest)}.h5\"\u001b[0m\u001b[0;34m)\u001b[0m\u001b[0;34m\u001b[0m\u001b[0;34m\u001b[0m\u001b[0m\n",
      "\u001b[0;32m/shared-libs/python3.7/py/lib/python3.7/site-packages/keras/utils/traceback_utils.py\u001b[0m in \u001b[0;36merror_handler\u001b[0;34m(*args, **kwargs)\u001b[0m\n\u001b[1;32m     62\u001b[0m     \u001b[0mfiltered_tb\u001b[0m \u001b[0;34m=\u001b[0m \u001b[0;32mNone\u001b[0m\u001b[0;34m\u001b[0m\u001b[0;34m\u001b[0m\u001b[0m\n\u001b[1;32m     63\u001b[0m     \u001b[0;32mtry\u001b[0m\u001b[0;34m:\u001b[0m\u001b[0;34m\u001b[0m\u001b[0;34m\u001b[0m\u001b[0m\n\u001b[0;32m---> 64\u001b[0;31m       \u001b[0;32mreturn\u001b[0m \u001b[0mfn\u001b[0m\u001b[0;34m(\u001b[0m\u001b[0;34m*\u001b[0m\u001b[0margs\u001b[0m\u001b[0;34m,\u001b[0m \u001b[0;34m**\u001b[0m\u001b[0mkwargs\u001b[0m\u001b[0;34m)\u001b[0m\u001b[0;34m\u001b[0m\u001b[0;34m\u001b[0m\u001b[0m\n\u001b[0m\u001b[1;32m     65\u001b[0m     \u001b[0;32mexcept\u001b[0m \u001b[0mException\u001b[0m \u001b[0;32mas\u001b[0m \u001b[0me\u001b[0m\u001b[0;34m:\u001b[0m  \u001b[0;31m# pylint: disable=broad-except\u001b[0m\u001b[0;34m\u001b[0m\u001b[0;34m\u001b[0m\u001b[0m\n\u001b[1;32m     66\u001b[0m       \u001b[0mfiltered_tb\u001b[0m \u001b[0;34m=\u001b[0m \u001b[0m_process_traceback_frames\u001b[0m\u001b[0;34m(\u001b[0m\u001b[0me\u001b[0m\u001b[0;34m.\u001b[0m\u001b[0m__traceback__\u001b[0m\u001b[0;34m)\u001b[0m\u001b[0;34m\u001b[0m\u001b[0;34m\u001b[0m\u001b[0m\n",
      "\u001b[0;32m/shared-libs/python3.7/py/lib/python3.7/site-packages/keras/engine/training.py\u001b[0m in \u001b[0;36mfit\u001b[0;34m(self, x, y, batch_size, epochs, verbose, callbacks, validation_split, validation_data, shuffle, class_weight, sample_weight, initial_epoch, steps_per_epoch, validation_steps, validation_batch_size, validation_freq, max_queue_size, workers, use_multiprocessing)\u001b[0m\n\u001b[1;32m   1382\u001b[0m                 _r=1):\n\u001b[1;32m   1383\u001b[0m               \u001b[0mcallbacks\u001b[0m\u001b[0;34m.\u001b[0m\u001b[0mon_train_batch_begin\u001b[0m\u001b[0;34m(\u001b[0m\u001b[0mstep\u001b[0m\u001b[0;34m)\u001b[0m\u001b[0;34m\u001b[0m\u001b[0;34m\u001b[0m\u001b[0m\n\u001b[0;32m-> 1384\u001b[0;31m               \u001b[0mtmp_logs\u001b[0m \u001b[0;34m=\u001b[0m \u001b[0mself\u001b[0m\u001b[0;34m.\u001b[0m\u001b[0mtrain_function\u001b[0m\u001b[0;34m(\u001b[0m\u001b[0miterator\u001b[0m\u001b[0;34m)\u001b[0m\u001b[0;34m\u001b[0m\u001b[0;34m\u001b[0m\u001b[0m\n\u001b[0m\u001b[1;32m   1385\u001b[0m               \u001b[0;32mif\u001b[0m \u001b[0mdata_handler\u001b[0m\u001b[0;34m.\u001b[0m\u001b[0mshould_sync\u001b[0m\u001b[0;34m:\u001b[0m\u001b[0;34m\u001b[0m\u001b[0;34m\u001b[0m\u001b[0m\n\u001b[1;32m   1386\u001b[0m                 \u001b[0mcontext\u001b[0m\u001b[0;34m.\u001b[0m\u001b[0masync_wait\u001b[0m\u001b[0;34m(\u001b[0m\u001b[0;34m)\u001b[0m\u001b[0;34m\u001b[0m\u001b[0;34m\u001b[0m\u001b[0m\n",
      "\u001b[0;32m/shared-libs/python3.7/py/lib/python3.7/site-packages/tensorflow/python/util/traceback_utils.py\u001b[0m in \u001b[0;36merror_handler\u001b[0;34m(*args, **kwargs)\u001b[0m\n\u001b[1;32m    148\u001b[0m     \u001b[0mfiltered_tb\u001b[0m \u001b[0;34m=\u001b[0m \u001b[0;32mNone\u001b[0m\u001b[0;34m\u001b[0m\u001b[0;34m\u001b[0m\u001b[0m\n\u001b[1;32m    149\u001b[0m     \u001b[0;32mtry\u001b[0m\u001b[0;34m:\u001b[0m\u001b[0;34m\u001b[0m\u001b[0;34m\u001b[0m\u001b[0m\n\u001b[0;32m--> 150\u001b[0;31m       \u001b[0;32mreturn\u001b[0m \u001b[0mfn\u001b[0m\u001b[0;34m(\u001b[0m\u001b[0;34m*\u001b[0m\u001b[0margs\u001b[0m\u001b[0;34m,\u001b[0m \u001b[0;34m**\u001b[0m\u001b[0mkwargs\u001b[0m\u001b[0;34m)\u001b[0m\u001b[0;34m\u001b[0m\u001b[0;34m\u001b[0m\u001b[0m\n\u001b[0m\u001b[1;32m    151\u001b[0m     \u001b[0;32mexcept\u001b[0m \u001b[0mException\u001b[0m \u001b[0;32mas\u001b[0m \u001b[0me\u001b[0m\u001b[0;34m:\u001b[0m\u001b[0;34m\u001b[0m\u001b[0;34m\u001b[0m\u001b[0m\n\u001b[1;32m    152\u001b[0m       \u001b[0mfiltered_tb\u001b[0m \u001b[0;34m=\u001b[0m \u001b[0m_process_traceback_frames\u001b[0m\u001b[0;34m(\u001b[0m\u001b[0me\u001b[0m\u001b[0;34m.\u001b[0m\u001b[0m__traceback__\u001b[0m\u001b[0;34m)\u001b[0m\u001b[0;34m\u001b[0m\u001b[0;34m\u001b[0m\u001b[0m\n",
      "\u001b[0;32m/shared-libs/python3.7/py/lib/python3.7/site-packages/tensorflow/python/eager/def_function.py\u001b[0m in \u001b[0;36m__call__\u001b[0;34m(self, *args, **kwds)\u001b[0m\n\u001b[1;32m    913\u001b[0m \u001b[0;34m\u001b[0m\u001b[0m\n\u001b[1;32m    914\u001b[0m       \u001b[0;32mwith\u001b[0m \u001b[0mOptionalXlaContext\u001b[0m\u001b[0;34m(\u001b[0m\u001b[0mself\u001b[0m\u001b[0;34m.\u001b[0m\u001b[0m_jit_compile\u001b[0m\u001b[0;34m)\u001b[0m\u001b[0;34m:\u001b[0m\u001b[0;34m\u001b[0m\u001b[0;34m\u001b[0m\u001b[0m\n\u001b[0;32m--> 915\u001b[0;31m         \u001b[0mresult\u001b[0m \u001b[0;34m=\u001b[0m \u001b[0mself\u001b[0m\u001b[0;34m.\u001b[0m\u001b[0m_call\u001b[0m\u001b[0;34m(\u001b[0m\u001b[0;34m*\u001b[0m\u001b[0margs\u001b[0m\u001b[0;34m,\u001b[0m \u001b[0;34m**\u001b[0m\u001b[0mkwds\u001b[0m\u001b[0;34m)\u001b[0m\u001b[0;34m\u001b[0m\u001b[0;34m\u001b[0m\u001b[0m\n\u001b[0m\u001b[1;32m    916\u001b[0m \u001b[0;34m\u001b[0m\u001b[0m\n\u001b[1;32m    917\u001b[0m       \u001b[0mnew_tracing_count\u001b[0m \u001b[0;34m=\u001b[0m \u001b[0mself\u001b[0m\u001b[0;34m.\u001b[0m\u001b[0mexperimental_get_tracing_count\u001b[0m\u001b[0;34m(\u001b[0m\u001b[0;34m)\u001b[0m\u001b[0;34m\u001b[0m\u001b[0;34m\u001b[0m\u001b[0m\n",
      "\u001b[0;32m/shared-libs/python3.7/py/lib/python3.7/site-packages/tensorflow/python/eager/def_function.py\u001b[0m in \u001b[0;36m_call\u001b[0;34m(self, *args, **kwds)\u001b[0m\n\u001b[1;32m    945\u001b[0m       \u001b[0;31m# In this case we have created variables on the first call, so we run the\u001b[0m\u001b[0;34m\u001b[0m\u001b[0;34m\u001b[0m\u001b[0;34m\u001b[0m\u001b[0m\n\u001b[1;32m    946\u001b[0m       \u001b[0;31m# defunned version which is guaranteed to never create variables.\u001b[0m\u001b[0;34m\u001b[0m\u001b[0;34m\u001b[0m\u001b[0;34m\u001b[0m\u001b[0m\n\u001b[0;32m--> 947\u001b[0;31m       \u001b[0;32mreturn\u001b[0m \u001b[0mself\u001b[0m\u001b[0;34m.\u001b[0m\u001b[0m_stateless_fn\u001b[0m\u001b[0;34m(\u001b[0m\u001b[0;34m*\u001b[0m\u001b[0margs\u001b[0m\u001b[0;34m,\u001b[0m \u001b[0;34m**\u001b[0m\u001b[0mkwds\u001b[0m\u001b[0;34m)\u001b[0m  \u001b[0;31m# pylint: disable=not-callable\u001b[0m\u001b[0;34m\u001b[0m\u001b[0;34m\u001b[0m\u001b[0m\n\u001b[0m\u001b[1;32m    948\u001b[0m     \u001b[0;32melif\u001b[0m \u001b[0mself\u001b[0m\u001b[0;34m.\u001b[0m\u001b[0m_stateful_fn\u001b[0m \u001b[0;32mis\u001b[0m \u001b[0;32mnot\u001b[0m \u001b[0;32mNone\u001b[0m\u001b[0;34m:\u001b[0m\u001b[0;34m\u001b[0m\u001b[0;34m\u001b[0m\u001b[0m\n\u001b[1;32m    949\u001b[0m       \u001b[0;31m# Release the lock early so that multiple threads can perform the call\u001b[0m\u001b[0;34m\u001b[0m\u001b[0;34m\u001b[0m\u001b[0;34m\u001b[0m\u001b[0m\n",
      "\u001b[0;32m/shared-libs/python3.7/py/lib/python3.7/site-packages/tensorflow/python/eager/function.py\u001b[0m in \u001b[0;36m__call__\u001b[0;34m(self, *args, **kwargs)\u001b[0m\n\u001b[1;32m   2955\u001b[0m        filtered_flat_args) = self._maybe_define_function(args, kwargs)\n\u001b[1;32m   2956\u001b[0m     return graph_function._call_flat(\n\u001b[0;32m-> 2957\u001b[0;31m         filtered_flat_args, captured_inputs=graph_function.captured_inputs)  # pylint: disable=protected-access\n\u001b[0m\u001b[1;32m   2958\u001b[0m \u001b[0;34m\u001b[0m\u001b[0m\n\u001b[1;32m   2959\u001b[0m   \u001b[0;34m@\u001b[0m\u001b[0mproperty\u001b[0m\u001b[0;34m\u001b[0m\u001b[0;34m\u001b[0m\u001b[0m\n",
      "\u001b[0;32m/shared-libs/python3.7/py/lib/python3.7/site-packages/tensorflow/python/eager/function.py\u001b[0m in \u001b[0;36m_call_flat\u001b[0;34m(self, args, captured_inputs, cancellation_manager)\u001b[0m\n\u001b[1;32m   1852\u001b[0m       \u001b[0;31m# No tape is watching; skip to running the function.\u001b[0m\u001b[0;34m\u001b[0m\u001b[0;34m\u001b[0m\u001b[0;34m\u001b[0m\u001b[0m\n\u001b[1;32m   1853\u001b[0m       return self._build_call_outputs(self._inference_function.call(\n\u001b[0;32m-> 1854\u001b[0;31m           ctx, args, cancellation_manager=cancellation_manager))\n\u001b[0m\u001b[1;32m   1855\u001b[0m     forward_backward = self._select_forward_and_backward_functions(\n\u001b[1;32m   1856\u001b[0m         \u001b[0margs\u001b[0m\u001b[0;34m,\u001b[0m\u001b[0;34m\u001b[0m\u001b[0;34m\u001b[0m\u001b[0m\n",
      "\u001b[0;32m/shared-libs/python3.7/py/lib/python3.7/site-packages/tensorflow/python/eager/function.py\u001b[0m in \u001b[0;36mcall\u001b[0;34m(self, ctx, args, cancellation_manager)\u001b[0m\n\u001b[1;32m    502\u001b[0m               \u001b[0minputs\u001b[0m\u001b[0;34m=\u001b[0m\u001b[0margs\u001b[0m\u001b[0;34m,\u001b[0m\u001b[0;34m\u001b[0m\u001b[0;34m\u001b[0m\u001b[0m\n\u001b[1;32m    503\u001b[0m               \u001b[0mattrs\u001b[0m\u001b[0;34m=\u001b[0m\u001b[0mattrs\u001b[0m\u001b[0;34m,\u001b[0m\u001b[0;34m\u001b[0m\u001b[0;34m\u001b[0m\u001b[0m\n\u001b[0;32m--> 504\u001b[0;31m               ctx=ctx)\n\u001b[0m\u001b[1;32m    505\u001b[0m         \u001b[0;32melse\u001b[0m\u001b[0;34m:\u001b[0m\u001b[0;34m\u001b[0m\u001b[0;34m\u001b[0m\u001b[0m\n\u001b[1;32m    506\u001b[0m           outputs = execute.execute_with_cancellation(\n",
      "\u001b[0;32m/shared-libs/python3.7/py/lib/python3.7/site-packages/tensorflow/python/eager/execute.py\u001b[0m in \u001b[0;36mquick_execute\u001b[0;34m(op_name, num_outputs, inputs, attrs, ctx, name)\u001b[0m\n\u001b[1;32m     53\u001b[0m     \u001b[0mctx\u001b[0m\u001b[0;34m.\u001b[0m\u001b[0mensure_initialized\u001b[0m\u001b[0;34m(\u001b[0m\u001b[0;34m)\u001b[0m\u001b[0;34m\u001b[0m\u001b[0;34m\u001b[0m\u001b[0m\n\u001b[1;32m     54\u001b[0m     tensors = pywrap_tfe.TFE_Py_Execute(ctx._handle, device_name, op_name,\n\u001b[0;32m---> 55\u001b[0;31m                                         inputs, attrs, num_outputs)\n\u001b[0m\u001b[1;32m     56\u001b[0m   \u001b[0;32mexcept\u001b[0m \u001b[0mcore\u001b[0m\u001b[0;34m.\u001b[0m\u001b[0m_NotOkStatusException\u001b[0m \u001b[0;32mas\u001b[0m \u001b[0me\u001b[0m\u001b[0;34m:\u001b[0m\u001b[0;34m\u001b[0m\u001b[0;34m\u001b[0m\u001b[0m\n\u001b[1;32m     57\u001b[0m     \u001b[0;32mif\u001b[0m \u001b[0mname\u001b[0m \u001b[0;32mis\u001b[0m \u001b[0;32mnot\u001b[0m \u001b[0;32mNone\u001b[0m\u001b[0;34m:\u001b[0m\u001b[0;34m\u001b[0m\u001b[0;34m\u001b[0m\u001b[0m\n",
      "\u001b[0;31mKeyboardInterrupt\u001b[0m: "
     ]
    }
   ]
  },
  {
   "cell_type": "code",
   "metadata": {
    "id": "46M8IzrdKgf8",
    "cell_id": "00005-6638b2b3-8f74-4b10-9e0c-a787021ac706",
    "deepnote_cell_type": "code",
    "deepnote_cell_height": 498
   },
   "source": "clf = RandomForestClassifier(n_estimators=100)\nclf.fit(xTrain,yTrain)\nprint(f\"Random Forest :  {clf.score(xTest,yTest)}\")\nlogisticRegr = LogisticRegression()\nlogisticRegr.fit(xTrain, yTrain)\nprint(f\"Logistic Regression: {logisticRegr.score(xTest, yTest)}\")\nnc = NearestCentroid()\nnc.fit(xTrain,yTrain)\nprint(f\"Nearest Centroid: {nc.score(xTest,yTest)}\")\ngnb = GaussianNB()\ngnb.fit(xTrain, yTrain)\nprint(f\"GaussianNB: {gnb.score(xTest,yTest)}\")\nclf2 = KNeighborsClassifier(n_neighbors=2)\nclf2.fit(xTrain, yTrain)\nprint(f\"K-Neighbors: {clf2.score(xTest,yTest)}\")\ntree = DecisionTreeClassifier()\ntree.fit(xTrain, yTrain)\nprint(f\"Decision Tree: {tree.score(xTest,yTest)}\")\ngb = GradientBoostingClassifier(n_estimators=100, learning_rate=1.0,\n   max_depth=1, random_state=0).fit(xTrain, yTrain)\ngb.fit(xTrain,yTrain)\nprint(f\"Gradient Boost: {gb.score(xTest, yTest)}\")\nsvm = SVC()\nsvm.fit(xTrain,yTrain)\nprint(f\"SVM: {svm.score(xTest,yTest)}\")",
   "execution_count": null,
   "outputs": []
  },
  {
   "cell_type": "code",
   "metadata": {
    "id": "SFwh6-67na1X",
    "cell_id": "00006-95982b87-67a8-4984-9a62-6f7c9a7425b0",
    "deepnote_cell_type": "code",
    "deepnote_cell_height": 192
   },
   "source": "import os\nfiles = os.listdir(\"/content/gdrive/MyDrive/Colab Files/\")\n\ndata = pd.DataFrame()\nfor file in files:\n  address = f\"/content/gdrive/MyDrive/Colab Files/{file}\"\n  df = pd.read_csv(address)\n  data = pd.concat([data,df])",
   "execution_count": null,
   "outputs": []
  },
  {
   "cell_type": "code",
   "metadata": {
    "id": "IL0Gg7OMYIQv",
    "cell_id": "00007-fbe937bf-6963-457e-ac91-f860df57556a",
    "deepnote_cell_type": "code",
    "deepnote_cell_height": 390
   },
   "source": "symbols = read_syms_from_txt()\nlen(symbols)\npieces = 15\nnew_arrays = np.array_split(symbols, pieces)\nfor i in new_arrays:\n  dfs = []\n  for x in i:\n        data = yf.download(x,period=\"MAX\",interval=\"1d\",progress=False)\n        if data.empty :\n             print(\"Passing...\")\n        else:\n               dfs.append(data)\n  ndfs = dfs\n  dfs = []\n  for df in ndfs:\n        if df.shape[0] > 12:\n          dfs.append(df)\n  data = process(dfs)\n  data.to_csv(f\"{x}.csv\")         ",
   "execution_count": null,
   "outputs": []
  },
  {
   "cell_type": "code",
   "metadata": {
    "id": "Nu3DTgF_qBLr",
    "cell_id": "00008-f16b1fdf-0442-4a74-b96e-66c45f7cfab8",
    "deepnote_to_be_reexecuted": false,
    "source_hash": "72ec59da",
    "execution_start": 1649932930414,
    "execution_millis": 7903,
    "deepnote_cell_type": "code",
    "deepnote_cell_height": 791.375
   },
   "source": "address = \"/datasets/dff/Colab Files/1d_10pastcandle_newversion.csv\"\n#from google.colab import drive\n#drive.mount(\"/content/gdrive/\")\ndata = pd.read_csv(address)\ndata = data.drop(\"Unnamed: 0\",axis=1)\nxTrain, xTest, yTrain, yTest = spliting(data)\ndata",
   "execution_count": 3,
   "outputs": [
    {
     "name": "stdout",
     "text": "(1585459, 10) (1585459,)\n(176163, 10) (176163,)\n",
     "output_type": "stream"
    },
    {
     "output_type": "execute_result",
     "execution_count": 3,
     "data": {
      "application/vnd.deepnote.dataframe.v3+json": {
       "column_count": 11,
       "row_count": 1761622,
       "columns": [
        {
         "name": "0",
         "dtype": "float64"
        },
        {
         "name": "1",
         "dtype": "float64"
        },
        {
         "name": "2",
         "dtype": "float64"
        },
        {
         "name": "3",
         "dtype": "float64"
        },
        {
         "name": "4",
         "dtype": "float64"
        },
        {
         "name": "5",
         "dtype": "float64"
        },
        {
         "name": "6",
         "dtype": "float64"
        },
        {
         "name": "7",
         "dtype": "float64"
        },
        {
         "name": "8",
         "dtype": "float64"
        },
        {
         "name": "9",
         "dtype": "float64"
        },
        {
         "name": "sugg",
         "dtype": "float64"
        },
        {
         "name": "_deepnote_index_column",
         "dtype": "int64"
        }
       ],
       "rows": [
        {
         "0": 0.7231129645565773,
         "1": 0,
         "2": 0.3441396118881226,
         "3": 0.0981833124398878,
         "4": 0.1794369787184635,
         "5": 1,
         "6": 0.6929869487926972,
         "7": 0.409269841080782,
         "8": 0.2348822770977072,
         "9": 0.1152335549725904,
         "sugg": 0,
         "_deepnote_index_column": 0
        },
        {
         "0": 0.3005458904095324,
         "1": 0.5412557562175477,
         "2": 0.3692206117888164,
         "3": 0.4260538225866579,
         "4": 1,
         "5": 0.7852584596351422,
         "6": 0.5868113626849221,
         "7": 0.4648352643954903,
         "8": 0.3811464739978296,
         "9": 0,
         "sugg": 0,
         "_deepnote_index_column": 1
        },
        {
         "0": 0.554290088106618,
         "1": 0.3871429901208882,
         "2": 0.44236139497424,
         "3": 1,
         "4": 0.7913599258560753,
         "5": 0.5985513199804116,
         "6": 0.4800409369978995,
         "7": 0.3987300019831075,
         "8": 0.0284130690809307,
         "9": 0,
         "sugg": 1,
         "_deepnote_index_column": 2
        },
        {
         "0": 0.3871429901208882,
         "1": 0.44236139497424,
         "2": 1,
         "3": 0.7913599258560753,
         "4": 0.5985513199804116,
         "5": 0.4800409369978995,
         "6": 0.3987300019831075,
         "7": 0.0284130690809307,
         "8": 0,
         "9": 0.1902558612958191,
         "sugg": 0,
         "_deepnote_index_column": 3
        },
        {
         "0": 0.44236139497424,
         "1": 1,
         "2": 0.7913599258560753,
         "3": 0.5985513199804116,
         "4": 0.4800409369978995,
         "5": 0.3987300019831075,
         "6": 0.0284130690809307,
         "7": 0,
         "8": 0.1902558612958191,
         "9": 0.1350703395969841,
         "sugg": 0,
         "_deepnote_index_column": 4
        },
        {
         "0": 1,
         "1": 0.7927172754870222,
         "2": 0.6011630244667376,
         "3": 0.4834236344263285,
         "4": 0.4026416839227194,
         "5": 0.0347339217144808,
         "6": 0.0065056995235313,
         "7": 0.1955238133531693,
         "8": 0.140697312076556,
         "9": 0,
         "sugg": 0,
         "_deepnote_index_column": 5
        },
        {
         "0": 1,
         "1": 0.8173899377698728,
         "2": 0.7051481199678786,
         "3": 0.6281380983684475,
         "4": 0.2774089498690042,
         "5": 0.2504987801208571,
         "6": 0.4306911243011804,
         "7": 0.3784246214349913,
         "8": 0.2442968493961927,
         "9": 0,
         "sugg": 0,
         "_deepnote_index_column": 6
        },
        {
         "0": 0.9999999999999996,
         "1": 0.9135631781847376,
         "2": 0.854258173638907,
         "3": 0.5841635377185832,
         "4": 0.5634401603438302,
         "5": 0.7022053180310057,
         "6": 0.6619551645354398,
         "7": 0.5586640867604165,
         "8": 0.370532393468173,
         "9": 0,
         "sugg": 0,
         "_deepnote_index_column": 7
        },
        {
         "0": 0.9999999999999996,
         "1": 0.9415479942365166,
         "2": 0.6753381973331156,
         "3": 0.654912889502445,
         "4": 0.7916821530581593,
         "5": 0.7520109276342439,
         "6": 0.6502055113854976,
         "7": 0.464779763510982,
         "8": 0.0995768305642088,
         "9": 0,
         "sugg": 1,
         "_deepnote_index_column": 8
        },
        {
         "0": 1,
         "1": 0.7172636992134791,
         "2": 0.6955703729510896,
         "3": 0.8408303749827635,
         "4": 0.7986963301260444,
         "5": 0.6905707572695077,
         "6": 0.4936336398739431,
         "7": 0.1057586349009787,
         "8": 0,
         "9": 0.1211112866401258,
         "sugg": 1,
         "_deepnote_index_column": 9
        }
       ]
      },
      "text/plain": "                0         1         2         3         4         5         6  \\\n0        0.723113  0.000000  0.344140  0.098183  0.179437  1.000000  0.692987   \n1        0.300546  0.541256  0.369221  0.426054  1.000000  0.785258  0.586811   \n2        0.554290  0.387143  0.442361  1.000000  0.791360  0.598551  0.480041   \n3        0.387143  0.442361  1.000000  0.791360  0.598551  0.480041  0.398730   \n4        0.442361  1.000000  0.791360  0.598551  0.480041  0.398730  0.028413   \n...           ...       ...       ...       ...       ...       ...       ...   \n1761617  0.000000  0.110425  0.174078  0.177459  0.408812  0.400589  0.305815   \n1761618  0.000000  0.060724  0.063949  0.284657  0.276813  0.186399  0.477018   \n1761619  0.000000  0.003369  0.233901  0.225708  0.131269  0.434825  0.546900   \n1761620  0.000000  0.231311  0.223090  0.128333  0.432914  0.545369  0.822394   \n1761621  0.118140  0.108709  0.000000  0.349424  0.478435  0.796245  0.978229   \n\n                7         8         9  sugg  \n0        0.409270  0.234882  0.115234   0.0  \n1        0.464835  0.381146  0.000000   0.0  \n2        0.398730  0.028413  0.000000   1.0  \n3        0.028413  0.000000  0.190256   0.0  \n4        0.000000  0.190256  0.135070   0.0  \n...           ...       ...       ...   ...  \n1761617  0.610451  0.722925  1.000000   1.0  \n1761618  0.584317  0.848643  1.000000   1.0  \n1761619  0.822992  0.981087  1.000000   0.0  \n1761620  0.981023  1.000000  0.755756   0.0  \n1761621  1.000000  0.719797  0.497591   1.0  \n\n[1761622 rows x 11 columns]",
      "text/html": "<div>\n<style scoped>\n    .dataframe tbody tr th:only-of-type {\n        vertical-align: middle;\n    }\n\n    .dataframe tbody tr th {\n        vertical-align: top;\n    }\n\n    .dataframe thead th {\n        text-align: right;\n    }\n</style>\n<table border=\"1\" class=\"dataframe\">\n  <thead>\n    <tr style=\"text-align: right;\">\n      <th></th>\n      <th>0</th>\n      <th>1</th>\n      <th>2</th>\n      <th>3</th>\n      <th>4</th>\n      <th>5</th>\n      <th>6</th>\n      <th>7</th>\n      <th>8</th>\n      <th>9</th>\n      <th>sugg</th>\n    </tr>\n  </thead>\n  <tbody>\n    <tr>\n      <th>0</th>\n      <td>0.723113</td>\n      <td>0.000000</td>\n      <td>0.344140</td>\n      <td>0.098183</td>\n      <td>0.179437</td>\n      <td>1.000000</td>\n      <td>0.692987</td>\n      <td>0.409270</td>\n      <td>0.234882</td>\n      <td>0.115234</td>\n      <td>0.0</td>\n    </tr>\n    <tr>\n      <th>1</th>\n      <td>0.300546</td>\n      <td>0.541256</td>\n      <td>0.369221</td>\n      <td>0.426054</td>\n      <td>1.000000</td>\n      <td>0.785258</td>\n      <td>0.586811</td>\n      <td>0.464835</td>\n      <td>0.381146</td>\n      <td>0.000000</td>\n      <td>0.0</td>\n    </tr>\n    <tr>\n      <th>2</th>\n      <td>0.554290</td>\n      <td>0.387143</td>\n      <td>0.442361</td>\n      <td>1.000000</td>\n      <td>0.791360</td>\n      <td>0.598551</td>\n      <td>0.480041</td>\n      <td>0.398730</td>\n      <td>0.028413</td>\n      <td>0.000000</td>\n      <td>1.0</td>\n    </tr>\n    <tr>\n      <th>3</th>\n      <td>0.387143</td>\n      <td>0.442361</td>\n      <td>1.000000</td>\n      <td>0.791360</td>\n      <td>0.598551</td>\n      <td>0.480041</td>\n      <td>0.398730</td>\n      <td>0.028413</td>\n      <td>0.000000</td>\n      <td>0.190256</td>\n      <td>0.0</td>\n    </tr>\n    <tr>\n      <th>4</th>\n      <td>0.442361</td>\n      <td>1.000000</td>\n      <td>0.791360</td>\n      <td>0.598551</td>\n      <td>0.480041</td>\n      <td>0.398730</td>\n      <td>0.028413</td>\n      <td>0.000000</td>\n      <td>0.190256</td>\n      <td>0.135070</td>\n      <td>0.0</td>\n    </tr>\n    <tr>\n      <th>...</th>\n      <td>...</td>\n      <td>...</td>\n      <td>...</td>\n      <td>...</td>\n      <td>...</td>\n      <td>...</td>\n      <td>...</td>\n      <td>...</td>\n      <td>...</td>\n      <td>...</td>\n      <td>...</td>\n    </tr>\n    <tr>\n      <th>1761617</th>\n      <td>0.000000</td>\n      <td>0.110425</td>\n      <td>0.174078</td>\n      <td>0.177459</td>\n      <td>0.408812</td>\n      <td>0.400589</td>\n      <td>0.305815</td>\n      <td>0.610451</td>\n      <td>0.722925</td>\n      <td>1.000000</td>\n      <td>1.0</td>\n    </tr>\n    <tr>\n      <th>1761618</th>\n      <td>0.000000</td>\n      <td>0.060724</td>\n      <td>0.063949</td>\n      <td>0.284657</td>\n      <td>0.276813</td>\n      <td>0.186399</td>\n      <td>0.477018</td>\n      <td>0.584317</td>\n      <td>0.848643</td>\n      <td>1.000000</td>\n      <td>1.0</td>\n    </tr>\n    <tr>\n      <th>1761619</th>\n      <td>0.000000</td>\n      <td>0.003369</td>\n      <td>0.233901</td>\n      <td>0.225708</td>\n      <td>0.131269</td>\n      <td>0.434825</td>\n      <td>0.546900</td>\n      <td>0.822992</td>\n      <td>0.981087</td>\n      <td>1.000000</td>\n      <td>0.0</td>\n    </tr>\n    <tr>\n      <th>1761620</th>\n      <td>0.000000</td>\n      <td>0.231311</td>\n      <td>0.223090</td>\n      <td>0.128333</td>\n      <td>0.432914</td>\n      <td>0.545369</td>\n      <td>0.822394</td>\n      <td>0.981023</td>\n      <td>1.000000</td>\n      <td>0.755756</td>\n      <td>0.0</td>\n    </tr>\n    <tr>\n      <th>1761621</th>\n      <td>0.118140</td>\n      <td>0.108709</td>\n      <td>0.000000</td>\n      <td>0.349424</td>\n      <td>0.478435</td>\n      <td>0.796245</td>\n      <td>0.978229</td>\n      <td>1.000000</td>\n      <td>0.719797</td>\n      <td>0.497591</td>\n      <td>1.0</td>\n    </tr>\n  </tbody>\n</table>\n<p>1761622 rows × 11 columns</p>\n</div>"
     },
     "metadata": {}
    }
   ]
  },
  {
   "cell_type": "markdown",
   "source": "<a style='text-decoration:none;line-height:16px;display:flex;color:#5B5B62;padding:10px;justify-content:end;' href='https://deepnote.com?utm_source=created-in-deepnote-cell&projectId=5f407dcd-dd82-4da3-94bb-bd4c89cde6ea' target=\"_blank\">\n<img alt='Created in deepnote.com' style='display:inline;max-height:16px;margin:0px;margin-right:7.5px;' src='data:image/svg+xml;base64,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' > </img>\nCreated in <span style='font-weight:600;margin-left:4px;'>Deepnote</span></a>",
   "metadata": {
    "tags": [],
    "created_in_deepnote_cell": true,
    "deepnote_cell_type": "markdown"
   }
  }
 ],
 "nbformat": 4,
 "nbformat_minor": 0,
 "metadata": {
  "colab": {
   "name": " Binary_v39.ipynb",
   "provenance": []
  },
  "kernelspec": {
   "display_name": "Python 3",
   "name": "python3"
  },
  "language_info": {
   "name": "python"
  },
  "deepnote_notebook_id": "9dd955ba-a591-47f8-a9a2-e688c8cf6579",
  "deepnote": {},
  "deepnote_execution_queue": []
 }
}