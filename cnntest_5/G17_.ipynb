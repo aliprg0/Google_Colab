{
  "cells": [
    {
      "cell_type": "code",
      "execution_count": 4,
      "metadata": {
        "colab": {
          "base_uri": "https://localhost:8080/"
        },
        "id": "_5bxbCoe9do9",
        "outputId": "5f463637-097e-4188-ff52-eaff6f0cbc0e"
      },
      "outputs": [
        {
          "output_type": "stream",
          "name": "stdout",
          "text": [
            "Looking in indexes: https://pypi.org/simple, https://us-python.pkg.dev/colab-wheels/public/simple/\n",
            "Requirement already satisfied: yfinance in /usr/local/lib/python3.7/dist-packages (0.1.74)\n",
            "Requirement already satisfied: multitasking>=0.0.7 in /usr/local/lib/python3.7/dist-packages (from yfinance) (0.0.11)\n",
            "Requirement already satisfied: requests>=2.26 in /usr/local/lib/python3.7/dist-packages (from yfinance) (2.28.1)\n",
            "Requirement already satisfied: lxml>=4.5.1 in /usr/local/lib/python3.7/dist-packages (from yfinance) (4.9.1)\n",
            "Requirement already satisfied: numpy>=1.15 in /usr/local/lib/python3.7/dist-packages (from yfinance) (1.21.6)\n",
            "Requirement already satisfied: pandas>=0.24.0 in /usr/local/lib/python3.7/dist-packages (from yfinance) (1.3.5)\n",
            "Requirement already satisfied: pytz>=2017.3 in /usr/local/lib/python3.7/dist-packages (from pandas>=0.24.0->yfinance) (2022.1)\n",
            "Requirement already satisfied: python-dateutil>=2.7.3 in /usr/local/lib/python3.7/dist-packages (from pandas>=0.24.0->yfinance) (2.8.2)\n",
            "Requirement already satisfied: six>=1.5 in /usr/local/lib/python3.7/dist-packages (from python-dateutil>=2.7.3->pandas>=0.24.0->yfinance) (1.15.0)\n",
            "Requirement already satisfied: urllib3<1.27,>=1.21.1 in /usr/local/lib/python3.7/dist-packages (from requests>=2.26->yfinance) (1.26.11)\n",
            "Requirement already satisfied: idna<4,>=2.5 in /usr/local/lib/python3.7/dist-packages (from requests>=2.26->yfinance) (2.10)\n",
            "Requirement already satisfied: certifi>=2017.4.17 in /usr/local/lib/python3.7/dist-packages (from requests>=2.26->yfinance) (2022.6.15)\n",
            "Requirement already satisfied: charset-normalizer<3,>=2 in /usr/local/lib/python3.7/dist-packages (from requests>=2.26->yfinance) (2.1.0)\n",
            "Looking in indexes: https://pypi.org/simple, https://us-python.pkg.dev/colab-wheels/public/simple/\n",
            "Requirement already satisfied: yahooquery in /usr/local/lib/python3.7/dist-packages (2.2.15)\n",
            "Requirement already satisfied: tqdm>=4.54.1 in /usr/local/lib/python3.7/dist-packages (from yahooquery) (4.64.0)\n",
            "Requirement already satisfied: lxml>=4.6.2 in /usr/local/lib/python3.7/dist-packages (from yahooquery) (4.9.1)\n",
            "Requirement already satisfied: requests-futures>=1.0.0 in /usr/local/lib/python3.7/dist-packages (from yahooquery) (1.0.0)\n",
            "Requirement already satisfied: pandas>=0.24.0 in /usr/local/lib/python3.7/dist-packages (from yahooquery) (1.3.5)\n",
            "Requirement already satisfied: python-dateutil>=2.7.3 in /usr/local/lib/python3.7/dist-packages (from pandas>=0.24.0->yahooquery) (2.8.2)\n",
            "Requirement already satisfied: numpy>=1.17.3 in /usr/local/lib/python3.7/dist-packages (from pandas>=0.24.0->yahooquery) (1.21.6)\n",
            "Requirement already satisfied: pytz>=2017.3 in /usr/local/lib/python3.7/dist-packages (from pandas>=0.24.0->yahooquery) (2022.1)\n",
            "Requirement already satisfied: six>=1.5 in /usr/local/lib/python3.7/dist-packages (from python-dateutil>=2.7.3->pandas>=0.24.0->yahooquery) (1.15.0)\n",
            "Requirement already satisfied: requests>=1.2.0 in /usr/local/lib/python3.7/dist-packages (from requests-futures>=1.0.0->yahooquery) (2.28.1)\n",
            "Requirement already satisfied: urllib3<1.27,>=1.21.1 in /usr/local/lib/python3.7/dist-packages (from requests>=1.2.0->requests-futures>=1.0.0->yahooquery) (1.26.11)\n",
            "Requirement already satisfied: idna<4,>=2.5 in /usr/local/lib/python3.7/dist-packages (from requests>=1.2.0->requests-futures>=1.0.0->yahooquery) (2.10)\n",
            "Requirement already satisfied: charset-normalizer<3,>=2 in /usr/local/lib/python3.7/dist-packages (from requests>=1.2.0->requests-futures>=1.0.0->yahooquery) (2.1.0)\n",
            "Requirement already satisfied: certifi>=2017.4.17 in /usr/local/lib/python3.7/dist-packages (from requests>=1.2.0->requests-futures>=1.0.0->yahooquery) (2022.6.15)\n",
            "Looking in indexes: https://pypi.org/simple, https://us-python.pkg.dev/colab-wheels/public/simple/\n",
            "Requirement already satisfied: tvdatafeed in /usr/local/lib/python3.7/dist-packages (1.2.1)\n",
            "Requirement already satisfied: selenium in /usr/local/lib/python3.7/dist-packages (from tvdatafeed) (4.3.0)\n",
            "Requirement already satisfied: setuptools in /usr/local/lib/python3.7/dist-packages (from tvdatafeed) (57.4.0)\n",
            "Requirement already satisfied: pandas in /usr/local/lib/python3.7/dist-packages (from tvdatafeed) (1.3.5)\n",
            "Requirement already satisfied: chromedriver-autoinstaller in /usr/local/lib/python3.7/dist-packages (from tvdatafeed) (0.3.1)\n",
            "Requirement already satisfied: websocket-client in /usr/local/lib/python3.7/dist-packages (from tvdatafeed) (1.3.3)\n",
            "Requirement already satisfied: pytz>=2017.3 in /usr/local/lib/python3.7/dist-packages (from pandas->tvdatafeed) (2022.1)\n",
            "Requirement already satisfied: python-dateutil>=2.7.3 in /usr/local/lib/python3.7/dist-packages (from pandas->tvdatafeed) (2.8.2)\n",
            "Requirement already satisfied: numpy>=1.17.3 in /usr/local/lib/python3.7/dist-packages (from pandas->tvdatafeed) (1.21.6)\n",
            "Requirement already satisfied: six>=1.5 in /usr/local/lib/python3.7/dist-packages (from python-dateutil>=2.7.3->pandas->tvdatafeed) (1.15.0)\n",
            "Requirement already satisfied: trio~=0.17 in /usr/local/lib/python3.7/dist-packages (from selenium->tvdatafeed) (0.21.0)\n",
            "Requirement already satisfied: trio-websocket~=0.9 in /usr/local/lib/python3.7/dist-packages (from selenium->tvdatafeed) (0.9.2)\n",
            "Requirement already satisfied: urllib3[secure,socks]~=1.26 in /usr/local/lib/python3.7/dist-packages (from selenium->tvdatafeed) (1.26.11)\n",
            "Requirement already satisfied: attrs>=19.2.0 in /usr/local/lib/python3.7/dist-packages (from trio~=0.17->selenium->tvdatafeed) (21.4.0)\n",
            "Requirement already satisfied: async-generator>=1.9 in /usr/local/lib/python3.7/dist-packages (from trio~=0.17->selenium->tvdatafeed) (1.10)\n",
            "Requirement already satisfied: sniffio in /usr/local/lib/python3.7/dist-packages (from trio~=0.17->selenium->tvdatafeed) (1.2.0)\n",
            "Requirement already satisfied: idna in /usr/local/lib/python3.7/dist-packages (from trio~=0.17->selenium->tvdatafeed) (2.10)\n",
            "Requirement already satisfied: sortedcontainers in /usr/local/lib/python3.7/dist-packages (from trio~=0.17->selenium->tvdatafeed) (2.4.0)\n",
            "Requirement already satisfied: outcome in /usr/local/lib/python3.7/dist-packages (from trio~=0.17->selenium->tvdatafeed) (1.2.0)\n",
            "Requirement already satisfied: wsproto>=0.14 in /usr/local/lib/python3.7/dist-packages (from trio-websocket~=0.9->selenium->tvdatafeed) (1.1.0)\n",
            "Requirement already satisfied: PySocks!=1.5.7,<2.0,>=1.5.6 in /usr/local/lib/python3.7/dist-packages (from urllib3[secure,socks]~=1.26->selenium->tvdatafeed) (1.7.1)\n",
            "Requirement already satisfied: pyOpenSSL>=0.14 in /usr/local/lib/python3.7/dist-packages (from urllib3[secure,socks]~=1.26->selenium->tvdatafeed) (22.0.0)\n",
            "Requirement already satisfied: cryptography>=1.3.4 in /usr/local/lib/python3.7/dist-packages (from urllib3[secure,socks]~=1.26->selenium->tvdatafeed) (37.0.4)\n",
            "Requirement already satisfied: certifi in /usr/local/lib/python3.7/dist-packages (from urllib3[secure,socks]~=1.26->selenium->tvdatafeed) (2022.6.15)\n",
            "Requirement already satisfied: cffi>=1.12 in /usr/local/lib/python3.7/dist-packages (from cryptography>=1.3.4->urllib3[secure,socks]~=1.26->selenium->tvdatafeed) (1.15.1)\n",
            "Requirement already satisfied: pycparser in /usr/local/lib/python3.7/dist-packages (from cffi>=1.12->cryptography>=1.3.4->urllib3[secure,socks]~=1.26->selenium->tvdatafeed) (2.21)\n",
            "Requirement already satisfied: h11<1,>=0.9.0 in /usr/local/lib/python3.7/dist-packages (from wsproto>=0.14->trio-websocket~=0.9->selenium->tvdatafeed) (0.13.0)\n",
            "Requirement already satisfied: typing-extensions in /usr/local/lib/python3.7/dist-packages (from h11<1,>=0.9.0->wsproto>=0.14->trio-websocket~=0.9->selenium->tvdatafeed) (4.1.1)\n",
            "Looking in indexes: https://pypi.org/simple, https://us-python.pkg.dev/colab-wheels/public/simple/\n",
            "Requirement already satisfied: tensorflow in /usr/local/lib/python3.7/dist-packages (2.8.2+zzzcolab20220719082949)\n",
            "Requirement already satisfied: google-pasta>=0.1.1 in /usr/local/lib/python3.7/dist-packages (from tensorflow) (0.2.0)\n",
            "Requirement already satisfied: h5py>=2.9.0 in /usr/local/lib/python3.7/dist-packages (from tensorflow) (3.1.0)\n",
            "Requirement already satisfied: tensorflow-estimator<2.9,>=2.8 in /usr/local/lib/python3.7/dist-packages (from tensorflow) (2.8.0)\n",
            "Requirement already satisfied: gast>=0.2.1 in /usr/local/lib/python3.7/dist-packages (from tensorflow) (0.5.3)\n",
            "Requirement already satisfied: flatbuffers>=1.12 in /usr/local/lib/python3.7/dist-packages (from tensorflow) (2.0)\n",
            "Requirement already satisfied: opt-einsum>=2.3.2 in /usr/local/lib/python3.7/dist-packages (from tensorflow) (3.3.0)\n",
            "Requirement already satisfied: grpcio<2.0,>=1.24.3 in /usr/local/lib/python3.7/dist-packages (from tensorflow) (1.47.0)\n",
            "Requirement already satisfied: wrapt>=1.11.0 in /usr/local/lib/python3.7/dist-packages (from tensorflow) (1.14.1)\n",
            "Requirement already satisfied: tensorflow-io-gcs-filesystem>=0.23.1 in /usr/local/lib/python3.7/dist-packages (from tensorflow) (0.26.0)\n",
            "Requirement already satisfied: typing-extensions>=3.6.6 in /usr/local/lib/python3.7/dist-packages (from tensorflow) (4.1.1)\n",
            "Requirement already satisfied: tensorboard<2.9,>=2.8 in /usr/local/lib/python3.7/dist-packages (from tensorflow) (2.8.0)\n",
            "Requirement already satisfied: keras-preprocessing>=1.1.1 in /usr/local/lib/python3.7/dist-packages (from tensorflow) (1.1.2)\n",
            "Requirement already satisfied: keras<2.9,>=2.8.0rc0 in /usr/local/lib/python3.7/dist-packages (from tensorflow) (2.8.0)\n",
            "Requirement already satisfied: termcolor>=1.1.0 in /usr/local/lib/python3.7/dist-packages (from tensorflow) (1.1.0)\n",
            "Requirement already satisfied: astunparse>=1.6.0 in /usr/local/lib/python3.7/dist-packages (from tensorflow) (1.6.3)\n",
            "Requirement already satisfied: setuptools in /usr/local/lib/python3.7/dist-packages (from tensorflow) (57.4.0)\n",
            "Requirement already satisfied: libclang>=9.0.1 in /usr/local/lib/python3.7/dist-packages (from tensorflow) (14.0.1)\n",
            "Requirement already satisfied: six>=1.12.0 in /usr/local/lib/python3.7/dist-packages (from tensorflow) (1.15.0)\n",
            "Requirement already satisfied: numpy>=1.20 in /usr/local/lib/python3.7/dist-packages (from tensorflow) (1.21.6)\n",
            "Requirement already satisfied: absl-py>=0.4.0 in /usr/local/lib/python3.7/dist-packages (from tensorflow) (1.2.0)\n",
            "Requirement already satisfied: protobuf<3.20,>=3.9.2 in /usr/local/lib/python3.7/dist-packages (from tensorflow) (3.17.3)\n",
            "Requirement already satisfied: wheel<1.0,>=0.23.0 in /usr/local/lib/python3.7/dist-packages (from astunparse>=1.6.0->tensorflow) (0.37.1)\n",
            "Requirement already satisfied: cached-property in /usr/local/lib/python3.7/dist-packages (from h5py>=2.9.0->tensorflow) (1.5.2)\n",
            "Requirement already satisfied: tensorboard-data-server<0.7.0,>=0.6.0 in /usr/local/lib/python3.7/dist-packages (from tensorboard<2.9,>=2.8->tensorflow) (0.6.1)\n",
            "Requirement already satisfied: google-auth<3,>=1.6.3 in /usr/local/lib/python3.7/dist-packages (from tensorboard<2.9,>=2.8->tensorflow) (1.35.0)\n",
            "Requirement already satisfied: tensorboard-plugin-wit>=1.6.0 in /usr/local/lib/python3.7/dist-packages (from tensorboard<2.9,>=2.8->tensorflow) (1.8.1)\n",
            "Requirement already satisfied: requests<3,>=2.21.0 in /usr/local/lib/python3.7/dist-packages (from tensorboard<2.9,>=2.8->tensorflow) (2.28.1)\n",
            "Requirement already satisfied: werkzeug>=0.11.15 in /usr/local/lib/python3.7/dist-packages (from tensorboard<2.9,>=2.8->tensorflow) (1.0.1)\n",
            "Requirement already satisfied: markdown>=2.6.8 in /usr/local/lib/python3.7/dist-packages (from tensorboard<2.9,>=2.8->tensorflow) (3.4.1)\n",
            "Requirement already satisfied: google-auth-oauthlib<0.5,>=0.4.1 in /usr/local/lib/python3.7/dist-packages (from tensorboard<2.9,>=2.8->tensorflow) (0.4.6)\n",
            "Requirement already satisfied: pyasn1-modules>=0.2.1 in /usr/local/lib/python3.7/dist-packages (from google-auth<3,>=1.6.3->tensorboard<2.9,>=2.8->tensorflow) (0.2.8)\n",
            "Requirement already satisfied: rsa<5,>=3.1.4 in /usr/local/lib/python3.7/dist-packages (from google-auth<3,>=1.6.3->tensorboard<2.9,>=2.8->tensorflow) (4.9)\n",
            "Requirement already satisfied: cachetools<5.0,>=2.0.0 in /usr/local/lib/python3.7/dist-packages (from google-auth<3,>=1.6.3->tensorboard<2.9,>=2.8->tensorflow) (4.2.4)\n",
            "Requirement already satisfied: requests-oauthlib>=0.7.0 in /usr/local/lib/python3.7/dist-packages (from google-auth-oauthlib<0.5,>=0.4.1->tensorboard<2.9,>=2.8->tensorflow) (1.3.1)\n",
            "Requirement already satisfied: importlib-metadata>=4.4 in /usr/local/lib/python3.7/dist-packages (from markdown>=2.6.8->tensorboard<2.9,>=2.8->tensorflow) (4.12.0)\n",
            "Requirement already satisfied: zipp>=0.5 in /usr/local/lib/python3.7/dist-packages (from importlib-metadata>=4.4->markdown>=2.6.8->tensorboard<2.9,>=2.8->tensorflow) (3.8.1)\n",
            "Requirement already satisfied: pyasn1<0.5.0,>=0.4.6 in /usr/local/lib/python3.7/dist-packages (from pyasn1-modules>=0.2.1->google-auth<3,>=1.6.3->tensorboard<2.9,>=2.8->tensorflow) (0.4.8)\n",
            "Requirement already satisfied: charset-normalizer<3,>=2 in /usr/local/lib/python3.7/dist-packages (from requests<3,>=2.21.0->tensorboard<2.9,>=2.8->tensorflow) (2.1.0)\n",
            "Requirement already satisfied: certifi>=2017.4.17 in /usr/local/lib/python3.7/dist-packages (from requests<3,>=2.21.0->tensorboard<2.9,>=2.8->tensorflow) (2022.6.15)\n",
            "Requirement already satisfied: urllib3<1.27,>=1.21.1 in /usr/local/lib/python3.7/dist-packages (from requests<3,>=2.21.0->tensorboard<2.9,>=2.8->tensorflow) (1.26.11)\n",
            "Requirement already satisfied: idna<4,>=2.5 in /usr/local/lib/python3.7/dist-packages (from requests<3,>=2.21.0->tensorboard<2.9,>=2.8->tensorflow) (2.10)\n",
            "Requirement already satisfied: oauthlib>=3.0.0 in /usr/local/lib/python3.7/dist-packages (from requests-oauthlib>=0.7.0->google-auth-oauthlib<0.5,>=0.4.1->tensorboard<2.9,>=2.8->tensorflow) (3.2.0)\n",
            "Looking in indexes: https://pypi.org/simple, https://us-python.pkg.dev/colab-wheels/public/simple/\n",
            "Collecting mplfinance\n",
            "  Downloading mplfinance-0.12.9b1-py3-none-any.whl (70 kB)\n",
            "\u001b[K     |████████████████████████████████| 70 kB 3.1 MB/s \n",
            "\u001b[?25hRequirement already satisfied: matplotlib in /usr/local/lib/python3.7/dist-packages (from mplfinance) (3.2.2)\n",
            "Requirement already satisfied: pandas in /usr/local/lib/python3.7/dist-packages (from mplfinance) (1.3.5)\n",
            "Requirement already satisfied: cycler>=0.10 in /usr/local/lib/python3.7/dist-packages (from matplotlib->mplfinance) (0.11.0)\n",
            "Requirement already satisfied: kiwisolver>=1.0.1 in /usr/local/lib/python3.7/dist-packages (from matplotlib->mplfinance) (1.4.4)\n",
            "Requirement already satisfied: numpy>=1.11 in /usr/local/lib/python3.7/dist-packages (from matplotlib->mplfinance) (1.21.6)\n",
            "Requirement already satisfied: python-dateutil>=2.1 in /usr/local/lib/python3.7/dist-packages (from matplotlib->mplfinance) (2.8.2)\n",
            "Requirement already satisfied: pyparsing!=2.0.4,!=2.1.2,!=2.1.6,>=2.0.1 in /usr/local/lib/python3.7/dist-packages (from matplotlib->mplfinance) (3.0.9)\n",
            "Requirement already satisfied: typing-extensions in /usr/local/lib/python3.7/dist-packages (from kiwisolver>=1.0.1->matplotlib->mplfinance) (4.1.1)\n",
            "Requirement already satisfied: six>=1.5 in /usr/local/lib/python3.7/dist-packages (from python-dateutil>=2.1->matplotlib->mplfinance) (1.15.0)\n",
            "Requirement already satisfied: pytz>=2017.3 in /usr/local/lib/python3.7/dist-packages (from pandas->mplfinance) (2022.1)\n",
            "Installing collected packages: mplfinance\n",
            "Successfully installed mplfinance-0.12.9b1\n",
            "Looking in indexes: https://pypi.org/simple, https://us-python.pkg.dev/colab-wheels/public/simple/\n",
            "Requirement already satisfied: cairocffi in /usr/local/lib/python3.7/dist-packages (1.3.0)\n",
            "Requirement already satisfied: cffi>=1.1.0 in /usr/local/lib/python3.7/dist-packages (from cairocffi) (1.15.1)\n",
            "Requirement already satisfied: pycparser in /usr/local/lib/python3.7/dist-packages (from cffi>=1.1.0->cairocffi) (2.21)\n"
          ]
        }
      ],
      "source": [
        "!pip install yfinance\n",
        "!pip install yahooquery\n",
        "!pip install tvdatafeed\n",
        "!pip install tensorflow\n",
        "!pip install mplfinance\n",
        "!pip install cairocffi\n",
        "from tvDatafeed import TvDatafeed, Interval\n",
        "from yahooquery import Screener\n",
        "import yfinance as yf   \n",
        "import pandas as pd\n",
        "import numpy as np\n",
        "from sklearn.model_selection import train_test_split\n",
        "from sklearn.preprocessing import MinMaxScaler\n",
        "import tensorflow as tf\n",
        "import random \n",
        "from tensorflow.keras.models import load_model\n",
        "import os\n",
        "import shutil\n",
        "import mplfinance as mpl \n",
        "from datetime import datetime\n",
        "import glob\n",
        "from PIL import Image\n",
        "import cv2\n",
        "%matplotlib notebook\n",
        "import gc\n",
        "import matplotlib.pyplot as plt\n",
        "import matplotlib\n",
        "matplotlib.use('cairo')\n",
        "from keras.models import Sequential\n",
        "from keras.layers import Conv2D,MaxPooling2D,Activation,Dropout,Flatten,Dense,AveragePooling2D,GlobalAveragePooling2D\n",
        "%matplotlib inline"
      ]
    },
    {
      "cell_type": "code",
      "execution_count": 5,
      "metadata": {
        "id": "IB_YMoe09qVP"
      },
      "outputs": [],
      "source": [
        "def work_with_dir():\n",
        "  if os.path.exists(\"/content/data/\"):\n",
        "    shutil.rmtree(\"/content/data/\", ignore_errors=True)\n",
        "    print(\"Data Folder Removed\")\n",
        "    os.mkdir(\"/content/data/\")\n",
        "  if not os.path.exists(\"/content/data/\"):\n",
        "    os.mkdir(\"/content/data/\")\n",
        "  if not os.path.exists(\"/content/extracted/\"):\n",
        "    os.mkdir(\"/content/extracted/\")\n",
        "  if not os.path.exists(\"/content/checkpoints/\"):\n",
        "    os.mkdir(\"/content/checkpoints/\")\n",
        "\n",
        "def get_crypto_syms():\n",
        "   screens = [\n",
        "       'all_cryptocurrencies_us', 'all_cryptocurrencies_au', 'all_cryptocurrencies_ca', 'all_cryptocurrencies_eu', 'all_cryptocurrencies_gb', 'all_cryptocurrencies_in', ]\n",
        "   s = Screener()\n",
        "   symbols = []\n",
        "   for i in screens:\n",
        "      data = s.get_screeners(i, count=250)\n",
        "      dicts = data[i]['quotes']\n",
        "      syms = [d['symbol'] for d in dicts]\n",
        "      for sym in syms:\n",
        "        symbols.append(sym)\n",
        "   return symbols\n",
        "\n",
        "def download_data(symbols, periodd, intervall):\n",
        "  indexx = 100\n",
        "  work_with_dir()\n",
        "  for symbol in symbols:\n",
        "    if ((symbols.index(symbol)+1) % 100 == 0):\n",
        "      print(f\" -- {indexx}\", end=\"\")\n",
        "      indexx = indexx + 100\n",
        "    try:\n",
        "        data = yf.download(symbol, period=periodd,\n",
        "                           interval=intervall, progress=False, show_errors=False)\n",
        "        if data.empty:\n",
        "           pass\n",
        "        else:\n",
        "            data.to_csv(f\"/content/data/{symbol}.csv\")\n",
        "    except:\n",
        "       print(\"Error!\")\n",
        "  print(\" \")\n",
        "\n",
        "def extract_data(how_many_future_candles, how_many_past_candles, each_row_past):\n",
        "  print(f\"Files In Data : {len(os.listdir('/content/data/'))}\")\n",
        "  pd.options.mode.chained_assignment = None\n",
        "  files = os.listdir(\"/content/data/\")\n",
        "  print(\"Processing File:\")\n",
        "  now = datetime.now().strftime(\"%H%M%S\")\n",
        "  os.mkdir(f\"/content/extracted/{now}/\")\n",
        "  index = 1\n",
        "  for file in files:\n",
        "     print(f\"File Number {index}:\", end=\" \")\n",
        "     each_file_proc(file, now, how_many_future_candles,\n",
        "                    how_many_past_candles, each_row_past)\n",
        "     index = index + 1\n",
        "  print(\" \")\n",
        "  return now\n",
        "\n",
        "def each_file_proc(file, now, how_many_future_candles, how_many_past_candles, each_row_past):\n",
        "\n",
        "    address = f\"/content/data/{file}\"\n",
        "    data = pd.read_csv(address)\n",
        "\n",
        "    if len(data.columns) == 7:\n",
        "      data = data.iloc[:, 1:]\n",
        "\n",
        "    data = np.array(data)\n",
        "    data = data.astype(float)\n",
        "    max_index = data.shape[0]-which_future_or_past\n",
        "    for i in range(each_row_past,max_index):\n",
        "\n",
        "        rows = data[i-each_row_past:i, :]\n",
        "        past_candles = []\n",
        "        for z in range(1, how_many_past_candles+1):\n",
        "          past_candles.append((data[i-z][3]+data[i-z][0])/2)\n",
        "        past_candles = sum(past_candles)/len(past_candles)\n",
        "        next_candles = []\n",
        "        for z in range(0, how_many_future_candles):\n",
        "          next_candles.append((data[i+z][3]+data[i+z][0])/2)\n",
        "        next_candles = sum(next_candles)/len(next_candles)\n",
        "        if next_candles > past_candles:\n",
        "          sugg = 1\n",
        "        else:\n",
        "          sugg = 0\n",
        "\n",
        "        df = pd.DataFrame(rows, columns=[\"Open\", \"High\", \"Low\", \"Close\",\"Adj Close\",\"Volume\"])\n",
        "\n",
        "        df.index.name = \"Date\"\n",
        "\n",
        "        df.index = pd.to_datetime(df.index)\n",
        "        right_now = datetime.now().strftime(\"%H%M%S%f\")\n",
        "        address = f\"/content/extracted/{now}/{right_now}_{sugg}.png\"\n",
        "        \n",
        "\n",
        "        fig, _a = mpl.plot(df, type=\"candle\", style=\"yahoo\", axisoff=True,\n",
        "                            returnfig=True, tight_layout=True,figsize =(1.5,1.5))\n",
        "        \n",
        "        fig.savefig(address)\n",
        "        fig.clf()\n",
        "\n",
        "        if i % 10 == 0:\n",
        "            print(f\"{i}/{max_index}\", end=\" \")\n",
        "        if i % 20:\n",
        "          plt.close(\"all\")\n",
        "    plt.close(\"all\")\n",
        "    print(\"\")\n",
        "\n",
        "def start(how_many_future_candles, how_many_past_candles, each_row_past):\n",
        "    folder_name = extract_data(\n",
        "        how_many_future_candles, how_many_past_candles, each_row_past)\n",
        "    return folder_name"
      ]
    },
    {
      "cell_type": "code",
      "execution_count": 6,
      "metadata": {
        "colab": {
          "base_uri": "https://localhost:8080/"
        },
        "id": "AMR8z1BIS-M_",
        "outputId": "8b8c461f-f37c-419f-f654-2b4b7c3e1c00"
      },
      "outputs": [
        {
          "output_type": "stream",
          "name": "stdout",
          "text": [
            "Symbols : 1500\n",
            " \n"
          ]
        }
      ],
      "source": [
        "symbols = get_crypto_syms()\n",
        "print(f\"Symbols : {len(symbols)}\")\n",
        "symbols = [\"btc-usd\",\"eth-usd\",\"trx-usd\",\"ltc-usd\",\"xrp-usd\",\"bnb-usd\"]\n",
        "download_data(symbols,\"max\",\"1d\")"
      ]
    },
    {
      "cell_type": "code",
      "execution_count": 7,
      "metadata": {
        "id": "TxTyv_osQAnY",
        "colab": {
          "base_uri": "https://localhost:8080/"
        },
        "outputId": "c0f16683-ba0c-4cba-ebf4-c0c902f12a08"
      },
      "outputs": [
        {
          "output_type": "stream",
          "name": "stdout",
          "text": [
            "Files In Data : 6\n",
            "Processing File:\n",
            "File Number 1: 50/1719 60/1719 70/1719 80/1719 90/1719 100/1719 110/1719 120/1719 130/1719 140/1719 150/1719 160/1719 170/1719 180/1719 190/1719 200/1719 210/1719 220/1719 230/1719 240/1719 250/1719 260/1719 270/1719 280/1719 290/1719 300/1719 310/1719 320/1719 330/1719 340/1719 350/1719 360/1719 370/1719 380/1719 390/1719 400/1719 410/1719 420/1719 430/1719 440/1719 450/1719 460/1719 470/1719 480/1719 490/1719 500/1719 510/1719 520/1719 530/1719 540/1719 550/1719 560/1719 570/1719 580/1719 590/1719 600/1719 610/1719 620/1719 630/1719 640/1719 650/1719 660/1719 670/1719 680/1719 690/1719 700/1719 710/1719 720/1719 730/1719 740/1719 750/1719 760/1719 770/1719 780/1719 790/1719 800/1719 810/1719 820/1719 830/1719 840/1719 850/1719 860/1719 870/1719 880/1719 890/1719 900/1719 910/1719 920/1719 930/1719 940/1719 950/1719 960/1719 970/1719 980/1719 990/1719 1000/1719 1010/1719 1020/1719 1030/1719 1040/1719 1050/1719 1060/1719 1070/1719 1080/1719 1090/1719 1100/1719 1110/1719 1120/1719 1130/1719 1140/1719 1150/1719 1160/1719 1170/1719 1180/1719 1190/1719 1200/1719 1210/1719 1220/1719 1230/1719 1240/1719 1250/1719 1260/1719 1270/1719 1280/1719 1290/1719 1300/1719 1310/1719 1320/1719 1330/1719 1340/1719 1350/1719 1360/1719 1370/1719 1380/1719 1390/1719 1400/1719 1410/1719 1420/1719 1430/1719 1440/1719 1450/1719 1460/1719 1470/1719 1480/1719 1490/1719 1500/1719 1510/1719 1520/1719 1530/1719 1540/1719 1550/1719 1560/1719 1570/1719 1580/1719 1590/1719 1600/1719 1610/1719 1620/1719 1630/1719 1640/1719 1650/1719 1660/1719 1670/1719 1680/1719 1690/1719 1700/1719 1710/1719 \n",
            "File Number 2: 50/1719 60/1719 70/1719 80/1719 90/1719 100/1719 110/1719 120/1719 130/1719 140/1719 150/1719 160/1719 170/1719 180/1719 190/1719 200/1719 210/1719 220/1719 230/1719 240/1719 250/1719 260/1719 270/1719 280/1719 290/1719 300/1719 310/1719 320/1719 330/1719 340/1719 350/1719 360/1719 370/1719 380/1719 390/1719 400/1719 410/1719 420/1719 430/1719 440/1719 450/1719 460/1719 470/1719 480/1719 490/1719 500/1719 510/1719 520/1719 530/1719 540/1719 550/1719 560/1719 570/1719 580/1719 590/1719 600/1719 610/1719 620/1719 630/1719 640/1719 650/1719 660/1719 670/1719 680/1719 690/1719 700/1719 710/1719 720/1719 730/1719 740/1719 750/1719 760/1719 770/1719 780/1719 790/1719 800/1719 810/1719 820/1719 830/1719 840/1719 850/1719 860/1719 870/1719 880/1719 890/1719 900/1719 910/1719 920/1719 930/1719 940/1719 950/1719 960/1719 970/1719 980/1719 990/1719 1000/1719 1010/1719 1020/1719 1030/1719 1040/1719 1050/1719 1060/1719 1070/1719 1080/1719 1090/1719 1100/1719 1110/1719 1120/1719 1130/1719 1140/1719 1150/1719 1160/1719 1170/1719 1180/1719 1190/1719 1200/1719 1210/1719 1220/1719 1230/1719 1240/1719 1250/1719 1260/1719 1270/1719 1280/1719 1290/1719 1300/1719 1310/1719 1320/1719 1330/1719 1340/1719 1350/1719 1360/1719 1370/1719 1380/1719 1390/1719 1400/1719 1410/1719 1420/1719 1430/1719 1440/1719 1450/1719 1460/1719 1470/1719 1480/1719 1490/1719 1500/1719 1510/1719 1520/1719 1530/1719 1540/1719 1550/1719 1560/1719 1570/1719 1580/1719 1590/1719 1600/1719 1610/1719 1620/1719 1630/1719 1640/1719 1650/1719 1660/1719 1670/1719 1680/1719 1690/1719 1700/1719 1710/1719 \n",
            "File Number 3: 50/1719 60/1719 70/1719 80/1719 90/1719 100/1719 110/1719 120/1719 130/1719 140/1719 150/1719 160/1719 170/1719 180/1719 190/1719 200/1719 210/1719 220/1719 230/1719 240/1719 250/1719 260/1719 270/1719 280/1719 290/1719 300/1719 310/1719 320/1719 330/1719 340/1719 350/1719 360/1719 370/1719 380/1719 390/1719 400/1719 410/1719 420/1719 430/1719 440/1719 450/1719 460/1719 470/1719 480/1719 490/1719 500/1719 510/1719 520/1719 530/1719 540/1719 550/1719 560/1719 570/1719 580/1719 590/1719 600/1719 610/1719 620/1719 630/1719 640/1719 650/1719 660/1719 670/1719 680/1719 690/1719 700/1719 710/1719 720/1719 730/1719 740/1719 750/1719 760/1719 770/1719 780/1719 790/1719 800/1719 810/1719 820/1719 830/1719 840/1719 850/1719 860/1719 870/1719 880/1719 890/1719 900/1719 910/1719 920/1719 930/1719 940/1719 950/1719 960/1719 970/1719 980/1719 990/1719 1000/1719 1010/1719 1020/1719 1030/1719 1040/1719 1050/1719 1060/1719 1070/1719 1080/1719 1090/1719 1100/1719 1110/1719 1120/1719 1130/1719 1140/1719 1150/1719 1160/1719 1170/1719 1180/1719 1190/1719 1200/1719 1210/1719 1220/1719 1230/1719 1240/1719 1250/1719 1260/1719 1270/1719 1280/1719 1290/1719 1300/1719 1310/1719 1320/1719 1330/1719 1340/1719 1350/1719 1360/1719 1370/1719 1380/1719 1390/1719 1400/1719 1410/1719 1420/1719 1430/1719 1440/1719 1450/1719 1460/1719 1470/1719 1480/1719 1490/1719 1500/1719 1510/1719 1520/1719 1530/1719 1540/1719 1550/1719 1560/1719 1570/1719 1580/1719 1590/1719 1600/1719 1610/1719 1620/1719 1630/1719 1640/1719 1650/1719 1660/1719 1670/1719 1680/1719 1690/1719 1700/1719 1710/1719 \n",
            "File Number 4: 50/2868 60/2868 70/2868 80/2868 90/2868 100/2868 110/2868 120/2868 130/2868 140/2868 150/2868 160/2868 170/2868 180/2868 190/2868 200/2868 210/2868 220/2868 230/2868 240/2868 250/2868 260/2868 270/2868 280/2868 290/2868 300/2868 310/2868 320/2868 330/2868 340/2868 350/2868 360/2868 370/2868 380/2868 390/2868 400/2868 410/2868 420/2868 430/2868 440/2868 450/2868 460/2868 470/2868 480/2868 490/2868 500/2868 510/2868 520/2868 530/2868 540/2868 550/2868 560/2868 570/2868 580/2868 590/2868 600/2868 610/2868 620/2868 630/2868 640/2868 650/2868 660/2868 670/2868 680/2868 690/2868 700/2868 710/2868 720/2868 730/2868 740/2868 750/2868 760/2868 770/2868 780/2868 790/2868 800/2868 810/2868 820/2868 830/2868 840/2868 850/2868 860/2868 870/2868 880/2868 890/2868 900/2868 910/2868 920/2868 930/2868 940/2868 950/2868 960/2868 970/2868 980/2868 990/2868 1000/2868 1010/2868 1020/2868 1030/2868 1040/2868 1050/2868 1060/2868 1070/2868 1080/2868 1090/2868 1100/2868 1110/2868 1120/2868 1130/2868 1140/2868 1150/2868 1160/2868 1170/2868 1180/2868 1190/2868 1200/2868 1210/2868 1220/2868 1230/2868 1240/2868 1250/2868 1260/2868 1270/2868 1280/2868 1290/2868 1300/2868 1310/2868 1320/2868 1330/2868 1340/2868 1350/2868 1360/2868 1370/2868 1380/2868 1390/2868 1400/2868 1410/2868 1420/2868 1430/2868 1440/2868 1450/2868 1460/2868 1470/2868 1480/2868 1490/2868 1500/2868 1510/2868 1520/2868 1530/2868 1540/2868 1550/2868 1560/2868 1570/2868 1580/2868 1590/2868 1600/2868 1610/2868 1620/2868 1630/2868 1640/2868 1650/2868 1660/2868 1670/2868 1680/2868 1690/2868 1700/2868 1710/2868 1720/2868 1730/2868 1740/2868 1750/2868 1760/2868 1770/2868 1780/2868 1790/2868 1800/2868 1810/2868 1820/2868 1830/2868 1840/2868 1850/2868 1860/2868 1870/2868 1880/2868 1890/2868 1900/2868 1910/2868 1920/2868 1930/2868 1940/2868 1950/2868 1960/2868 1970/2868 1980/2868 1990/2868 2000/2868 2010/2868 2020/2868 2030/2868 2040/2868 2050/2868 2060/2868 2070/2868 2080/2868 2090/2868 2100/2868 2110/2868 2120/2868 2130/2868 2140/2868 2150/2868 2160/2868 2170/2868 2180/2868 2190/2868 2200/2868 2210/2868 2220/2868 2230/2868 2240/2868 2250/2868 2260/2868 2270/2868 2280/2868 2290/2868 2300/2868 2310/2868 2320/2868 2330/2868 2340/2868 2350/2868 2360/2868 2370/2868 2380/2868 2390/2868 2400/2868 2410/2868 2420/2868 2430/2868 2440/2868 2450/2868 2460/2868 2470/2868 2480/2868 2490/2868 2500/2868 2510/2868 2520/2868 2530/2868 2540/2868 2550/2868 2560/2868 2570/2868 2580/2868 2590/2868 2600/2868 2610/2868 2620/2868 2630/2868 2640/2868 2650/2868 2660/2868 2670/2868 2680/2868 2690/2868 2700/2868 2710/2868 2720/2868 2730/2868 2740/2868 2750/2868 2760/2868 2770/2868 2780/2868 2790/2868 2800/2868 2810/2868 2820/2868 2830/2868 2840/2868 2850/2868 2860/2868 \n",
            "File Number 5: 50/1719 60/1719 70/1719 80/1719 90/1719 100/1719 110/1719 120/1719 130/1719 140/1719 150/1719 160/1719 170/1719 180/1719 190/1719 200/1719 210/1719 220/1719 230/1719 240/1719 250/1719 260/1719 270/1719 280/1719 290/1719 300/1719 310/1719 320/1719 330/1719 340/1719 350/1719 360/1719 370/1719 380/1719 390/1719 400/1719 410/1719 420/1719 430/1719 440/1719 450/1719 460/1719 470/1719 480/1719 490/1719 500/1719 510/1719 520/1719 530/1719 540/1719 550/1719 560/1719 570/1719 580/1719 590/1719 600/1719 610/1719 620/1719 630/1719 640/1719 650/1719 660/1719 670/1719 680/1719 690/1719 700/1719 710/1719 720/1719 730/1719 740/1719 750/1719 760/1719 770/1719 780/1719 790/1719 800/1719 810/1719 820/1719 830/1719 840/1719 850/1719 860/1719 870/1719 880/1719 890/1719 900/1719 910/1719 920/1719 930/1719 940/1719 950/1719 960/1719 970/1719 980/1719 990/1719 1000/1719 1010/1719 1020/1719 1030/1719 1040/1719 1050/1719 1060/1719 1070/1719 1080/1719 1090/1719 1100/1719 1110/1719 1120/1719 1130/1719 1140/1719 1150/1719 1160/1719 1170/1719 1180/1719 1190/1719 1200/1719 1210/1719 1220/1719 1230/1719 1240/1719 1250/1719 1260/1719 1270/1719 1280/1719 1290/1719 1300/1719 1310/1719 1320/1719 1330/1719 1340/1719 1350/1719 1360/1719 1370/1719 1380/1719 1390/1719 1400/1719 1410/1719 1420/1719 1430/1719 1440/1719 1450/1719 1460/1719 1470/1719 1480/1719 1490/1719 1500/1719 1510/1719 1520/1719 1530/1719 1540/1719 1550/1719 1560/1719 1570/1719 1580/1719 1590/1719 1600/1719 1610/1719 1620/1719 1630/1719 1640/1719 1650/1719 1660/1719 1670/1719 1680/1719 1690/1719 1700/1719 1710/1719 \n",
            "File Number 6: 50/2868 60/2868 70/2868 80/2868 90/2868 100/2868 110/2868 120/2868 130/2868 140/2868 150/2868 160/2868 170/2868 180/2868 190/2868 200/2868 210/2868 220/2868 230/2868 240/2868 250/2868 260/2868 270/2868 280/2868 290/2868 300/2868 310/2868 320/2868 330/2868 340/2868 350/2868 360/2868 370/2868 380/2868 390/2868 400/2868 410/2868 420/2868 430/2868 440/2868 450/2868 460/2868 470/2868 480/2868 490/2868 500/2868 510/2868 520/2868 530/2868 540/2868 550/2868 560/2868 570/2868 580/2868 590/2868 600/2868 610/2868 620/2868 630/2868 640/2868 650/2868 660/2868 670/2868 680/2868 690/2868 700/2868 710/2868 720/2868 730/2868 740/2868 750/2868 760/2868 770/2868 780/2868 790/2868 800/2868 810/2868 820/2868 830/2868 840/2868 850/2868 860/2868 870/2868 880/2868 890/2868 900/2868 910/2868 920/2868 930/2868 940/2868 950/2868 960/2868 970/2868 980/2868 990/2868 1000/2868 1010/2868 1020/2868 1030/2868 1040/2868 1050/2868 1060/2868 1070/2868 1080/2868 1090/2868 1100/2868 1110/2868 1120/2868 1130/2868 1140/2868 1150/2868 1160/2868 1170/2868 1180/2868 1190/2868 1200/2868 1210/2868 1220/2868 1230/2868 1240/2868 1250/2868 1260/2868 1270/2868 1280/2868 1290/2868 1300/2868 1310/2868 1320/2868 1330/2868 1340/2868 1350/2868 1360/2868 1370/2868 1380/2868 1390/2868 1400/2868 1410/2868 1420/2868 1430/2868 1440/2868 1450/2868 1460/2868 1470/2868 1480/2868 1490/2868 1500/2868 1510/2868 1520/2868 1530/2868 1540/2868 1550/2868 1560/2868 1570/2868 1580/2868 1590/2868 1600/2868 1610/2868 1620/2868 1630/2868 1640/2868 1650/2868 1660/2868 1670/2868 1680/2868 1690/2868 1700/2868 1710/2868 1720/2868 1730/2868 1740/2868 1750/2868 1760/2868 1770/2868 1780/2868 1790/2868 1800/2868 1810/2868 1820/2868 1830/2868 1840/2868 1850/2868 1860/2868 1870/2868 1880/2868 1890/2868 1900/2868 1910/2868 1920/2868 1930/2868 1940/2868 1950/2868 1960/2868 1970/2868 1980/2868 1990/2868 2000/2868 2010/2868 2020/2868 2030/2868 2040/2868 2050/2868 2060/2868 2070/2868 2080/2868 2090/2868 2100/2868 2110/2868 2120/2868 2130/2868 2140/2868 2150/2868 2160/2868 2170/2868 2180/2868 2190/2868 2200/2868 2210/2868 2220/2868 2230/2868 2240/2868 2250/2868 2260/2868 2270/2868 2280/2868 2290/2868 2300/2868 2310/2868 2320/2868 2330/2868 2340/2868 2350/2868 2360/2868 2370/2868 2380/2868 2390/2868 2400/2868 2410/2868 2420/2868 2430/2868 2440/2868 2450/2868 2460/2868 2470/2868 2480/2868 2490/2868 2500/2868 2510/2868 2520/2868 2530/2868 2540/2868 2550/2868 2560/2868 2570/2868 2580/2868 2590/2868 2600/2868 2610/2868 2620/2868 2630/2868 2640/2868 2650/2868 2660/2868 2670/2868 2680/2868 2690/2868 2700/2868 2710/2868 2720/2868 2730/2868 2740/2868 2750/2868 2760/2868 2770/2868 2780/2868 2790/2868 2800/2868 2810/2868 2820/2868 2830/2868 2840/2868 2850/2868 2860/2868 \n",
            " \n"
          ]
        },
        {
          "output_type": "execute_result",
          "data": {
            "text/plain": [
              "12312"
            ]
          },
          "metadata": {},
          "execution_count": 7
        }
      ],
      "source": [
        "how_many_future_candles = 1\n",
        "how_many_past_candles = 1\n",
        "each_row_past = 50\n",
        "\n",
        "\n",
        "global which_future_or_past\n",
        "which_future_or_past = None\n",
        "if how_many_future_candles > how_many_past_candles:\n",
        "    which_future_or_past = how_many_future_candles\n",
        "else:\n",
        "    which_future_or_past = how_many_past_candles\n",
        "folder_name = start(how_many_future_candles,how_many_past_candles,each_row_past)\n",
        "len(os.listdir(f\"/content/extracted/{folder_name}\"))"
      ]
    },
    {
      "cell_type": "code",
      "execution_count": 8,
      "metadata": {
        "id": "dQpQvhf-pwpR",
        "colab": {
          "base_uri": "https://localhost:8080/"
        },
        "outputId": "409830a2-c6c8-46ab-a260-21546fd6022d"
      },
      "outputs": [
        {
          "output_type": "stream",
          "name": "stdout",
          "text": [
            "(12312, 80, 110)\n",
            "xTrain : 9849 \\ xTest : 2463\n",
            "yn: 6345 nn: 5967\n"
          ]
        }
      ],
      "source": [
        "you_want_to_save_into_rar_right = True\n",
        "file_name = \"123456\"\n",
        "if you_want_to_save_into_rar_right:\n",
        "   shutil.make_archive(folder_name,\"zip\",f\"/content/extracted/{folder_name}/\")\n",
        "else:\n",
        "   folder_name = file_name\n",
        "   shutil.unpack_archive(f\"/content/{folder_name}.zip\",f\"/content/extracted/{folder_name}\")\n",
        "label = []\n",
        "data  = []\n",
        "files = os.listdir(f\"/content/extracted/{folder_name}/\")\n",
        "for i, image_name in enumerate(files):\n",
        "  if image_name.split(\".\")[1] == \"png\":\n",
        "    image = cv2.imread(f\"/content/extracted/{folder_name}\"+\"/\"+image_name,0)\n",
        "    dim = (110, 80)\n",
        "    resized = cv2.resize(image, dim)\n",
        "    data.append(np.array(resized))\n",
        "    sugg = image_name.split(\"_\")[1].split(\".\")[0]\n",
        "    label.append(int(sugg))\n",
        "data = np.array(data)\n",
        "data = data / 255\n",
        "print(data.shape)\n",
        "xTrain , xTest , yTrain , yTest = train_test_split(data,label,test_size=0.2,random_state=99)\n",
        "data = None\n",
        "label = None\n",
        "print(f\"xTrain : {len(xTrain)} \\\\ xTest : {len(xTest)}\")\n",
        "nytrain = []\n",
        "nytest = []\n",
        "yn = 0\n",
        "nn = 0\n",
        "for i in yTrain:\n",
        "  if i == 1:\n",
        "    nytrain.append([1,0])\n",
        "    yn += 1\n",
        "  else:\n",
        "    nytrain.append([0,1])\n",
        "    nn += 1\n",
        "for i in yTest:\n",
        "  if i == 1:\n",
        "    nytest.append([1,0])\n",
        "    yn += 1\n",
        "  else:\n",
        "    nytest.append([0,1])\n",
        "    nn += 1\n",
        "yTrain = np.array(nytrain)\n",
        "yTest = np.array(nytest)\n",
        "print(f\"yn: {yn} nn: {nn}\")"
      ]
    },
    {
      "cell_type": "code",
      "execution_count": 9,
      "metadata": {
        "id": "9stbJK8Nx_0c",
        "colab": {
          "base_uri": "https://localhost:8080/"
        },
        "outputId": "6f987b03-20f5-4e90-8324-e65e1b06e633"
      },
      "outputs": [
        {
          "output_type": "stream",
          "name": "stdout",
          "text": [
            "Model: \"sequential\"\n",
            "_________________________________________________________________\n",
            " Layer (type)                Output Shape              Param #   \n",
            "=================================================================\n",
            " conv2d (Conv2D)             (None, 77, 107, 128)      2176      \n",
            "                                                                 \n",
            " conv2d_1 (Conv2D)           (None, 75, 105, 100)      115300    \n",
            "                                                                 \n",
            " max_pooling2d (MaxPooling2D  (None, 37, 52, 100)      0         \n",
            " )                                                               \n",
            "                                                                 \n",
            " conv2d_2 (Conv2D)           (None, 36, 51, 100)       40100     \n",
            "                                                                 \n",
            " average_pooling2d (AverageP  (None, 18, 25, 100)      0         \n",
            " ooling2D)                                                       \n",
            "                                                                 \n",
            " conv2d_3 (Conv2D)           (None, 17, 24, 64)        25664     \n",
            "                                                                 \n",
            " average_pooling2d_1 (Averag  (None, 8, 12, 64)        0         \n",
            " ePooling2D)                                                     \n",
            "                                                                 \n",
            " conv2d_4 (Conv2D)           (None, 6, 10, 32)         18464     \n",
            "                                                                 \n",
            " flatten (Flatten)           (None, 1920)              0         \n",
            "                                                                 \n",
            " dense (Dense)               (None, 512)               983552    \n",
            "                                                                 \n",
            " dense_1 (Dense)             (None, 512)               262656    \n",
            "                                                                 \n",
            " dense_2 (Dense)             (None, 512)               262656    \n",
            "                                                                 \n",
            " dense_3 (Dense)             (None, 512)               262656    \n",
            "                                                                 \n",
            " dense_4 (Dense)             (None, 2)                 1026      \n",
            "                                                                 \n",
            "=================================================================\n",
            "Total params: 1,974,250\n",
            "Trainable params: 1,974,250\n",
            "Non-trainable params: 0\n",
            "_________________________________________________________________\n"
          ]
        }
      ],
      "source": [
        "model = Sequential()\n",
        "\n",
        "model.add(Conv2D(128,    (4, 4),activation=\"relu\", input_shape=(xTrain.shape[1], xTrain.shape[2],1)))\n",
        "model.add(Conv2D(100,    (3,3),activation=\"relu\",))\n",
        "model.add(MaxPooling2D(pool_size=(2, 2)))\n",
        "model.add(Conv2D(100,    (2, 2),activation=\"relu\",))\n",
        "model.add(AveragePooling2D(pool_size=(2, 2)))\n",
        "model.add(Conv2D(64,    (2, 2),activation=\"relu\",))\n",
        "model.add(AveragePooling2D(pool_size=(2, 2)))\n",
        "model.add(Conv2D(32,    (3, 3),activation=\"relu\",))\n",
        "model.add(Flatten())\n",
        "model.add(Dense(512,activation=\"relu\"))\n",
        "model.add(Dense(512,activation=\"relu\"))\n",
        "model.add(Dense(512,activation=\"relu\"))\n",
        "model.add(Dense(512,activation=\"relu\"))\n",
        "model.add(Dense(2,activation=\"sigmoid\"))\n",
        "\n",
        "adamax = tf.keras.optimizers.Adamax(\n",
        "    learning_rate=0.001)\n",
        "model.compile(loss='categorical_crossentropy',\n",
        "              optimizer=adamax,\n",
        "              metrics=['accuracy'])\n",
        "model.summary()"
      ]
    },
    {
      "cell_type": "code",
      "execution_count": null,
      "metadata": {
        "id": "cytWxowTyInc",
        "colab": {
          "base_uri": "https://localhost:8080/"
        },
        "outputId": "b11b8b2e-c25b-453b-8319-a841ea5a049f"
      },
      "outputs": [
        {
          "output_type": "stream",
          "name": "stdout",
          "text": [
            "Epoch 1/20\n",
            "121/616 [====>.........................] - ETA: 20:52 - loss: 0.6932 - accuracy: 0.5145"
          ]
        }
      ],
      "source": [
        "filepath = \"/content/checkpoints/{epoch:02d}-{val_accuracy:.2f}.h5\"\n",
        "model_checkpoint_callback = tf.keras.callbacks.ModelCheckpoint(\n",
        "    filepath=filepath,\n",
        "    save_weights_only=False,\n",
        "    monitor='val_accuracy',\n",
        "    mode='max',\n",
        "    save_best_only=True)\n",
        "\n",
        "#model.fit(xTrain,yTrain,batch_size=64,epochs=30,validation_data=(xTest,yTest), callbacks=model_checkpoint_callback)\n",
        "model.fit(xTrain,yTrain,batch_size=16,epochs=20,validation_data=(xTest,yTest))\n"
      ]
    },
    {
      "cell_type": "code",
      "source": [
        "model.save(\"first_model.h5\")"
      ],
      "metadata": {
        "id": "UgUhFkNfwDtr"
      },
      "execution_count": null,
      "outputs": []
    },
    {
      "cell_type": "code",
      "source": [
        "yf.download(\"btc-usd\",period=\"max\",interval=\"1d\")\n"
      ],
      "metadata": {
        "id": "vHKlJ2UYxM5e"
      },
      "execution_count": null,
      "outputs": []
    },
    {
      "cell_type": "code",
      "source": [
        "data = yf.download(\"btc-usd\",period=\"max\",interval=\"1d\")\n",
        "data = np.array(data)\n",
        "data = data.astype(float)"
      ],
      "metadata": {
        "id": "8IZSQPvww42k"
      },
      "execution_count": null,
      "outputs": []
    },
    {
      "cell_type": "code",
      "source": [
        "\n",
        "rows = data[-31:-1, :]\n",
        "df = pd.DataFrame(rows, columns=[\"Open\", \"High\", \"Low\", \"Close\",\"Adj Close\",\"Volume\"])\n",
        "df.index.name = \"Date\"\n",
        "df.index = pd.to_datetime(df.index)\n",
        "fig, _a = mpl.plot(df, type=\"candle\", style=\"yahoo\", axisoff=True,\n",
        "                            returnfig=True, tight_layout=True,figsize =(1.5,1.5))\n",
        "fig.savefig(\"btctobepred.png\")"
      ],
      "metadata": {
        "id": "qgz7BAj5wwlN"
      },
      "execution_count": null,
      "outputs": []
    },
    {
      "cell_type": "code",
      "source": [
        "image = cv2.imread(\"/content/btctobepred.png\",0)\n",
        "dim = (110, 80)\n",
        "resized = cv2.resize(image, dim)\n",
        "data = np.array(resized)"
      ],
      "metadata": {
        "id": "Hdb2r1l8yB-0"
      },
      "execution_count": null,
      "outputs": []
    },
    {
      "cell_type": "code",
      "source": [
        "data.shape"
      ],
      "metadata": {
        "id": "ADQv7QGjytsO"
      },
      "execution_count": null,
      "outputs": []
    },
    {
      "cell_type": "code",
      "source": [
        "model.predict([[data.reshape(1,80,110)]])"
      ],
      "metadata": {
        "id": "I8nJ2wI-ynZw"
      },
      "execution_count": null,
      "outputs": []
    },
    {
      "cell_type": "code",
      "source": [
        "from google.colab import drive\n",
        "drive.mount('/content/drive')"
      ],
      "metadata": {
        "id": "3B7lUM_NBNxj"
      },
      "execution_count": null,
      "outputs": []
    },
    {
      "cell_type": "code",
      "source": [
        "yf.download(\"btc-usd\",period=\"max\",interval=\"1d\")"
      ],
      "metadata": {
        "id": "iRpQm3110I28"
      },
      "execution_count": null,
      "outputs": []
    },
    {
      "cell_type": "code",
      "source": [
        "data = yf.download(\"btc-usd\",period=\"max\",interval=\"1d\")"
      ],
      "metadata": {
        "id": "Nlh5ipre0M-_"
      },
      "execution_count": null,
      "outputs": []
    },
    {
      "cell_type": "code",
      "source": [
        "data = np.array(data)"
      ],
      "metadata": {
        "id": "oxSEZpYR0hHW"
      },
      "execution_count": null,
      "outputs": []
    },
    {
      "cell_type": "code",
      "source": [
        "data[-11:-1,:]"
      ],
      "metadata": {
        "id": "lJ_d2_e00UmO"
      },
      "execution_count": null,
      "outputs": []
    }
  ],
  "metadata": {
    "colab": {
      "collapsed_sections": [],
      "name": "G17-",
      "provenance": []
    },
    "gpuClass": "standard",
    "kernelspec": {
      "display_name": "Python 3",
      "name": "python3"
    },
    "language_info": {
      "name": "python"
    }
  },
  "nbformat": 4,
  "nbformat_minor": 0
}