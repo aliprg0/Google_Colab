{
  "cells": [
    {
      "cell_type": "code",
      "execution_count": 1,
      "metadata": {
        "colab": {
          "base_uri": "https://localhost:8080/"
        },
        "id": "_5bxbCoe9do9",
        "outputId": "a4eed17e-202b-4c89-9e87-e8f2f880fcf2"
      },
      "outputs": [
        {
          "output_type": "stream",
          "name": "stdout",
          "text": [
            "Looking in indexes: https://pypi.org/simple, https://us-python.pkg.dev/colab-wheels/public/simple/\n",
            "Requirement already satisfied: yfinance in /usr/local/lib/python3.7/dist-packages (0.1.73)\n",
            "Requirement already satisfied: requests>=2.26 in /usr/local/lib/python3.7/dist-packages (from yfinance) (2.28.1)\n",
            "Requirement already satisfied: pandas>=0.24.0 in /usr/local/lib/python3.7/dist-packages (from yfinance) (1.3.5)\n",
            "Requirement already satisfied: multitasking>=0.0.7 in /usr/local/lib/python3.7/dist-packages (from yfinance) (0.0.10)\n",
            "Requirement already satisfied: lxml>=4.5.1 in /usr/local/lib/python3.7/dist-packages (from yfinance) (4.9.1)\n",
            "Requirement already satisfied: numpy>=1.15 in /usr/local/lib/python3.7/dist-packages (from yfinance) (1.21.6)\n",
            "Requirement already satisfied: pytz>=2017.3 in /usr/local/lib/python3.7/dist-packages (from pandas>=0.24.0->yfinance) (2022.1)\n",
            "Requirement already satisfied: python-dateutil>=2.7.3 in /usr/local/lib/python3.7/dist-packages (from pandas>=0.24.0->yfinance) (2.8.2)\n",
            "Requirement already satisfied: six>=1.5 in /usr/local/lib/python3.7/dist-packages (from python-dateutil>=2.7.3->pandas>=0.24.0->yfinance) (1.15.0)\n",
            "Requirement already satisfied: charset-normalizer<3,>=2 in /usr/local/lib/python3.7/dist-packages (from requests>=2.26->yfinance) (2.1.0)\n",
            "Requirement already satisfied: urllib3<1.27,>=1.21.1 in /usr/local/lib/python3.7/dist-packages (from requests>=2.26->yfinance) (1.26.10)\n",
            "Requirement already satisfied: idna<4,>=2.5 in /usr/local/lib/python3.7/dist-packages (from requests>=2.26->yfinance) (2.10)\n",
            "Requirement already satisfied: certifi>=2017.4.17 in /usr/local/lib/python3.7/dist-packages (from requests>=2.26->yfinance) (2022.6.15)\n",
            "Looking in indexes: https://pypi.org/simple, https://us-python.pkg.dev/colab-wheels/public/simple/\n",
            "Requirement already satisfied: yahooquery in /usr/local/lib/python3.7/dist-packages (2.2.15)\n",
            "Requirement already satisfied: lxml>=4.6.2 in /usr/local/lib/python3.7/dist-packages (from yahooquery) (4.9.1)\n",
            "Requirement already satisfied: tqdm>=4.54.1 in /usr/local/lib/python3.7/dist-packages (from yahooquery) (4.64.0)\n",
            "Requirement already satisfied: requests-futures>=1.0.0 in /usr/local/lib/python3.7/dist-packages (from yahooquery) (1.0.0)\n",
            "Requirement already satisfied: pandas>=0.24.0 in /usr/local/lib/python3.7/dist-packages (from yahooquery) (1.3.5)\n",
            "Requirement already satisfied: pytz>=2017.3 in /usr/local/lib/python3.7/dist-packages (from pandas>=0.24.0->yahooquery) (2022.1)\n",
            "Requirement already satisfied: python-dateutil>=2.7.3 in /usr/local/lib/python3.7/dist-packages (from pandas>=0.24.0->yahooquery) (2.8.2)\n",
            "Requirement already satisfied: numpy>=1.17.3 in /usr/local/lib/python3.7/dist-packages (from pandas>=0.24.0->yahooquery) (1.21.6)\n",
            "Requirement already satisfied: six>=1.5 in /usr/local/lib/python3.7/dist-packages (from python-dateutil>=2.7.3->pandas>=0.24.0->yahooquery) (1.15.0)\n",
            "Requirement already satisfied: requests>=1.2.0 in /usr/local/lib/python3.7/dist-packages (from requests-futures>=1.0.0->yahooquery) (2.28.1)\n",
            "Requirement already satisfied: urllib3<1.27,>=1.21.1 in /usr/local/lib/python3.7/dist-packages (from requests>=1.2.0->requests-futures>=1.0.0->yahooquery) (1.26.10)\n",
            "Requirement already satisfied: idna<4,>=2.5 in /usr/local/lib/python3.7/dist-packages (from requests>=1.2.0->requests-futures>=1.0.0->yahooquery) (2.10)\n",
            "Requirement already satisfied: certifi>=2017.4.17 in /usr/local/lib/python3.7/dist-packages (from requests>=1.2.0->requests-futures>=1.0.0->yahooquery) (2022.6.15)\n",
            "Requirement already satisfied: charset-normalizer<3,>=2 in /usr/local/lib/python3.7/dist-packages (from requests>=1.2.0->requests-futures>=1.0.0->yahooquery) (2.1.0)\n",
            "Looking in indexes: https://pypi.org/simple, https://us-python.pkg.dev/colab-wheels/public/simple/\n",
            "Requirement already satisfied: tvdatafeed in /usr/local/lib/python3.7/dist-packages (1.2.1)\n",
            "Requirement already satisfied: chromedriver-autoinstaller in /usr/local/lib/python3.7/dist-packages (from tvdatafeed) (0.3.1)\n",
            "Requirement already satisfied: pandas in /usr/local/lib/python3.7/dist-packages (from tvdatafeed) (1.3.5)\n",
            "Requirement already satisfied: websocket-client in /usr/local/lib/python3.7/dist-packages (from tvdatafeed) (1.3.3)\n",
            "Requirement already satisfied: setuptools in /usr/local/lib/python3.7/dist-packages (from tvdatafeed) (57.4.0)\n",
            "Requirement already satisfied: selenium in /usr/local/lib/python3.7/dist-packages (from tvdatafeed) (4.3.0)\n",
            "Requirement already satisfied: python-dateutil>=2.7.3 in /usr/local/lib/python3.7/dist-packages (from pandas->tvdatafeed) (2.8.2)\n",
            "Requirement already satisfied: numpy>=1.17.3 in /usr/local/lib/python3.7/dist-packages (from pandas->tvdatafeed) (1.21.6)\n",
            "Requirement already satisfied: pytz>=2017.3 in /usr/local/lib/python3.7/dist-packages (from pandas->tvdatafeed) (2022.1)\n",
            "Requirement already satisfied: six>=1.5 in /usr/local/lib/python3.7/dist-packages (from python-dateutil>=2.7.3->pandas->tvdatafeed) (1.15.0)\n",
            "Requirement already satisfied: trio~=0.17 in /usr/local/lib/python3.7/dist-packages (from selenium->tvdatafeed) (0.21.0)\n",
            "Requirement already satisfied: urllib3[secure,socks]~=1.26 in /usr/local/lib/python3.7/dist-packages (from selenium->tvdatafeed) (1.26.10)\n",
            "Requirement already satisfied: trio-websocket~=0.9 in /usr/local/lib/python3.7/dist-packages (from selenium->tvdatafeed) (0.9.2)\n",
            "Requirement already satisfied: async-generator>=1.9 in /usr/local/lib/python3.7/dist-packages (from trio~=0.17->selenium->tvdatafeed) (1.10)\n",
            "Requirement already satisfied: sortedcontainers in /usr/local/lib/python3.7/dist-packages (from trio~=0.17->selenium->tvdatafeed) (2.4.0)\n",
            "Requirement already satisfied: sniffio in /usr/local/lib/python3.7/dist-packages (from trio~=0.17->selenium->tvdatafeed) (1.2.0)\n",
            "Requirement already satisfied: attrs>=19.2.0 in /usr/local/lib/python3.7/dist-packages (from trio~=0.17->selenium->tvdatafeed) (21.4.0)\n",
            "Requirement already satisfied: idna in /usr/local/lib/python3.7/dist-packages (from trio~=0.17->selenium->tvdatafeed) (2.10)\n",
            "Requirement already satisfied: outcome in /usr/local/lib/python3.7/dist-packages (from trio~=0.17->selenium->tvdatafeed) (1.2.0)\n",
            "Requirement already satisfied: wsproto>=0.14 in /usr/local/lib/python3.7/dist-packages (from trio-websocket~=0.9->selenium->tvdatafeed) (1.1.0)\n",
            "Requirement already satisfied: PySocks!=1.5.7,<2.0,>=1.5.6 in /usr/local/lib/python3.7/dist-packages (from urllib3[secure,socks]~=1.26->selenium->tvdatafeed) (1.7.1)\n",
            "Requirement already satisfied: certifi in /usr/local/lib/python3.7/dist-packages (from urllib3[secure,socks]~=1.26->selenium->tvdatafeed) (2022.6.15)\n",
            "Requirement already satisfied: pyOpenSSL>=0.14 in /usr/local/lib/python3.7/dist-packages (from urllib3[secure,socks]~=1.26->selenium->tvdatafeed) (22.0.0)\n",
            "Requirement already satisfied: cryptography>=1.3.4 in /usr/local/lib/python3.7/dist-packages (from urllib3[secure,socks]~=1.26->selenium->tvdatafeed) (37.0.4)\n",
            "Requirement already satisfied: cffi>=1.12 in /usr/local/lib/python3.7/dist-packages (from cryptography>=1.3.4->urllib3[secure,socks]~=1.26->selenium->tvdatafeed) (1.15.0)\n",
            "Requirement already satisfied: pycparser in /usr/local/lib/python3.7/dist-packages (from cffi>=1.12->cryptography>=1.3.4->urllib3[secure,socks]~=1.26->selenium->tvdatafeed) (2.21)\n",
            "Requirement already satisfied: h11<1,>=0.9.0 in /usr/local/lib/python3.7/dist-packages (from wsproto>=0.14->trio-websocket~=0.9->selenium->tvdatafeed) (0.13.0)\n",
            "Requirement already satisfied: typing-extensions in /usr/local/lib/python3.7/dist-packages (from h11<1,>=0.9.0->wsproto>=0.14->trio-websocket~=0.9->selenium->tvdatafeed) (4.1.1)\n",
            "Looking in indexes: https://pypi.org/simple, https://us-python.pkg.dev/colab-wheels/public/simple/\n",
            "Requirement already satisfied: tensorflow in /usr/local/lib/python3.7/dist-packages (2.8.2+zzzcolab20220527125636)\n",
            "Requirement already satisfied: h5py>=2.9.0 in /usr/local/lib/python3.7/dist-packages (from tensorflow) (3.1.0)\n",
            "Requirement already satisfied: typing-extensions>=3.6.6 in /usr/local/lib/python3.7/dist-packages (from tensorflow) (4.1.1)\n",
            "Requirement already satisfied: libclang>=9.0.1 in /usr/local/lib/python3.7/dist-packages (from tensorflow) (14.0.1)\n",
            "Requirement already satisfied: absl-py>=0.4.0 in /usr/local/lib/python3.7/dist-packages (from tensorflow) (1.1.0)\n",
            "Requirement already satisfied: tensorflow-estimator<2.9,>=2.8 in /usr/local/lib/python3.7/dist-packages (from tensorflow) (2.8.0)\n",
            "Requirement already satisfied: keras<2.9,>=2.8.0rc0 in /usr/local/lib/python3.7/dist-packages (from tensorflow) (2.8.0)\n",
            "Requirement already satisfied: tensorflow-io-gcs-filesystem>=0.23.1 in /usr/local/lib/python3.7/dist-packages (from tensorflow) (0.26.0)\n",
            "Requirement already satisfied: protobuf<3.20,>=3.9.2 in /usr/local/lib/python3.7/dist-packages (from tensorflow) (3.17.3)\n",
            "Requirement already satisfied: gast>=0.2.1 in /usr/local/lib/python3.7/dist-packages (from tensorflow) (0.5.3)\n",
            "Requirement already satisfied: numpy>=1.20 in /usr/local/lib/python3.7/dist-packages (from tensorflow) (1.21.6)\n",
            "Requirement already satisfied: opt-einsum>=2.3.2 in /usr/local/lib/python3.7/dist-packages (from tensorflow) (3.3.0)\n",
            "Requirement already satisfied: flatbuffers>=1.12 in /usr/local/lib/python3.7/dist-packages (from tensorflow) (2.0)\n",
            "Requirement already satisfied: grpcio<2.0,>=1.24.3 in /usr/local/lib/python3.7/dist-packages (from tensorflow) (1.46.3)\n",
            "Requirement already satisfied: wrapt>=1.11.0 in /usr/local/lib/python3.7/dist-packages (from tensorflow) (1.14.1)\n",
            "Requirement already satisfied: astunparse>=1.6.0 in /usr/local/lib/python3.7/dist-packages (from tensorflow) (1.6.3)\n",
            "Requirement already satisfied: keras-preprocessing>=1.1.1 in /usr/local/lib/python3.7/dist-packages (from tensorflow) (1.1.2)\n",
            "Requirement already satisfied: setuptools in /usr/local/lib/python3.7/dist-packages (from tensorflow) (57.4.0)\n",
            "Requirement already satisfied: tensorboard<2.9,>=2.8 in /usr/local/lib/python3.7/dist-packages (from tensorflow) (2.8.0)\n",
            "Requirement already satisfied: google-pasta>=0.1.1 in /usr/local/lib/python3.7/dist-packages (from tensorflow) (0.2.0)\n",
            "Requirement already satisfied: six>=1.12.0 in /usr/local/lib/python3.7/dist-packages (from tensorflow) (1.15.0)\n",
            "Requirement already satisfied: termcolor>=1.1.0 in /usr/local/lib/python3.7/dist-packages (from tensorflow) (1.1.0)\n",
            "Requirement already satisfied: wheel<1.0,>=0.23.0 in /usr/local/lib/python3.7/dist-packages (from astunparse>=1.6.0->tensorflow) (0.37.1)\n",
            "Requirement already satisfied: cached-property in /usr/local/lib/python3.7/dist-packages (from h5py>=2.9.0->tensorflow) (1.5.2)\n",
            "Requirement already satisfied: google-auth<3,>=1.6.3 in /usr/local/lib/python3.7/dist-packages (from tensorboard<2.9,>=2.8->tensorflow) (1.35.0)\n",
            "Requirement already satisfied: markdown>=2.6.8 in /usr/local/lib/python3.7/dist-packages (from tensorboard<2.9,>=2.8->tensorflow) (3.3.7)\n",
            "Requirement already satisfied: tensorboard-plugin-wit>=1.6.0 in /usr/local/lib/python3.7/dist-packages (from tensorboard<2.9,>=2.8->tensorflow) (1.8.1)\n",
            "Requirement already satisfied: werkzeug>=0.11.15 in /usr/local/lib/python3.7/dist-packages (from tensorboard<2.9,>=2.8->tensorflow) (1.0.1)\n",
            "Requirement already satisfied: tensorboard-data-server<0.7.0,>=0.6.0 in /usr/local/lib/python3.7/dist-packages (from tensorboard<2.9,>=2.8->tensorflow) (0.6.1)\n",
            "Requirement already satisfied: requests<3,>=2.21.0 in /usr/local/lib/python3.7/dist-packages (from tensorboard<2.9,>=2.8->tensorflow) (2.28.1)\n",
            "Requirement already satisfied: google-auth-oauthlib<0.5,>=0.4.1 in /usr/local/lib/python3.7/dist-packages (from tensorboard<2.9,>=2.8->tensorflow) (0.4.6)\n",
            "Requirement already satisfied: rsa<5,>=3.1.4 in /usr/local/lib/python3.7/dist-packages (from google-auth<3,>=1.6.3->tensorboard<2.9,>=2.8->tensorflow) (4.8)\n",
            "Requirement already satisfied: cachetools<5.0,>=2.0.0 in /usr/local/lib/python3.7/dist-packages (from google-auth<3,>=1.6.3->tensorboard<2.9,>=2.8->tensorflow) (4.2.4)\n",
            "Requirement already satisfied: pyasn1-modules>=0.2.1 in /usr/local/lib/python3.7/dist-packages (from google-auth<3,>=1.6.3->tensorboard<2.9,>=2.8->tensorflow) (0.2.8)\n",
            "Requirement already satisfied: requests-oauthlib>=0.7.0 in /usr/local/lib/python3.7/dist-packages (from google-auth-oauthlib<0.5,>=0.4.1->tensorboard<2.9,>=2.8->tensorflow) (1.3.1)\n",
            "Requirement already satisfied: importlib-metadata>=4.4 in /usr/local/lib/python3.7/dist-packages (from markdown>=2.6.8->tensorboard<2.9,>=2.8->tensorflow) (4.11.4)\n",
            "Requirement already satisfied: zipp>=0.5 in /usr/local/lib/python3.7/dist-packages (from importlib-metadata>=4.4->markdown>=2.6.8->tensorboard<2.9,>=2.8->tensorflow) (3.8.0)\n",
            "Requirement already satisfied: pyasn1<0.5.0,>=0.4.6 in /usr/local/lib/python3.7/dist-packages (from pyasn1-modules>=0.2.1->google-auth<3,>=1.6.3->tensorboard<2.9,>=2.8->tensorflow) (0.4.8)\n",
            "Requirement already satisfied: charset-normalizer<3,>=2 in /usr/local/lib/python3.7/dist-packages (from requests<3,>=2.21.0->tensorboard<2.9,>=2.8->tensorflow) (2.1.0)\n",
            "Requirement already satisfied: certifi>=2017.4.17 in /usr/local/lib/python3.7/dist-packages (from requests<3,>=2.21.0->tensorboard<2.9,>=2.8->tensorflow) (2022.6.15)\n",
            "Requirement already satisfied: urllib3<1.27,>=1.21.1 in /usr/local/lib/python3.7/dist-packages (from requests<3,>=2.21.0->tensorboard<2.9,>=2.8->tensorflow) (1.26.10)\n",
            "Requirement already satisfied: idna<4,>=2.5 in /usr/local/lib/python3.7/dist-packages (from requests<3,>=2.21.0->tensorboard<2.9,>=2.8->tensorflow) (2.10)\n",
            "Requirement already satisfied: oauthlib>=3.0.0 in /usr/local/lib/python3.7/dist-packages (from requests-oauthlib>=0.7.0->google-auth-oauthlib<0.5,>=0.4.1->tensorboard<2.9,>=2.8->tensorflow) (3.2.0)\n",
            "Looking in indexes: https://pypi.org/simple, https://us-python.pkg.dev/colab-wheels/public/simple/\n",
            "Requirement already satisfied: mplfinance in /usr/local/lib/python3.7/dist-packages (0.12.9b1)\n",
            "Requirement already satisfied: pandas in /usr/local/lib/python3.7/dist-packages (from mplfinance) (1.3.5)\n",
            "Requirement already satisfied: matplotlib in /usr/local/lib/python3.7/dist-packages (from mplfinance) (3.2.2)\n",
            "Requirement already satisfied: pyparsing!=2.0.4,!=2.1.2,!=2.1.6,>=2.0.1 in /usr/local/lib/python3.7/dist-packages (from matplotlib->mplfinance) (3.0.9)\n",
            "Requirement already satisfied: kiwisolver>=1.0.1 in /usr/local/lib/python3.7/dist-packages (from matplotlib->mplfinance) (1.4.3)\n",
            "Requirement already satisfied: cycler>=0.10 in /usr/local/lib/python3.7/dist-packages (from matplotlib->mplfinance) (0.11.0)\n",
            "Requirement already satisfied: numpy>=1.11 in /usr/local/lib/python3.7/dist-packages (from matplotlib->mplfinance) (1.21.6)\n",
            "Requirement already satisfied: python-dateutil>=2.1 in /usr/local/lib/python3.7/dist-packages (from matplotlib->mplfinance) (2.8.2)\n",
            "Requirement already satisfied: typing-extensions in /usr/local/lib/python3.7/dist-packages (from kiwisolver>=1.0.1->matplotlib->mplfinance) (4.1.1)\n",
            "Requirement already satisfied: six>=1.5 in /usr/local/lib/python3.7/dist-packages (from python-dateutil>=2.1->matplotlib->mplfinance) (1.15.0)\n",
            "Requirement already satisfied: pytz>=2017.3 in /usr/local/lib/python3.7/dist-packages (from pandas->mplfinance) (2022.1)\n"
          ]
        }
      ],
      "source": [
        "!pip install yfinance\n",
        "!pip install yahooquery\n",
        "!pip install tvdatafeed\n",
        "!pip install tensorflow\n",
        "!pip install --upgrade mplfinance\n",
        "from tvDatafeed import TvDatafeed, Interval\n",
        "from yahooquery import Screener\n",
        "import yfinance as yf   \n",
        "import pandas as pd\n",
        "import numpy as np\n",
        "from tensorflow.keras import Sequential\n",
        "from tensorflow.keras.layers import Dense,Flatten\n",
        "from sklearn.model_selection import train_test_split\n",
        "from sklearn.preprocessing import MinMaxScaler\n",
        "import tensorflow as tf\n",
        "import random \n",
        "from tensorflow.keras.models import load_model\n",
        "import os\n",
        "import shutil\n",
        "import mplfinance as mpl \n",
        "from datetime import datetime\n",
        "import glob"
      ]
    },
    {
      "cell_type": "code",
      "execution_count": 5,
      "metadata": {
        "id": "IB_YMoe09qVP"
      },
      "outputs": [],
      "source": [
        "def work_with_dir():\n",
        "  if os.path.exists(\"/content/data/\"):\n",
        "    shutil.rmtree(\"/content/data/\", ignore_errors=True)\n",
        "    print(\"Data Folder Removed\")\n",
        "    os.mkdir(\"/content/data/\")\n",
        "  if not os.path.exists(\"/content/data/\"):\n",
        "    os.mkdir(\"/content/data/\")\n",
        "  if not os.path.exists(\"/content/extracted/\"):\n",
        "    os.mkdir(\"/content/extracted/\")\n",
        "\n",
        "\n",
        "def get_crypto_syms():\n",
        "   # 'all_cryptocurrencies_au','all_cryptocurrencies_ca','all_cryptocurrencies_eu','all_cryptocurrencies_gb','all_cryptocurrencies_in',\n",
        "   screens = [\n",
        "       'all_cryptocurrencies_us', 'all_cryptocurrencies_au', 'all_cryptocurrencies_ca', 'all_cryptocurrencies_eu', 'all_cryptocurrencies_gb', 'all_cryptocurrencies_in', ]\n",
        "   s = Screener()\n",
        "   symbols = []\n",
        "   for i in screens:\n",
        "      data = s.get_screeners(i, count=250)\n",
        "      dicts = data[i]['quotes']\n",
        "      syms = [d['symbol'] for d in dicts]\n",
        "      for sym in syms:\n",
        "        symbols.append(sym)\n",
        "   # print(len(symbols))\n",
        "   # pieces = 15\n",
        "   # new_arrays = np.array_split(symbols, pieces)\n",
        "   return symbols\n",
        "\n",
        "\n",
        "def download_data(symbols, periodd, intervall):\n",
        "  indexx = 100\n",
        "  work_with_dir()\n",
        "  for symbol in symbols:\n",
        "    if ((symbols.index(symbol)+1) % 100 == 0):\n",
        "      print(f\" -- {indexx}\", end=\"\")\n",
        "      indexx = indexx + 100\n",
        "    try:\n",
        "        data = yf.download(symbol, period=periodd,\n",
        "                           interval=intervall, progress=False, show_errors=False)\n",
        "        if data.empty:\n",
        "           pass\n",
        "        else:\n",
        "            data.to_csv(f\"/content/data/{symbol}.csv\")\n",
        "    except:\n",
        "       print(\"Error!\")\n",
        "  print(\" \")\n",
        "\n",
        "\n",
        "def extract_data(pieces, min_range, max_range, how_many_future_candles, how_many_past_candles, each_row_past, interval_for_that):\n",
        "  print(f\"Files In Data : {len(os.listdir('/content/data/'))}\")\n",
        "  pd.options.mode.chained_assignment = None\n",
        "  files = os.listdir(\"/content/data/\")\n",
        "  print(\"Processing File:\")\n",
        "  now = datetime.now().strftime(\"%H%M%S\")\n",
        "  os.mkdir(f\"/content/extracted/{now}/\")\n",
        "  index = 0\n",
        "  for file in files:\n",
        "      each_file_proc(file, now, index, min_range, max_range, how_many_future_candles,\n",
        "                     how_many_past_candles, each_row_past, interval_for_that)\n",
        "\n",
        "      index += 1\n",
        "      print(f\"File Number {index} : \", end=\" \")\n",
        "  print(\" \")\n",
        "  return now\n",
        "\n",
        "\n",
        "def each_file_proc(file, now, index, min_range, max_range, how_many_future_candles, how_many_past_candles, each_row_past, interval_for_that):\n",
        "    data = []\n",
        "    unattached_dfs = []\n",
        "\n",
        "    address = f\"/content/data/{file}\"\n",
        "    datas_of_the_csv = pd.read_csv(address)\n",
        "    dfs, suggs = process(datas_of_the_csv, min_range, max_range, how_many_future_candles,\n",
        "                           how_many_past_candles, each_row_past, interval_for_that)\n",
        "\n",
        "    index = 0\n",
        "    all_n = np.array(dfs).shape[0]\n",
        "    for df in dfs:\n",
        "        date_list = []\n",
        "        for i in range(np.array(df).shape[0]):\n",
        "               date_list.append(datetime.fromordinal(\n",
        "                   datetime.today().toordinal()+i).strftime('%Y-%m-%d'))\n",
        "        df.index = date_list\n",
        "        df.index.name = \"Date\"\n",
        "        df.index = pd.to_datetime(df.index)\n",
        "        right_now = datetime.now().strftime(\"%H%M%S%f\")\n",
        "        address = f\"/content/extracted/{now}/{right_now}_{suggs[index]}.png\"\n",
        "        fig1, e = mpl.plot(df, type=\"candle\", style=\"yahoo\",axisoff=True,scale_padding=0.5, returnfig=True,savefig=address,tight_layout=True)  \n",
        "        index += 1\n",
        "        print(f\"{index}/{all_n}\",end=\" \")\n",
        "        if index % 30 == 0:\n",
        "          print(\" \")\n",
        "    print(\"\")\n",
        "\n",
        "def process(data, min_range, max_range, how_many_future_candles, how_many_past_candles,each_row_past,interval_for_that):\n",
        "    data = data.dropna()\n",
        "    datas = []\n",
        "    suggs = []\n",
        "    if len(data.columns) == 7:\n",
        "      data = data.iloc[:, 1:]\n",
        "    data = np.array(data)\n",
        "    data = data.astype(float)\n",
        "    for i in range(each_row_past, data.shape[0]-how_many_future_candles):\n",
        "        rows = data[i-each_row_past:i, :4]\n",
        "        sugg = None\n",
        "        past_candles = []\n",
        "        for z in range(1,6):\n",
        "          past_candles.append(data[i-z][3])\n",
        "        past_candles = sum(past_candles)/5\n",
        "        next_candles = []\n",
        "        for z in range(0,5):\n",
        "          next_candles.append(data[i+z][3])\n",
        "        next_candles = sum(next_candles)/5\n",
        "        if next_candles > past_candles:\n",
        "          suggs.append(1)\n",
        "        else:\n",
        "          suggs.append(0)\n",
        "        x = pd.DataFrame(rows, columns=[\"Open\", \"High\", \"Low\", \"Close\"])\n",
        "        datas.append(x)\n",
        "\n",
        "    return datas, np.array(suggs)\n",
        "def start(min_range, max_range, how_many_future_candles, how_many_past_candles, each_row_past,interval_for_that,into_how_many_csv,csv_to_parquet):\n",
        "     data = extract_data(into_how_many_csv, min_range, max_range, how_many_future_candles, how_many_past_candles,each_row_past,interval_for_that)\n",
        "     return data\n"
      ]
    },
    {
      "cell_type": "code",
      "execution_count": 3,
      "metadata": {
        "colab": {
          "base_uri": "https://localhost:8080/"
        },
        "id": "AMR8z1BIS-M_",
        "outputId": "18d126a4-fcbe-40da-c237-7fd7ebf5b7b2"
      },
      "outputs": [
        {
          "output_type": "stream",
          "name": "stdout",
          "text": [
            "Symbols : 1500\n",
            "Data Folder Removed\n",
            " \n"
          ]
        }
      ],
      "source": [
        "symbols = get_crypto_syms()\n",
        "print(f\"Symbols : {len(symbols)}\")\n",
        "symbols = [\"btc-usd\",\"eth-usd\",\"trx-usd\",\"ada-usd\",\"bnb-usd\",\"ltc-usd\",\"xrp-usd\"]\n",
        "download_data(symbols,\"max\",\"1wk\")"
      ]
    },
    {
      "cell_type": "code",
      "execution_count": 6,
      "metadata": {
        "colab": {
          "base_uri": "https://localhost:8080/"
        },
        "id": "TxTyv_osQAnY",
        "outputId": "da86c16c-e293-44f2-caa9-59ed6a449010"
      },
      "outputs": [
        {
          "output_type": "stream",
          "name": "stdout",
          "text": [
            "Files In Data : 7\n",
            "Processing File:\n",
            "1/180 2/180 3/180 4/180 5/180 6/180 7/180 8/180 9/180 10/180 11/180 12/180 13/180 14/180 15/180 16/180 17/180 18/180 19/180 20/180 21/180 22/180 23/180 24/180 25/180 26/180 27/180 28/180 29/180 30/180  \n",
            "31/180 32/180 33/180 34/180 35/180 36/180 37/180 38/180 39/180 40/180 41/180 42/180 43/180 44/180 45/180 46/180 47/180 48/180 49/180 50/180 51/180 52/180 53/180 54/180 55/180 56/180 57/180 58/180 59/180 60/180  \n",
            "61/180 62/180 63/180 64/180 65/180 66/180 67/180 68/180 69/180 70/180 71/180 72/180 73/180 74/180 75/180 76/180 77/180 78/180 79/180 80/180 81/180 82/180 83/180 84/180 85/180 86/180 87/180 88/180 89/180 90/180  \n",
            "91/180 92/180 93/180 94/180 95/180 96/180 97/180 98/180 99/180 100/180 101/180 102/180 103/180 104/180 105/180 106/180 107/180 108/180 109/180 110/180 111/180 112/180 113/180 114/180 115/180 116/180 117/180 118/180 119/180 120/180  \n",
            "121/180 122/180 123/180 124/180 125/180 126/180 127/180 128/180 129/180 130/180 131/180 132/180 133/180 134/180 135/180 136/180 137/180 138/180 139/180 140/180 141/180 142/180 143/180 144/180 145/180 146/180 147/180 148/180 149/180 150/180  \n",
            "151/180 152/180 153/180 154/180 155/180 156/180 157/180 158/180 159/180 160/180 161/180 162/180 163/180 164/180 165/180 166/180 167/180 168/180 169/180 170/180 171/180 172/180 173/180 174/180 175/180 176/180 177/180 178/180 179/180 180/180  \n",
            "\n",
            "File Number 1 :  1/344 2/344 3/344 4/344 5/344 6/344 7/344 8/344 9/344 10/344 11/344 12/344 13/344 14/344 15/344 16/344 17/344 18/344 19/344 20/344 21/344 22/344 23/344 24/344 25/344 26/344 27/344 28/344 29/344 30/344  \n",
            "31/344 32/344 33/344 34/344 35/344 36/344 37/344 38/344 39/344 40/344 41/344 42/344 43/344 44/344 45/344 46/344 47/344 48/344 49/344 50/344 51/344 52/344 53/344 54/344 55/344 56/344 57/344 58/344 59/344 60/344  \n",
            "61/344 62/344 63/344 64/344 65/344 66/344 67/344 68/344 69/344 70/344 71/344 72/344 73/344 74/344 75/344 76/344 77/344 78/344 79/344 80/344 81/344 82/344 83/344 84/344 85/344 86/344 87/344 88/344 89/344 90/344  \n",
            "91/344 92/344 93/344 94/344 95/344 96/344 97/344 98/344 99/344 100/344 101/344 102/344 103/344 104/344 105/344 106/344 107/344 108/344 109/344 110/344 111/344 112/344 113/344 114/344 115/344 116/344 117/344 118/344 119/344 120/344  \n",
            "121/344 122/344 123/344 124/344 125/344 126/344 127/344 128/344 129/344 130/344 131/344 132/344 133/344 134/344 135/344 136/344 137/344 138/344 139/344 140/344 141/344 142/344 143/344 144/344 145/344 146/344 147/344 148/344 149/344 150/344  \n",
            "151/344 152/344 153/344 154/344 155/344 156/344 157/344 158/344 159/344 160/344 161/344 162/344 163/344 164/344 165/344 166/344 167/344 168/344 169/344 170/344 171/344 172/344 173/344 174/344 175/344 176/344 177/344 178/344 179/344 180/344  \n",
            "181/344 182/344 183/344 184/344 185/344 186/344 187/344 188/344 189/344 190/344 191/344 192/344 193/344 194/344 195/344 196/344 197/344 198/344 199/344 200/344 201/344 202/344 203/344 204/344 205/344 206/344 207/344 208/344 209/344 210/344  \n",
            "211/344 212/344 213/344 214/344 215/344 216/344 217/344 218/344 219/344 220/344 221/344 222/344 223/344 224/344 225/344 226/344 227/344 228/344 229/344 230/344 231/344 232/344 233/344 234/344 235/344 236/344 237/344 238/344 239/344 240/344  \n",
            "241/344 242/344 243/344 244/344 245/344 246/344 247/344 248/344 249/344 250/344 251/344 252/344 253/344 254/344 255/344 256/344 257/344 258/344 259/344 260/344 261/344 262/344 263/344 264/344 265/344 266/344 267/344 268/344 269/344 270/344  \n",
            "271/344 272/344 273/344 274/344 275/344 276/344 277/344 278/344 279/344 280/344 281/344 282/344 283/344 284/344 285/344 286/344 287/344 288/344 289/344 290/344 291/344 292/344 293/344 294/344 295/344 296/344 297/344 298/344 299/344 300/344  \n",
            "301/344 302/344 303/344 304/344 305/344 306/344 307/344 308/344 309/344 310/344 311/344 312/344 313/344 314/344 315/344 316/344 317/344 318/344 319/344 320/344 321/344 322/344 323/344 324/344 325/344 326/344 327/344 328/344 329/344 330/344  \n",
            "331/344 332/344 333/344 334/344 335/344 336/344 337/344 338/344 339/344 340/344 341/344 342/344 343/344 344/344 \n",
            "File Number 2 :  1/180 2/180 3/180 4/180 5/180 6/180 7/180 8/180 9/180 10/180 11/180 12/180 13/180 14/180 15/180 16/180 17/180 18/180 19/180 20/180 21/180 22/180 23/180 24/180 25/180 26/180 27/180 28/180 29/180 30/180  \n",
            "31/180 32/180 33/180 34/180 35/180 36/180 37/180 38/180 39/180 40/180 41/180 42/180 43/180 44/180 45/180 46/180 47/180 48/180 49/180 50/180 51/180 52/180 53/180 54/180 55/180 56/180 57/180 58/180 59/180 60/180  \n",
            "61/180 62/180 63/180 64/180 65/180 66/180 67/180 68/180 69/180 70/180 71/180 72/180 73/180 74/180 75/180 76/180 77/180 78/180 79/180 80/180 81/180 82/180 83/180 84/180 85/180 86/180 87/180 88/180 89/180 90/180  \n",
            "91/180 92/180 93/180 94/180 95/180 96/180 97/180 98/180 99/180 100/180 101/180 102/180 103/180 104/180 105/180 106/180 107/180 108/180 109/180 110/180 111/180 112/180 113/180 114/180 115/180 116/180 117/180 118/180 119/180 120/180  \n",
            "121/180 122/180 123/180 124/180 125/180 126/180 127/180 128/180 129/180 130/180 131/180 132/180 133/180 134/180 135/180 136/180 137/180 138/180 139/180 140/180 141/180 142/180 143/180 144/180 145/180 146/180 147/180 148/180 149/180 150/180  \n",
            "151/180 152/180 153/180 154/180 155/180 156/180 157/180 158/180 159/180 160/180 161/180 162/180 163/180 164/180 165/180 166/180 167/180 168/180 169/180 170/180 171/180 172/180 173/180 174/180 175/180 176/180 177/180 178/180 179/180 180/180  \n",
            "\n",
            "File Number 3 :  1/180 2/180 3/180 4/180 5/180 6/180 7/180 8/180 9/180 10/180 11/180 12/180 13/180 14/180 15/180 16/180 17/180 18/180 19/180 20/180 21/180 22/180 23/180 24/180 25/180 26/180 27/180 28/180 29/180 30/180  \n",
            "31/180 32/180 33/180 34/180 35/180 36/180 37/180 38/180 39/180 40/180 41/180 42/180 43/180 44/180 45/180 46/180 47/180 48/180 49/180 50/180 51/180 52/180 53/180 54/180 55/180 56/180 57/180 58/180 59/180 60/180  \n",
            "61/180 62/180 63/180 64/180 65/180 66/180 67/180 68/180 69/180 70/180 71/180 72/180 73/180 74/180 75/180 76/180 77/180 78/180 79/180 80/180 81/180 82/180 83/180 84/180 85/180 86/180 87/180 88/180 89/180 90/180  \n",
            "91/180 92/180 93/180 94/180 95/180 96/180 97/180 98/180 99/180 100/180 101/180 102/180 103/180 104/180 105/180 106/180 107/180 108/180 109/180 110/180 111/180 112/180 113/180 114/180 115/180 116/180 117/180 118/180 119/180 120/180  \n",
            "121/180 122/180 123/180 124/180 125/180 126/180 127/180 128/180 129/180 130/180 131/180 132/180 133/180 134/180 135/180 136/180 137/180 138/180 139/180 140/180 141/180 142/180 143/180 144/180 145/180 146/180 147/180 148/180 149/180 150/180  \n",
            "151/180 152/180 153/180 154/180 155/180 156/180 157/180 158/180 159/180 160/180 161/180 162/180 163/180 164/180 165/180 166/180 167/180 168/180 169/180 170/180 171/180 172/180 173/180 174/180 175/180 176/180 177/180 178/180 179/180 180/180  \n",
            "\n",
            "File Number 4 :  1/180 2/180 3/180 4/180 5/180 6/180 7/180 8/180 9/180 10/180 11/180 12/180 13/180 14/180 15/180 16/180 17/180 18/180 19/180 20/180 21/180 22/180 23/180 24/180 25/180 26/180 27/180 28/180 29/180 30/180  \n",
            "31/180 32/180 33/180 34/180 35/180 36/180 37/180 38/180 39/180 40/180 41/180 42/180 43/180 44/180 45/180 46/180 47/180 48/180 49/180 50/180 51/180 52/180 53/180 54/180 55/180 56/180 57/180 58/180 59/180 60/180  \n",
            "61/180 62/180 63/180 64/180 65/180 66/180 67/180 68/180 69/180 70/180 71/180 72/180 73/180 74/180 75/180 76/180 77/180 78/180 79/180 80/180 81/180 82/180 83/180 84/180 85/180 86/180 87/180 88/180 89/180 90/180  \n",
            "91/180 92/180 93/180 94/180 95/180 96/180 97/180 98/180 99/180 100/180 101/180 102/180 103/180 104/180 105/180 106/180 107/180 108/180 109/180 110/180 111/180 112/180 113/180 114/180 115/180 116/180 117/180 118/180 119/180 120/180  \n",
            "121/180 122/180 123/180 124/180 125/180 126/180 127/180 128/180 129/180 130/180 131/180 132/180 133/180 134/180 135/180 136/180 137/180 138/180 139/180 140/180 141/180 142/180 143/180 144/180 145/180 146/180 147/180 148/180 149/180 150/180  \n",
            "151/180 152/180 153/180 154/180 155/180 156/180 157/180 158/180 159/180 160/180 161/180 162/180 163/180 164/180 165/180 166/180 167/180 168/180 169/180 170/180 171/180 172/180 173/180 174/180 175/180 176/180 177/180 178/180 179/180 180/180  \n",
            "\n",
            "File Number 5 :  1/180 2/180 3/180 4/180 5/180 6/180 7/180 8/180 9/180 10/180 11/180 12/180 13/180 14/180 15/180 16/180 17/180 18/180 19/180 20/180 21/180 22/180 23/180 24/180 25/180 26/180 27/180 28/180 29/180 30/180  \n",
            "31/180 32/180 33/180 34/180 35/180 36/180 37/180 38/180 39/180 40/180 41/180 42/180 43/180 44/180 45/180 46/180 47/180 48/180 49/180 50/180 51/180 52/180 53/180 54/180 55/180 56/180 57/180 58/180 59/180 60/180  \n",
            "61/180 62/180 63/180 64/180 65/180 66/180 67/180 68/180 69/180 70/180 71/180 72/180 73/180 74/180 75/180 76/180 77/180 78/180 79/180 80/180 81/180 82/180 83/180 84/180 85/180 86/180 87/180 88/180 89/180 90/180  \n",
            "91/180 92/180 93/180 94/180 95/180 96/180 97/180 98/180 99/180 100/180 101/180 102/180 103/180 104/180 105/180 106/180 107/180 108/180 109/180 110/180 111/180 112/180 113/180 114/180 115/180 116/180 117/180 118/180 119/180 120/180  \n",
            "121/180 122/180 123/180 124/180 125/180 126/180 127/180 128/180 129/180 130/180 131/180 132/180 133/180 134/180 135/180 136/180 137/180 138/180 139/180 140/180 141/180 142/180 143/180 144/180 145/180 146/180 147/180 148/180 149/180 150/180  \n",
            "151/180 152/180 153/180 154/180 155/180 156/180 157/180 158/180 159/180 160/180 161/180 162/180 163/180 164/180 165/180 166/180 167/180 168/180 169/180 170/180 171/180 172/180 173/180 174/180 175/180 176/180 177/180 178/180 179/180 180/180  \n",
            "\n",
            "File Number 6 :  1/344 2/344 3/344 4/344 5/344 6/344 7/344 8/344 9/344 10/344 11/344 12/344 13/344 14/344 15/344 16/344 17/344 18/344 19/344 20/344 21/344 22/344 23/344 24/344 25/344 26/344 27/344 28/344 29/344 30/344  \n",
            "31/344 32/344 33/344 34/344 35/344 36/344 37/344 38/344 39/344 40/344 41/344 42/344 43/344 44/344 45/344 46/344 47/344 48/344 49/344 50/344 51/344 52/344 53/344 54/344 55/344 56/344 57/344 58/344 59/344 60/344  \n",
            "61/344 62/344 63/344 64/344 65/344 66/344 67/344 68/344 69/344 70/344 71/344 72/344 73/344 74/344 75/344 76/344 77/344 78/344 79/344 80/344 81/344 82/344 83/344 84/344 85/344 86/344 87/344 88/344 89/344 90/344  \n",
            "91/344 92/344 93/344 94/344 95/344 96/344 97/344 98/344 99/344 100/344 101/344 102/344 103/344 104/344 105/344 106/344 107/344 108/344 109/344 110/344 111/344 112/344 113/344 114/344 115/344 116/344 117/344 118/344 119/344 120/344  \n",
            "121/344 122/344 123/344 124/344 125/344 126/344 127/344 128/344 129/344 130/344 131/344 132/344 133/344 134/344 135/344 136/344 137/344 138/344 139/344 140/344 141/344 142/344 143/344 144/344 145/344 146/344 147/344 148/344 149/344 150/344  \n",
            "151/344 152/344 153/344 154/344 155/344 156/344 157/344 158/344 159/344 160/344 161/344 162/344 163/344 164/344 165/344 166/344 167/344 168/344 169/344 170/344 171/344 172/344 173/344 174/344 175/344 176/344 177/344 178/344 179/344 180/344  \n",
            "181/344 182/344 183/344 184/344 185/344 186/344 187/344 188/344 189/344 190/344 191/344 192/344 193/344 194/344 195/344 196/344 197/344 198/344 199/344 200/344 201/344 202/344 203/344 204/344 205/344 206/344 207/344 208/344 209/344 210/344  \n",
            "211/344 212/344 213/344 214/344 215/344 216/344 217/344 218/344 219/344 220/344 221/344 222/344 223/344 224/344 225/344 226/344 227/344 228/344 229/344 230/344 231/344 232/344 233/344 234/344 235/344 236/344 237/344 238/344 239/344 240/344  \n",
            "241/344 242/344 243/344 244/344 245/344 246/344 247/344 248/344 249/344 250/344 251/344 252/344 253/344 254/344 255/344 256/344 257/344 258/344 259/344 260/344 261/344 262/344 263/344 264/344 265/344 266/344 267/344 268/344 269/344 270/344  \n",
            "271/344 272/344 273/344 274/344 275/344 276/344 277/344 278/344 279/344 280/344 281/344 282/344 283/344 284/344 285/344 286/344 287/344 288/344 289/344 290/344 291/344 292/344 293/344 294/344 295/344 296/344 297/344 298/344 299/344 300/344  \n",
            "301/344 302/344 303/344 304/344 305/344 306/344 307/344 308/344 309/344 310/344 311/344 312/344 313/344 314/344 315/344 316/344 317/344 318/344 319/344 320/344 321/344 322/344 323/344 324/344 325/344 326/344 327/344 328/344 329/344 330/344  \n",
            "331/344 332/344 333/344 334/344 335/344 336/344 337/344 338/344 339/344 340/344 341/344 342/344 343/344 344/344 \n",
            "File Number 7 :   \n"
          ]
        }
      ],
      "source": [
        "\n",
        "min_range,max_range = -1,1\n",
        "how_many_future_candles = 5\n",
        "how_many_past_candles = 5\n",
        "each_row_past,interval_for_that = 60,-1\n",
        "\n",
        "into_how_many_csv = 1\n",
        "csv_to_parquet = 1\n",
        "folder_name = start(min_range,max_range,how_many_future_candles,how_many_past_candles,each_row_past,interval_for_that,into_how_many_csv,csv_to_parquet)\n"
      ]
    },
    {
      "cell_type": "code",
      "source": [
        "#folder_name = 132512\n",
        "len(os.listdir(f\"/content/extracted/{folder_name}\"))"
      ],
      "metadata": {
        "colab": {
          "base_uri": "https://localhost:8080/"
        },
        "id": "YDFsAyUZfPQP",
        "outputId": "3af4a78b-4315-49bd-8c91-3ed1967b7fa7"
      },
      "execution_count": 7,
      "outputs": [
        {
          "output_type": "execute_result",
          "data": {
            "text/plain": [
              "1588"
            ]
          },
          "metadata": {},
          "execution_count": 7
        }
      ]
    },
    {
      "cell_type": "code",
      "source": [
        "from PIL import Image\n",
        "import cv2\n",
        "label = []\n",
        "data  = []\n",
        "files = os.listdir(f\"/content/extracted/{folder_name}/\")\n",
        "for i, image_name in enumerate(files):\n",
        "  if image_name.split(\".\")[1] == \"png\":\n",
        "    image = cv2.imread(f\"/content/extracted/{folder_name}\"+\"/\"+image_name,0)\n",
        "    scale_percent = 50 \n",
        "    width = int(image.shape[1] * scale_percent / 100)\n",
        "    height = int(image.shape[0] * scale_percent / 100)\n",
        "    dim = (width, height)\n",
        "    resized = cv2.resize(image, dim, interpolation = cv2.INTER_AREA)\n",
        "    data.append(np.array(resized))\n",
        "    sugg = image_name.split(\"_\")[1].split(\".\")[0]\n",
        "    label.append(int(sugg))\n",
        "np.array(data).shape"
      ],
      "metadata": {
        "colab": {
          "base_uri": "https://localhost:8080/"
        },
        "id": "dQpQvhf-pwpR",
        "outputId": "7fab05f0-7a6b-470d-e026-e64acd737061"
      },
      "execution_count": 8,
      "outputs": [
        {
          "output_type": "execute_result",
          "data": {
            "text/plain": [
              "(1588, 277, 383)"
            ]
          },
          "metadata": {},
          "execution_count": 8
        }
      ]
    },
    {
      "cell_type": "code",
      "source": [
        "def scaler(array):\n",
        "  scaler = MinMaxScaler()\n",
        "  scaler.fit(array)\n",
        "  return scaler.transform(array)\n",
        "ddata = np.array(data)\n",
        "new_dd = []\n",
        "for i in ddata:\n",
        "  new_data = []\n",
        "  for x in i:\n",
        "    nx = scaler(np.array(x).reshape(-1,1))\n",
        "    new_data.append(nx)\n",
        "  new_dd.append(new_data)\n",
        "np.array(new_dd).shape\n",
        "data = np.array(new_dd).reshape(-1,277,383)\n",
        "ddata = []\n",
        "new_data = []"
      ],
      "metadata": {
        "id": "5QYT1egNTCcM"
      },
      "execution_count": 9,
      "outputs": []
    },
    {
      "cell_type": "code",
      "source": [
        "from sklearn.model_selection import train_test_split\n",
        "import tensorflow as tf\n",
        "x_train , x_test , y_train , y_test = train_test_split(data,label,test_size=0.1)\n",
        "\n",
        "print(f\"********** {len(x_train)} {len(x_test)}\")\n",
        "nytrain = []\n",
        "for i in y_train:\n",
        "  if i == 1:\n",
        "    nytrain.append([1,0])\n",
        "  else:\n",
        "    nytrain.append([0,1])\n",
        "nytest = []\n",
        "for i in y_test:\n",
        "  if i == 1:\n",
        "    nytest.append([1,0])\n",
        "  else:\n",
        "    nytest.append([0,1])\n",
        "\n",
        "y_train = nytrain\n",
        "y_test = nytest\n",
        "x_train = np.array(x_train)\n",
        "x_test = np.array(x_test)\n",
        "y_test = np.array(y_test)\n",
        "y_train = np.array(y_train)\n",
        "data = []\n",
        "label = []"
      ],
      "metadata": {
        "colab": {
          "base_uri": "https://localhost:8080/"
        },
        "id": "viaOP2N6xoZp",
        "outputId": "91483610-f43a-4ed7-9756-781f11b3b32c"
      },
      "execution_count": 11,
      "outputs": [
        {
          "output_type": "stream",
          "name": "stdout",
          "text": [
            "********** 1429 159\n"
          ]
        }
      ]
    },
    {
      "cell_type": "code",
      "source": [
        "from keras.models import Sequential\n",
        "from keras.layers import Conv2D,MaxPooling2D,Activation,Dropout,Flatten,Dense\n",
        "\n",
        "\n",
        "model = Sequential()\n",
        "model.add(Conv2D(32, (3, 3),activation=\"relu\", input_shape=(277,383,1)))\n",
        "model.add(MaxPooling2D(pool_size=(2, 2)))\n",
        "model.add(Conv2D(32, (3, 3),activation=\"relu\"))\n",
        "model.add(MaxPooling2D(pool_size=(2, 2)))\n",
        "model.add(Conv2D(32, (3, 3),activation=\"relu\"))\n",
        "model.add(MaxPooling2D(pool_size=(2, 2)))\n",
        "model.add(Conv2D(32, (3, 3),activation=\"relu\"))\n",
        "model.add(MaxPooling2D(pool_size=(2, 2)))\n",
        "model.add(Flatten())\n",
        "model.add(Dense(256,activation=\"relu\"))\n",
        "model.add(Dense(256,activation=\"relu\"))\n",
        "model.add(Dense(2,activation=\"sigmoid\"))\n",
        "\n",
        "model.compile(loss='categorical_crossentropy',\n",
        "              optimizer='adamax',\n",
        "              metrics=['accuracy'])\n",
        "\n",
        "\n",
        "\n",
        "model.summary()\n"
      ],
      "metadata": {
        "colab": {
          "base_uri": "https://localhost:8080/"
        },
        "id": "9stbJK8Nx_0c",
        "outputId": "e9eea482-2860-436e-9977-dde602441cfc"
      },
      "execution_count": 14,
      "outputs": [
        {
          "output_type": "stream",
          "name": "stdout",
          "text": [
            "Model: \"sequential_1\"\n",
            "_________________________________________________________________\n",
            " Layer (type)                Output Shape              Param #   \n",
            "=================================================================\n",
            " conv2d_2 (Conv2D)           (None, 275, 381, 32)      320       \n",
            "                                                                 \n",
            " max_pooling2d_2 (MaxPooling  (None, 137, 190, 32)     0         \n",
            " 2D)                                                             \n",
            "                                                                 \n",
            " conv2d_3 (Conv2D)           (None, 135, 188, 32)      9248      \n",
            "                                                                 \n",
            " max_pooling2d_3 (MaxPooling  (None, 67, 94, 32)       0         \n",
            " 2D)                                                             \n",
            "                                                                 \n",
            " conv2d_4 (Conv2D)           (None, 65, 92, 32)        9248      \n",
            "                                                                 \n",
            " max_pooling2d_4 (MaxPooling  (None, 32, 46, 32)       0         \n",
            " 2D)                                                             \n",
            "                                                                 \n",
            " conv2d_5 (Conv2D)           (None, 30, 44, 32)        9248      \n",
            "                                                                 \n",
            " max_pooling2d_5 (MaxPooling  (None, 15, 22, 32)       0         \n",
            " 2D)                                                             \n",
            "                                                                 \n",
            " flatten_1 (Flatten)         (None, 10560)             0         \n",
            "                                                                 \n",
            " dense_3 (Dense)             (None, 256)               2703616   \n",
            "                                                                 \n",
            " dense_4 (Dense)             (None, 256)               65792     \n",
            "                                                                 \n",
            " dense_5 (Dense)             (None, 2)                 514       \n",
            "                                                                 \n",
            "=================================================================\n",
            "Total params: 2,797,986\n",
            "Trainable params: 2,797,986\n",
            "Non-trainable params: 0\n",
            "_________________________________________________________________\n"
          ]
        }
      ]
    },
    {
      "cell_type": "code",
      "source": [
        "model.fit(x_train,y_train,batch_size=32,epochs=10,validation_data=(x_test,y_test))\n"
      ],
      "metadata": {
        "colab": {
          "base_uri": "https://localhost:8080/"
        },
        "id": "cytWxowTyInc",
        "outputId": "3a25523b-8c9b-490b-f219-4bfeb14b4162"
      },
      "execution_count": 16,
      "outputs": [
        {
          "output_type": "stream",
          "name": "stdout",
          "text": [
            "Epoch 1/15\n",
            "45/45 [==============================] - 167s 4s/step - loss: 1.7874e-04 - accuracy: 1.0000 - val_loss: 0.6813 - val_accuracy: 0.8742\n",
            "Epoch 2/15\n",
            "45/45 [==============================] - 165s 4s/step - loss: 1.5467e-04 - accuracy: 1.0000 - val_loss: 0.7001 - val_accuracy: 0.8805\n",
            "Epoch 3/15\n",
            "45/45 [==============================] - 166s 4s/step - loss: 1.3232e-04 - accuracy: 1.0000 - val_loss: 0.7173 - val_accuracy: 0.8805\n",
            "Epoch 4/15\n",
            "45/45 [==============================] - 166s 4s/step - loss: 1.1370e-04 - accuracy: 1.0000 - val_loss: 0.7344 - val_accuracy: 0.8742\n",
            "Epoch 5/15\n",
            "45/45 [==============================] - 165s 4s/step - loss: 9.9302e-05 - accuracy: 1.0000 - val_loss: 0.7494 - val_accuracy: 0.8742\n",
            "Epoch 6/15\n",
            "45/45 [==============================] - 166s 4s/step - loss: 8.6329e-05 - accuracy: 1.0000 - val_loss: 0.7645 - val_accuracy: 0.8679\n",
            "Epoch 7/15\n",
            "45/45 [==============================] - 165s 4s/step - loss: 7.6622e-05 - accuracy: 1.0000 - val_loss: 0.7790 - val_accuracy: 0.8679\n",
            "Epoch 8/15\n",
            "45/45 [==============================] - 164s 4s/step - loss: 6.7014e-05 - accuracy: 1.0000 - val_loss: 0.7961 - val_accuracy: 0.8679\n",
            "Epoch 9/15\n",
            "45/45 [==============================] - 166s 4s/step - loss: 5.8566e-05 - accuracy: 1.0000 - val_loss: 0.8124 - val_accuracy: 0.8679\n",
            "Epoch 10/15\n",
            "45/45 [==============================] - 165s 4s/step - loss: 5.2021e-05 - accuracy: 1.0000 - val_loss: 0.8245 - val_accuracy: 0.8679\n",
            "Epoch 11/15\n",
            "45/45 [==============================] - 165s 4s/step - loss: 4.6305e-05 - accuracy: 1.0000 - val_loss: 0.8388 - val_accuracy: 0.8679\n",
            "Epoch 12/15\n",
            "45/45 [==============================] - 165s 4s/step - loss: 4.0893e-05 - accuracy: 1.0000 - val_loss: 0.8513 - val_accuracy: 0.8679\n",
            "Epoch 13/15\n",
            "45/45 [==============================] - 165s 4s/step - loss: 3.6671e-05 - accuracy: 1.0000 - val_loss: 0.8654 - val_accuracy: 0.8679\n",
            "Epoch 14/15\n",
            "45/45 [==============================] - 166s 4s/step - loss: 3.2934e-05 - accuracy: 1.0000 - val_loss: 0.8769 - val_accuracy: 0.8679\n",
            "Epoch 15/15\n",
            "45/45 [==============================] - 166s 4s/step - loss: 2.9527e-05 - accuracy: 1.0000 - val_loss: 0.8875 - val_accuracy: 0.8679\n"
          ]
        },
        {
          "output_type": "execute_result",
          "data": {
            "text/plain": [
              "<keras.callbacks.History at 0x7f12438a4090>"
            ]
          },
          "metadata": {},
          "execution_count": 16
        }
      ]
    }
  ],
  "metadata": {
    "colab": {
      "collapsed_sections": [],
      "name": "pic_test_V5.ipynb",
      "provenance": []
    },
    "gpuClass": "standard",
    "kernelspec": {
      "display_name": "Python 3",
      "name": "python3"
    },
    "language_info": {
      "name": "python"
    }
  },
  "nbformat": 4,
  "nbformat_minor": 0
}