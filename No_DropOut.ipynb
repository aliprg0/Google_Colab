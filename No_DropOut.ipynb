{
  "cells": [
    {
      "cell_type": "markdown",
      "metadata": {
        "id": "view-in-github",
        "colab_type": "text"
      },
      "source": [
        "<a href=\"https://colab.research.google.com/github/aliprg0/google_colab/blob/main/No_DropOut.ipynb\" target=\"_parent\"><img src=\"https://colab.research.google.com/assets/colab-badge.svg\" alt=\"Open In Colab\"/></a>"
      ]
    },
    {
      "cell_type": "code",
      "execution_count": 2,
      "metadata": {
        "colab": {
          "base_uri": "https://localhost:8080/"
        },
        "id": "_ygJ_wFxYm7M",
        "outputId": "d0a664e8-19f7-4cfc-8dc9-3d2eec1bb635"
      },
      "outputs": [
        {
          "output_type": "stream",
          "name": "stdout",
          "text": [
            "\u001b[33mWARNING: Ignoring invalid distribution -xml (/usr/local/lib/python3.7/dist-packages)\u001b[0m\n",
            "\u001b[33mWARNING: Ignoring invalid distribution -xml (/usr/local/lib/python3.7/dist-packages)\u001b[0m\n",
            "Collecting yfinance\n",
            "  Using cached yfinance-0.1.70-py2.py3-none-any.whl (26 kB)\n",
            "Requirement already satisfied: requests>=2.26 in /usr/local/lib/python3.7/dist-packages (from yfinance) (2.27.1)\n",
            "Requirement already satisfied: numpy>=1.15 in /usr/local/lib/python3.7/dist-packages (from yfinance) (1.21.5)\n",
            "Requirement already satisfied: pandas>=0.24.0 in /usr/local/lib/python3.7/dist-packages (from yfinance) (1.3.5)\n",
            "Requirement already satisfied: lxml>=4.5.1 in /usr/local/lib/python3.7/dist-packages (from yfinance) (4.8.0)\n",
            "Requirement already satisfied: multitasking>=0.0.7 in /usr/local/lib/python3.7/dist-packages (from yfinance) (0.0.10)\n",
            "Requirement already satisfied: pytz>=2017.3 in /usr/local/lib/python3.7/dist-packages (from pandas>=0.24.0->yfinance) (2018.9)\n",
            "Requirement already satisfied: python-dateutil>=2.7.3 in /usr/local/lib/python3.7/dist-packages (from pandas>=0.24.0->yfinance) (2.8.2)\n",
            "Requirement already satisfied: six>=1.5 in /usr/local/lib/python3.7/dist-packages (from python-dateutil>=2.7.3->pandas>=0.24.0->yfinance) (1.15.0)\n",
            "Requirement already satisfied: charset-normalizer~=2.0.0 in /usr/local/lib/python3.7/dist-packages (from requests>=2.26->yfinance) (2.0.12)\n",
            "Requirement already satisfied: urllib3<1.27,>=1.21.1 in /usr/local/lib/python3.7/dist-packages (from requests>=2.26->yfinance) (1.24.3)\n",
            "Requirement already satisfied: idna<4,>=2.5 in /usr/local/lib/python3.7/dist-packages (from requests>=2.26->yfinance) (2.10)\n",
            "Requirement already satisfied: certifi>=2017.4.17 in /usr/local/lib/python3.7/dist-packages (from requests>=2.26->yfinance) (2021.10.8)\n",
            "\u001b[33mWARNING: Ignoring invalid distribution -xml (/usr/local/lib/python3.7/dist-packages)\u001b[0m\n",
            "Installing collected packages: yfinance\n",
            "\u001b[33mWARNING: Ignoring invalid distribution -xml (/usr/local/lib/python3.7/dist-packages)\u001b[0m\n",
            "Successfully installed yfinance-0.1.70\n"
          ]
        }
      ],
      "source": [
        "!pip install yfinance\n",
        "import yfinance as yf   \n",
        "import pandas as pd\n",
        "import numpy as np"
      ]
    },
    {
      "cell_type": "code",
      "source": [
        "from tensorflow.keras import Sequential\n",
        "from tensorflow.keras.layers import Dense,LSTM\n",
        "from tensorflow.keras.layers import Dropout\n",
        "from sklearn.linear_model import LogisticRegression\n",
        "from sklearn.ensemble import RandomForestClassifier\n",
        "from sklearn.model_selection import train_test_split\n",
        "from sklearn.preprocessing import MinMaxScaler\n",
        "from sklearn.svm import SVC\n"
      ],
      "metadata": {
        "id": "_5bxbCoe9do9"
      },
      "execution_count": 3,
      "outputs": []
    },
    {
      "cell_type": "code",
      "execution_count": 27,
      "metadata": {
        "colab": {
          "base_uri": "https://localhost:8080/"
        },
        "id": "kn3S59KUYp6P",
        "outputId": "e3c777b6-9731-4f04-aadd-f3f8879e58c2"
      },
      "outputs": [
        {
          "output_type": "stream",
          "name": "stdout",
          "text": [
            "[*********************100%***********************]  1 of 1 completed\n",
            "[*********************100%***********************]  1 of 1 completed\n",
            "[*********************100%***********************]  1 of 1 completed\n",
            "[*********************100%***********************]  1 of 1 completed\n",
            "[*********************100%***********************]  1 of 1 completed\n",
            "[*********************100%***********************]  1 of 1 completed\n",
            "[*********************100%***********************]  1 of 1 completed\n",
            "[*********************100%***********************]  1 of 1 completed\n",
            "[*********************100%***********************]  1 of 1 completed\n",
            "[*********************100%***********************]  1 of 1 completed\n",
            "[*********************100%***********************]  1 of 1 completed\n",
            "[*********************100%***********************]  1 of 1 completed\n",
            "[*********************100%***********************]  1 of 1 completed\n",
            "[*********************100%***********************]  1 of 1 completed\n",
            "[*********************100%***********************]  1 of 1 completed\n",
            "[*********************100%***********************]  1 of 1 completed\n"
          ]
        }
      ],
      "source": [
        "#symbols = [\"MSFT\",\"AAPL\",\"GOOG\",\"TSLA\",\"GGPI\",\"BIM\",\"AI\",\"AMZN\"]\n",
        "symbols = [\"BTC-USD\",\"LTC-USD\",\"TRX-USD\",\"XRP-USD\",\"ETH-USD\",\"BNB-USD\",\"DASH-USD\",\"VET-USD\",\"LINK-USD\",\"ADA-USD\",\"DOT-USD\",\"SOL-USD\",\"BCH-USD\",\"FTT-USD\",\"FIL-USD\",\"XMR-USD\"]\n",
        "#symbols = [\"AAPL\",\"MSFT\",\"TSLA\",\"GOOG\"]\n",
        "#symbols = [\"BTC-USD\",\"ETH-USD\"]\n",
        "#symbols = [\"BTC-USD\"]\n",
        "dfs = []\n",
        "for i in symbols:\n",
        "   data = yf.download(i,period=\"MAX\",interval=\"5d\")\n",
        "   dfs.append(data)\n"
      ]
    },
    {
      "cell_type": "code",
      "source": [
        "fixed_dfs = []\n",
        "for df in dfs:\n",
        "    full = []\n",
        "    df = np.array(df)\n",
        "    for i in range(15, df.shape[0]-1):\n",
        "        fifteen_days_ago = i-15\n",
        "        fourteen_days_ago = i-14\n",
        "        thirteen_days_ago = i-13\n",
        "        twelve_days_ago = i-12\n",
        "        eleven_days_ago = i-11\n",
        "        ten_days_ago = i-10\n",
        "        nine_days_ago = i-9\n",
        "        eight_days_ago = i-8\n",
        "        seven_days_ago = i-7\n",
        "        six_days_ago = i-6\n",
        "        five_days_ago = i-5\n",
        "        four_days_ago = i-4\n",
        "        three_days_ago = i-3\n",
        "        two_days_ago = i - 2\n",
        "        yesterday = i - 1\n",
        "        today = i\n",
        "        tomorrow = i + 1\n",
        "        if df[tomorrow][3] > df[today][3]:\n",
        "            future = 1\n",
        "        else:\n",
        "            future = 0\n",
        "\n",
        "\n",
        "        new_lst = [df[fifteen_days_ago][3],df[fourteen_days_ago][3],df[thirteen_days_ago][3],df[twelve_days_ago][3],df[eleven_days_ago][3],\n",
        "                   df[ten_days_ago][3], df[nine_days_ago][3], df[eight_days_ago][3], df[seven_days_ago][3], df[six_days_ago][3],\n",
        "                   df[five_days_ago][3], df[four_days_ago][3], df[three_days_ago][3], df[two_days_ago][3], df[yesterday][3],\n",
        "                   df[today][3], future]\n",
        "\n",
        "        full.append(new_lst)\n",
        "\n",
        "\n",
        "    fuu = np.array([full])\n",
        "    lst = []\n",
        "    for i in range(0, fuu.shape[1]):\n",
        "        lst.append(fuu[0][i])\n",
        "    \n",
        "    mm = np.array(lst)\n",
        "\n",
        "\n",
        "    column_names = [\"fifteen_days_ago\",\"fourteen_days_ago\",\"thirteen_days_ago\",\"twelve_days_ago\",\"eleven_days_ago\",\n",
        "                      \"ten_days_ago\", \"nine_days_ago\", \"eight_days_ago\", \"seven_days_ago\", \"six_days_ago\",\n",
        "                       \"five_days_ago\", \"four_days_ago\", \"three_days_ago\", \"two_days_ago\", \"yesterday\", \n",
        "                        \"today\", \"result\"]\n",
        "    \n",
        "    cnwr = [\"fifteen_days_ago\",\"fourteen_days_ago\",\"thirteen_days_ago\",\"twelve_days_ago\",\"eleven_days_ago\",\n",
        "                      \"ten_days_ago\", \"nine_days_ago\", \"eight_days_ago\", \"seven_days_ago\", \"six_days_ago\",\n",
        "                       \"five_days_ago\", \"four_days_ago\", \"three_days_ago\", \"two_days_ago\", \"yesterday\", \n",
        "                        \"today\"]\n",
        "    dff = pd.DataFrame(mm, columns=column_names)\n",
        "    \n",
        "    scaler = MinMaxScaler()\n",
        "    xx = dff[\"result\"]\n",
        "    dff = dff.drop([\"result\"],axis=1)\n",
        "    scaled = pd.DataFrame(scaler.fit_transform(dff.T).T, columns=cnwr)\n",
        "\n",
        "    scaled[\"result\"] = xx\n",
        "       \n",
        "    fixed_dfs.append(scaled)\n",
        "\n"
      ],
      "metadata": {
        "id": "IB_YMoe09qVP"
      },
      "execution_count": 28,
      "outputs": []
    },
    {
      "cell_type": "code",
      "source": [
        "data = fixed_dfs[0]\n",
        "for i in range(1,len(symbols)):\n",
        "  data = pd.concat([data,fixed_dfs[i]], ignore_index = True)"
      ],
      "metadata": {
        "id": "_aYjMIfT6y6u"
      },
      "execution_count": 29,
      "outputs": []
    },
    {
      "cell_type": "code",
      "source": [
        "data"
      ],
      "metadata": {
        "colab": {
          "base_uri": "https://localhost:8080/",
          "height": 467
        },
        "id": "ORjxJp0tEWil",
        "outputId": "926cefc8-6b1c-4e2c-88a0-4df4c4f5ffcc"
      },
      "execution_count": 30,
      "outputs": [
        {
          "output_type": "execute_result",
          "data": {
            "text/plain": [
              "      fifteen_days_ago  fourteen_days_ago  thirteen_days_ago  twelve_days_ago  \\\n",
              "0             1.000000           0.580636           0.560634         0.374837   \n",
              "1             1.000000           0.965551           0.645564         0.136618   \n",
              "2             1.000000           0.668596           0.141492         0.715729   \n",
              "3             0.793829           0.167995           0.849790         0.933626   \n",
              "4             0.228882           0.860783           0.938484         0.929534   \n",
              "...                ...                ...                ...              ...   \n",
              "4801          1.000000           0.456343           0.896243         0.687674   \n",
              "4802          0.509173           1.000000           0.767285         0.149108   \n",
              "4803          1.000000           0.767285           0.149108         0.054288   \n",
              "4804          0.772664           0.150153           0.054669         0.000000   \n",
              "4805          0.150153           0.054669           0.000000         0.515938   \n",
              "\n",
              "      eleven_days_ago  ten_days_ago  nine_days_ago  eight_days_ago  \\\n",
              "0            0.079325      0.401262       0.440848        0.436288   \n",
              "1            0.691072      0.759250       0.751397        0.356531   \n",
              "2            0.786339      0.778206       0.369251        0.000000   \n",
              "3            0.923970      0.438415       0.000000        0.378881   \n",
              "4            0.479512      0.073181       0.424335        0.698877   \n",
              "...               ...           ...            ...             ...   \n",
              "4801         0.133637      0.048655       0.000000        0.459187   \n",
              "4802         0.054288      0.000000       0.512346        0.372594   \n",
              "4803         0.000000      0.512346       0.372594        0.239012   \n",
              "4804         0.515938      0.375207       0.240688        0.079037   \n",
              "4805         0.375207      0.240688       0.079037        0.076750   \n",
              "\n",
              "      seven_days_ago  six_days_ago  five_days_ago  four_days_ago  \\\n",
              "0           0.207015      0.000000       0.178903       0.318775   \n",
              "1           0.000000      0.308116       0.549010       0.813227   \n",
              "2           0.319109      0.568598       0.842242       0.340229   \n",
              "3           0.675100      1.000000       0.403956       0.685964   \n",
              "4           1.000000      0.447575       0.708946       0.871165   \n",
              "...              ...           ...            ...            ...   \n",
              "4801        0.333935      0.214213       0.070344       0.068308   \n",
              "4802        0.239012      0.078487       0.076216       0.191783   \n",
              "4803        0.078487      0.076216       0.191783       0.565009   \n",
              "4804        0.076750      0.193127       0.568970       0.529266   \n",
              "4805        0.193127      0.568970       0.529266       0.682281   \n",
              "\n",
              "      three_days_ago  two_days_ago  yesterday     today  result  \n",
              "0           0.472189      0.190744   0.323905  0.406551     0.0  \n",
              "1           0.328508      0.557845   0.700182  0.641807     0.0  \n",
              "2           0.577747      0.725163   0.664706  0.335593     0.0  \n",
              "3           0.860992      0.789210   0.398452  0.021132     0.0  \n",
              "4           0.804636      0.442474   0.092767  0.000000     1.0  \n",
              "...              ...           ...        ...       ...     ...  \n",
              "4801        0.171884      0.506386   0.471049  0.607233     1.0  \n",
              "4802        0.565009      0.525582   0.677531  0.760490     1.0  \n",
              "4803        0.525582      0.677531   0.760490  0.993038     0.0  \n",
              "4804        0.682281      0.765822   1.000000  0.938341     0.0  \n",
              "4805        0.765822      1.000000   0.938341  0.936721     1.0  \n",
              "\n",
              "[4806 rows x 17 columns]"
            ],
            "text/html": [
              "\n",
              "  <div id=\"df-d20457be-ebec-46ba-ab3d-d79a1fb63c11\">\n",
              "    <div class=\"colab-df-container\">\n",
              "      <div>\n",
              "<style scoped>\n",
              "    .dataframe tbody tr th:only-of-type {\n",
              "        vertical-align: middle;\n",
              "    }\n",
              "\n",
              "    .dataframe tbody tr th {\n",
              "        vertical-align: top;\n",
              "    }\n",
              "\n",
              "    .dataframe thead th {\n",
              "        text-align: right;\n",
              "    }\n",
              "</style>\n",
              "<table border=\"1\" class=\"dataframe\">\n",
              "  <thead>\n",
              "    <tr style=\"text-align: right;\">\n",
              "      <th></th>\n",
              "      <th>fifteen_days_ago</th>\n",
              "      <th>fourteen_days_ago</th>\n",
              "      <th>thirteen_days_ago</th>\n",
              "      <th>twelve_days_ago</th>\n",
              "      <th>eleven_days_ago</th>\n",
              "      <th>ten_days_ago</th>\n",
              "      <th>nine_days_ago</th>\n",
              "      <th>eight_days_ago</th>\n",
              "      <th>seven_days_ago</th>\n",
              "      <th>six_days_ago</th>\n",
              "      <th>five_days_ago</th>\n",
              "      <th>four_days_ago</th>\n",
              "      <th>three_days_ago</th>\n",
              "      <th>two_days_ago</th>\n",
              "      <th>yesterday</th>\n",
              "      <th>today</th>\n",
              "      <th>result</th>\n",
              "    </tr>\n",
              "  </thead>\n",
              "  <tbody>\n",
              "    <tr>\n",
              "      <th>0</th>\n",
              "      <td>1.000000</td>\n",
              "      <td>0.580636</td>\n",
              "      <td>0.560634</td>\n",
              "      <td>0.374837</td>\n",
              "      <td>0.079325</td>\n",
              "      <td>0.401262</td>\n",
              "      <td>0.440848</td>\n",
              "      <td>0.436288</td>\n",
              "      <td>0.207015</td>\n",
              "      <td>0.000000</td>\n",
              "      <td>0.178903</td>\n",
              "      <td>0.318775</td>\n",
              "      <td>0.472189</td>\n",
              "      <td>0.190744</td>\n",
              "      <td>0.323905</td>\n",
              "      <td>0.406551</td>\n",
              "      <td>0.0</td>\n",
              "    </tr>\n",
              "    <tr>\n",
              "      <th>1</th>\n",
              "      <td>1.000000</td>\n",
              "      <td>0.965551</td>\n",
              "      <td>0.645564</td>\n",
              "      <td>0.136618</td>\n",
              "      <td>0.691072</td>\n",
              "      <td>0.759250</td>\n",
              "      <td>0.751397</td>\n",
              "      <td>0.356531</td>\n",
              "      <td>0.000000</td>\n",
              "      <td>0.308116</td>\n",
              "      <td>0.549010</td>\n",
              "      <td>0.813227</td>\n",
              "      <td>0.328508</td>\n",
              "      <td>0.557845</td>\n",
              "      <td>0.700182</td>\n",
              "      <td>0.641807</td>\n",
              "      <td>0.0</td>\n",
              "    </tr>\n",
              "    <tr>\n",
              "      <th>2</th>\n",
              "      <td>1.000000</td>\n",
              "      <td>0.668596</td>\n",
              "      <td>0.141492</td>\n",
              "      <td>0.715729</td>\n",
              "      <td>0.786339</td>\n",
              "      <td>0.778206</td>\n",
              "      <td>0.369251</td>\n",
              "      <td>0.000000</td>\n",
              "      <td>0.319109</td>\n",
              "      <td>0.568598</td>\n",
              "      <td>0.842242</td>\n",
              "      <td>0.340229</td>\n",
              "      <td>0.577747</td>\n",
              "      <td>0.725163</td>\n",
              "      <td>0.664706</td>\n",
              "      <td>0.335593</td>\n",
              "      <td>0.0</td>\n",
              "    </tr>\n",
              "    <tr>\n",
              "      <th>3</th>\n",
              "      <td>0.793829</td>\n",
              "      <td>0.167995</td>\n",
              "      <td>0.849790</td>\n",
              "      <td>0.933626</td>\n",
              "      <td>0.923970</td>\n",
              "      <td>0.438415</td>\n",
              "      <td>0.000000</td>\n",
              "      <td>0.378881</td>\n",
              "      <td>0.675100</td>\n",
              "      <td>1.000000</td>\n",
              "      <td>0.403956</td>\n",
              "      <td>0.685964</td>\n",
              "      <td>0.860992</td>\n",
              "      <td>0.789210</td>\n",
              "      <td>0.398452</td>\n",
              "      <td>0.021132</td>\n",
              "      <td>0.0</td>\n",
              "    </tr>\n",
              "    <tr>\n",
              "      <th>4</th>\n",
              "      <td>0.228882</td>\n",
              "      <td>0.860783</td>\n",
              "      <td>0.938484</td>\n",
              "      <td>0.929534</td>\n",
              "      <td>0.479512</td>\n",
              "      <td>0.073181</td>\n",
              "      <td>0.424335</td>\n",
              "      <td>0.698877</td>\n",
              "      <td>1.000000</td>\n",
              "      <td>0.447575</td>\n",
              "      <td>0.708946</td>\n",
              "      <td>0.871165</td>\n",
              "      <td>0.804636</td>\n",
              "      <td>0.442474</td>\n",
              "      <td>0.092767</td>\n",
              "      <td>0.000000</td>\n",
              "      <td>1.0</td>\n",
              "    </tr>\n",
              "    <tr>\n",
              "      <th>...</th>\n",
              "      <td>...</td>\n",
              "      <td>...</td>\n",
              "      <td>...</td>\n",
              "      <td>...</td>\n",
              "      <td>...</td>\n",
              "      <td>...</td>\n",
              "      <td>...</td>\n",
              "      <td>...</td>\n",
              "      <td>...</td>\n",
              "      <td>...</td>\n",
              "      <td>...</td>\n",
              "      <td>...</td>\n",
              "      <td>...</td>\n",
              "      <td>...</td>\n",
              "      <td>...</td>\n",
              "      <td>...</td>\n",
              "      <td>...</td>\n",
              "    </tr>\n",
              "    <tr>\n",
              "      <th>4801</th>\n",
              "      <td>1.000000</td>\n",
              "      <td>0.456343</td>\n",
              "      <td>0.896243</td>\n",
              "      <td>0.687674</td>\n",
              "      <td>0.133637</td>\n",
              "      <td>0.048655</td>\n",
              "      <td>0.000000</td>\n",
              "      <td>0.459187</td>\n",
              "      <td>0.333935</td>\n",
              "      <td>0.214213</td>\n",
              "      <td>0.070344</td>\n",
              "      <td>0.068308</td>\n",
              "      <td>0.171884</td>\n",
              "      <td>0.506386</td>\n",
              "      <td>0.471049</td>\n",
              "      <td>0.607233</td>\n",
              "      <td>1.0</td>\n",
              "    </tr>\n",
              "    <tr>\n",
              "      <th>4802</th>\n",
              "      <td>0.509173</td>\n",
              "      <td>1.000000</td>\n",
              "      <td>0.767285</td>\n",
              "      <td>0.149108</td>\n",
              "      <td>0.054288</td>\n",
              "      <td>0.000000</td>\n",
              "      <td>0.512346</td>\n",
              "      <td>0.372594</td>\n",
              "      <td>0.239012</td>\n",
              "      <td>0.078487</td>\n",
              "      <td>0.076216</td>\n",
              "      <td>0.191783</td>\n",
              "      <td>0.565009</td>\n",
              "      <td>0.525582</td>\n",
              "      <td>0.677531</td>\n",
              "      <td>0.760490</td>\n",
              "      <td>1.0</td>\n",
              "    </tr>\n",
              "    <tr>\n",
              "      <th>4803</th>\n",
              "      <td>1.000000</td>\n",
              "      <td>0.767285</td>\n",
              "      <td>0.149108</td>\n",
              "      <td>0.054288</td>\n",
              "      <td>0.000000</td>\n",
              "      <td>0.512346</td>\n",
              "      <td>0.372594</td>\n",
              "      <td>0.239012</td>\n",
              "      <td>0.078487</td>\n",
              "      <td>0.076216</td>\n",
              "      <td>0.191783</td>\n",
              "      <td>0.565009</td>\n",
              "      <td>0.525582</td>\n",
              "      <td>0.677531</td>\n",
              "      <td>0.760490</td>\n",
              "      <td>0.993038</td>\n",
              "      <td>0.0</td>\n",
              "    </tr>\n",
              "    <tr>\n",
              "      <th>4804</th>\n",
              "      <td>0.772664</td>\n",
              "      <td>0.150153</td>\n",
              "      <td>0.054669</td>\n",
              "      <td>0.000000</td>\n",
              "      <td>0.515938</td>\n",
              "      <td>0.375207</td>\n",
              "      <td>0.240688</td>\n",
              "      <td>0.079037</td>\n",
              "      <td>0.076750</td>\n",
              "      <td>0.193127</td>\n",
              "      <td>0.568970</td>\n",
              "      <td>0.529266</td>\n",
              "      <td>0.682281</td>\n",
              "      <td>0.765822</td>\n",
              "      <td>1.000000</td>\n",
              "      <td>0.938341</td>\n",
              "      <td>0.0</td>\n",
              "    </tr>\n",
              "    <tr>\n",
              "      <th>4805</th>\n",
              "      <td>0.150153</td>\n",
              "      <td>0.054669</td>\n",
              "      <td>0.000000</td>\n",
              "      <td>0.515938</td>\n",
              "      <td>0.375207</td>\n",
              "      <td>0.240688</td>\n",
              "      <td>0.079037</td>\n",
              "      <td>0.076750</td>\n",
              "      <td>0.193127</td>\n",
              "      <td>0.568970</td>\n",
              "      <td>0.529266</td>\n",
              "      <td>0.682281</td>\n",
              "      <td>0.765822</td>\n",
              "      <td>1.000000</td>\n",
              "      <td>0.938341</td>\n",
              "      <td>0.936721</td>\n",
              "      <td>1.0</td>\n",
              "    </tr>\n",
              "  </tbody>\n",
              "</table>\n",
              "<p>4806 rows × 17 columns</p>\n",
              "</div>\n",
              "      <button class=\"colab-df-convert\" onclick=\"convertToInteractive('df-d20457be-ebec-46ba-ab3d-d79a1fb63c11')\"\n",
              "              title=\"Convert this dataframe to an interactive table.\"\n",
              "              style=\"display:none;\">\n",
              "        \n",
              "  <svg xmlns=\"http://www.w3.org/2000/svg\" height=\"24px\"viewBox=\"0 0 24 24\"\n",
              "       width=\"24px\">\n",
              "    <path d=\"M0 0h24v24H0V0z\" fill=\"none\"/>\n",
              "    <path d=\"M18.56 5.44l.94 2.06.94-2.06 2.06-.94-2.06-.94-.94-2.06-.94 2.06-2.06.94zm-11 1L8.5 8.5l.94-2.06 2.06-.94-2.06-.94L8.5 2.5l-.94 2.06-2.06.94zm10 10l.94 2.06.94-2.06 2.06-.94-2.06-.94-.94-2.06-.94 2.06-2.06.94z\"/><path d=\"M17.41 7.96l-1.37-1.37c-.4-.4-.92-.59-1.43-.59-.52 0-1.04.2-1.43.59L10.3 9.45l-7.72 7.72c-.78.78-.78 2.05 0 2.83L4 21.41c.39.39.9.59 1.41.59.51 0 1.02-.2 1.41-.59l7.78-7.78 2.81-2.81c.8-.78.8-2.07 0-2.86zM5.41 20L4 18.59l7.72-7.72 1.47 1.35L5.41 20z\"/>\n",
              "  </svg>\n",
              "      </button>\n",
              "      \n",
              "  <style>\n",
              "    .colab-df-container {\n",
              "      display:flex;\n",
              "      flex-wrap:wrap;\n",
              "      gap: 12px;\n",
              "    }\n",
              "\n",
              "    .colab-df-convert {\n",
              "      background-color: #E8F0FE;\n",
              "      border: none;\n",
              "      border-radius: 50%;\n",
              "      cursor: pointer;\n",
              "      display: none;\n",
              "      fill: #1967D2;\n",
              "      height: 32px;\n",
              "      padding: 0 0 0 0;\n",
              "      width: 32px;\n",
              "    }\n",
              "\n",
              "    .colab-df-convert:hover {\n",
              "      background-color: #E2EBFA;\n",
              "      box-shadow: 0px 1px 2px rgba(60, 64, 67, 0.3), 0px 1px 3px 1px rgba(60, 64, 67, 0.15);\n",
              "      fill: #174EA6;\n",
              "    }\n",
              "\n",
              "    [theme=dark] .colab-df-convert {\n",
              "      background-color: #3B4455;\n",
              "      fill: #D2E3FC;\n",
              "    }\n",
              "\n",
              "    [theme=dark] .colab-df-convert:hover {\n",
              "      background-color: #434B5C;\n",
              "      box-shadow: 0px 1px 3px 1px rgba(0, 0, 0, 0.15);\n",
              "      filter: drop-shadow(0px 1px 2px rgba(0, 0, 0, 0.3));\n",
              "      fill: #FFFFFF;\n",
              "    }\n",
              "  </style>\n",
              "\n",
              "      <script>\n",
              "        const buttonEl =\n",
              "          document.querySelector('#df-d20457be-ebec-46ba-ab3d-d79a1fb63c11 button.colab-df-convert');\n",
              "        buttonEl.style.display =\n",
              "          google.colab.kernel.accessAllowed ? 'block' : 'none';\n",
              "\n",
              "        async function convertToInteractive(key) {\n",
              "          const element = document.querySelector('#df-d20457be-ebec-46ba-ab3d-d79a1fb63c11');\n",
              "          const dataTable =\n",
              "            await google.colab.kernel.invokeFunction('convertToInteractive',\n",
              "                                                     [key], {});\n",
              "          if (!dataTable) return;\n",
              "\n",
              "          const docLinkHtml = 'Like what you see? Visit the ' +\n",
              "            '<a target=\"_blank\" href=https://colab.research.google.com/notebooks/data_table.ipynb>data table notebook</a>'\n",
              "            + ' to learn more about interactive tables.';\n",
              "          element.innerHTML = '';\n",
              "          dataTable['output_type'] = 'display_data';\n",
              "          await google.colab.output.renderOutput(dataTable, element);\n",
              "          const docLink = document.createElement('div');\n",
              "          docLink.innerHTML = docLinkHtml;\n",
              "          element.appendChild(docLink);\n",
              "        }\n",
              "      </script>\n",
              "    </div>\n",
              "  </div>\n",
              "  "
            ]
          },
          "metadata": {},
          "execution_count": 30
        }
      ]
    },
    {
      "cell_type": "code",
      "source": [
        "data = data.dropna()"
      ],
      "metadata": {
        "id": "46M8IzrdKgf8"
      },
      "execution_count": 31,
      "outputs": []
    },
    {
      "cell_type": "code",
      "source": [
        "X = data.drop(\"result\",axis=1)\n",
        "xTrain, xTest, yTrain, yTest = train_test_split(X, data[\"result\"], test_size=0.1,random_state=11)\n",
        "\n",
        "print(xTrain.shape)\n",
        "print(yTrain.shape)\n",
        "\n",
        "print(xTest.shape)\n",
        "print(yTest.shape)\n"
      ],
      "metadata": {
        "colab": {
          "base_uri": "https://localhost:8080/"
        },
        "id": "S1J0OHRSzeW8",
        "outputId": "41f93988-f8f7-4f73-ffb8-218834091558"
      },
      "execution_count": 32,
      "outputs": [
        {
          "output_type": "stream",
          "name": "stdout",
          "text": [
            "(4325, 16)\n",
            "(4325,)\n",
            "(481, 16)\n",
            "(481,)\n"
          ]
        }
      ]
    },
    {
      "cell_type": "code",
      "source": [
        "clf = RandomForestClassifier(n_estimators=100)\n",
        "clf.fit(xTrain,yTrain)\n",
        "clf.score(xTest,yTest)"
      ],
      "metadata": {
        "colab": {
          "base_uri": "https://localhost:8080/"
        },
        "id": "JgRefOUSp70m",
        "outputId": "55377c1e-6f41-4a85-98a2-97474a7f4bc0"
      },
      "execution_count": 10,
      "outputs": [
        {
          "output_type": "execute_result",
          "data": {
            "text/plain": [
              "0.5261707988980716"
            ]
          },
          "metadata": {},
          "execution_count": 10
        }
      ]
    },
    {
      "cell_type": "code",
      "source": [
        "logisticRegr = LogisticRegression()\n",
        "logisticRegr.fit(xTrain, yTrain)\n",
        "logisticRegr.score(xTest, yTest)"
      ],
      "metadata": {
        "colab": {
          "base_uri": "https://localhost:8080/"
        },
        "id": "0xE04oaprnAX",
        "outputId": "355d594e-5a03-41c4-a07f-81852e004b19"
      },
      "execution_count": 11,
      "outputs": [
        {
          "output_type": "execute_result",
          "data": {
            "text/plain": [
              "0.509641873278237"
            ]
          },
          "metadata": {},
          "execution_count": 11
        }
      ]
    },
    {
      "cell_type": "code",
      "source": [
        "from sklearn.neighbors import NearestCentroid\n",
        "nc = NearestCentroid()\n",
        "nc.fit(xTrain,yTrain)\n",
        "nc.score(xTest,yTest)"
      ],
      "metadata": {
        "colab": {
          "base_uri": "https://localhost:8080/"
        },
        "id": "BVtW0X40PHx3",
        "outputId": "5b89b840-4ff8-418a-82ed-fb426930273a"
      },
      "execution_count": 12,
      "outputs": [
        {
          "output_type": "execute_result",
          "data": {
            "text/plain": [
              "0.5068870523415978"
            ]
          },
          "metadata": {},
          "execution_count": 12
        }
      ]
    },
    {
      "cell_type": "code",
      "source": [
        "from sklearn.naive_bayes import GaussianNB\n",
        "gnb = GaussianNB()\n",
        "gnb.fit(xTrain, yTrain).score(xTest,yTest)"
      ],
      "metadata": {
        "colab": {
          "base_uri": "https://localhost:8080/"
        },
        "id": "qwExbeX5ReEj",
        "outputId": "91f0c8f8-a0ca-48b5-bff5-0304c31a62ee"
      },
      "execution_count": 13,
      "outputs": [
        {
          "output_type": "execute_result",
          "data": {
            "text/plain": [
              "0.5041322314049587"
            ]
          },
          "metadata": {},
          "execution_count": 13
        }
      ]
    },
    {
      "cell_type": "code",
      "source": [
        "from sklearn import tree\n",
        "tree = tree.DecisionTreeClassifier()\n",
        "tree.fit(xTrain, yTrain)\n",
        "tree.score(xTest,yTest)"
      ],
      "metadata": {
        "colab": {
          "base_uri": "https://localhost:8080/"
        },
        "id": "J7dQTjK7Rwf9",
        "outputId": "3bee8f0a-7239-4b98-d532-7ed96bac1787"
      },
      "execution_count": 14,
      "outputs": [
        {
          "output_type": "execute_result",
          "data": {
            "text/plain": [
              "0.509641873278237"
            ]
          },
          "metadata": {},
          "execution_count": 14
        }
      ]
    },
    {
      "cell_type": "code",
      "source": [
        "from sklearn.ensemble import GradientBoostingClassifier\n",
        "gb = GradientBoostingClassifier(n_estimators=100, learning_rate=1.0,\n",
        "   max_depth=1, random_state=0).fit(xTrain, yTrain)\n",
        "gb.score(xTest, yTest)"
      ],
      "metadata": {
        "colab": {
          "base_uri": "https://localhost:8080/"
        },
        "id": "iF9-IqlqSMAB",
        "outputId": "040d167c-3041-48e8-cd2c-df1ea28c0983"
      },
      "execution_count": 15,
      "outputs": [
        {
          "output_type": "execute_result",
          "data": {
            "text/plain": [
              "0.49586776859504134"
            ]
          },
          "metadata": {},
          "execution_count": 15
        }
      ]
    },
    {
      "cell_type": "code",
      "source": [
        "from sklearn.neighbors import KNeighborsClassifier\n",
        "clf2 = KNeighborsClassifier(n_neighbors=2)\n",
        "clf2.fit(xTrain, yTrain)\n",
        "clf2.score(xTest,yTest)"
      ],
      "metadata": {
        "colab": {
          "base_uri": "https://localhost:8080/"
        },
        "id": "5IMIL4Z5SsyU",
        "outputId": "810cf03f-6037-48d2-9fee-8e5fd2a52ae1"
      },
      "execution_count": 22,
      "outputs": [
        {
          "output_type": "execute_result",
          "data": {
            "text/plain": [
              "0.5371900826446281"
            ]
          },
          "metadata": {},
          "execution_count": 22
        }
      ]
    },
    {
      "cell_type": "code",
      "source": [
        "model = Sequential()\n",
        "model.add(Dense(512, activation='relu', kernel_initializer='he_normal', input_shape=(16,)))\n",
        "model.add(Dense(512, activation='relu', kernel_initializer='he_normal'))\n",
        "model.add(Dense(512, activation='relu', kernel_initializer='he_normal'))\n",
        "model.add(Dense(1, activation='sigmoid'))\n",
        "\n",
        "model.compile(optimizer='adam', loss='binary_crossentropy',metrics=['accuracy'])\n",
        "\n",
        "model.summary()"
      ],
      "metadata": {
        "colab": {
          "base_uri": "https://localhost:8080/"
        },
        "id": "1rI1oRc9VRwO",
        "outputId": "ba5987dc-183b-45d7-b198-1044923012a6"
      },
      "execution_count": 44,
      "outputs": [
        {
          "output_type": "stream",
          "name": "stdout",
          "text": [
            "Model: \"sequential_8\"\n",
            "_________________________________________________________________\n",
            " Layer (type)                Output Shape              Param #   \n",
            "=================================================================\n",
            " dense_32 (Dense)            (None, 512)               8704      \n",
            "                                                                 \n",
            " dense_33 (Dense)            (None, 512)               262656    \n",
            "                                                                 \n",
            " dense_34 (Dense)            (None, 512)               262656    \n",
            "                                                                 \n",
            " dense_35 (Dense)            (None, 1)                 513       \n",
            "                                                                 \n",
            "=================================================================\n",
            "Total params: 534,529\n",
            "Trainable params: 534,529\n",
            "Non-trainable params: 0\n",
            "_________________________________________________________________\n"
          ]
        }
      ]
    },
    {
      "cell_type": "code",
      "source": [
        "model.fit(xTrain,yTrain,epochs=50,batch_size=2,validation_data=(xTest,yTest))"
      ],
      "metadata": {
        "colab": {
          "base_uri": "https://localhost:8080/"
        },
        "id": "JDTaW4WnX330",
        "outputId": "53f63b78-3b23-4e74-88ac-50537454f8af"
      },
      "execution_count": null,
      "outputs": [
        {
          "output_type": "stream",
          "name": "stdout",
          "text": [
            "Epoch 1/50\n",
            "2163/2163 [==============================] - 17s 8ms/step - loss: 0.7121 - accuracy: 0.5117 - val_loss: 0.7039 - val_accuracy: 0.5010\n",
            "Epoch 2/50\n",
            "2163/2163 [==============================] - 17s 8ms/step - loss: 0.6926 - accuracy: 0.5332 - val_loss: 0.6907 - val_accuracy: 0.5426\n",
            "Epoch 3/50\n",
            "2163/2163 [==============================] - 16s 8ms/step - loss: 0.6897 - accuracy: 0.5403 - val_loss: 0.6869 - val_accuracy: 0.5239\n",
            "Epoch 4/50\n",
            "2163/2163 [==============================] - 17s 8ms/step - loss: 0.6827 - accuracy: 0.5602 - val_loss: 0.6841 - val_accuracy: 0.5447\n",
            "Epoch 5/50\n",
            "2163/2163 [==============================] - 17s 8ms/step - loss: 0.6679 - accuracy: 0.5836 - val_loss: 0.6893 - val_accuracy: 0.5239\n",
            "Epoch 6/50\n",
            "2163/2163 [==============================] - 17s 8ms/step - loss: 0.6575 - accuracy: 0.5949 - val_loss: 0.6790 - val_accuracy: 0.5489\n",
            "Epoch 7/50\n",
            "2163/2163 [==============================] - 17s 8ms/step - loss: 0.6401 - accuracy: 0.6294 - val_loss: 0.7093 - val_accuracy: 0.5884\n",
            "Epoch 8/50\n",
            "2163/2163 [==============================] - 17s 8ms/step - loss: 0.6184 - accuracy: 0.6409 - val_loss: 0.7492 - val_accuracy: 0.5572\n",
            "Epoch 9/50\n",
            "2163/2163 [==============================] - 17s 8ms/step - loss: 0.5960 - accuracy: 0.6627 - val_loss: 0.7233 - val_accuracy: 0.5676\n",
            "Epoch 10/50\n",
            "2163/2163 [==============================] - 17s 8ms/step - loss: 0.5707 - accuracy: 0.6818 - val_loss: 0.7158 - val_accuracy: 0.5634\n",
            "Epoch 11/50\n",
            "2163/2163 [==============================] - 17s 8ms/step - loss: 0.5461 - accuracy: 0.7082 - val_loss: 0.7304 - val_accuracy: 0.5634\n",
            "Epoch 12/50\n",
            "2163/2163 [==============================] - 18s 8ms/step - loss: 0.5210 - accuracy: 0.7198 - val_loss: 0.7798 - val_accuracy: 0.5530\n",
            "Epoch 13/50\n",
            "2163/2163 [==============================] - 17s 8ms/step - loss: 0.4930 - accuracy: 0.7353 - val_loss: 0.8232 - val_accuracy: 0.5655\n",
            "Epoch 14/50\n",
            "2163/2163 [==============================] - 18s 8ms/step - loss: 0.4751 - accuracy: 0.7547 - val_loss: 0.9044 - val_accuracy: 0.5717\n",
            "Epoch 15/50\n",
            "2163/2163 [==============================] - 18s 8ms/step - loss: 0.4564 - accuracy: 0.7716 - val_loss: 0.8433 - val_accuracy: 0.5676\n",
            "Epoch 16/50\n",
            "2163/2163 [==============================] - 18s 8ms/step - loss: 0.4283 - accuracy: 0.7854 - val_loss: 0.9690 - val_accuracy: 0.5676\n",
            "Epoch 17/50\n",
            "2163/2163 [==============================] - 17s 8ms/step - loss: 0.4133 - accuracy: 0.7965 - val_loss: 0.9777 - val_accuracy: 0.5988\n",
            "Epoch 18/50\n",
            "2163/2163 [==============================] - 17s 8ms/step - loss: 0.3964 - accuracy: 0.8049 - val_loss: 1.0153 - val_accuracy: 0.5967\n",
            "Epoch 19/50\n",
            "2163/2163 [==============================] - 18s 8ms/step - loss: 0.3814 - accuracy: 0.8129 - val_loss: 1.1146 - val_accuracy: 0.5759\n",
            "Epoch 20/50\n",
            "2163/2163 [==============================] - 18s 8ms/step - loss: 0.3646 - accuracy: 0.8208 - val_loss: 1.2151 - val_accuracy: 0.5904\n",
            "Epoch 21/50\n",
            "2163/2163 [==============================] - 18s 8ms/step - loss: 0.3395 - accuracy: 0.8379 - val_loss: 1.1567 - val_accuracy: 0.5821\n",
            "Epoch 22/50\n",
            "2163/2163 [==============================] - 17s 8ms/step - loss: 0.3410 - accuracy: 0.8455 - val_loss: 1.1780 - val_accuracy: 0.6029\n",
            "Epoch 23/50\n",
            "2163/2163 [==============================] - 18s 8ms/step - loss: 0.3188 - accuracy: 0.8527 - val_loss: 1.2179 - val_accuracy: 0.5738\n",
            "Epoch 24/50\n",
            "2163/2163 [==============================] - 18s 8ms/step - loss: 0.3056 - accuracy: 0.8585 - val_loss: 1.4841 - val_accuracy: 0.5800\n",
            "Epoch 25/50\n",
            "2163/2163 [==============================] - 17s 8ms/step - loss: 0.2902 - accuracy: 0.8689 - val_loss: 1.5374 - val_accuracy: 0.5800\n",
            "Epoch 26/50\n",
            "2163/2163 [==============================] - 17s 8ms/step - loss: 0.2866 - accuracy: 0.8694 - val_loss: 1.3460 - val_accuracy: 0.5904\n",
            "Epoch 27/50\n",
            "2163/2163 [==============================] - 17s 8ms/step - loss: 0.2841 - accuracy: 0.8738 - val_loss: 1.4697 - val_accuracy: 0.5821\n",
            "Epoch 28/50\n",
            "2163/2163 [==============================] - 18s 8ms/step - loss: 0.2628 - accuracy: 0.8842 - val_loss: 1.5648 - val_accuracy: 0.6071\n",
            "Epoch 29/50\n",
            "2163/2163 [==============================] - 18s 8ms/step - loss: 0.2585 - accuracy: 0.8881 - val_loss: 1.4644 - val_accuracy: 0.5738\n",
            "Epoch 30/50\n",
            "2163/2163 [==============================] - 17s 8ms/step - loss: 0.2362 - accuracy: 0.8946 - val_loss: 1.7853 - val_accuracy: 0.5821\n",
            "Epoch 31/50\n",
            "2163/2163 [==============================] - 17s 8ms/step - loss: 0.2305 - accuracy: 0.9010 - val_loss: 1.9939 - val_accuracy: 0.5800\n",
            "Epoch 32/50\n",
            "2163/2163 [==============================] - 18s 8ms/step - loss: 0.2425 - accuracy: 0.8987 - val_loss: 1.7520 - val_accuracy: 0.5842\n",
            "Epoch 33/50\n",
            "2163/2163 [==============================] - 18s 8ms/step - loss: 0.2233 - accuracy: 0.9054 - val_loss: 1.8991 - val_accuracy: 0.5655\n",
            "Epoch 34/50\n",
            "2163/2163 [==============================] - 17s 8ms/step - loss: 0.2298 - accuracy: 0.9020 - val_loss: 1.6790 - val_accuracy: 0.5759\n",
            "Epoch 35/50\n",
            "2163/2163 [==============================] - 18s 8ms/step - loss: 0.2041 - accuracy: 0.9119 - val_loss: 2.0153 - val_accuracy: 0.5759\n",
            "Epoch 36/50\n",
            "2163/2163 [==============================] - 18s 8ms/step - loss: 0.2111 - accuracy: 0.9135 - val_loss: 2.0680 - val_accuracy: 0.5863\n",
            "Epoch 37/50\n",
            "2163/2163 [==============================] - 17s 8ms/step - loss: 0.2016 - accuracy: 0.9105 - val_loss: 1.8523 - val_accuracy: 0.5946\n",
            "Epoch 38/50\n",
            "2163/2163 [==============================] - 18s 8ms/step - loss: 0.2000 - accuracy: 0.9212 - val_loss: 2.2868 - val_accuracy: 0.5967\n",
            "Epoch 39/50\n",
            "2163/2163 [==============================] - 17s 8ms/step - loss: 0.1924 - accuracy: 0.9175 - val_loss: 2.1226 - val_accuracy: 0.5738\n",
            "Epoch 40/50\n",
            "2163/2163 [==============================] - 18s 8ms/step - loss: 0.1703 - accuracy: 0.9302 - val_loss: 2.3653 - val_accuracy: 0.5821\n",
            "Epoch 41/50\n",
            "2163/2163 [==============================] - 18s 8ms/step - loss: 0.1781 - accuracy: 0.9281 - val_loss: 3.0516 - val_accuracy: 0.5967\n",
            "Epoch 42/50\n",
            "2163/2163 [==============================] - 17s 8ms/step - loss: 0.1698 - accuracy: 0.9302 - val_loss: 2.5396 - val_accuracy: 0.5904\n",
            "Epoch 43/50\n",
            "2103/2163 [============================>.] - ETA: 0s - loss: 0.1849 - accuracy: 0.9275"
          ]
        }
      ]
    },
    {
      "cell_type": "code",
      "source": [
        "svm = SVC()\n",
        "svm.fit(xTrain,yTrain)\n",
        "svm.score(xTest,yTest)"
      ],
      "metadata": {
        "colab": {
          "base_uri": "https://localhost:8080/"
        },
        "id": "D2pfGHIbPlOk",
        "outputId": "9a671ec8-8a3d-4e08-ce73-9fef40fe8811"
      },
      "execution_count": 19,
      "outputs": [
        {
          "output_type": "execute_result",
          "data": {
            "text/plain": [
              "0.5151515151515151"
            ]
          },
          "metadata": {},
          "execution_count": 19
        }
      ]
    }
  ],
  "metadata": {
    "colab": {
      "name": "Copy of Several_Symbol_Model.ipynb",
      "provenance": [],
      "authorship_tag": "ABX9TyP7ghuYWrtnUJPlbLeXtMnH",
      "include_colab_link": true
    },
    "kernelspec": {
      "display_name": "Python 3",
      "name": "python3"
    },
    "language_info": {
      "name": "python"
    }
  },
  "nbformat": 4,
  "nbformat_minor": 0
}