{
  "cells": [
    {
      "cell_type": "code",
      "execution_count": 1,
      "metadata": {
        "colab": {
          "base_uri": "https://localhost:8080/"
        },
        "id": "_5bxbCoe9do9",
        "outputId": "17d73ca4-561d-441a-b466-ddcc3e1ce964"
      },
      "outputs": [
        {
          "output_type": "stream",
          "name": "stdout",
          "text": [
            "Looking in indexes: https://pypi.org/simple, https://us-python.pkg.dev/colab-wheels/public/simple/\n",
            "Requirement already satisfied: yfinance in /usr/local/lib/python3.7/dist-packages (0.1.74)\n",
            "Requirement already satisfied: multitasking>=0.0.7 in /usr/local/lib/python3.7/dist-packages (from yfinance) (0.0.11)\n",
            "Requirement already satisfied: requests>=2.26 in /usr/local/lib/python3.7/dist-packages (from yfinance) (2.28.1)\n",
            "Requirement already satisfied: pandas>=0.24.0 in /usr/local/lib/python3.7/dist-packages (from yfinance) (1.3.5)\n",
            "Requirement already satisfied: lxml>=4.5.1 in /usr/local/lib/python3.7/dist-packages (from yfinance) (4.9.1)\n",
            "Requirement already satisfied: numpy>=1.15 in /usr/local/lib/python3.7/dist-packages (from yfinance) (1.21.6)\n",
            "Requirement already satisfied: pytz>=2017.3 in /usr/local/lib/python3.7/dist-packages (from pandas>=0.24.0->yfinance) (2022.1)\n",
            "Requirement already satisfied: python-dateutil>=2.7.3 in /usr/local/lib/python3.7/dist-packages (from pandas>=0.24.0->yfinance) (2.8.2)\n",
            "Requirement already satisfied: six>=1.5 in /usr/local/lib/python3.7/dist-packages (from python-dateutil>=2.7.3->pandas>=0.24.0->yfinance) (1.15.0)\n",
            "Requirement already satisfied: idna<4,>=2.5 in /usr/local/lib/python3.7/dist-packages (from requests>=2.26->yfinance) (2.10)\n",
            "Requirement already satisfied: certifi>=2017.4.17 in /usr/local/lib/python3.7/dist-packages (from requests>=2.26->yfinance) (2022.6.15)\n",
            "Requirement already satisfied: charset-normalizer<3,>=2 in /usr/local/lib/python3.7/dist-packages (from requests>=2.26->yfinance) (2.1.0)\n",
            "Requirement already satisfied: urllib3<1.27,>=1.21.1 in /usr/local/lib/python3.7/dist-packages (from requests>=2.26->yfinance) (1.26.11)\n",
            "Looking in indexes: https://pypi.org/simple, https://us-python.pkg.dev/colab-wheels/public/simple/\n",
            "Requirement already satisfied: yahooquery in /usr/local/lib/python3.7/dist-packages (2.2.15)\n",
            "Requirement already satisfied: tqdm>=4.54.1 in /usr/local/lib/python3.7/dist-packages (from yahooquery) (4.64.0)\n",
            "Requirement already satisfied: pandas>=0.24.0 in /usr/local/lib/python3.7/dist-packages (from yahooquery) (1.3.5)\n",
            "Requirement already satisfied: lxml>=4.6.2 in /usr/local/lib/python3.7/dist-packages (from yahooquery) (4.9.1)\n",
            "Requirement already satisfied: requests-futures>=1.0.0 in /usr/local/lib/python3.7/dist-packages (from yahooquery) (1.0.0)\n",
            "Requirement already satisfied: python-dateutil>=2.7.3 in /usr/local/lib/python3.7/dist-packages (from pandas>=0.24.0->yahooquery) (2.8.2)\n",
            "Requirement already satisfied: pytz>=2017.3 in /usr/local/lib/python3.7/dist-packages (from pandas>=0.24.0->yahooquery) (2022.1)\n",
            "Requirement already satisfied: numpy>=1.17.3 in /usr/local/lib/python3.7/dist-packages (from pandas>=0.24.0->yahooquery) (1.21.6)\n",
            "Requirement already satisfied: six>=1.5 in /usr/local/lib/python3.7/dist-packages (from python-dateutil>=2.7.3->pandas>=0.24.0->yahooquery) (1.15.0)\n",
            "Requirement already satisfied: requests>=1.2.0 in /usr/local/lib/python3.7/dist-packages (from requests-futures>=1.0.0->yahooquery) (2.28.1)\n",
            "Requirement already satisfied: charset-normalizer<3,>=2 in /usr/local/lib/python3.7/dist-packages (from requests>=1.2.0->requests-futures>=1.0.0->yahooquery) (2.1.0)\n",
            "Requirement already satisfied: urllib3<1.27,>=1.21.1 in /usr/local/lib/python3.7/dist-packages (from requests>=1.2.0->requests-futures>=1.0.0->yahooquery) (1.26.11)\n",
            "Requirement already satisfied: idna<4,>=2.5 in /usr/local/lib/python3.7/dist-packages (from requests>=1.2.0->requests-futures>=1.0.0->yahooquery) (2.10)\n",
            "Requirement already satisfied: certifi>=2017.4.17 in /usr/local/lib/python3.7/dist-packages (from requests>=1.2.0->requests-futures>=1.0.0->yahooquery) (2022.6.15)\n",
            "Looking in indexes: https://pypi.org/simple, https://us-python.pkg.dev/colab-wheels/public/simple/\n",
            "Requirement already satisfied: tvdatafeed in /usr/local/lib/python3.7/dist-packages (1.2.1)\n",
            "Requirement already satisfied: websocket-client in /usr/local/lib/python3.7/dist-packages (from tvdatafeed) (1.3.3)\n",
            "Requirement already satisfied: setuptools in /usr/local/lib/python3.7/dist-packages (from tvdatafeed) (57.4.0)\n",
            "Requirement already satisfied: chromedriver-autoinstaller in /usr/local/lib/python3.7/dist-packages (from tvdatafeed) (0.3.1)\n",
            "Requirement already satisfied: pandas in /usr/local/lib/python3.7/dist-packages (from tvdatafeed) (1.3.5)\n",
            "Requirement already satisfied: selenium in /usr/local/lib/python3.7/dist-packages (from tvdatafeed) (4.3.0)\n",
            "Requirement already satisfied: python-dateutil>=2.7.3 in /usr/local/lib/python3.7/dist-packages (from pandas->tvdatafeed) (2.8.2)\n",
            "Requirement already satisfied: numpy>=1.17.3 in /usr/local/lib/python3.7/dist-packages (from pandas->tvdatafeed) (1.21.6)\n",
            "Requirement already satisfied: pytz>=2017.3 in /usr/local/lib/python3.7/dist-packages (from pandas->tvdatafeed) (2022.1)\n",
            "Requirement already satisfied: six>=1.5 in /usr/local/lib/python3.7/dist-packages (from python-dateutil>=2.7.3->pandas->tvdatafeed) (1.15.0)\n",
            "Requirement already satisfied: urllib3[secure,socks]~=1.26 in /usr/local/lib/python3.7/dist-packages (from selenium->tvdatafeed) (1.26.11)\n",
            "Requirement already satisfied: trio-websocket~=0.9 in /usr/local/lib/python3.7/dist-packages (from selenium->tvdatafeed) (0.9.2)\n",
            "Requirement already satisfied: trio~=0.17 in /usr/local/lib/python3.7/dist-packages (from selenium->tvdatafeed) (0.21.0)\n",
            "Requirement already satisfied: outcome in /usr/local/lib/python3.7/dist-packages (from trio~=0.17->selenium->tvdatafeed) (1.2.0)\n",
            "Requirement already satisfied: sortedcontainers in /usr/local/lib/python3.7/dist-packages (from trio~=0.17->selenium->tvdatafeed) (2.4.0)\n",
            "Requirement already satisfied: idna in /usr/local/lib/python3.7/dist-packages (from trio~=0.17->selenium->tvdatafeed) (2.10)\n",
            "Requirement already satisfied: sniffio in /usr/local/lib/python3.7/dist-packages (from trio~=0.17->selenium->tvdatafeed) (1.2.0)\n",
            "Requirement already satisfied: attrs>=19.2.0 in /usr/local/lib/python3.7/dist-packages (from trio~=0.17->selenium->tvdatafeed) (21.4.0)\n",
            "Requirement already satisfied: async-generator>=1.9 in /usr/local/lib/python3.7/dist-packages (from trio~=0.17->selenium->tvdatafeed) (1.10)\n",
            "Requirement already satisfied: wsproto>=0.14 in /usr/local/lib/python3.7/dist-packages (from trio-websocket~=0.9->selenium->tvdatafeed) (1.1.0)\n",
            "Requirement already satisfied: pyOpenSSL>=0.14 in /usr/local/lib/python3.7/dist-packages (from urllib3[secure,socks]~=1.26->selenium->tvdatafeed) (22.0.0)\n",
            "Requirement already satisfied: cryptography>=1.3.4 in /usr/local/lib/python3.7/dist-packages (from urllib3[secure,socks]~=1.26->selenium->tvdatafeed) (37.0.4)\n",
            "Requirement already satisfied: certifi in /usr/local/lib/python3.7/dist-packages (from urllib3[secure,socks]~=1.26->selenium->tvdatafeed) (2022.6.15)\n",
            "Requirement already satisfied: PySocks!=1.5.7,<2.0,>=1.5.6 in /usr/local/lib/python3.7/dist-packages (from urllib3[secure,socks]~=1.26->selenium->tvdatafeed) (1.7.1)\n",
            "Requirement already satisfied: cffi>=1.12 in /usr/local/lib/python3.7/dist-packages (from cryptography>=1.3.4->urllib3[secure,socks]~=1.26->selenium->tvdatafeed) (1.15.1)\n",
            "Requirement already satisfied: pycparser in /usr/local/lib/python3.7/dist-packages (from cffi>=1.12->cryptography>=1.3.4->urllib3[secure,socks]~=1.26->selenium->tvdatafeed) (2.21)\n",
            "Requirement already satisfied: h11<1,>=0.9.0 in /usr/local/lib/python3.7/dist-packages (from wsproto>=0.14->trio-websocket~=0.9->selenium->tvdatafeed) (0.13.0)\n",
            "Requirement already satisfied: typing-extensions in /usr/local/lib/python3.7/dist-packages (from h11<1,>=0.9.0->wsproto>=0.14->trio-websocket~=0.9->selenium->tvdatafeed) (4.1.1)\n",
            "Looking in indexes: https://pypi.org/simple, https://us-python.pkg.dev/colab-wheels/public/simple/\n",
            "Requirement already satisfied: tensorflow in /usr/local/lib/python3.7/dist-packages (2.8.2+zzzcolab20220719082949)\n",
            "Requirement already satisfied: termcolor>=1.1.0 in /usr/local/lib/python3.7/dist-packages (from tensorflow) (1.1.0)\n",
            "Requirement already satisfied: numpy>=1.20 in /usr/local/lib/python3.7/dist-packages (from tensorflow) (1.21.6)\n",
            "Requirement already satisfied: astunparse>=1.6.0 in /usr/local/lib/python3.7/dist-packages (from tensorflow) (1.6.3)\n",
            "Requirement already satisfied: protobuf<3.20,>=3.9.2 in /usr/local/lib/python3.7/dist-packages (from tensorflow) (3.17.3)\n",
            "Requirement already satisfied: flatbuffers>=1.12 in /usr/local/lib/python3.7/dist-packages (from tensorflow) (2.0)\n",
            "Requirement already satisfied: wrapt>=1.11.0 in /usr/local/lib/python3.7/dist-packages (from tensorflow) (1.14.1)\n",
            "Requirement already satisfied: absl-py>=0.4.0 in /usr/local/lib/python3.7/dist-packages (from tensorflow) (1.2.0)\n",
            "Requirement already satisfied: typing-extensions>=3.6.6 in /usr/local/lib/python3.7/dist-packages (from tensorflow) (4.1.1)\n",
            "Requirement already satisfied: tensorflow-io-gcs-filesystem>=0.23.1 in /usr/local/lib/python3.7/dist-packages (from tensorflow) (0.26.0)\n",
            "Requirement already satisfied: tensorboard<2.9,>=2.8 in /usr/local/lib/python3.7/dist-packages (from tensorflow) (2.8.0)\n",
            "Requirement already satisfied: google-pasta>=0.1.1 in /usr/local/lib/python3.7/dist-packages (from tensorflow) (0.2.0)\n",
            "Requirement already satisfied: grpcio<2.0,>=1.24.3 in /usr/local/lib/python3.7/dist-packages (from tensorflow) (1.47.0)\n",
            "Requirement already satisfied: libclang>=9.0.1 in /usr/local/lib/python3.7/dist-packages (from tensorflow) (14.0.1)\n",
            "Requirement already satisfied: six>=1.12.0 in /usr/local/lib/python3.7/dist-packages (from tensorflow) (1.15.0)\n",
            "Requirement already satisfied: keras-preprocessing>=1.1.1 in /usr/local/lib/python3.7/dist-packages (from tensorflow) (1.1.2)\n",
            "Requirement already satisfied: tensorflow-estimator<2.9,>=2.8 in /usr/local/lib/python3.7/dist-packages (from tensorflow) (2.8.0)\n",
            "Requirement already satisfied: setuptools in /usr/local/lib/python3.7/dist-packages (from tensorflow) (57.4.0)\n",
            "Requirement already satisfied: opt-einsum>=2.3.2 in /usr/local/lib/python3.7/dist-packages (from tensorflow) (3.3.0)\n",
            "Requirement already satisfied: gast>=0.2.1 in /usr/local/lib/python3.7/dist-packages (from tensorflow) (0.5.3)\n",
            "Requirement already satisfied: keras<2.9,>=2.8.0rc0 in /usr/local/lib/python3.7/dist-packages (from tensorflow) (2.8.0)\n",
            "Requirement already satisfied: h5py>=2.9.0 in /usr/local/lib/python3.7/dist-packages (from tensorflow) (3.1.0)\n",
            "Requirement already satisfied: wheel<1.0,>=0.23.0 in /usr/local/lib/python3.7/dist-packages (from astunparse>=1.6.0->tensorflow) (0.37.1)\n",
            "Requirement already satisfied: cached-property in /usr/local/lib/python3.7/dist-packages (from h5py>=2.9.0->tensorflow) (1.5.2)\n",
            "Requirement already satisfied: requests<3,>=2.21.0 in /usr/local/lib/python3.7/dist-packages (from tensorboard<2.9,>=2.8->tensorflow) (2.28.1)\n",
            "Requirement already satisfied: markdown>=2.6.8 in /usr/local/lib/python3.7/dist-packages (from tensorboard<2.9,>=2.8->tensorflow) (3.4.1)\n",
            "Requirement already satisfied: werkzeug>=0.11.15 in /usr/local/lib/python3.7/dist-packages (from tensorboard<2.9,>=2.8->tensorflow) (1.0.1)\n",
            "Requirement already satisfied: google-auth<3,>=1.6.3 in /usr/local/lib/python3.7/dist-packages (from tensorboard<2.9,>=2.8->tensorflow) (1.35.0)\n",
            "Requirement already satisfied: tensorboard-plugin-wit>=1.6.0 in /usr/local/lib/python3.7/dist-packages (from tensorboard<2.9,>=2.8->tensorflow) (1.8.1)\n",
            "Requirement already satisfied: google-auth-oauthlib<0.5,>=0.4.1 in /usr/local/lib/python3.7/dist-packages (from tensorboard<2.9,>=2.8->tensorflow) (0.4.6)\n",
            "Requirement already satisfied: tensorboard-data-server<0.7.0,>=0.6.0 in /usr/local/lib/python3.7/dist-packages (from tensorboard<2.9,>=2.8->tensorflow) (0.6.1)\n",
            "Requirement already satisfied: pyasn1-modules>=0.2.1 in /usr/local/lib/python3.7/dist-packages (from google-auth<3,>=1.6.3->tensorboard<2.9,>=2.8->tensorflow) (0.2.8)\n",
            "Requirement already satisfied: rsa<5,>=3.1.4 in /usr/local/lib/python3.7/dist-packages (from google-auth<3,>=1.6.3->tensorboard<2.9,>=2.8->tensorflow) (4.9)\n",
            "Requirement already satisfied: cachetools<5.0,>=2.0.0 in /usr/local/lib/python3.7/dist-packages (from google-auth<3,>=1.6.3->tensorboard<2.9,>=2.8->tensorflow) (4.2.4)\n",
            "Requirement already satisfied: requests-oauthlib>=0.7.0 in /usr/local/lib/python3.7/dist-packages (from google-auth-oauthlib<0.5,>=0.4.1->tensorboard<2.9,>=2.8->tensorflow) (1.3.1)\n",
            "Requirement already satisfied: importlib-metadata>=4.4 in /usr/local/lib/python3.7/dist-packages (from markdown>=2.6.8->tensorboard<2.9,>=2.8->tensorflow) (4.12.0)\n",
            "Requirement already satisfied: zipp>=0.5 in /usr/local/lib/python3.7/dist-packages (from importlib-metadata>=4.4->markdown>=2.6.8->tensorboard<2.9,>=2.8->tensorflow) (3.8.1)\n",
            "Requirement already satisfied: pyasn1<0.5.0,>=0.4.6 in /usr/local/lib/python3.7/dist-packages (from pyasn1-modules>=0.2.1->google-auth<3,>=1.6.3->tensorboard<2.9,>=2.8->tensorflow) (0.4.8)\n",
            "Requirement already satisfied: idna<4,>=2.5 in /usr/local/lib/python3.7/dist-packages (from requests<3,>=2.21.0->tensorboard<2.9,>=2.8->tensorflow) (2.10)\n",
            "Requirement already satisfied: urllib3<1.27,>=1.21.1 in /usr/local/lib/python3.7/dist-packages (from requests<3,>=2.21.0->tensorboard<2.9,>=2.8->tensorflow) (1.26.11)\n",
            "Requirement already satisfied: certifi>=2017.4.17 in /usr/local/lib/python3.7/dist-packages (from requests<3,>=2.21.0->tensorboard<2.9,>=2.8->tensorflow) (2022.6.15)\n",
            "Requirement already satisfied: charset-normalizer<3,>=2 in /usr/local/lib/python3.7/dist-packages (from requests<3,>=2.21.0->tensorboard<2.9,>=2.8->tensorflow) (2.1.0)\n",
            "Requirement already satisfied: oauthlib>=3.0.0 in /usr/local/lib/python3.7/dist-packages (from requests-oauthlib>=0.7.0->google-auth-oauthlib<0.5,>=0.4.1->tensorboard<2.9,>=2.8->tensorflow) (3.2.0)\n",
            "Looking in indexes: https://pypi.org/simple, https://us-python.pkg.dev/colab-wheels/public/simple/\n",
            "Requirement already satisfied: mplfinance in /usr/local/lib/python3.7/dist-packages (0.12.9b1)\n",
            "Requirement already satisfied: matplotlib in /usr/local/lib/python3.7/dist-packages (from mplfinance) (3.2.2)\n",
            "Requirement already satisfied: pandas in /usr/local/lib/python3.7/dist-packages (from mplfinance) (1.3.5)\n",
            "Requirement already satisfied: numpy>=1.11 in /usr/local/lib/python3.7/dist-packages (from matplotlib->mplfinance) (1.21.6)\n",
            "Requirement already satisfied: pyparsing!=2.0.4,!=2.1.2,!=2.1.6,>=2.0.1 in /usr/local/lib/python3.7/dist-packages (from matplotlib->mplfinance) (3.0.9)\n",
            "Requirement already satisfied: python-dateutil>=2.1 in /usr/local/lib/python3.7/dist-packages (from matplotlib->mplfinance) (2.8.2)\n",
            "Requirement already satisfied: kiwisolver>=1.0.1 in /usr/local/lib/python3.7/dist-packages (from matplotlib->mplfinance) (1.4.4)\n",
            "Requirement already satisfied: cycler>=0.10 in /usr/local/lib/python3.7/dist-packages (from matplotlib->mplfinance) (0.11.0)\n",
            "Requirement already satisfied: typing-extensions in /usr/local/lib/python3.7/dist-packages (from kiwisolver>=1.0.1->matplotlib->mplfinance) (4.1.1)\n",
            "Requirement already satisfied: six>=1.5 in /usr/local/lib/python3.7/dist-packages (from python-dateutil>=2.1->matplotlib->mplfinance) (1.15.0)\n",
            "Requirement already satisfied: pytz>=2017.3 in /usr/local/lib/python3.7/dist-packages (from pandas->mplfinance) (2022.1)\n",
            "Looking in indexes: https://pypi.org/simple, https://us-python.pkg.dev/colab-wheels/public/simple/\n",
            "Requirement already satisfied: cairocffi in /usr/local/lib/python3.7/dist-packages (1.3.0)\n",
            "Requirement already satisfied: cffi>=1.1.0 in /usr/local/lib/python3.7/dist-packages (from cairocffi) (1.15.1)\n",
            "Requirement already satisfied: pycparser in /usr/local/lib/python3.7/dist-packages (from cffi>=1.1.0->cairocffi) (2.21)\n"
          ]
        }
      ],
      "source": [
        "!pip install yfinance\n",
        "!pip install yahooquery\n",
        "!pip install tvdatafeed\n",
        "!pip install tensorflow\n",
        "!pip install mplfinance\n",
        "!pip install cairocffi\n",
        "from tvDatafeed import TvDatafeed, Interval\n",
        "from yahooquery import Screener\n",
        "import yfinance as yf   \n",
        "import pandas as pd\n",
        "import numpy as np\n",
        "from sklearn.model_selection import train_test_split\n",
        "from sklearn.preprocessing import MinMaxScaler\n",
        "import tensorflow as tf\n",
        "import random \n",
        "from tensorflow.keras.models import load_model\n",
        "import os\n",
        "import shutil\n",
        "import mplfinance as mpl \n",
        "from datetime import datetime\n",
        "import glob\n",
        "from PIL import Image\n",
        "import cv2\n",
        "%matplotlib notebook\n",
        "import gc\n",
        "import matplotlib.pyplot as plt\n",
        "import matplotlib\n",
        "matplotlib.use('agg')\n",
        "from keras.models import Sequential\n",
        "from keras.layers import Conv2D,MaxPooling2D,Activation,Dropout,Flatten,Dense,AveragePooling2D,GlobalAveragePooling2D\n",
        "%matplotlib inline"
      ]
    },
    {
      "cell_type": "code",
      "execution_count": 2,
      "metadata": {
        "id": "IB_YMoe09qVP"
      },
      "outputs": [],
      "source": [
        "def work_with_dir():\n",
        "  if os.path.exists(\"/content/data/\"):\n",
        "    shutil.rmtree(\"/content/data/\", ignore_errors=True)\n",
        "    print(\"Data Folder Removed\")\n",
        "    os.mkdir(\"/content/data/\")\n",
        "  if not os.path.exists(\"/content/data/\"):\n",
        "    os.mkdir(\"/content/data/\")\n",
        "  if not os.path.exists(\"/content/extracted/\"):\n",
        "    os.mkdir(\"/content/extracted/\")\n",
        "  if not os.path.exists(\"/content/checkpoints/\"):\n",
        "    os.mkdir(\"/content/checkpoints/\")\n",
        "def get_crypto_syms():\n",
        "   screens = [\n",
        "       'all_cryptocurrencies_us', 'all_cryptocurrencies_au', 'all_cryptocurrencies_ca', 'all_cryptocurrencies_eu', 'all_cryptocurrencies_gb', 'all_cryptocurrencies_in', ]\n",
        "   s = Screener()\n",
        "   symbols = []\n",
        "   for i in screens:\n",
        "      data = s.get_screeners(i, count=250)\n",
        "      dicts = data[i]['quotes']\n",
        "      syms = [d['symbol'] for d in dicts]\n",
        "      for sym in syms:\n",
        "        symbols.append(sym)\n",
        "   return symbols\n",
        "def download_data(symbols, periodd, intervall):\n",
        "  indexx = 100\n",
        "  work_with_dir()\n",
        "  for symbol in symbols:\n",
        "    if ((symbols.index(symbol)+1) % 100 == 0):\n",
        "      print(f\" -- {indexx}\", end=\"\")\n",
        "      indexx = indexx + 100\n",
        "    try:\n",
        "        data = yf.download(symbol, period=periodd,\n",
        "                           interval=intervall, progress=False, show_errors=False)\n",
        "        if data.empty:\n",
        "           pass\n",
        "        else:\n",
        "            data.to_csv(f\"/content/data/{symbol}.csv\")\n",
        "    except:\n",
        "       print(\"Error!\")\n",
        "  print(\" \")\n",
        "def extract_data(how_many_future_candles, how_many_past_candles, each_row_past):\n",
        "  print(f\"Files In Data : {len(os.listdir('/content/data/'))}\")\n",
        "  pd.options.mode.chained_assignment = None\n",
        "  files = os.listdir(\"/content/data/\")\n",
        "  print(\"Processing File:\")\n",
        "  now = datetime.now().strftime(\"%H%M%S\")\n",
        "  os.mkdir(f\"/content/extracted/{now}/\")\n",
        "  index = 1\n",
        "  for file in files:\n",
        "     print(f\"File Number {index}:\", end=\" \")\n",
        "     each_file_proc(file, now, how_many_future_candles,\n",
        "                    how_many_past_candles, each_row_past)\n",
        "     index = index + 1\n",
        "  print(\" \")\n",
        "  return now\n",
        "def each_file_proc(file, now, how_many_future_candles, how_many_past_candles, each_row_past):\n",
        "    address = f\"/content/data/{file}\"\n",
        "    data = pd.read_csv(address)\n",
        "    if len(data.columns) == 7:\n",
        "      data = data.iloc[:, 1:]\n",
        "    data = np.array(data)\n",
        "    data = data.astype(float)\n",
        "    max_index = data.shape[0]-which_future_or_past\n",
        "    for i in range(each_row_past,max_index):\n",
        "        rows = data[i-each_row_past:i, :]\n",
        "        past_candles = []\n",
        "        for z in range(1, how_many_past_candles+1):\n",
        "          past_candles.append((data[i-z][3]+data[i-z][0])/2)\n",
        "        past_candles = sum(past_candles)/len(past_candles)\n",
        "        next_candles = []\n",
        "        for z in range(0, how_many_future_candles):\n",
        "          next_candles.append((data[i+z][3]+data[i+z][0])/2)\n",
        "        next_candles = sum(next_candles)/len(next_candles)\n",
        "        if next_candles > past_candles:\n",
        "          sugg = 1\n",
        "        else:\n",
        "          sugg = 0\n",
        "\n",
        "        df = pd.DataFrame(rows, columns=[\"Open\", \"High\", \"Low\", \"Close\",\"Adj Close\",\"Volume\"])\n",
        "\n",
        "        df.index.name = \"Date\"\n",
        "\n",
        "        df.index = pd.to_datetime(df.index)\n",
        "        right_now = datetime.now().strftime(\"%H%M%S%f\")\n",
        "        address = f\"/content/extracted/{now}/{right_now}_{sugg}.png\"\n",
        "        \n",
        "\n",
        "        fig, _a = mpl.plot(df, type=\"candle\", style=\"yahoo\", axisoff=True,\n",
        "                            returnfig=True, tight_layout=True,figsize =(1.5,1.5))\n",
        "        \n",
        "        fig.savefig(address)\n",
        "        fig.clf()\n",
        "\n",
        "        if i % 10 == 0:\n",
        "            print(f\"{i}/{max_index}\", end=\" \")\n",
        "        if i % 20:\n",
        "          plt.close(\"all\")\n",
        "        if i % 270 ==0:\n",
        "          print(\"\")\n",
        "    plt.close(\"all\")\n",
        "    print(\"\")\n",
        "\n",
        "def start(how_many_future_candles, how_many_past_candles, each_row_past):\n",
        "    folder_name = extract_data(\n",
        "        how_many_future_candles, how_many_past_candles, each_row_past)\n",
        "    return folder_name"
      ]
    },
    {
      "cell_type": "code",
      "execution_count": 3,
      "metadata": {
        "colab": {
          "base_uri": "https://localhost:8080/"
        },
        "id": "AMR8z1BIS-M_",
        "outputId": "ddbd7cca-5179-40a4-ec55-75ea57e1ffdb"
      },
      "outputs": [
        {
          "output_type": "stream",
          "name": "stdout",
          "text": [
            "Symbols : 1500\n",
            " \n"
          ]
        }
      ],
      "source": [
        "symbols = get_crypto_syms()\n",
        "print(f\"Symbols : {len(symbols)}\")\n",
        "symbols = [\"btc-usd\",\"eth-usd\",\"trx-usd\",\"ltc-usd\",\"xrp-usd\",\"bnb-usd\"]\n",
        "download_data(symbols,\"max\",\"1d\")"
      ]
    },
    {
      "cell_type": "code",
      "execution_count": 3,
      "metadata": {
        "id": "TxTyv_osQAnY",
        "colab": {
          "base_uri": "https://localhost:8080/"
        },
        "outputId": "502f7331-a338-463c-911c-c345fbe20e2c"
      },
      "outputs": [
        {
          "output_type": "stream",
          "name": "stdout",
          "text": [
            "Files In Data : 6\n",
            "Processing File:\n",
            "File Number 1: 110/1707 120/1707 130/1707 140/1707 150/1707 160/1707 170/1707 180/1707 190/1707 200/1707 210/1707 220/1707 230/1707 240/1707 250/1707 260/1707 270/1707 \n",
            "280/1707 290/1707 300/1707 310/1707 320/1707 330/1707 340/1707 350/1707 360/1707 370/1707 380/1707 390/1707 400/1707 410/1707 420/1707 430/1707 440/1707 450/1707 460/1707 470/1707 480/1707 490/1707 500/1707 510/1707 520/1707 530/1707 540/1707 \n",
            "550/1707 560/1707 570/1707 580/1707 590/1707 600/1707 610/1707 620/1707 630/1707 640/1707 650/1707 660/1707 670/1707 680/1707 690/1707 700/1707 710/1707 720/1707 730/1707 740/1707 750/1707 760/1707 770/1707 780/1707 790/1707 800/1707 810/1707 \n",
            "820/1707 830/1707 840/1707 850/1707 860/1707 870/1707 880/1707 890/1707 900/1707 910/1707 920/1707 930/1707 940/1707 950/1707 960/1707 970/1707 980/1707 990/1707 1000/1707 1010/1707 1020/1707 1030/1707 1040/1707 1050/1707 1060/1707 1070/1707 1080/1707 \n",
            "1090/1707 1100/1707 1110/1707 1120/1707 1130/1707 1140/1707 1150/1707 1160/1707 1170/1707 1180/1707 1190/1707 1200/1707 1210/1707 1220/1707 1230/1707 1240/1707 1250/1707 1260/1707 1270/1707 1280/1707 1290/1707 1300/1707 1310/1707 1320/1707 1330/1707 1340/1707 1350/1707 \n",
            "1360/1707 1370/1707 1380/1707 1390/1707 1400/1707 1410/1707 1420/1707 1430/1707 1440/1707 1450/1707 1460/1707 1470/1707 1480/1707 1490/1707 1500/1707 1510/1707 1520/1707 1530/1707 1540/1707 1550/1707 1560/1707 1570/1707 1580/1707 1590/1707 1600/1707 1610/1707 1620/1707 \n",
            "1630/1707 1640/1707 1650/1707 1660/1707 1670/1707 1680/1707 1690/1707 1700/1707 \n",
            "File Number 2: 110/1707 120/1707 130/1707 140/1707 150/1707 160/1707 170/1707 180/1707 190/1707 200/1707 210/1707 220/1707 230/1707 240/1707 250/1707 260/1707 270/1707 \n",
            "280/1707 290/1707 300/1707 310/1707 320/1707 330/1707 340/1707 350/1707 360/1707 370/1707 380/1707 390/1707 400/1707 410/1707 420/1707 430/1707 440/1707 450/1707 460/1707 470/1707 480/1707 490/1707 500/1707 510/1707 520/1707 530/1707 540/1707 \n",
            "550/1707 560/1707 570/1707 580/1707 590/1707 600/1707 610/1707 620/1707 630/1707 640/1707 650/1707 660/1707 670/1707 680/1707 690/1707 700/1707 710/1707 720/1707 730/1707 740/1707 750/1707 760/1707 770/1707 780/1707 790/1707 800/1707 810/1707 \n",
            "820/1707 830/1707 840/1707 850/1707 860/1707 870/1707 880/1707 890/1707 900/1707 910/1707 920/1707 930/1707 940/1707 950/1707 960/1707 970/1707 980/1707 990/1707 1000/1707 1010/1707 1020/1707 1030/1707 1040/1707 1050/1707 1060/1707 1070/1707 1080/1707 \n",
            "1090/1707 1100/1707 1110/1707 1120/1707 1130/1707 1140/1707 1150/1707 1160/1707 1170/1707 1180/1707 1190/1707 1200/1707 1210/1707 1220/1707 1230/1707 1240/1707 1250/1707 1260/1707 1270/1707 1280/1707 1290/1707 1300/1707 1310/1707 1320/1707 1330/1707 1340/1707 1350/1707 \n",
            "1360/1707 1370/1707 1380/1707 1390/1707 1400/1707 1410/1707 1420/1707 1430/1707 1440/1707 1450/1707 1460/1707 1470/1707 1480/1707 1490/1707 1500/1707 1510/1707 1520/1707 1530/1707 1540/1707 1550/1707 1560/1707 1570/1707 1580/1707 1590/1707 1600/1707 1610/1707 1620/1707 \n",
            "1630/1707 1640/1707 1650/1707 1660/1707 1670/1707 1680/1707 1690/1707 1700/1707 \n",
            "File Number 3: 110/2857 120/2857 130/2857 140/2857 150/2857 160/2857 170/2857 180/2857 190/2857 200/2857 210/2857 220/2857 230/2857 240/2857 250/2857 260/2857 270/2857 \n",
            "280/2857 290/2857 300/2857 310/2857 320/2857 330/2857 340/2857 350/2857 360/2857 370/2857 380/2857 390/2857 400/2857 410/2857 420/2857 430/2857 440/2857 450/2857 460/2857 470/2857 480/2857 490/2857 500/2857 510/2857 520/2857 530/2857 540/2857 \n",
            "550/2857 560/2857 570/2857 580/2857 590/2857 600/2857 610/2857 620/2857 630/2857 640/2857 650/2857 660/2857 670/2857 680/2857 690/2857 700/2857 710/2857 720/2857 730/2857 740/2857 750/2857 760/2857 770/2857 780/2857 790/2857 800/2857 810/2857 \n",
            "820/2857 830/2857 840/2857 850/2857 860/2857 870/2857 880/2857 890/2857 900/2857 910/2857 920/2857 930/2857 940/2857 950/2857 960/2857 970/2857 980/2857 990/2857 1000/2857 1010/2857 1020/2857 1030/2857 1040/2857 1050/2857 1060/2857 1070/2857 1080/2857 \n",
            "1090/2857 1100/2857 1110/2857 1120/2857 1130/2857 1140/2857 1150/2857 1160/2857 1170/2857 1180/2857 1190/2857 1200/2857 1210/2857 1220/2857 1230/2857 1240/2857 1250/2857 1260/2857 1270/2857 1280/2857 1290/2857 1300/2857 1310/2857 1320/2857 1330/2857 1340/2857 1350/2857 \n",
            "1360/2857 1370/2857 1380/2857 1390/2857 1400/2857 1410/2857 1420/2857 1430/2857 1440/2857 1450/2857 1460/2857 1470/2857 1480/2857 1490/2857 1500/2857 1510/2857 1520/2857 1530/2857 1540/2857 1550/2857 1560/2857 1570/2857 1580/2857 1590/2857 1600/2857 1610/2857 1620/2857 \n",
            "1630/2857 1640/2857 1650/2857 1660/2857 1670/2857 1680/2857 1690/2857 1700/2857 1710/2857 1720/2857 1730/2857 1740/2857 1750/2857 1760/2857 1770/2857 1780/2857 1790/2857 1800/2857 1810/2857 1820/2857 1830/2857 1840/2857 1850/2857 1860/2857 1870/2857 1880/2857 1890/2857 \n",
            "1900/2857 1910/2857 1920/2857 1930/2857 1940/2857 1950/2857 1960/2857 1970/2857 1980/2857 1990/2857 2000/2857 2010/2857 2020/2857 2030/2857 2040/2857 2050/2857 2060/2857 2070/2857 2080/2857 2090/2857 2100/2857 2110/2857 2120/2857 2130/2857 2140/2857 2150/2857 2160/2857 \n",
            "2170/2857 2180/2857 2190/2857 2200/2857 2210/2857 2220/2857 2230/2857 2240/2857 2250/2857 2260/2857 2270/2857 2280/2857 2290/2857 2300/2857 2310/2857 2320/2857 2330/2857 2340/2857 2350/2857 2360/2857 2370/2857 2380/2857 2390/2857 2400/2857 2410/2857 2420/2857 2430/2857 \n",
            "2440/2857 2450/2857 2460/2857 2470/2857 2480/2857 2490/2857 2500/2857 2510/2857 2520/2857 2530/2857 2540/2857 2550/2857 2560/2857 2570/2857 2580/2857 2590/2857 2600/2857 2610/2857 2620/2857 2630/2857 2640/2857 2650/2857 2660/2857 2670/2857 2680/2857 2690/2857 2700/2857 \n",
            "2710/2857 2720/2857 2730/2857 2740/2857 2750/2857 2760/2857 2770/2857 2780/2857 2790/2857 2800/2857 2810/2857 2820/2857 2830/2857 2840/2857 2850/2857 \n",
            "File Number 4: 110/1707 120/1707 130/1707 140/1707 150/1707 160/1707 170/1707 180/1707 190/1707 200/1707 210/1707 220/1707 230/1707 240/1707 250/1707 260/1707 270/1707 \n",
            "280/1707 290/1707 300/1707 310/1707 320/1707 330/1707 340/1707 350/1707 360/1707 370/1707 380/1707 390/1707 400/1707 410/1707 420/1707 430/1707 440/1707 450/1707 460/1707 470/1707 480/1707 490/1707 500/1707 510/1707 520/1707 530/1707 540/1707 \n",
            "550/1707 560/1707 570/1707 580/1707 590/1707 600/1707 610/1707 620/1707 630/1707 640/1707 650/1707 660/1707 670/1707 680/1707 690/1707 700/1707 710/1707 720/1707 730/1707 740/1707 750/1707 760/1707 770/1707 780/1707 790/1707 800/1707 810/1707 \n",
            "820/1707 830/1707 840/1707 850/1707 860/1707 870/1707 880/1707 890/1707 900/1707 910/1707 920/1707 930/1707 940/1707 950/1707 960/1707 970/1707 980/1707 990/1707 1000/1707 1010/1707 1020/1707 1030/1707 1040/1707 1050/1707 1060/1707 1070/1707 1080/1707 \n",
            "1090/1707 1100/1707 1110/1707 1120/1707 1130/1707 1140/1707 1150/1707 1160/1707 1170/1707 1180/1707 1190/1707 1200/1707 1210/1707 1220/1707 1230/1707 1240/1707 1250/1707 1260/1707 1270/1707 1280/1707 1290/1707 1300/1707 1310/1707 1320/1707 1330/1707 1340/1707 1350/1707 \n",
            "1360/1707 1370/1707 1380/1707 1390/1707 1400/1707 1410/1707 1420/1707 1430/1707 1440/1707 1450/1707 1460/1707 1470/1707 1480/1707 1490/1707 1500/1707 1510/1707 1520/1707 1530/1707 1540/1707 1550/1707 1560/1707 1570/1707 1580/1707 1590/1707 1600/1707 1610/1707 1620/1707 \n",
            "1630/1707 1640/1707 1650/1707 1660/1707 1670/1707 1680/1707 1690/1707 1700/1707 \n",
            "File Number 5: 110/1708 120/1708 130/1708 140/1708 150/1708 160/1708 170/1708 180/1708 190/1708 200/1708 210/1708 220/1708 230/1708 240/1708 250/1708 260/1708 270/1708 \n",
            "280/1708 290/1708 300/1708 310/1708 320/1708 330/1708 340/1708 350/1708 360/1708 370/1708 380/1708 390/1708 400/1708 410/1708 420/1708 430/1708 440/1708 450/1708 460/1708 470/1708 480/1708 490/1708 500/1708 510/1708 520/1708 530/1708 540/1708 \n",
            "550/1708 560/1708 570/1708 580/1708 590/1708 600/1708 610/1708 620/1708 630/1708 640/1708 650/1708 660/1708 670/1708 680/1708 690/1708 700/1708 710/1708 720/1708 730/1708 740/1708 750/1708 760/1708 770/1708 780/1708 790/1708 800/1708 810/1708 \n",
            "820/1708 830/1708 840/1708 850/1708 860/1708 870/1708 880/1708 890/1708 900/1708 910/1708 920/1708 930/1708 940/1708 950/1708 960/1708 970/1708 980/1708 990/1708 1000/1708 1010/1708 1020/1708 1030/1708 1040/1708 1050/1708 1060/1708 1070/1708 1080/1708 \n",
            "1090/1708 1100/1708 1110/1708 1120/1708 1130/1708 1140/1708 1150/1708 1160/1708 1170/1708 1180/1708 1190/1708 1200/1708 1210/1708 1220/1708 1230/1708 1240/1708 1250/1708 1260/1708 1270/1708 1280/1708 1290/1708 1300/1708 1310/1708 1320/1708 1330/1708 1340/1708 1350/1708 \n",
            "1360/1708 1370/1708 1380/1708 1390/1708 1400/1708 1410/1708 1420/1708 1430/1708 1440/1708 1450/1708 1460/1708 1470/1708 1480/1708 1490/1708 1500/1708 1510/1708 1520/1708 1530/1708 1540/1708 1550/1708 1560/1708 1570/1708 1580/1708 1590/1708 1600/1708 1610/1708 1620/1708 \n",
            "1630/1708 1640/1708 1650/1708 1660/1708 1670/1708 1680/1708 1690/1708 1700/1708 \n",
            "File Number 6: 110/2857 120/2857 130/2857 140/2857 150/2857 160/2857 170/2857 180/2857 190/2857 200/2857 210/2857 220/2857 230/2857 240/2857 250/2857 260/2857 270/2857 \n",
            "280/2857 290/2857 300/2857 310/2857 320/2857 330/2857 340/2857 350/2857 360/2857 370/2857 380/2857 390/2857 400/2857 410/2857 420/2857 430/2857 440/2857 450/2857 460/2857 470/2857 480/2857 490/2857 500/2857 510/2857 520/2857 530/2857 540/2857 \n",
            "550/2857 560/2857 570/2857 580/2857 590/2857 600/2857 610/2857 620/2857 630/2857 640/2857 650/2857 660/2857 670/2857 680/2857 690/2857 700/2857 710/2857 720/2857 730/2857 740/2857 750/2857 760/2857 770/2857 780/2857 790/2857 800/2857 810/2857 \n",
            "820/2857 830/2857 840/2857 850/2857 860/2857 870/2857 880/2857 890/2857 900/2857 910/2857 920/2857 930/2857 940/2857 950/2857 960/2857 970/2857 980/2857 990/2857 1000/2857 1010/2857 1020/2857 1030/2857 1040/2857 1050/2857 1060/2857 1070/2857 1080/2857 \n",
            "1090/2857 1100/2857 1110/2857 1120/2857 1130/2857 1140/2857 1150/2857 1160/2857 1170/2857 1180/2857 1190/2857 1200/2857 1210/2857 1220/2857 1230/2857 1240/2857 1250/2857 1260/2857 1270/2857 1280/2857 1290/2857 1300/2857 1310/2857 1320/2857 1330/2857 1340/2857 1350/2857 \n",
            "1360/2857 1370/2857 1380/2857 1390/2857 1400/2857 1410/2857 1420/2857 1430/2857 1440/2857 1450/2857 1460/2857 1470/2857 1480/2857 1490/2857 1500/2857 1510/2857 1520/2857 1530/2857 1540/2857 1550/2857 1560/2857 1570/2857 1580/2857 1590/2857 1600/2857 1610/2857 1620/2857 \n",
            "1630/2857 1640/2857 1650/2857 1660/2857 1670/2857 1680/2857 1690/2857 1700/2857 1710/2857 1720/2857 1730/2857 1740/2857 1750/2857 1760/2857 1770/2857 1780/2857 1790/2857 1800/2857 1810/2857 1820/2857 1830/2857 1840/2857 1850/2857 1860/2857 1870/2857 1880/2857 1890/2857 \n",
            "1900/2857 1910/2857 1920/2857 1930/2857 1940/2857 1950/2857 1960/2857 1970/2857 1980/2857 1990/2857 2000/2857 2010/2857 2020/2857 2030/2857 2040/2857 2050/2857 2060/2857 2070/2857 2080/2857 2090/2857 2100/2857 2110/2857 2120/2857 2130/2857 2140/2857 2150/2857 2160/2857 \n",
            "2170/2857 2180/2857 2190/2857 2200/2857 2210/2857 2220/2857 2230/2857 2240/2857 2250/2857 2260/2857 2270/2857 2280/2857 2290/2857 2300/2857 2310/2857 2320/2857 2330/2857 2340/2857 2350/2857 2360/2857 2370/2857 2380/2857 2390/2857 2400/2857 2410/2857 2420/2857 2430/2857 \n",
            "2440/2857 2450/2857 2460/2857 2470/2857 2480/2857 2490/2857 2500/2857 2510/2857 2520/2857 2530/2857 2540/2857 2550/2857 2560/2857 2570/2857 2580/2857 2590/2857 2600/2857 2610/2857 2620/2857 2630/2857 2640/2857 2650/2857 2660/2857 2670/2857 2680/2857 2690/2857 2700/2857 \n",
            "2710/2857 2720/2857 2730/2857 2740/2857 2750/2857 2760/2857 2770/2857 2780/2857 2790/2857 2800/2857 2810/2857 2820/2857 2830/2857 2840/2857 2850/2857 \n",
            " \n"
          ]
        },
        {
          "output_type": "execute_result",
          "data": {
            "text/plain": [
              "11883"
            ]
          },
          "metadata": {},
          "execution_count": 3
        }
      ],
      "source": [
        "how_many_future_candles = 15\n",
        "how_many_past_candles = 1\n",
        "each_row_past = 110\n",
        "\n",
        "\n",
        "global which_future_or_past\n",
        "which_future_or_past = None\n",
        "if how_many_future_candles > how_many_past_candles:\n",
        "    which_future_or_past = how_many_future_candles\n",
        "else:\n",
        "    which_future_or_past = how_many_past_candles\n",
        "folder_name = start(how_many_future_candles,how_many_past_candles,each_row_past)\n",
        "len(os.listdir(f\"/content/extracted/{folder_name}\"))"
      ]
    },
    {
      "cell_type": "code",
      "execution_count": 4,
      "metadata": {
        "id": "dQpQvhf-pwpR",
        "colab": {
          "base_uri": "https://localhost:8080/"
        },
        "outputId": "32244acc-23c4-4ab3-aada-7fd3342bbc46"
      },
      "outputs": [
        {
          "output_type": "stream",
          "name": "stdout",
          "text": [
            "(11883, 100, 128)\n",
            "xTrain : 9506 \\ xTest : 2377\n",
            "yn: 6343 nn: 5540\n"
          ]
        }
      ],
      "source": [
        "#folder_name = \"111659\"\n",
        "\n",
        "shutil.make_archive(folder_name,\"zip\",f\"/content/extracted/{folder_name}/\")\n",
        "#shutil.unpack_archive(f\"/content/{folder_name}.zip\",f\"/content/extracted/{folder_name}\")\n",
        "label = []\n",
        "data  = []\n",
        "files = os.listdir(f\"/content/extracted/{folder_name}/\")\n",
        "for i, image_name in enumerate(files):\n",
        "  if image_name.split(\".\")[1] == \"png\":\n",
        "    image = cv2.imread(f\"/content/extracted/{folder_name}\"+\"/\"+image_name,0)\n",
        "    dim = (128, 100)\n",
        "    resized = cv2.resize(image, dim)\n",
        "    data.append(np.array(resized))\n",
        "    sugg = image_name.split(\"_\")[1].split(\".\")[0]\n",
        "    label.append(int(sugg))\n",
        "data = np.array(data)\n",
        "data = data / 255\n",
        "print(data.shape)\n",
        "xTrain , xTest , yTrain , yTest = train_test_split(data,label,test_size=0.2,random_state=99)\n",
        "data = None\n",
        "label = None\n",
        "print(f\"xTrain : {len(xTrain)} \\\\ xTest : {len(xTest)}\")\n",
        "nytrain = []\n",
        "nytest = []\n",
        "yn = 0\n",
        "nn = 0\n",
        "for i in yTrain:\n",
        "  if i == 1:\n",
        "    nytrain.append([1,0])\n",
        "    yn += 1\n",
        "  else:\n",
        "    nytrain.append([0,1])\n",
        "    nn += 1\n",
        "for i in yTest:\n",
        "  if i == 1:\n",
        "    nytest.append([1,0])\n",
        "    yn += 1\n",
        "  else:\n",
        "    nytest.append([0,1])\n",
        "    nn += 1\n",
        "yTrain = np.array(nytrain)\n",
        "yTest = np.array(nytest)\n",
        "print(f\"yn: {yn} nn: {nn}\")"
      ]
    },
    {
      "cell_type": "code",
      "execution_count": 5,
      "metadata": {
        "id": "9stbJK8Nx_0c",
        "colab": {
          "base_uri": "https://localhost:8080/"
        },
        "outputId": "f7c0d32e-653a-4852-a663-db94d4fb121a"
      },
      "outputs": [
        {
          "output_type": "stream",
          "name": "stdout",
          "text": [
            "Model: \"sequential\"\n",
            "_________________________________________________________________\n",
            " Layer (type)                Output Shape              Param #   \n",
            "=================================================================\n",
            " conv2d (Conv2D)             (None, 94, 122, 128)      6400      \n",
            "                                                                 \n",
            " max_pooling2d (MaxPooling2D  (None, 47, 61, 128)      0         \n",
            " )                                                               \n",
            "                                                                 \n",
            " conv2d_1 (Conv2D)           (None, 43, 57, 128)       409728    \n",
            "                                                                 \n",
            " max_pooling2d_1 (MaxPooling  (None, 21, 28, 128)      0         \n",
            " 2D)                                                             \n",
            "                                                                 \n",
            " conv2d_2 (Conv2D)           (None, 18, 25, 128)       262272    \n",
            "                                                                 \n",
            " average_pooling2d (AverageP  (None, 9, 12, 128)       0         \n",
            " ooling2D)                                                       \n",
            "                                                                 \n",
            " conv2d_3 (Conv2D)           (None, 7, 10, 128)        147584    \n",
            "                                                                 \n",
            " average_pooling2d_1 (Averag  (None, 3, 5, 128)        0         \n",
            " ePooling2D)                                                     \n",
            "                                                                 \n",
            " conv2d_4 (Conv2D)           (None, 2, 4, 128)         65664     \n",
            "                                                                 \n",
            " flatten (Flatten)           (None, 1024)              0         \n",
            "                                                                 \n",
            " dense (Dense)               (None, 750)               768750    \n",
            "                                                                 \n",
            " dense_1 (Dense)             (None, 750)               563250    \n",
            "                                                                 \n",
            " dense_2 (Dense)             (None, 750)               563250    \n",
            "                                                                 \n",
            " dense_3 (Dense)             (None, 750)               563250    \n",
            "                                                                 \n",
            " dense_4 (Dense)             (None, 2)                 1502      \n",
            "                                                                 \n",
            "=================================================================\n",
            "Total params: 3,351,650\n",
            "Trainable params: 3,351,650\n",
            "Non-trainable params: 0\n",
            "_________________________________________________________________\n"
          ]
        }
      ],
      "source": [
        "model = Sequential()\n",
        "\n",
        "model.add(Conv2D(128,     (7, 7),activation=\"relu\", input_shape=(xTrain.shape[1], xTrain.shape[2],1)))\n",
        "model.add(MaxPooling2D(pool_size=(2, 2)))\n",
        "model.add(Conv2D(128,     (5, 5),activation=\"relu\",)) \n",
        "model.add(MaxPooling2D(pool_size=(2, 2)))\n",
        "model.add(Conv2D(128,     (4, 4),activation=\"relu\",)) \n",
        "model.add(AveragePooling2D(pool_size=(2, 2)))\n",
        "model.add(Conv2D(128,     (3, 3),activation=\"relu\",)) \n",
        "model.add(AveragePooling2D(pool_size=(2, 2)))\n",
        "model.add(Conv2D(128,     (2, 2),activation=\"relu\",)) \n",
        "model.add(Flatten())\n",
        "model.add(Dense(750,activation=\"relu\"))\n",
        "model.add(Dense(750,activation=\"relu\"))\n",
        "model.add(Dense(750,activation=\"relu\"))\n",
        "model.add(Dense(750,activation=\"relu\"))\n",
        "model.add(Dense(2,activation=\"sigmoid\"))\n",
        "\n",
        "adamax = tf.keras.optimizers.Adamax(\n",
        "    learning_rate=0.001)\n",
        "model.compile(loss='categorical_crossentropy',\n",
        "              optimizer=adamax,\n",
        "              metrics=['accuracy'])\n",
        "model.summary()"
      ]
    },
    {
      "cell_type": "code",
      "execution_count": 6,
      "metadata": {
        "id": "cytWxowTyInc",
        "colab": {
          "base_uri": "https://localhost:8080/"
        },
        "outputId": "7a18d393-66ed-4db6-d98f-5418566bfdb6"
      },
      "outputs": [
        {
          "output_type": "stream",
          "name": "stdout",
          "text": [
            "Epoch 1/20\n",
            "1189/1189 [==============================] - 30s 19ms/step - loss: 0.6913 - accuracy: 0.5348 - val_loss: 0.6916 - val_accuracy: 0.5280\n",
            "Epoch 2/20\n",
            "1189/1189 [==============================] - 22s 18ms/step - loss: 0.6910 - accuracy: 0.5352 - val_loss: 0.6920 - val_accuracy: 0.5280\n",
            "Epoch 3/20\n",
            "1189/1189 [==============================] - 22s 19ms/step - loss: 0.6910 - accuracy: 0.5352 - val_loss: 0.6918 - val_accuracy: 0.5280\n",
            "Epoch 4/20\n",
            "1189/1189 [==============================] - 23s 19ms/step - loss: 0.6909 - accuracy: 0.5352 - val_loss: 0.6918 - val_accuracy: 0.5280\n",
            "Epoch 5/20\n",
            "1189/1189 [==============================] - 22s 18ms/step - loss: 0.6909 - accuracy: 0.5352 - val_loss: 0.6917 - val_accuracy: 0.5280\n",
            "Epoch 6/20\n",
            "1189/1189 [==============================] - 22s 19ms/step - loss: 0.6907 - accuracy: 0.5352 - val_loss: 0.6931 - val_accuracy: 0.5280\n",
            "Epoch 7/20\n",
            "1189/1189 [==============================] - 21s 18ms/step - loss: 0.6910 - accuracy: 0.5352 - val_loss: 0.6916 - val_accuracy: 0.5280\n",
            "Epoch 8/20\n",
            "1189/1189 [==============================] - 22s 18ms/step - loss: 0.6909 - accuracy: 0.5352 - val_loss: 0.6916 - val_accuracy: 0.5280\n",
            "Epoch 9/20\n",
            "1189/1189 [==============================] - 21s 18ms/step - loss: 0.6908 - accuracy: 0.5352 - val_loss: 0.6919 - val_accuracy: 0.5280\n",
            "Epoch 10/20\n",
            "1189/1189 [==============================] - 21s 18ms/step - loss: 0.6909 - accuracy: 0.5352 - val_loss: 0.6918 - val_accuracy: 0.5280\n",
            "Epoch 11/20\n",
            "1189/1189 [==============================] - 22s 19ms/step - loss: 0.6908 - accuracy: 0.5352 - val_loss: 0.6916 - val_accuracy: 0.5280\n",
            "Epoch 12/20\n",
            "1189/1189 [==============================] - 21s 18ms/step - loss: 0.6909 - accuracy: 0.5352 - val_loss: 0.6916 - val_accuracy: 0.5280\n",
            "Epoch 13/20\n",
            "1189/1189 [==============================] - 22s 18ms/step - loss: 0.6908 - accuracy: 0.5352 - val_loss: 0.6916 - val_accuracy: 0.5280\n",
            "Epoch 14/20\n",
            "1189/1189 [==============================] - 22s 18ms/step - loss: 0.6909 - accuracy: 0.5352 - val_loss: 0.6917 - val_accuracy: 0.5280\n",
            "Epoch 15/20\n",
            "1189/1189 [==============================] - 21s 18ms/step - loss: 0.6909 - accuracy: 0.5352 - val_loss: 0.6917 - val_accuracy: 0.5280\n",
            "Epoch 16/20\n",
            "1189/1189 [==============================] - 22s 19ms/step - loss: 0.6908 - accuracy: 0.5352 - val_loss: 0.6917 - val_accuracy: 0.5280\n",
            "Epoch 17/20\n",
            "1189/1189 [==============================] - 22s 19ms/step - loss: 0.6905 - accuracy: 0.5352 - val_loss: 0.6916 - val_accuracy: 0.5280\n",
            "Epoch 18/20\n",
            "1189/1189 [==============================] - 21s 18ms/step - loss: 0.6908 - accuracy: 0.5352 - val_loss: 0.6918 - val_accuracy: 0.5280\n",
            "Epoch 19/20\n",
            "1189/1189 [==============================] - 21s 18ms/step - loss: 0.6908 - accuracy: 0.5352 - val_loss: 0.6916 - val_accuracy: 0.5280\n",
            "Epoch 20/20\n",
            "1189/1189 [==============================] - 22s 19ms/step - loss: 0.6908 - accuracy: 0.5352 - val_loss: 0.6918 - val_accuracy: 0.5280\n"
          ]
        },
        {
          "output_type": "execute_result",
          "data": {
            "text/plain": [
              "<keras.callbacks.History at 0x7f21a0d26c50>"
            ]
          },
          "metadata": {},
          "execution_count": 6
        }
      ],
      "source": [
        "filepath = \"/content/checkpoints/{epoch:02d}-{val_accuracy:.2f}.h5\"\n",
        "model_checkpoint_callback = tf.keras.callbacks.ModelCheckpoint(\n",
        "    filepath=filepath,\n",
        "    save_weights_only=False,\n",
        "    monitor='val_accuracy',\n",
        "    mode='max',\n",
        "    save_best_only=True)\n",
        "\n",
        "#model.fit(xTrain,yTrain,batch_size=64,epochs=30,validation_data=(xTest,yTest), callbacks=model_checkpoint_callback)\n",
        "model.fit(xTrain,yTrain,batch_size=8,epochs=20,validation_data=(xTest,yTest))"
      ]
    },
    {
      "cell_type": "code",
      "execution_count": null,
      "metadata": {
        "id": "UgUhFkNfwDtr"
      },
      "outputs": [],
      "source": [
        "model.save(f\"1.h5\")"
      ]
    },
    {
      "cell_type": "code",
      "execution_count": null,
      "metadata": {
        "id": "8IZSQPvww42k"
      },
      "outputs": [],
      "source": [
        "symbol,period,interval=\"btc-usd\",\"10d\",\"1h\"\n",
        "data = yf.download(tickers=symbol,period=period,interval=interval)\n",
        "data = np.array(data)\n",
        "data = data.astype(float)\n",
        "yf.download(tickers=symbol,period=period,interval=interval)"
      ]
    },
    {
      "cell_type": "code",
      "execution_count": null,
      "metadata": {
        "id": "qgz7BAj5wwlN"
      },
      "outputs": [],
      "source": [
        "i = -2\n",
        "rows = data[i-each_row_past:i, :]\n",
        "df = pd.DataFrame(rows, columns=[\"Open\", \"High\", \"Low\", \"Close\",\"Adj Close\",\"Volume\"])\n",
        "df.index.name = \"Date\"\n",
        "df.index = pd.to_datetime(df.index)\n",
        "fig, _a = mpl.plot(df, type=\"candle\", style=\"yahoo\", axisoff=True,\n",
        "                            returnfig=True, tight_layout=True,figsize =(1.5,1.5))\n",
        "fig.savefig(\"picture.png\")"
      ]
    },
    {
      "cell_type": "code",
      "execution_count": null,
      "metadata": {
        "id": "Hdb2r1l8yB-0"
      },
      "outputs": [],
      "source": [
        "image = cv2.imread(\"/content/picture.png\",0)\n",
        "dim = (100, 100)\n",
        "resized = cv2.resize(image, dim)\n",
        "data = np.array(resized)"
      ]
    },
    {
      "cell_type": "code",
      "execution_count": null,
      "metadata": {
        "id": "I8nJ2wI-ynZw"
      },
      "outputs": [],
      "source": [
        "model.predict([[data.reshape(1,100,100,1)]])"
      ]
    },
    {
      "cell_type": "code",
      "execution_count": null,
      "metadata": {
        "id": "3B7lUM_NBNxj"
      },
      "outputs": [],
      "source": [
        "from google.colab import drive\n",
        "drive.mount('/content/drive')"
      ]
    }
  ],
  "metadata": {
    "colab": {
      "collapsed_sections": [],
      "name": "G23",
      "provenance": []
    },
    "gpuClass": "standard",
    "kernelspec": {
      "display_name": "Python 3",
      "name": "python3"
    },
    "language_info": {
      "name": "python"
    }
  },
  "nbformat": 4,
  "nbformat_minor": 0
}