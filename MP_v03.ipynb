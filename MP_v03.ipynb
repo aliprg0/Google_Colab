{
 "cells": [
  {
   "cell_type": "code",
   "metadata": {
    "id": "_5bxbCoe9do9",
    "colab": {
     "base_uri": "https://localhost:8080/"
    },
    "outputId": "2708ea44-f86a-4293-9c1b-f51e3475222f",
    "cell_id": "702c3ca8-47db-4448-b4d3-0990ad9de0c2",
    "deepnote_to_be_reexecuted": false,
    "source_hash": "bca5971b",
    "execution_start": 1650310770649,
    "execution_millis": 13656,
    "owner_user_id": "85c39880-66d6-4580-b95e-fedaac7f2e56",
    "deepnote_cell_type": "code",
    "deepnote_cell_height": 1079
   },
   "source": "!pip install yfinance\n!pip install yahooquery\nfrom yahooquery import Screener\nimport yfinance as yf   \nimport pandas as pd\nimport numpy as np\nfrom tensorflow.keras import Sequential\nfrom tensorflow.keras.layers import Dense,LSTM\nfrom tensorflow.keras.layers import Dropout\nfrom sklearn.linear_model import LogisticRegression\nfrom sklearn.ensemble import RandomForestClassifier\nfrom sklearn.model_selection import train_test_split\nfrom sklearn.preprocessing import MinMaxScaler,StandardScaler\nfrom sklearn.svm import SVC\nfrom sklearn.naive_bayes import GaussianNB\nfrom sklearn.neighbors import NearestCentroid\nfrom sklearn.ensemble import GradientBoostingClassifier\nfrom sklearn.neighbors import KNeighborsClassifier\nimport tensorflow as tf\nfrom sklearn.tree import DecisionTreeClassifier\nfrom sys import getsizeof\nfrom datetime import datetime",
   "execution_count": null,
   "outputs": [
    {
     "name": "stdout",
     "text": "Requirement already satisfied: yfinance in /root/venv/lib/python3.7/site-packages (0.1.70)\nRequirement already satisfied: lxml>=4.5.1 in /shared-libs/python3.7/py/lib/python3.7/site-packages (from yfinance) (4.8.0)\nRequirement already satisfied: requests>=2.26 in /shared-libs/python3.7/py/lib/python3.7/site-packages (from yfinance) (2.27.1)\nRequirement already satisfied: multitasking>=0.0.7 in /root/venv/lib/python3.7/site-packages (from yfinance) (0.0.10)\nRequirement already satisfied: pandas>=0.24.0 in /shared-libs/python3.7/py/lib/python3.7/site-packages (from yfinance) (1.2.5)\nRequirement already satisfied: numpy>=1.15 in /shared-libs/python3.7/py/lib/python3.7/site-packages (from yfinance) (1.21.5)\nRequirement already satisfied: charset-normalizer~=2.0.0; python_version >= \"3\" in /shared-libs/python3.7/py-core/lib/python3.7/site-packages (from requests>=2.26->yfinance) (2.0.12)\nRequirement already satisfied: urllib3<1.27,>=1.21.1 in /shared-libs/python3.7/py/lib/python3.7/site-packages (from requests>=2.26->yfinance) (1.26.9)\nRequirement already satisfied: certifi>=2017.4.17 in /shared-libs/python3.7/py/lib/python3.7/site-packages (from requests>=2.26->yfinance) (2021.10.8)\nRequirement already satisfied: idna<4,>=2.5; python_version >= \"3\" in /shared-libs/python3.7/py-core/lib/python3.7/site-packages (from requests>=2.26->yfinance) (3.3)\nRequirement already satisfied: python-dateutil>=2.7.3 in /shared-libs/python3.7/py-core/lib/python3.7/site-packages (from pandas>=0.24.0->yfinance) (2.8.2)\nRequirement already satisfied: pytz>=2017.3 in /shared-libs/python3.7/py/lib/python3.7/site-packages (from pandas>=0.24.0->yfinance) (2022.1)\nRequirement already satisfied: six>=1.5 in /shared-libs/python3.7/py-core/lib/python3.7/site-packages (from python-dateutil>=2.7.3->pandas>=0.24.0->yfinance) (1.16.0)\n\u001b[33mWARNING: You are using pip version 20.1.1; however, version 22.0.4 is available.\nYou should consider upgrading via the '/root/venv/bin/python -m pip install --upgrade pip' command.\u001b[0m\nRequirement already satisfied: yahooquery in /root/venv/lib/python3.7/site-packages (2.2.15)\nRequirement already satisfied: pandas>=0.24.0 in /shared-libs/python3.7/py/lib/python3.7/site-packages (from yahooquery) (1.2.5)\nRequirement already satisfied: tqdm>=4.54.1 in /shared-libs/python3.7/py/lib/python3.7/site-packages (from yahooquery) (4.63.0)\nRequirement already satisfied: requests-futures>=1.0.0 in /root/venv/lib/python3.7/site-packages (from yahooquery) (1.0.0)\nRequirement already satisfied: lxml>=4.6.2 in /shared-libs/python3.7/py/lib/python3.7/site-packages (from yahooquery) (4.8.0)\nRequirement already satisfied: python-dateutil>=2.7.3 in /shared-libs/python3.7/py-core/lib/python3.7/site-packages (from pandas>=0.24.0->yahooquery) (2.8.2)\nRequirement already satisfied: pytz>=2017.3 in /shared-libs/python3.7/py/lib/python3.7/site-packages (from pandas>=0.24.0->yahooquery) (2022.1)\nRequirement already satisfied: numpy>=1.16.5 in /shared-libs/python3.7/py/lib/python3.7/site-packages (from pandas>=0.24.0->yahooquery) (1.21.5)\nRequirement already satisfied: requests>=1.2.0 in /shared-libs/python3.7/py/lib/python3.7/site-packages (from requests-futures>=1.0.0->yahooquery) (2.27.1)\nRequirement already satisfied: six>=1.5 in /shared-libs/python3.7/py-core/lib/python3.7/site-packages (from python-dateutil>=2.7.3->pandas>=0.24.0->yahooquery) (1.16.0)\nRequirement already satisfied: charset-normalizer~=2.0.0; python_version >= \"3\" in /shared-libs/python3.7/py-core/lib/python3.7/site-packages (from requests>=1.2.0->requests-futures>=1.0.0->yahooquery) (2.0.12)\nRequirement already satisfied: urllib3<1.27,>=1.21.1 in /shared-libs/python3.7/py/lib/python3.7/site-packages (from requests>=1.2.0->requests-futures>=1.0.0->yahooquery) (1.26.9)\nRequirement already satisfied: idna<4,>=2.5; python_version >= \"3\" in /shared-libs/python3.7/py-core/lib/python3.7/site-packages (from requests>=1.2.0->requests-futures>=1.0.0->yahooquery) (3.3)\nRequirement already satisfied: certifi>=2017.4.17 in /shared-libs/python3.7/py/lib/python3.7/site-packages (from requests>=1.2.0->requests-futures>=1.0.0->yahooquery) (2021.10.8)\n\u001b[33mWARNING: You are using pip version 20.1.1; however, version 22.0.4 is available.\nYou should consider upgrading via the '/root/venv/bin/python -m pip install --upgrade pip' command.\u001b[0m\n",
     "output_type": "stream"
    }
   ]
  },
  {
   "cell_type": "code",
   "metadata": {
    "id": "IB_YMoe09qVP",
    "cell_id": "00001-fbf98524-7528-46d2-93d5-109da6dd338a",
    "deepnote_to_be_reexecuted": false,
    "source_hash": "2f28f3ea",
    "execution_start": 1650310784329,
    "execution_millis": 4,
    "deepnote_cell_type": "code",
    "deepnote_cell_height": 2691
   },
   "source": "clmns = ['15 Open', '15 High', '15 Low', '15 Close', '15 Volume', '14 Open', '14 High', '14 Low', '14 Close', '14 Volume', '13 Open', '13 High', '13 Low', '13 Close', '13 Volume', '12 Open', '12 High', '12 Low', '12 Close', '12 Volume', '11 Open', '11 High', '11 Low', '11 Close', '11 Volume', '10 Open', '10 High', '10 Low', '10 Close', '10 Volume', '9 Open', '9 High', '9 Low', '9 Close', '9 Volume', '8 Open', '8 High', '8 Low', '8 Close', '8 Volume', '7 Open', '7 High', '7 Low', '7 Close', '7 Volume', '6 Open', '6 High', '6 Low', '6 Close', '6 Volume', '5 Open', '5 High', '5 Low', '5 Close', '5 Volume', '4 Open', '4 High', '4 Low', '4 Close', '4 Volume', '3 Open', '3 High', '3 Low', '3 Close', '3 Volume', '2 Open', '2 High', '2 Low', '2 Close', '2 Volume', '1 Open', '1 High', '1 Low', '1 Close', '1 Volume',\"suggestion\"]\nclmnsws = ['15 Open', '15 High', '15 Low', '15 Close', '15 Volume', '14 Open', '14 High', '14 Low', '14 Close', '14 Volume', '13 Open', '13 High', '13 Low', '13 Close', '13 Volume', '12 Open', '12 High', '12 Low', '12 Close', '12 Volume', '11 Open', '11 High', '11 Low', '11 Close', '11 Volume', '10 Open', '10 High', '10 Low', '10 Close', '10 Volume', '9 Open', '9 High', '9 Low', '9 Close', '9 Volume', '8 Open', '8 High', '8 Low', '8 Close', '8 Volume', '7 Open', '7 High', '7 Low', '7 Close', '7 Volume', '6 Open', '6 High', '6 Low', '6 Close', '6 Volume', '5 Open', '5 High', '5 Low', '5 Close', '5 Volume', '4 Open', '4 High', '4 Low', '4 Close', '4 Volume', '3 Open', '3 High', '3 Low', '3 Close', '3 Volume', '2 Open', '2 High', '2 Low', '2 Close', '2 Volume', '1 Open', '1 High', '1 Low', '1 Close', '1 Volume']\ndef read_syms_from_txt():  \n  with open(\"syms.txt\",\"r\") as f:\n    lines = f.readlines()\n    f.close()\n  lst = []\n  for line in lines:\n    line = line.strip()\n    lst.append(line)\n  symbols = lst\n  return symbols\ndef get_crypto_syms():\n   #'all_cryptocurrencies_au','all_cryptocurrencies_ca','all_cryptocurrencies_eu','all_cryptocurrencies_gb','all_cryptocurrencies_in',\n   screens = [\n   'all_cryptocurrencies_us','all_cryptocurrencies_au','all_cryptocurrencies_ca','all_cryptocurrencies_eu','all_cryptocurrencies_gb','all_cryptocurrencies_in',]\n   s = Screener()\n   symbols = []\n   for i in screens:\n      data = s.get_screeners(i, count=250)\n      dicts = data[i]['quotes']\n      syms = [d['symbol'] for d in dicts]\n      for sym in syms:\n        symbols.append(sym)\n   #print(len(symbols))\n   #pieces = 15\n   # new_arrays = np.array_split(symbols, pieces)\n   return symbols\ndef spliting(data):\n  X = data.drop([\"suggestion\"],axis=1)\n  y = data[\"suggestion\"]\n  xTrain, xTest, yTrain, yTest = train_test_split(X, y, test_size=0.1)\n  print(xTrain.shape,end=\" \")\n  print(yTrain.shape)\n  print(xTest.shape,end=\" \")\n  print(yTest.shape)\n  return xTrain, xTest, yTrain, yTest\ndef extract_data(df):\n    rows = []\n    for each in range(15,df.shape[0]-1):\n        sugg = 0\n        if df[each][3] > df[each][0]:\n          sugg = 1\n        row = [\n                df[each-15][0],\n                df[each-15][1],\n                df[each-15][2],\n                df[each-15][3],\n                df[each-15][4],\n                df[each-14][0],\n                df[each-14][1],\n                df[each-14][2],\n                df[each-14][3],\n                df[each-14][4],\n                df[each-13][0],\n                df[each-13][1],\n                df[each-13][2],\n                df[each-13][3],\n                df[each-13][4],\n                df[each-12][0],\n                df[each-12][1],\n                df[each-12][2],\n                df[each-12][3],\n                df[each-12][4],\n                df[each-11][0],\n                df[each-11][1],\n                df[each-11][2],\n                df[each-11][3],\n                df[each-11][4],\n                df[each-10][0],\n                df[each-10][1],\n                df[each-10][2],\n                df[each-10][3],\n                df[each-10][4],\n                df[each-9][0],\n                df[each-9][1],\n                df[each-9][2],\n                df[each-9][3],\n                df[each-9][4],\n                df[each-8][0],\n                df[each-8][1],\n                df[each-8][2],\n                df[each-8][3],\n                df[each-8][4],\n                df[each-7][0],\n                df[each-7][1],\n                df[each-7][2],\n                df[each-7][3],\n                df[each-7][4],\n                df[each-6][0],\n                df[each-6][1],\n                df[each-6][2],\n                df[each-6][3],\n                df[each-6][4],\n                df[each-5][0],\n                df[each-5][1],\n                df[each-5][2],\n                df[each-5][3],\n                df[each-5][4],\n                df[each-4][0],\n                df[each-4][1],\n                df[each-4][2],\n                df[each-4][3],\n                df[each-4][4],\n                df[each-3][0],\n                df[each-3][1],\n                df[each-3][2],\n                df[each-3][3],\n                df[each-3][4],\n                df[each-2][0],\n                df[each-2][1],\n                df[each-2][2],\n                df[each-2][3],\n                df[each-2][4],\n                df[each-1][0],\n                df[each-1][2],\n                df[each-1][1],\n                df[each-1][3],\n                df[each-1][4],\n                sugg\n        ]\n        rows.append(row)\n    return rows\ndef row_scaler(df):\n  scaler = MinMaxScaler(feature_range=(1,5))\n  last_column = df.iloc[: , -1]\n  df = df.drop(columns=df.columns[-1], axis=1)\n  scaled = pd.DataFrame(scaler.fit_transform(df.T).T,dtype=object,columns = clmnsws)\n  scaled[\"suggestion\"] = last_column\n  return scaled\ndef column_scaler(df):\n  scaler = MinMaxScaler(feature_range=(0,1))\n  last_column = df.iloc[: , -1]\n  df = df.drop(columns=df.columns[-1], axis=1)\n  df_scaled = scaler.fit_transform(df.to_numpy())\n  df_scaled = pd.DataFrame(df_scaled,columns = clmnsws)\n  df_scaled[\"suggestion\"] = last_column\n  return df_scaled\ndef process(df): \n      df = df.dropna()\n      df = np.array(df)\n      df = extract_data(df)\n      df = pd.DataFrame(df,columns = clmns)\n      df = row_scaler(df)\n      #df = column_scaler(df)\n      return df",
   "execution_count": null,
   "outputs": []
  },
  {
   "cell_type": "code",
   "metadata": {
    "colab": {
     "base_uri": "https://localhost:8080/"
    },
    "id": "hIAuU_ILbU27",
    "outputId": "d0f986e9-5d34-4f8d-a979-269dd9db9312",
    "cell_id": "00002-583d3610-6d4c-469d-8ca7-b607c2a4c6f9",
    "deepnote_cell_type": "code",
    "deepnote_cell_height": 1331
   },
   "source": "def get_data(symbols):\n    unattached_dfs = []\n    for symbol in symbols:\n           data = yf.download(symbol,period=\"730h\",interval=\"1h\",progress=False)\n           if data.empty :\n             print(\"Passing...\")\n           else:\n               if data.shape[0] > 14:\n                   unattached_dfs.append(process(data))\n    symbols = []\n    symbol = []\n    data = []\n\n    data = pd.concat(unattached_dfs)\n    data = data.astype(float)\n\n    xTrain, xTest, yTrain, yTest = spliting(data)\n    print(data.shape)\n    data.to_csv(\"file.csv\")\n    return xTrain, xTest, yTrain, yTest\n\n\n#symbols = [\"MSFT\",\"AAPL\",\"GOOG\",\"TSLA\",\"AMZN\"]\n#symbols = [\"BTC-USD\",\"LTC-USD\",\"TRX-USD\",\"XRP-USD\",\"ETH-USD\",\"BNB-USD\",\"DASH-USD\",\"VET-USD\",\"LINK-USD\",\"ADA-USD\",\"DOT-USD\",\"SOL-USD\",\"BCH-USD\",\"FTT-USD\",\"FIL-USD\",\"XMR-USD\"]\n#symbols = [\"AAPL\",\"MSFT\",\"TSLA\",\"GOOG\"]\n#symbols = [\"BTC-USD\",\"ETH-USD\"]\n#symbols = [\"BTC-USD\"]\n#symbols = read_syms_from_txt()\nsymbols = get_crypto_syms()\n\n#pieces = 20\n#new_arrays = np.array_split(symbols, pieces)\n#for symbols in new_arrays:\nxTrain, xTest, yTrain, yTest= get_data(symbols)\n\n",
   "execution_count": null,
   "outputs": [
    {
     "output_type": "stream",
     "name": "stdout",
     "text": "\n1 Failed download:\n- FLUX-AUD: No data found for this date range, symbol may be delisted\nPassing...\n\n1 Failed download:\n- XNO-AUD: No data found for this date range, symbol may be delisted\nPassing...\n\n1 Failed download:\n- WIN-AUD: No data found for this date range, symbol may be delisted\nPassing...\n\n1 Failed download:\n- OXEN-AUD: No data found for this date range, symbol may be delisted\nPassing...\n\n1 Failed download:\n- VAL-AUD: No data found for this date range, symbol may be delisted\nPassing...\n\n1 Failed download:\n- SOL-CAD: No data found for this date range, symbol may be delisted\nPassing...\n\n1 Failed download:\n- DOT-CAD: No data found for this date range, symbol may be delisted\nPassing...\n\n1 Failed download:\n- DAI-CAD: No data found for this date range, symbol may be delisted\nPassing...\n\n1 Failed download:\n- ATOM-CAD: No data found for this date range, symbol may be delisted\nPassing...\n\n1 Failed download:\n- UNI1-CAD: No data found for this date range, symbol may be delisted\nPassing...\n\n1 Failed download:\n- FTT-CAD: No data found for this date range, symbol may be delisted\nPassing...\n\n1 Failed download:\n- ICP-CAD: No data found for this date range, symbol may be delisted\nPassing...\n\n1 Failed download:\n- HNT-CAD: No data found for this date range, symbol may be delisted\nPassing...\n\n1 Failed download:\n- FLOW-CAD: No data found for this date range, symbol may be delisted\nPassing...\n\n1 Failed download:\n- BTT-CAD: No data found for this date range, symbol may be delisted\nPassing...\n\n1 Failed download:\n- GRT1-CAD: No data found for this date range, symbol may be delisted\nPassing...\n\n1 Failed download:\n- STX-CAD: No data found for this date range, symbol may be delisted\nPassing...\n\n1 Failed download:\n- ONE1-CAD: No data found for this date range, symbol may be delisted\nPassing...\n\n1 Failed download:\n- AMP-CAD: No data found for this date range, symbol may be delisted\nPassing...\n\n1 Failed download:\n- FLUX-CAD: No data found for this date range, symbol may be delisted\nPassing...\n\n1 Failed download:\n- XNO-CAD: No data found for this date range, symbol may be delisted\nPassing...\n\n1 Failed download:\n- WIN-CAD: No data found for this date range, symbol may be delisted\nPassing...\n\n1 Failed download:\n- OXEN-CAD: No data found for this date range, symbol may be delisted\nPassing...\n\n1 Failed download:\n- VAL-CAD: No data found for this date range, symbol may be delisted\nPassing...\n\n1 Failed download:\n- SOL-EUR: No data found for this date range, symbol may be delisted\nPassing...\n\n1 Failed download:\n- DOT-EUR: No data found for this date range, symbol may be delisted\nPassing...\n\n1 Failed download:\n- DAI-EUR: No data found for this date range, symbol may be delisted\nPassing...\n\n1 Failed download:\n- ATOM-EUR: No data found for this date range, symbol may be delisted\nPassing...\n\n1 Failed download:\n- UNI1-EUR: No data found for this date range, symbol may be delisted\nPassing...\n\n1 Failed download:\n- FTT-EUR: No data found for this date range, symbol may be delisted\nPassing...\n\n1 Failed download:\n- ICP-EUR: No data found for this date range, symbol may be delisted\nPassing...\n\n1 Failed download:\n- HNT-EUR: No data found for this date range, symbol may be delisted\nPassing...\n\n1 Failed download:\n- FLOW-EUR: No data found for this date range, symbol may be delisted\nPassing...\n\n1 Failed download:\n- BTT-EUR: No data found for this date range, symbol may be delisted\nPassing...\n\n1 Failed download:\n- GRT1-EUR: No data found for this date range, symbol may be delisted\nPassing...\n\n1 Failed download:\n- STX-EUR: No data found for this date range, symbol may be delisted\nPassing...\n\n1 Failed download:\n- ONE1-EUR: No data found for this date range, symbol may be delisted\nPassing...\n\n1 Failed download:\n- AMP-EUR: No data found for this date range, symbol may be delisted\nPassing...\n\n1 Failed download:\n- FLUX-EUR: No data found for this date range, symbol may be delisted\nPassing...\n\n1 Failed download:\n- XNO-EUR: No data found for this date range, symbol may be delisted\nPassing...\n\n1 Failed download:\n- WIN-EUR: No data found for this date range, symbol may be delisted\nPassing...\n\n1 Failed download:\n- OXEN-EUR: No data found for this date range, symbol may be delisted\nPassing...\n\n1 Failed download:\n- VAL-EUR: No data found for this date range, symbol may be delisted\nPassing...\n\n1 Failed download:\n- SOL-GBP: No data found for this date range, symbol may be delisted\nPassing...\n\n1 Failed download:\n- DOT-GBP: No data found for this date range, symbol may be delisted\nPassing...\n\n1 Failed download:\n- DAI-GBP: No data found for this date range, symbol may be delisted\nPassing...\n\n1 Failed download:\n- ATOM-GBP: No data found for this date range, symbol may be delisted\nPassing...\n\n1 Failed download:\n- UNI1-GBP: No data found for this date range, symbol may be delisted\nPassing...\n\n1 Failed download:\n- FTT-GBP: No data found for this date range, symbol may be delisted\nPassing...\n\n1 Failed download:\n- ICP-GBP: No data found for this date range, symbol may be delisted\nPassing...\n\n1 Failed download:\n- HNT-GBP: No data found for this date range, symbol may be delisted\nPassing...\n\n1 Failed download:\n- FLOW-GBP: No data found for this date range, symbol may be delisted\nPassing...\n\n1 Failed download:\n- BTT-GBP: No data found for this date range, symbol may be delisted\nPassing...\n\n1 Failed download:\n- GRT1-GBP: No data found for this date range, symbol may be delisted\nPassing...\n\n1 Failed download:\n- STX-GBP: No data found for this date range, symbol may be delisted\nPassing...\n\n1 Failed download:\n- ONE1-GBP: No data found for this date range, symbol may be delisted\nPassing...\n\n1 Failed download:\n- AMP-GBP: No data found for this date range, symbol may be delisted\nPassing...\n\n1 Failed download:\n- FLUX-GBP: No data found for this date range, symbol may be delisted\nPassing...\n\n1 Failed download:\n- XNO-GBP: No data found for this date range, symbol may be delisted\nPassing...\n\n1 Failed download:\n- WIN-GBP: No data found for this date range, symbol may be delisted\nPassing...\n\n1 Failed download:\n- OXEN-GBP: No data found for this date range, symbol may be delisted\nPassing...\n\n1 Failed download:\n- VAL-GBP: No data found for this date range, symbol may be delisted\nPassing...\n\n1 Failed download:\n- SOL-INR: No data found for this date range, symbol may be delisted\nPassing...\n\n1 Failed download:\n- DOT-INR: No data found for this date range, symbol may be delisted\nPassing...\n\n1 Failed download:\n- DAI-INR: No data found for this date range, symbol may be delisted\nPassing...\n\n1 Failed download:\n- ATOM-INR: No data found for this date range, symbol may be delisted\nPassing...\n\n1 Failed download:\n- UNI1-INR: No data found for this date range, symbol may be delisted\nPassing...\n\n1 Failed download:\n- FTT-INR: No data found for this date range, symbol may be delisted\nPassing...\n\n1 Failed download:\n- ICP-INR: No data found for this date range, symbol may be delisted\nPassing...\n\n1 Failed download:\n- HNT-INR: No data found for this date range, symbol may be delisted\nPassing...\n\n1 Failed download:\n- FLOW-INR: No data found for this date range, symbol may be delisted\nPassing...\n\n1 Failed download:\n- BTT-INR: No data found for this date range, symbol may be delisted\nPassing...\n\n1 Failed download:\n- GRT1-INR: No data found for this date range, symbol may be delisted\nPassing...\n\n1 Failed download:\n- STX-INR: No data found for this date range, symbol may be delisted\nPassing...\n\n1 Failed download:\n- ONE1-INR: No data found for this date range, symbol may be delisted\nPassing...\n\n1 Failed download:\n- AMP-INR: No data found for this date range, symbol may be delisted\nPassing...\n\n1 Failed download:\n- FLUX-INR: No data found for this date range, symbol may be delisted\nPassing...\n\n1 Failed download:\n- XNO-INR: No data found for this date range, symbol may be delisted\nPassing...\n\n1 Failed download:\n- WIN-INR: No data found for this date range, symbol may be delisted\nPassing...\n\n1 Failed download:\n- OXEN-INR: No data found for this date range, symbol may be delisted\nPassing...\n\n1 Failed download:\n- VAL-INR: No data found, symbol may be delisted\nPassing...\n(912501, 75) (912501,)\n(101390, 75) (101390,)\n(1013891, 76)\n"
    }
   ]
  },
  {
   "cell_type": "code",
   "metadata": {
    "colab": {
     "base_uri": "https://localhost:8080/"
    },
    "id": "xN93WT9e8ueQ",
    "outputId": "11667e31-08b2-45f2-f726-95714d53181b",
    "cell_id": "00003-b54eb512-1577-4dc0-83d0-a8670c7413fd",
    "deepnote_to_be_reexecuted": false,
    "source_hash": "4827e071",
    "execution_start": 1650310858343,
    "execution_millis": 245,
    "deepnote_cell_type": "code",
    "deepnote_cell_height": 767.9375
   },
   "source": "model = Sequential()\n\n\n\n\nmodel.add(Dense(2500, activation='relu', input_shape=(xTrain.shape[1],)))\nmodel.add(Dense(1000, activation='relu'))\nmodel.add(Dense(1000, activation='relu'))\nmodel.add(Dense(1000, activation='relu'))\nmodel.add(Dense(1000, activation='relu'))\n\nmodel.add(Dense(1, activation='sigmoid'))\n\nmodel.compile(optimizer=\"adam\", loss='binary_crossentropy',metrics=['accuracy'])\nmodel.summary()",
   "execution_count": null,
   "outputs": [
    {
     "name": "stdout",
     "text": "Model: \"sequential\"\n_________________________________________________________________\n Layer (type)                Output Shape              Param #   \n=================================================================\n dense (Dense)               (None, 2500)              190000    \n                                                                 \n dense_1 (Dense)             (None, 1000)              2501000   \n                                                                 \n dense_2 (Dense)             (None, 1000)              1001000   \n                                                                 \n dense_3 (Dense)             (None, 1000)              1001000   \n                                                                 \n dense_4 (Dense)             (None, 1000)              1001000   \n                                                                 \n dense_5 (Dense)             (None, 1)                 1001      \n                                                                 \n=================================================================\nTotal params: 5,695,001\nTrainable params: 5,695,001\nNon-trainable params: 0\n_________________________________________________________________\n",
     "output_type": "stream"
    }
   ]
  },
  {
   "cell_type": "code",
   "metadata": {
    "colab": {
     "base_uri": "https://localhost:8080/",
     "height": 484
    },
    "id": "_SBxPzRd89uy",
    "outputId": "70e65064-f1de-44c3-93f9-44318d9de5b6",
    "cell_id": "00004-d7f733ee-959f-491b-8940-350fe9bc7baa",
    "deepnote_to_be_reexecuted": false,
    "source_hash": "5d500557",
    "execution_start": 1650362313056,
    "execution_millis": 335,
    "deepnote_cell_type": "code",
    "deepnote_cell_height": 144.1875
   },
   "source": "model.fit(xTrain,yTrain,epochs=150,batch_size=50000,validation_data=(xTest,yTest))",
   "execution_count": 1,
   "outputs": [
    {
     "output_type": "error",
     "ename": "NameError",
     "evalue": "name 'model' is not defined",
     "traceback": [
      "\u001b[0;31m---------------------------------------------------------------------------\u001b[0m",
      "\u001b[0;31mNameError\u001b[0m                                 Traceback (most recent call last)",
      "\u001b[0;32m<ipython-input-1-f230dce565eb>\u001b[0m in \u001b[0;36m<module>\u001b[0;34m\u001b[0m\n\u001b[0;32m----> 1\u001b[0;31m \u001b[0mmodel\u001b[0m\u001b[0;34m.\u001b[0m\u001b[0mfit\u001b[0m\u001b[0;34m(\u001b[0m\u001b[0mxTrain\u001b[0m\u001b[0;34m,\u001b[0m\u001b[0myTrain\u001b[0m\u001b[0;34m,\u001b[0m\u001b[0mepochs\u001b[0m\u001b[0;34m=\u001b[0m\u001b[0;36m150\u001b[0m\u001b[0;34m,\u001b[0m\u001b[0mbatch_size\u001b[0m\u001b[0;34m=\u001b[0m\u001b[0;36m50000\u001b[0m\u001b[0;34m,\u001b[0m\u001b[0mvalidation_data\u001b[0m\u001b[0;34m=\u001b[0m\u001b[0;34m(\u001b[0m\u001b[0mxTest\u001b[0m\u001b[0;34m,\u001b[0m\u001b[0myTest\u001b[0m\u001b[0;34m)\u001b[0m\u001b[0;34m)\u001b[0m\u001b[0;34m\u001b[0m\u001b[0;34m\u001b[0m\u001b[0m\n\u001b[0m",
      "\u001b[0;31mNameError\u001b[0m: name 'model' is not defined"
     ]
    }
   ]
  },
  {
   "cell_type": "code",
   "metadata": {
    "id": "UC6W88bOvyxe",
    "cell_id": "00005-0742c2c7-5891-4aec-a7fc-5acf437ff042",
    "deepnote_cell_type": "code",
    "deepnote_cell_height": 174
   },
   "source": "from google.colab import drive\ndrive.mount(\"/content/drive\")\n\ndata = pd.read_csv(\"/content/drive/MyDrive/Colab Files/BinaryTest_v10_hourtesting.csv\")\ndata = data.drop(\"Unnamed: 0\",axis=1)\nxTrain, xTest, yTrain, yTest = spliting(data)\ndata",
   "execution_count": null,
   "outputs": []
  },
  {
   "cell_type": "code",
   "metadata": {
    "colab": {
     "base_uri": "https://localhost:8080/"
    },
    "id": "YAKTl3fbHIE6",
    "outputId": "b2a1ad52-8494-4899-a19c-5f3762639c29",
    "cell_id": "00006-9b5a4278-a08d-4796-b916-80259d769258",
    "deepnote_to_be_reexecuted": false,
    "source_hash": "25026b15",
    "execution_start": 1650310784338,
    "execution_millis": 21970,
    "deepnote_cell_type": "code",
    "deepnote_cell_height": 791.375
   },
   "source": "#from google.colab import drive\n#drive.mount(\"/content/drive\")\n\ndata = pd.read_csv(\"/datasets/ca/mpv03.csv\")\ndata = data.drop(\"Unnamed: 0\",axis=1)\nxTrain, xTest, yTrain, yTest = spliting(data)\ndata",
   "execution_count": null,
   "outputs": [
    {
     "name": "stdout",
     "text": "(912501, 75) (912501,)\n(101390, 75) (101390,)\n",
     "output_type": "stream"
    },
    {
     "output_type": "execute_result",
     "execution_count": 4,
     "data": {
      "application/vnd.deepnote.dataframe.v3+json": {
       "column_count": 76,
       "row_count": 1013891,
       "columns": [
        {
         "name": "15 Open",
         "dtype": "float64"
        },
        {
         "name": "15 High",
         "dtype": "float64"
        },
        {
         "name": "15 Low",
         "dtype": "float64"
        },
        {
         "name": "15 Close",
         "dtype": "float64"
        },
        {
         "name": "15 Volume",
         "dtype": "float64"
        },
        {
         "name": "14 Open",
         "dtype": "float64"
        },
        {
         "name": "14 High",
         "dtype": "float64"
        },
        {
         "name": "14 Low",
         "dtype": "float64"
        },
        {
         "name": "14 Close",
         "dtype": "float64"
        },
        {
         "name": "14 Volume",
         "dtype": "float64"
        },
        {
         "name": "13 Open",
         "dtype": "float64"
        },
        {
         "name": "13 High",
         "dtype": "float64"
        },
        {
         "name": "13 Low",
         "dtype": "float64"
        },
        {
         "name": "13 Close",
         "dtype": "float64"
        },
        {
         "name": "13 Volume",
         "dtype": "float64"
        },
        {
         "name": "12 Open",
         "dtype": "float64"
        },
        {
         "name": "12 High",
         "dtype": "float64"
        },
        {
         "name": "12 Low",
         "dtype": "float64"
        },
        {
         "name": "12 Close",
         "dtype": "float64"
        },
        {
         "name": "12 Volume",
         "dtype": "float64"
        },
        {
         "name": "11 Open",
         "dtype": "float64"
        },
        {
         "name": "11 High",
         "dtype": "float64"
        },
        {
         "name": "11 Low",
         "dtype": "float64"
        },
        {
         "name": "11 Close",
         "dtype": "float64"
        },
        {
         "name": "11 Volume",
         "dtype": "float64"
        },
        {
         "name": "10 Open",
         "dtype": "float64"
        },
        {
         "name": "10 High",
         "dtype": "float64"
        },
        {
         "name": "10 Low",
         "dtype": "float64"
        },
        {
         "name": "10 Close",
         "dtype": "float64"
        },
        {
         "name": "10 Volume",
         "dtype": "float64"
        },
        {
         "name": "9 Open",
         "dtype": "float64"
        },
        {
         "name": "9 High",
         "dtype": "float64"
        },
        {
         "name": "9 Low",
         "dtype": "float64"
        },
        {
         "name": "9 Close",
         "dtype": "float64"
        },
        {
         "name": "9 Volume",
         "dtype": "float64"
        },
        {
         "name": "8 Open",
         "dtype": "float64"
        },
        {
         "name": "8 High",
         "dtype": "float64"
        },
        {
         "name": "8 Low",
         "dtype": "float64"
        },
        {
         "name": "8 Close",
         "dtype": "float64"
        },
        {
         "name": "8 Volume",
         "dtype": "float64"
        },
        {
         "name": "7 Open",
         "dtype": "float64"
        },
        {
         "name": "7 High",
         "dtype": "float64"
        },
        {
         "name": "7 Low",
         "dtype": "float64"
        },
        {
         "name": "7 Close",
         "dtype": "float64"
        },
        {
         "name": "7 Volume",
         "dtype": "float64"
        },
        {
         "name": "6 Open",
         "dtype": "float64"
        },
        {
         "name": "6 High",
         "dtype": "float64"
        },
        {
         "name": "6 Low",
         "dtype": "float64"
        },
        {
         "name": "6 Close",
         "dtype": "float64"
        },
        {
         "name": "6 Volume",
         "dtype": "float64"
        },
        {
         "name": "5 Open",
         "dtype": "float64"
        },
        {
         "name": "5 High",
         "dtype": "float64"
        },
        {
         "name": "5 Low",
         "dtype": "float64"
        },
        {
         "name": "5 Close",
         "dtype": "float64"
        },
        {
         "name": "5 Volume",
         "dtype": "float64"
        },
        {
         "name": "4 Open",
         "dtype": "float64"
        },
        {
         "name": "4 High",
         "dtype": "float64"
        },
        {
         "name": "4 Low",
         "dtype": "float64"
        },
        {
         "name": "4 Close",
         "dtype": "float64"
        },
        {
         "name": "4 Volume",
         "dtype": "float64"
        },
        {
         "name": "3 Open",
         "dtype": "float64"
        },
        {
         "name": "3 High",
         "dtype": "float64"
        },
        {
         "name": "3 Low",
         "dtype": "float64"
        },
        {
         "name": "3 Close",
         "dtype": "float64"
        },
        {
         "name": "3 Volume",
         "dtype": "float64"
        },
        {
         "name": "2 Open",
         "dtype": "float64"
        },
        {
         "name": "2 High",
         "dtype": "float64"
        },
        {
         "name": "2 Low",
         "dtype": "float64"
        },
        {
         "name": "2 Close",
         "dtype": "float64"
        },
        {
         "name": "2 Volume",
         "dtype": "float64"
        },
        {
         "name": "1 Open",
         "dtype": "float64"
        },
        {
         "name": "1 High",
         "dtype": "float64"
        },
        {
         "name": "1 Low",
         "dtype": "float64"
        },
        {
         "name": "1 Close",
         "dtype": "float64"
        },
        {
         "name": "1 Volume",
         "dtype": "float64"
        },
        {
         "name": "suggestion",
         "dtype": "float64"
        },
        {
         "name": "_deepnote_index_column",
         "dtype": "int64"
        }
       ],
       "rows": [
        {
         "15 Open": 1.3647546463431013,
         "15 High": 1.5858490730567496,
         "15 Low": 1.2638576419772676,
         "15 Close": 1.2638576419772676,
         "15 Volume": 1.2638576419772676,
         "14 Open": 1.2749030619066843,
         "14 High": 1.3684054482987165,
         "14 Low": 1,
         "14 Close": 1.3684054482987165,
         "14 Volume": 1.3684054482987165,
         "13 Open": 1.37140515181639,
         "13 High": 1.8174075818087945,
         "13 Low": 1.2485800822011868,
         "13 Close": 1.5369469296639409,
         "13 Volume": 1.5369469296639409,
         "12 Open": 1.5364586058354917,
         "12 High": 2.186115325810817,
         "12 Low": 1.4630007499258966,
         "12 Close": 2.10975078044612,
         "12 Volume": 2.10975078044612,
         "11 Open": 2.15479284024255,
         "11 High": 2.5435451147270385,
         "11 Low": 1.6522611137271497,
         "11 Close": 1.6826999657010615,
         "11 Volume": 1.6826999657010615,
         "10 Open": 1.5920577617328604,
         "10 High": 2.115494398809432,
         "10 Low": 1.3822180365894212,
         "10 Close": 2.0923804042623715,
         "10 Volume": 2.0923804042623715,
         "9 Open": 2.0821953644116604,
         "9 High": 3.1846445409465503,
         "9 Low": 1.8747507513792243,
         "9 Close": 3.005848259183693,
         "9 Volume": 3.005848259183693,
         "8 Open": 2.874070586046741,
         "8 High": 3.472406797002634,
         "8 Low": 2.423277931832331,
         "8 Close": 3.3216310015870647,
         "8 Volume": 3.3216310015870647,
         "7 Open": 3.176947627269413,
         "7 High": 3.176947627269413,
         "7 Low": 2.12777225506781,
         "7 Close": 2.47218007522514,
         "7 Volume": 2.47218007522514,
         "6 Open": 2.442531842782984,
         "6 High": 3.146299493654709,
         "6 Low": 2.249969479760722,
         "6 Close": 3.082329072126612,
         "6 Volume": 3.082329072126612,
         "5 Open": 3.083794043611988,
         "5 High": 3.4039251934401875,
         "5 Low": 2.8304469907044165,
         "5 Close": 3.3657894277891103,
         "5 Volume": 3.3657894277891103,
         "4 Open": 3.240778527703668,
         "4 High": 4.767371829528486,
         "4 Low": 2.7463855316625825,
         "4 Close": 4.635570902875884,
         "4 Volume": 4.635570902875884,
         "3 Open": 4.591645011830224,
         "3 High": 5,
         "3 Low": 4.189987036165036,
         "3 Close": 4.189987036165036,
         "3 Volume": 4.189987036165036,
         "2 Open": 4.187522163507111,
         "2 High": 4.187522163507111,
         "2 Low": 1.8925164373288796,
         "2 Close": 2.846026846183804,
         "2 Volume": 2.846026846183804,
         "1 Open": 2.846259381340218,
         "1 High": 2.654162088630784,
         "1 Low": 4.246260544015996,
         "1 Close": 4.246260544015996,
         "1 Volume": 4.246260544015996,
         "suggestion": 0,
         "_deepnote_index_column": 0
        },
        {
         "15 Open": 1.2749030619066843,
         "15 High": 1.3684054482987165,
         "15 Low": 1,
         "15 Close": 1.3684054482987165,
         "15 Volume": 1.3684054482987165,
         "14 Open": 1.37140515181639,
         "14 High": 1.8174075818087945,
         "14 Low": 1.2485800822011868,
         "14 Close": 1.5369469296639409,
         "14 Volume": 1.5369469296639409,
         "13 Open": 1.5364586058354917,
         "13 High": 2.186115325810817,
         "13 Low": 1.4630007499258966,
         "13 Close": 2.10975078044612,
         "13 Volume": 2.10975078044612,
         "12 Open": 2.15479284024255,
         "12 High": 2.5435451147270385,
         "12 Low": 1.6522611137271497,
         "12 Close": 1.6826999657010615,
         "12 Volume": 1.6826999657010615,
         "11 Open": 1.5920577617328604,
         "11 High": 2.115494398809432,
         "11 Low": 1.3822180365894212,
         "11 Close": 2.0923804042623715,
         "11 Volume": 2.0923804042623715,
         "10 Open": 2.0821953644116604,
         "10 High": 3.1846445409465503,
         "10 Low": 1.8747507513792243,
         "10 Close": 3.005848259183693,
         "10 Volume": 3.005848259183693,
         "9 Open": 2.874070586046741,
         "9 High": 3.472406797002634,
         "9 Low": 2.423277931832331,
         "9 Close": 3.3216310015870647,
         "9 Volume": 3.3216310015870647,
         "8 Open": 3.176947627269413,
         "8 High": 3.176947627269413,
         "8 Low": 2.12777225506781,
         "8 Close": 2.47218007522514,
         "8 Volume": 2.47218007522514,
         "7 Open": 2.442531842782984,
         "7 High": 3.146299493654709,
         "7 Low": 2.249969479760722,
         "7 Close": 3.082329072126612,
         "7 Volume": 3.082329072126612,
         "6 Open": 3.083794043611988,
         "6 High": 3.4039251934401875,
         "6 Low": 2.8304469907044165,
         "6 Close": 3.3657894277891103,
         "6 Volume": 3.3657894277891103,
         "5 Open": 3.240778527703668,
         "5 High": 4.767371829528486,
         "5 Low": 2.7463855316625825,
         "5 Close": 4.635570902875884,
         "5 Volume": 4.635570902875884,
         "4 Open": 4.591645011830224,
         "4 High": 5,
         "4 Low": 4.189987036165036,
         "4 Close": 4.189987036165036,
         "4 Volume": 4.189987036165036,
         "3 Open": 4.187522163507111,
         "3 High": 4.187522163507111,
         "3 Low": 1.8925164373288796,
         "3 Close": 2.846026846183804,
         "3 Volume": 2.846026846183804,
         "2 Open": 2.846259381340218,
         "2 High": 4.246260544015996,
         "2 Low": 2.654162088630784,
         "2 Close": 4.246260544015996,
         "2 Volume": 4.246260544015996,
         "1 Open": 4.255003865896981,
         "1 High": 3.2015498468174712,
         "1 Low": 4.551207148130715,
         "1 Close": 3.2015498468174712,
         "1 Volume": 3.2015498468174712,
         "suggestion": 0,
         "_deepnote_index_column": 1
        },
        {
         "15 Open": 1.130963818827638,
         "15 High": 1.6065196774253536,
         "15 Low": 1,
         "15 Close": 1.3074748802122258,
         "15 Volume": 1.3074748802122258,
         "14 Open": 1.3069541986152444,
         "14 High": 1.9996590775257916,
         "14 Low": 1.2286288098086402,
         "14 Close": 1.918234393498949,
         "14 Volume": 1.918234393498949,
         "13 Open": 1.9662610722322145,
         "13 High": 2.3807732121715617,
         "13 Low": 1.4304301201906924,
         "13 Close": 1.4628859397373049,
         "13 Volume": 1.4628859397373049,
         "12 Open": 1.3662375175885018,
         "12 High": 1.924358600854191,
         "12 Low": 1.1424931970470311,
         "12 Close": 1.8997130052626403,
         "12 Volume": 1.8997130052626403,
         "11 Open": 1.888853074810811,
         "11 High": 3.0643537659536264,
         "11 Low": 1.6676625735307766,
         "11 Close": 2.873709918364568,
         "11 Volume": 2.873709918364568,
         "10 Open": 2.7332002702585783,
         "10 High": 3.371183992760052,
         "10 Low": 2.25253677313782,
         "10 Close": 3.2104173510943497,
         "10 Volume": 3.2104173510943497,
         "9 Open": 3.056146832210345,
         "9 High": 3.056146832210345,
         "9 Low": 1.937450023864585,
         "9 Close": 2.304679315923579,
         "9 Volume": 2.304679315923579,
         "8 Open": 2.2730665046768763,
         "8 High": 3.023467863407859,
         "8 Low": 2.0677443949246026,
         "8 Close": 2.9552585742002293,
         "8 Volume": 2.9552585742002293,
         "7 Open": 2.9568206189912303,
         "7 High": 3.298164597370544,
         "7 Low": 2.6866860475927865,
         "7 Close": 3.2575018440806502,
         "7 Volume": 3.2575018440806502,
         "6 Open": 3.1242073552474494,
         "6 High": 4.751957204931614,
         "6 Low": 2.5970544298226628,
         "6 Close": 4.611422762463803,
         "6 Volume": 4.611422762463803,
         "5 Open": 4.56458621309514,
         "5 High": 5,
         "5 Low": 4.136313202377778,
         "5 Close": 4.136313202377778,
         "5 Volume": 4.136313202377778,
         "4 Open": 4.133685000030994,
         "4 High": 4.133685000030994,
         "4 Low": 1.6866054659170686,
         "4 Close": 2.703298269973402,
         "4 Volume": 2.703298269973402,
         "3 Open": 2.7035462135910397,
         "3 High": 4.196315557842183,
         "3 Low": 2.49871999107404,
         "3 Close": 4.196315557842183,
         "3 Volume": 4.196315557842183,
         "2 Open": 4.205638237864719,
         "2 High": 4.521468817990808,
         "2 Low": 3.082379266954717,
         "2 Close": 3.082379266954717,
         "2 Volume": 3.082379266954717,
         "1 Open": 3.124678448120904,
         "1 High": 2.049074240517712,
         "1 Low": 3.26283263185951,
         "1 Close": 2.625047264252146,
         "1 Volume": 2.625047264252146,
         "suggestion": 0,
         "_deepnote_index_column": 2
        },
        {
         "15 Open": 1.1705360586193478,
         "15 High": 1.8888288983159784,
         "15 Low": 1.0893173929811155,
         "15 Close": 1.804396451986122,
         "15 Volume": 1.804396451986122,
         "14 Open": 1.8541971975832323,
         "14 High": 2.2840210824013525,
         "14 Low": 1.298573081372922,
         "14 Close": 1.3322277927754271,
         "14 Volume": 1.3322277927754271,
         "13 Open": 1.2320092556884106,
         "13 High": 1.8107468826327704,
         "13 Low": 1,
         "13 Close": 1.7851908985730915,
         "13 Volume": 1.7851908985730915,
         "12 Open": 1.7739298110296886,
         "12 High": 2.992852551741862,
         "12 Low": 1.5445687106312107,
         "12 Close": 2.7951664738398563,
         "12 Volume": 2.7951664738398563,
         "11 Open": 2.6494665124051835,
         "11 High": 3.311016840210812,
         "11 Low": 2.151047692505472,
         "11 Close": 3.144311608175883,
         "11 Volume": 3.144311608175883,
         "10 Open": 2.9843424604704865,
         "10 High": 2.9843424604704865,
         "10 Low": 1.8243218922740996,
         "10 Close": 2.205116338861046,
         "10 Volume": 2.205116338861046,
         "9 Open": 2.172335775806687,
         "9 High": 2.95045635685824,
         "9 Low": 1.959429232549212,
         "9 Close": 2.8797274713973597,
         "9 Volume": 2.8797274713973597,
         "8 Open": 2.8813472168659477,
         "8 High": 3.235300167116634,
         "8 Low": 2.6012340917856136,
         "8 Close": 3.193135364442753,
         "8 Volume": 3.193135364442753,
         "7 Open": 3.054917084458168,
         "7 High": 4.7427947036894125,
         "7 Low": 2.5082915541843818,
         "7 Close": 4.597069032009244,
         "7 Volume": 4.597069032009244,
         "6 Open": 4.548502378197725,
         "6 High": 5,
         "6 Low": 4.104409307108881,
         "6 Close": 4.104409307108881,
         "6 Volume": 4.104409307108881,
         "5 Open": 4.101684021082406,
         "5 High": 4.101684021082406,
         "5 Low": 1.5642113382182856,
         "5 Close": 2.618459956292611,
         "5 Volume": 2.618459956292611,
         "4 Open": 2.6187170587479045,
         "4 High": 4.166628101298386,
         "4 Low": 2.4063247204010736,
         "4 Close": 4.166628101298386,
         "4 Volume": 4.166628101298386,
         "3 Open": 4.176295153618753,
         "3 High": 4.50379226121612,
         "3 Low": 3.011543900244249,
         "3 Close": 3.011543900244249,
         "3 Volume": 3.011543900244249,
         "2 Open": 3.055405579123317,
         "2 High": 3.198663067232303,
         "2 Low": 1.9400694176629256,
         "2 Close": 2.537318421390921,
         "2 Volume": 2.537318421390921,
         "1 Open": 2.526905771950112,
         "1 High": 1.8136007198868924,
         "1 Low": 3.003727985602268,
         "1 Close": 1.926854351459042,
         "1 Volume": 1.926854351459042,
         "suggestion": 1,
         "_deepnote_index_column": 3
        },
        {
         "15 Open": 1.8541971975832323,
         "15 High": 2.2840210824013525,
         "15 Low": 1.298573081372922,
         "15 Close": 1.3322277927754271,
         "15 Volume": 1.3322277927754271,
         "14 Open": 1.2320092556884106,
         "14 High": 1.8107468826327704,
         "14 Low": 1,
         "14 Close": 1.7851908985730915,
         "14 Volume": 1.7851908985730915,
         "13 Open": 1.7739298110296886,
         "13 High": 2.992852551741862,
         "13 Low": 1.5445687106312107,
         "13 Close": 2.7951664738398563,
         "13 Volume": 2.7951664738398563,
         "12 Open": 2.6494665124051835,
         "12 High": 3.311016840210812,
         "12 Low": 2.151047692505472,
         "12 Close": 3.144311608175883,
         "12 Volume": 3.144311608175883,
         "11 Open": 2.9843424604704865,
         "11 High": 2.9843424604704865,
         "11 Low": 1.8243218922740996,
         "11 Close": 2.205116338861046,
         "11 Volume": 2.205116338861046,
         "10 Open": 2.172335775806687,
         "10 High": 2.95045635685824,
         "10 Low": 1.959429232549212,
         "10 Close": 2.8797274713973597,
         "10 Volume": 2.8797274713973597,
         "9 Open": 2.8813472168659477,
         "9 High": 3.235300167116634,
         "9 Low": 2.6012340917856136,
         "9 Close": 3.193135364442753,
         "9 Volume": 3.193135364442753,
         "8 Open": 3.054917084458168,
         "8 High": 4.7427947036894125,
         "8 Low": 2.5082915541843818,
         "8 Close": 4.597069032009244,
         "8 Volume": 4.597069032009244,
         "7 Open": 4.548502378197725,
         "7 High": 5,
         "7 Low": 4.104409307108881,
         "7 Close": 4.104409307108881,
         "7 Volume": 4.104409307108881,
         "6 Open": 4.101684021082406,
         "6 High": 4.101684021082406,
         "6 Low": 1.5642113382182856,
         "6 Close": 2.618459956292611,
         "6 Volume": 2.618459956292611,
         "5 Open": 2.6187170587479045,
         "5 High": 4.166628101298386,
         "5 Low": 2.4063247204010736,
         "5 Close": 4.166628101298386,
         "5 Volume": 4.166628101298386,
         "4 Open": 4.176295153618753,
         "4 High": 4.50379226121612,
         "4 Low": 3.011543900244249,
         "4 Close": 3.011543900244249,
         "4 Volume": 3.011543900244249,
         "3 Open": 3.055405579123317,
         "3 High": 3.198663067232303,
         "3 Low": 1.9400694176629256,
         "3 Close": 2.537318421390921,
         "3 Volume": 2.537318421390921,
         "2 Open": 2.526905771950112,
         "2 High": 3.003727985602268,
         "2 Low": 1.8136007198868924,
         "2 Close": 1.926854351459042,
         "2 Volume": 1.926854351459042,
         "1 Open": 1.9392724000514363,
         "1 High": 1.9392724000514363,
         "1 Low": 2.8073274199769003,
         "1 Close": 2.526520118267115,
         "1 Volume": 2.526520118267115,
         "suggestion": 0,
         "_deepnote_index_column": 4
        },
        {
         "15 Open": 1.2320092556884106,
         "15 High": 1.8107468826327704,
         "15 Low": 1,
         "15 Close": 1.7851908985730915,
         "15 Volume": 1.7851908985730915,
         "14 Open": 1.7739298110296886,
         "14 High": 2.992852551741862,
         "14 Low": 1.5445687106312107,
         "14 Close": 2.7951664738398563,
         "14 Volume": 2.7951664738398563,
         "13 Open": 2.6494665124051835,
         "13 High": 3.311016840210812,
         "13 Low": 2.151047692505472,
         "13 Close": 3.144311608175883,
         "13 Volume": 3.144311608175883,
         "12 Open": 2.9843424604704865,
         "12 High": 2.9843424604704865,
         "12 Low": 1.8243218922740996,
         "12 Close": 2.205116338861046,
         "12 Volume": 2.205116338861046,
         "11 Open": 2.172335775806687,
         "11 High": 2.95045635685824,
         "11 Low": 1.959429232549212,
         "11 Close": 2.8797274713973597,
         "11 Volume": 2.8797274713973597,
         "10 Open": 2.8813472168659477,
         "10 High": 3.235300167116634,
         "10 Low": 2.6012340917856136,
         "10 Close": 3.193135364442753,
         "10 Volume": 3.193135364442753,
         "9 Open": 3.054917084458168,
         "9 High": 4.7427947036894125,
         "9 Low": 2.5082915541843818,
         "9 Close": 4.597069032009244,
         "9 Volume": 4.597069032009244,
         "8 Open": 4.548502378197725,
         "8 High": 5,
         "8 Low": 4.104409307108881,
         "8 Close": 4.104409307108881,
         "8 Volume": 4.104409307108881,
         "7 Open": 4.101684021082406,
         "7 High": 4.101684021082406,
         "7 Low": 1.5642113382182856,
         "7 Close": 2.618459956292611,
         "7 Volume": 2.618459956292611,
         "6 Open": 2.6187170587479045,
         "6 High": 4.166628101298386,
         "6 Low": 2.4063247204010736,
         "6 Close": 4.166628101298386,
         "6 Volume": 4.166628101298386,
         "5 Open": 4.176295153618753,
         "5 High": 4.50379226121612,
         "5 Low": 3.011543900244249,
         "5 Close": 3.011543900244249,
         "5 Volume": 3.011543900244249,
         "4 Open": 3.055405579123317,
         "4 High": 3.198663067232303,
         "4 Low": 1.9400694176629256,
         "4 Close": 2.537318421390921,
         "4 Volume": 2.537318421390921,
         "3 Open": 2.526905771950112,
         "3 High": 3.003727985602268,
         "3 Low": 1.8136007198868924,
         "3 Close": 1.926854351459042,
         "3 Volume": 1.926854351459042,
         "2 Open": 1.9392724000514363,
         "2 High": 2.8073274199769003,
         "2 Low": 1.9392724000514363,
         "2 Close": 2.526520118267115,
         "2 Volume": 2.526520118267115,
         "1 Open": 2.634220336804219,
         "1 High": 2.095462141663461,
         "1 Low": 2.634220336804219,
         "1 Close": 2.105360586193626,
         "1 Volume": 2.105360586193626,
         "suggestion": 1,
         "_deepnote_index_column": 5
        },
        {
         "15 Open": 1.2655079278863468,
         "15 High": 2.676530331326888,
         "15 Low": 1,
         "15 Close": 2.447689342926651,
         "15 Volume": 2.447689342926651,
         "14 Open": 2.2790273737155644,
         "14 High": 3.04483664312977,
         "14 Low": 1.7020587950802906,
         "14 Close": 2.8518590168081346,
         "14 Volume": 2.8518590168081346,
         "13 Open": 2.666679067552593,
         "13 High": 2.666679067552593,
         "13 Low": 1.3238416952506782,
         "13 Close": 1.7646485464921398,
         "13 Volume": 1.7646485464921398,
         "12 Open": 1.7267018355791492,
         "12 High": 2.627452585212666,
         "12 Low": 1.480241668464771,
         "12 Close": 2.545576976019163,
         "12 Volume": 2.545576976019163,
         "11 Open": 2.5474519899701704,
         "11 High": 2.957187181452241,
         "11 Low": 2.223193624952557,
         "11 Close": 2.908377294473894,
         "11 Volume": 2.908377294473894,
         "10 Open": 2.7483761039888464,
         "10 High": 4.702259689432196,
         "10 Low": 2.115603538716812,
         "10 Close": 4.53356795809492,
         "10 Volume": 4.53356795809492,
         "9 Open": 4.477347301691225,
         "9 High": 5,
         "9 Low": 3.963266095729864,
         "9 Close": 3.963266095729864,
         "9 Volume": 3.963266095729864,
         "8 Open": 3.960111310351977,
         "8 High": 3.960111310351977,
         "8 Low": 1.022738264421605,
         "8 Close": 2.2431342495107742,
         "8 Volume": 2.2431342495107742,
         "7 Open": 2.243431870772838,
         "7 High": 4.0352904411491295,
         "7 Low": 1.997566946182644,
         "7 Close": 4.0352904411491295,
         "7 Volume": 4.0352904411491295,
         "6 Open": 4.046481000602682,
         "6 High": 4.425590964218486,
         "6 Low": 2.698167397078862,
         "6 Close": 2.698167397078862,
         "6 Volume": 2.698167397078862,
         "5 Open": 2.7489415843867846,
         "5 High": 2.914776151608237,
         "5 Low": 1.4578307874314191,
         "5 Close": 2.1492049792037164,
         "5 Volume": 2.1492049792037164,
         "4 Open": 2.1371513180901616,
         "4 High": 2.6891197107121343,
         "4 Low": 1.3114308886226809,
         "4 Close": 1.4425330545614088,
         "4 Volume": 1.4425330545614088,
         "3 Open": 1.4569081615190385,
         "3 High": 2.461766828622217,
         "3 Low": 1.4569081615190385,
         "3 Close": 2.136704886197037,
         "3 Volume": 2.136704886197037,
         "2 Open": 2.261378432875233,
         "2 High": 2.261378432875233,
         "2 Low": 1.6377130782223048,
         "2 Close": 1.649171496811732,
         "2 Volume": 1.649171496811732,
         "1 Open": 1.6718799991071478,
         "1 High": 1.3387227583538674,
         "1 Low": 1.9853942365642752,
         "1 Close": 1.8253632839529812,
         "1 Volume": 1.8253632839529812,
         "suggestion": 1,
         "_deepnote_index_column": 6
        },
        {
         "15 Open": 2.263471395966633,
         "15 High": 3.033658846858998,
         "15 Low": 1.6832042503835396,
         "15 Close": 2.839577954877086,
         "15 Volume": 2.839577954877086,
         "14 Open": 2.653339319788984,
         "14 High": 2.653339319788984,
         "14 Low": 1.3028248587571056,
         "14 Close": 1.7461518314813134,
         "14 Volume": 1.7461518314813134,
         "13 Open": 1.7079881767501206,
         "13 High": 2.613888577094372,
         "13 Low": 1.4601189808059305,
         "13 Close": 2.5315448797096565,
         "13 Volume": 2.5315448797096565,
         "12 Open": 2.533430613237556,
         "12 High": 2.9455082874995355,
         "12 Low": 2.207318442024928,
         "12 Close": 2.896419351217901,
         "12 Volume": 2.896419351217901,
         "11 Open": 2.7355034235043263,
         "11 High": 4.700557488681852,
         "11 Low": 2.0991132562577377,
         "11 Close": 4.530901335727947,
         "11 Volume": 4.530901335727947,
         "10 Open": 4.474359262169344,
         "10 High": 5,
         "10 Low": 3.957339020466236,
         "10 Close": 3.957339020466236,
         "10 Volume": 3.957339020466236,
         "9 Open": 3.954166198974861,
         "9 High": 3.954166198974861,
         "9 Low": 1,
         "9 Close": 2.227373068432712,
         "9 Volume": 2.227373068432712,
         "8 Open": 2.227672391214924,
         "8 High": 4.02977513375987,
         "8 Low": 1.9804018408351567,
         "8 Close": 4.02977513375987,
         "8 Volume": 4.02977513375987,
         "7 Open": 4.04102967037079,
         "7 High": 4.422307030343859,
         "7 Low": 2.6850076701463195,
         "7 Close": 2.6850076701463195,
         "7 Volume": 2.6850076701463195,
         "6 Open": 2.73607213679054,
         "6 High": 2.9028547910352813,
         "6 Low": 1.43757997530588,
         "6 Close": 2.132906798368708,
         "6 Volume": 2.132906798368708,
         "5 Open": 2.12078422568942,
         "5 High": 2.675908257567301,
         "5 Low": 1.290343098739129,
         "5 Close": 1.4221947843005296,
         "5 Volume": 1.4221947843005296,
         "4 Open": 1.4366520746810352,
         "4 High": 2.447255584240679,
         "4 Low": 1.4366520746810352,
         "4 Close": 2.120335241516102,
         "4 Volume": 2.120335241516102,
         "3 Open": 2.245721554981856,
         "3 High": 2.245721554981856,
         "3 Low": 1.6184906648707624,
         "3 Close": 1.6300145919856277,
         "3 Volume": 1.6300145919856277,
         "2 Open": 1.6528529202678897,
         "2 High": 1.9681595390429152,
         "2 Low": 1.3177909978673483,
         "2 Close": 1.807213679051188,
         "2 Volume": 1.807213679051188,
         "1 Open": 1.7969768398997417,
         "1 High": 1.591431885359384,
         "1 Low": 2.3662887716541263,
         "1 Close": 1.986448161035696,
         "1 Volume": 1.986448161035696,
         "suggestion": 0,
         "_deepnote_index_column": 7
        },
        {
         "15 Open": 2.653339319788984,
         "15 High": 2.653339319788984,
         "15 Low": 1.3028248587571056,
         "15 Close": 1.7461518314813134,
         "15 Volume": 1.7461518314813134,
         "14 Open": 1.7079881767501206,
         "14 High": 2.613888577094372,
         "14 Low": 1.4601189808059305,
         "14 Close": 2.5315448797096565,
         "14 Volume": 2.5315448797096565,
         "13 Open": 2.533430613237556,
         "13 High": 2.9455082874995355,
         "13 Low": 2.207318442024928,
         "13 Close": 2.896419351217901,
         "13 Volume": 2.896419351217901,
         "12 Open": 2.7355034235043263,
         "12 High": 4.700557488681852,
         "12 Low": 2.0991132562577377,
         "12 Close": 4.530901335727947,
         "12 Volume": 4.530901335727947,
         "11 Open": 4.474359262169344,
         "11 High": 5,
         "11 Low": 3.957339020466236,
         "11 Close": 3.957339020466236,
         "11 Volume": 3.957339020466236,
         "10 Open": 3.954166198974861,
         "10 High": 3.954166198974861,
         "10 Low": 1,
         "10 Close": 2.227373068432712,
         "10 Volume": 2.227373068432712,
         "9 Open": 2.227672391214924,
         "9 High": 4.02977513375987,
         "9 Low": 1.9804018408351567,
         "9 Close": 4.02977513375987,
         "9 Volume": 4.02977513375987,
         "8 Open": 4.04102967037079,
         "8 High": 4.422307030343859,
         "8 Low": 2.6850076701463195,
         "8 Close": 2.6850076701463195,
         "8 Volume": 2.6850076701463195,
         "7 Open": 2.73607213679054,
         "7 High": 2.9028547910352813,
         "7 Low": 1.43757997530588,
         "7 Close": 2.132906798368708,
         "7 Volume": 2.132906798368708,
         "6 Open": 2.12078422568942,
         "6 High": 2.675908257567301,
         "6 Low": 1.290343098739129,
         "6 Close": 1.4221947843005296,
         "6 Volume": 1.4221947843005296,
         "5 Open": 1.4366520746810352,
         "5 High": 2.447255584240679,
         "5 Low": 1.4366520746810352,
         "5 Close": 2.120335241516102,
         "5 Volume": 2.120335241516102,
         "4 Open": 2.245721554981856,
         "4 High": 2.245721554981856,
         "4 Low": 1.6184906648707624,
         "4 Close": 1.6300145919856277,
         "4 Volume": 1.6300145919856277,
         "3 Open": 1.6528529202678897,
         "3 High": 1.9681595390429152,
         "3 Low": 1.3177909978673483,
         "3 Close": 1.807213679051188,
         "3 Volume": 1.807213679051188,
         "2 Open": 1.7969768398997417,
         "2 High": 2.3662887716541263,
         "2 Low": 1.591431885359384,
         "2 Close": 1.986448161035696,
         "2 Volume": 1.986448161035696,
         "1 Open": 1.9888427432933329,
         "1 High": 1.3600853069929713,
         "1 Low": 2.196243499083323,
         "1 Close": 1.4258165899652226,
         "1 Volume": 1.4258165899652226,
         "suggestion": 1,
         "_deepnote_index_column": 8
        },
        {
         "15 Open": 1.7079881767501206,
         "15 High": 2.613888577094372,
         "15 Low": 1.4601189808059305,
         "15 Close": 2.5315448797096565,
         "15 Volume": 2.5315448797096565,
         "14 Open": 2.533430613237556,
         "14 High": 2.9455082874995355,
         "14 Low": 2.207318442024928,
         "14 Close": 2.896419351217901,
         "14 Volume": 2.896419351217901,
         "13 Open": 2.7355034235043263,
         "13 High": 4.700557488681852,
         "13 Low": 2.0991132562577377,
         "13 Close": 4.530901335727947,
         "13 Volume": 4.530901335727947,
         "12 Open": 4.474359262169344,
         "12 High": 5,
         "12 Low": 3.957339020466236,
         "12 Close": 3.957339020466236,
         "12 Volume": 3.957339020466236,
         "11 Open": 3.954166198974861,
         "11 High": 3.954166198974861,
         "11 Low": 1,
         "11 Close": 2.227373068432712,
         "11 Volume": 2.227373068432712,
         "10 Open": 2.227672391214924,
         "10 High": 4.02977513375987,
         "10 Low": 1.9804018408351567,
         "10 Close": 4.02977513375987,
         "10 Volume": 4.02977513375987,
         "9 Open": 4.04102967037079,
         "9 High": 4.422307030343859,
         "9 Low": 2.6850076701463195,
         "9 Close": 2.6850076701463195,
         "9 Volume": 2.6850076701463195,
         "8 Open": 2.73607213679054,
         "8 High": 2.9028547910352813,
         "8 Low": 1.43757997530588,
         "8 Close": 2.132906798368708,
         "8 Volume": 2.132906798368708,
         "7 Open": 2.12078422568942,
         "7 High": 2.675908257567301,
         "7 Low": 1.290343098739129,
         "7 Close": 1.4221947843005296,
         "7 Volume": 1.4221947843005296,
         "6 Open": 1.4366520746810352,
         "6 High": 2.447255584240679,
         "6 Low": 1.4366520746810352,
         "6 Close": 2.120335241516102,
         "6 Volume": 2.120335241516102,
         "5 Open": 2.245721554981856,
         "5 High": 2.245721554981856,
         "5 Low": 1.6184906648707624,
         "5 Close": 1.6300145919856277,
         "5 Volume": 1.6300145919856277,
         "4 Open": 1.6528529202678897,
         "4 High": 1.9681595390429152,
         "4 Low": 1.3177909978673483,
         "4 Close": 1.807213679051188,
         "4 Volume": 1.807213679051188,
         "3 Open": 1.7969768398997417,
         "3 High": 2.3662887716541263,
         "3 Low": 1.591431885359384,
         "3 Close": 1.986448161035696,
         "3 Volume": 1.986448161035696,
         "2 Open": 1.9888427432933329,
         "2 High": 2.196243499083323,
         "2 Low": 1.3600853069929713,
         "2 Close": 1.4258165899652226,
         "2 Volume": 1.4258165899652226,
         "1 Open": 1.467542185804632,
         "1 High": 1.4426684626033648,
         "1 Low": 2.059482919893753,
         "1 Close": 1.7753058704680598,
         "1 Volume": 1.7753058704680598,
         "suggestion": 0,
         "_deepnote_index_column": 9
        }
       ]
      },
      "text/plain": "          15 Open   15 High    15 Low  15 Close  15 Volume   14 Open  \\\n0        1.364755  1.585849  1.263858  1.263858   1.263858  1.274903   \n1        1.274903  1.368405  1.000000  1.368405   1.368405  1.371405   \n2        1.130964  1.606520  1.000000  1.307475   1.307475  1.306954   \n3        1.170536  1.888829  1.089317  1.804396   1.804396  1.854197   \n4        1.854197  2.284021  1.298573  1.332228   1.332228  1.232009   \n...           ...       ...       ...       ...        ...       ...   \n1013886  2.406299  3.990550  2.124435  3.541371   3.541371  3.543147   \n1013887  3.543147  4.683343  2.749339  4.415932   4.415932  4.415184   \n1013888  4.415184  5.000000  1.853753  2.453333   2.453333  2.447493   \n1013889  2.487467  4.826496  1.220701  2.218896   2.218896  2.216736   \n1013890  2.216736  4.962582  1.400190  3.851683   3.851683  3.877130   \n\n          14 High    14 Low  14 Close  14 Volume  ...    2 High     2 Low  \\\n0        1.368405  1.000000  1.368405   1.368405  ...  4.187522  1.892516   \n1        1.817408  1.248580  1.536947   1.536947  ...  4.246261  2.654162   \n2        1.999659  1.228629  1.918234   1.918234  ...  4.521469  3.082379   \n3        2.284021  1.298573  1.332228   1.332228  ...  3.198663  1.940069   \n4        1.810747  1.000000  1.785191   1.785191  ...  3.003728  1.813601   \n...           ...       ...       ...        ...  ...       ...       ...   \n1013886  4.683343  2.749339  4.415932   4.415932  ...  3.731627  1.798573   \n1013887  5.000000  1.853753  2.453333   2.453333  ...  4.157024  1.346840   \n1013888  4.723665  1.214770  2.186140   2.186140  ...  3.578329  2.000121   \n1013889  4.962582  1.400190  3.851683   3.851683  ...  4.275288  2.211454   \n1013890  3.877130  1.000000  3.114856   3.114856  ...  3.335941  1.257911   \n\n          2 Close  2 Volume    1 Open    1 High     1 Low   1 Close  1 Volume  \\\n0        2.846027  2.846027  2.846259  2.654162  4.246261  4.246261  4.246261   \n1        4.246261  4.246261  4.255004  3.201550  4.551207  3.201550  3.201550   \n2        3.082379  3.082379  3.124678  2.049074  3.262833  2.625047  2.625047   \n3        2.537318  2.537318  2.526906  1.813601  3.003728  1.926854  1.926854   \n4        1.926854  1.926854  1.939272  1.939272  2.807327  2.526520  2.526520   \n...           ...       ...       ...       ...       ...       ...       ...   \n1013886  3.156047  3.156047  3.135193  1.346840  4.157024  3.572084  3.572084   \n1013887  3.572084  3.572084  3.578329  2.000121  3.578329  2.832241  2.832241   \n1013888  2.832241  2.832241  2.829360  2.178898  4.187270  2.398481  2.398481   \n1013889  2.437101  2.437101  2.445359  1.257911  3.335941  2.287139  2.287139   \n1013890  2.287139  2.287139  2.280978  1.425782  3.300187  3.300187  3.300187   \n\n         suggestion  \n0               0.0  \n1               0.0  \n2               0.0  \n3               1.0  \n4               0.0  \n...             ...  \n1013886         0.0  \n1013887         0.0  \n1013888         0.0  \n1013889         1.0  \n1013890         0.0  \n\n[1013891 rows x 76 columns]",
      "text/html": "<div>\n<style scoped>\n    .dataframe tbody tr th:only-of-type {\n        vertical-align: middle;\n    }\n\n    .dataframe tbody tr th {\n        vertical-align: top;\n    }\n\n    .dataframe thead th {\n        text-align: right;\n    }\n</style>\n<table border=\"1\" class=\"dataframe\">\n  <thead>\n    <tr style=\"text-align: right;\">\n      <th></th>\n      <th>15 Open</th>\n      <th>15 High</th>\n      <th>15 Low</th>\n      <th>15 Close</th>\n      <th>15 Volume</th>\n      <th>14 Open</th>\n      <th>14 High</th>\n      <th>14 Low</th>\n      <th>14 Close</th>\n      <th>14 Volume</th>\n      <th>...</th>\n      <th>2 High</th>\n      <th>2 Low</th>\n      <th>2 Close</th>\n      <th>2 Volume</th>\n      <th>1 Open</th>\n      <th>1 High</th>\n      <th>1 Low</th>\n      <th>1 Close</th>\n      <th>1 Volume</th>\n      <th>suggestion</th>\n    </tr>\n  </thead>\n  <tbody>\n    <tr>\n      <th>0</th>\n      <td>1.364755</td>\n      <td>1.585849</td>\n      <td>1.263858</td>\n      <td>1.263858</td>\n      <td>1.263858</td>\n      <td>1.274903</td>\n      <td>1.368405</td>\n      <td>1.000000</td>\n      <td>1.368405</td>\n      <td>1.368405</td>\n      <td>...</td>\n      <td>4.187522</td>\n      <td>1.892516</td>\n      <td>2.846027</td>\n      <td>2.846027</td>\n      <td>2.846259</td>\n      <td>2.654162</td>\n      <td>4.246261</td>\n      <td>4.246261</td>\n      <td>4.246261</td>\n      <td>0.0</td>\n    </tr>\n    <tr>\n      <th>1</th>\n      <td>1.274903</td>\n      <td>1.368405</td>\n      <td>1.000000</td>\n      <td>1.368405</td>\n      <td>1.368405</td>\n      <td>1.371405</td>\n      <td>1.817408</td>\n      <td>1.248580</td>\n      <td>1.536947</td>\n      <td>1.536947</td>\n      <td>...</td>\n      <td>4.246261</td>\n      <td>2.654162</td>\n      <td>4.246261</td>\n      <td>4.246261</td>\n      <td>4.255004</td>\n      <td>3.201550</td>\n      <td>4.551207</td>\n      <td>3.201550</td>\n      <td>3.201550</td>\n      <td>0.0</td>\n    </tr>\n    <tr>\n      <th>2</th>\n      <td>1.130964</td>\n      <td>1.606520</td>\n      <td>1.000000</td>\n      <td>1.307475</td>\n      <td>1.307475</td>\n      <td>1.306954</td>\n      <td>1.999659</td>\n      <td>1.228629</td>\n      <td>1.918234</td>\n      <td>1.918234</td>\n      <td>...</td>\n      <td>4.521469</td>\n      <td>3.082379</td>\n      <td>3.082379</td>\n      <td>3.082379</td>\n      <td>3.124678</td>\n      <td>2.049074</td>\n      <td>3.262833</td>\n      <td>2.625047</td>\n      <td>2.625047</td>\n      <td>0.0</td>\n    </tr>\n    <tr>\n      <th>3</th>\n      <td>1.170536</td>\n      <td>1.888829</td>\n      <td>1.089317</td>\n      <td>1.804396</td>\n      <td>1.804396</td>\n      <td>1.854197</td>\n      <td>2.284021</td>\n      <td>1.298573</td>\n      <td>1.332228</td>\n      <td>1.332228</td>\n      <td>...</td>\n      <td>3.198663</td>\n      <td>1.940069</td>\n      <td>2.537318</td>\n      <td>2.537318</td>\n      <td>2.526906</td>\n      <td>1.813601</td>\n      <td>3.003728</td>\n      <td>1.926854</td>\n      <td>1.926854</td>\n      <td>1.0</td>\n    </tr>\n    <tr>\n      <th>4</th>\n      <td>1.854197</td>\n      <td>2.284021</td>\n      <td>1.298573</td>\n      <td>1.332228</td>\n      <td>1.332228</td>\n      <td>1.232009</td>\n      <td>1.810747</td>\n      <td>1.000000</td>\n      <td>1.785191</td>\n      <td>1.785191</td>\n      <td>...</td>\n      <td>3.003728</td>\n      <td>1.813601</td>\n      <td>1.926854</td>\n      <td>1.926854</td>\n      <td>1.939272</td>\n      <td>1.939272</td>\n      <td>2.807327</td>\n      <td>2.526520</td>\n      <td>2.526520</td>\n      <td>0.0</td>\n    </tr>\n    <tr>\n      <th>...</th>\n      <td>...</td>\n      <td>...</td>\n      <td>...</td>\n      <td>...</td>\n      <td>...</td>\n      <td>...</td>\n      <td>...</td>\n      <td>...</td>\n      <td>...</td>\n      <td>...</td>\n      <td>...</td>\n      <td>...</td>\n      <td>...</td>\n      <td>...</td>\n      <td>...</td>\n      <td>...</td>\n      <td>...</td>\n      <td>...</td>\n      <td>...</td>\n      <td>...</td>\n      <td>...</td>\n    </tr>\n    <tr>\n      <th>1013886</th>\n      <td>2.406299</td>\n      <td>3.990550</td>\n      <td>2.124435</td>\n      <td>3.541371</td>\n      <td>3.541371</td>\n      <td>3.543147</td>\n      <td>4.683343</td>\n      <td>2.749339</td>\n      <td>4.415932</td>\n      <td>4.415932</td>\n      <td>...</td>\n      <td>3.731627</td>\n      <td>1.798573</td>\n      <td>3.156047</td>\n      <td>3.156047</td>\n      <td>3.135193</td>\n      <td>1.346840</td>\n      <td>4.157024</td>\n      <td>3.572084</td>\n      <td>3.572084</td>\n      <td>0.0</td>\n    </tr>\n    <tr>\n      <th>1013887</th>\n      <td>3.543147</td>\n      <td>4.683343</td>\n      <td>2.749339</td>\n      <td>4.415932</td>\n      <td>4.415932</td>\n      <td>4.415184</td>\n      <td>5.000000</td>\n      <td>1.853753</td>\n      <td>2.453333</td>\n      <td>2.453333</td>\n      <td>...</td>\n      <td>4.157024</td>\n      <td>1.346840</td>\n      <td>3.572084</td>\n      <td>3.572084</td>\n      <td>3.578329</td>\n      <td>2.000121</td>\n      <td>3.578329</td>\n      <td>2.832241</td>\n      <td>2.832241</td>\n      <td>0.0</td>\n    </tr>\n    <tr>\n      <th>1013888</th>\n      <td>4.415184</td>\n      <td>5.000000</td>\n      <td>1.853753</td>\n      <td>2.453333</td>\n      <td>2.453333</td>\n      <td>2.447493</td>\n      <td>4.723665</td>\n      <td>1.214770</td>\n      <td>2.186140</td>\n      <td>2.186140</td>\n      <td>...</td>\n      <td>3.578329</td>\n      <td>2.000121</td>\n      <td>2.832241</td>\n      <td>2.832241</td>\n      <td>2.829360</td>\n      <td>2.178898</td>\n      <td>4.187270</td>\n      <td>2.398481</td>\n      <td>2.398481</td>\n      <td>0.0</td>\n    </tr>\n    <tr>\n      <th>1013889</th>\n      <td>2.487467</td>\n      <td>4.826496</td>\n      <td>1.220701</td>\n      <td>2.218896</td>\n      <td>2.218896</td>\n      <td>2.216736</td>\n      <td>4.962582</td>\n      <td>1.400190</td>\n      <td>3.851683</td>\n      <td>3.851683</td>\n      <td>...</td>\n      <td>4.275288</td>\n      <td>2.211454</td>\n      <td>2.437101</td>\n      <td>2.437101</td>\n      <td>2.445359</td>\n      <td>1.257911</td>\n      <td>3.335941</td>\n      <td>2.287139</td>\n      <td>2.287139</td>\n      <td>1.0</td>\n    </tr>\n    <tr>\n      <th>1013890</th>\n      <td>2.216736</td>\n      <td>4.962582</td>\n      <td>1.400190</td>\n      <td>3.851683</td>\n      <td>3.851683</td>\n      <td>3.877130</td>\n      <td>3.877130</td>\n      <td>1.000000</td>\n      <td>3.114856</td>\n      <td>3.114856</td>\n      <td>...</td>\n      <td>3.335941</td>\n      <td>1.257911</td>\n      <td>2.287139</td>\n      <td>2.287139</td>\n      <td>2.280978</td>\n      <td>1.425782</td>\n      <td>3.300187</td>\n      <td>3.300187</td>\n      <td>3.300187</td>\n      <td>0.0</td>\n    </tr>\n  </tbody>\n</table>\n<p>1013891 rows × 76 columns</p>\n</div>"
     },
     "metadata": {}
    }
   ]
  },
  {
   "cell_type": "markdown",
   "source": "",
   "metadata": {
    "id": "yL55lM9M9kMY",
    "cell_id": "00007-bf213336-a118-4b20-8262-227d35549cba",
    "deepnote_cell_type": "markdown",
    "deepnote_cell_height": 46
   }
  },
  {
   "cell_type": "markdown",
   "source": "<a style='text-decoration:none;line-height:16px;display:flex;color:#5B5B62;padding:10px;justify-content:end;' href='https://deepnote.com?utm_source=created-in-deepnote-cell&projectId=2a6e8773-3e6d-4462-a338-5f6b2def7989' target=\"_blank\">\n<img alt='Created in deepnote.com' style='display:inline;max-height:16px;margin:0px;margin-right:7.5px;' src='data:image/svg+xml;base64,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' > </img>\nCreated in <span style='font-weight:600;margin-left:4px;'>Deepnote</span></a>",
   "metadata": {
    "tags": [],
    "created_in_deepnote_cell": true,
    "deepnote_cell_type": "markdown"
   }
  }
 ],
 "nbformat": 4,
 "nbformat_minor": 0,
 "metadata": {
  "colab": {
   "name": "MP_v03.ipynb",
   "provenance": []
  },
  "kernelspec": {
   "display_name": "Python 3",
   "name": "python3"
  },
  "language_info": {
   "name": "python"
  },
  "deepnote_notebook_id": "07c63977-83ad-4e59-a7f6-c355eb42416e",
  "deepnote": {},
  "deepnote_execution_queue": []
 }
}