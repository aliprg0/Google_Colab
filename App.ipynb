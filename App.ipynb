{
  "cells": [
    {
      "cell_type": "markdown",
      "metadata": {
        "id": "view-in-github",
        "colab_type": "text"
      },
      "source": [
        "<a href=\"https://colab.research.google.com/github/aliprg0/google_colab/blob/main/App.ipynb\" target=\"_parent\"><img src=\"https://colab.research.google.com/assets/colab-badge.svg\" alt=\"Open In Colab\"/></a>"
      ]
    },
    {
      "cell_type": "code",
      "execution_count": 268,
      "metadata": {
        "colab": {
          "base_uri": "https://localhost:8080/"
        },
        "id": "_ygJ_wFxYm7M",
        "outputId": "f7158f3c-7c37-428f-a102-84438e978fe7"
      },
      "outputs": [
        {
          "output_type": "stream",
          "name": "stdout",
          "text": [
            "Requirement already satisfied: yfinance in /usr/local/lib/python3.7/dist-packages (0.1.70)\n",
            "Requirement already satisfied: requests>=2.26 in /usr/local/lib/python3.7/dist-packages (from yfinance) (2.27.1)\n",
            "Requirement already satisfied: lxml>=4.5.1 in /usr/local/lib/python3.7/dist-packages (from yfinance) (4.8.0)\n",
            "Requirement already satisfied: pandas>=0.24.0 in /usr/local/lib/python3.7/dist-packages (from yfinance) (1.3.5)\n",
            "Requirement already satisfied: numpy>=1.15 in /usr/local/lib/python3.7/dist-packages (from yfinance) (1.21.5)\n",
            "Requirement already satisfied: multitasking>=0.0.7 in /usr/local/lib/python3.7/dist-packages (from yfinance) (0.0.10)\n",
            "Requirement already satisfied: python-dateutil>=2.7.3 in /usr/local/lib/python3.7/dist-packages (from pandas>=0.24.0->yfinance) (2.8.2)\n",
            "Requirement already satisfied: pytz>=2017.3 in /usr/local/lib/python3.7/dist-packages (from pandas>=0.24.0->yfinance) (2018.9)\n",
            "Requirement already satisfied: six>=1.5 in /usr/local/lib/python3.7/dist-packages (from python-dateutil>=2.7.3->pandas>=0.24.0->yfinance) (1.15.0)\n",
            "Requirement already satisfied: urllib3<1.27,>=1.21.1 in /usr/local/lib/python3.7/dist-packages (from requests>=2.26->yfinance) (1.24.3)\n",
            "Requirement already satisfied: idna<4,>=2.5 in /usr/local/lib/python3.7/dist-packages (from requests>=2.26->yfinance) (2.10)\n",
            "Requirement already satisfied: charset-normalizer~=2.0.0 in /usr/local/lib/python3.7/dist-packages (from requests>=2.26->yfinance) (2.0.12)\n",
            "Requirement already satisfied: certifi>=2017.4.17 in /usr/local/lib/python3.7/dist-packages (from requests>=2.26->yfinance) (2021.10.8)\n"
          ]
        }
      ],
      "source": [
        "!pip install yfinance\n",
        "import yfinance as yf   \n",
        "import pandas as pd\n",
        "import numpy as np"
      ]
    },
    {
      "cell_type": "code",
      "source": [
        "from tensorflow.keras import Sequential\n",
        "from tensorflow.keras.layers import Dense,LSTM\n",
        "from tensorflow.keras.layers import Dropout\n",
        "from sklearn.linear_model import LogisticRegression\n",
        "from sklearn.ensemble import RandomForestClassifier\n",
        "from sklearn.model_selection import train_test_split\n",
        "from sklearn.preprocessing import MinMaxScaler\n",
        "from sklearn.svm import SVC\n"
      ],
      "metadata": {
        "id": "_5bxbCoe9do9"
      },
      "execution_count": 269,
      "outputs": []
    },
    {
      "cell_type": "code",
      "execution_count": 270,
      "metadata": {
        "colab": {
          "base_uri": "https://localhost:8080/"
        },
        "id": "kn3S59KUYp6P",
        "outputId": "b2277461-9e72-4093-e8be-72785f20bf1f"
      },
      "outputs": [
        {
          "output_type": "stream",
          "name": "stdout",
          "text": [
            "[*********************100%***********************]  1 of 1 completed\n",
            "[*********************100%***********************]  1 of 1 completed\n",
            "[*********************100%***********************]  1 of 1 completed\n",
            "[*********************100%***********************]  1 of 1 completed\n",
            "[*********************100%***********************]  1 of 1 completed\n",
            "[*********************100%***********************]  1 of 1 completed\n",
            "[*********************100%***********************]  1 of 1 completed\n",
            "[*********************100%***********************]  1 of 1 completed\n",
            "[*********************100%***********************]  1 of 1 completed\n",
            "[*********************100%***********************]  1 of 1 completed\n",
            "[*********************100%***********************]  1 of 1 completed\n"
          ]
        }
      ],
      "source": [
        "#symbols = [\"MSFT\",\"AAPL\",\"GOOG\",\"TSLA\",\"BTC-USD\",\"LTC-USD\",\"TRX-USD\",\"GGPI\",\"BIM\",\"AI\",\"AMZN\"]\n",
        "symbols = [\"BTC-USD\",\"LTC-USD\",\"TRX-USD\",\"XRP-USD\",\"ETH-USD\",\"BNB-USD\",\"DASH-USD\",\"VET-USD\",\"LINK-USD\",\"ADA-USD\",\"DOT-USD\"]\n",
        "#symbols = [\"AAPL\"]\n",
        "\n",
        "dfs = []\n",
        "for i in symbols:\n",
        "   data = yf.download(i,period=\"MAX\",interval=\"1d\")\n",
        "   dfs.append(data)\n"
      ]
    },
    {
      "cell_type": "code",
      "source": [
        "for df in dfs:\n",
        "  print(df.isnull().sum(),end=\" \")\n",
        "  print(df.shape)\n",
        "  "
      ],
      "metadata": {
        "colab": {
          "base_uri": "https://localhost:8080/"
        },
        "id": "lIp18gMO_wfb",
        "outputId": "37ce6155-c922-428d-dbcc-d0edda1ac074"
      },
      "execution_count": 271,
      "outputs": [
        {
          "output_type": "stream",
          "name": "stdout",
          "text": [
            "Open         0\n",
            "High         0\n",
            "Low          0\n",
            "Close        0\n",
            "Adj Close    0\n",
            "Volume       0\n",
            "dtype: int64 (2761, 6)\n",
            "Open         0\n",
            "High         0\n",
            "Low          0\n",
            "Close        0\n",
            "Adj Close    0\n",
            "Volume       0\n",
            "dtype: int64 (2761, 6)\n",
            "Open         0\n",
            "High         0\n",
            "Low          0\n",
            "Close        0\n",
            "Adj Close    0\n",
            "Volume       0\n",
            "dtype: int64 (1612, 6)\n",
            "Open         0\n",
            "High         0\n",
            "Low          0\n",
            "Close        0\n",
            "Adj Close    0\n",
            "Volume       0\n",
            "dtype: int64 (1612, 6)\n",
            "Open         0\n",
            "High         0\n",
            "Low          0\n",
            "Close        0\n",
            "Adj Close    0\n",
            "Volume       0\n",
            "dtype: int64 (1612, 6)\n",
            "Open         0\n",
            "High         0\n",
            "Low          0\n",
            "Close        0\n",
            "Adj Close    0\n",
            "Volume       0\n",
            "dtype: int64 (1612, 6)\n",
            "Open         0\n",
            "High         0\n",
            "Low          0\n",
            "Close        0\n",
            "Adj Close    0\n",
            "Volume       0\n",
            "dtype: int64 (1612, 6)\n",
            "Open         0\n",
            "High         0\n",
            "Low          0\n",
            "Close        0\n",
            "Adj Close    0\n",
            "Volume       0\n",
            "dtype: int64 (1345, 6)\n",
            "Open         0\n",
            "High         0\n",
            "Low          0\n",
            "Close        0\n",
            "Adj Close    0\n",
            "Volume       0\n",
            "dtype: int64 (1612, 6)\n",
            "Open         0\n",
            "High         0\n",
            "Low          0\n",
            "Close        0\n",
            "Adj Close    0\n",
            "Volume       0\n",
            "dtype: int64 (1612, 6)\n",
            "Open         0\n",
            "High         0\n",
            "Low          0\n",
            "Close        0\n",
            "Adj Close    0\n",
            "Volume       0\n",
            "dtype: int64 (541, 6)\n"
          ]
        }
      ]
    },
    {
      "cell_type": "code",
      "source": [
        "print(dfs[0])"
      ],
      "metadata": {
        "colab": {
          "base_uri": "https://localhost:8080/"
        },
        "id": "vqqN0Lvk0Ed5",
        "outputId": "16f36d19-a2d0-4830-c6d3-57dde7ff9346"
      },
      "execution_count": 272,
      "outputs": [
        {
          "output_type": "stream",
          "name": "stdout",
          "text": [
            "                    Open          High           Low         Close  \\\n",
            "Date                                                                 \n",
            "2014-09-17    465.864014    468.174011    452.421997    457.334015   \n",
            "2014-09-18    456.859985    456.859985    413.104004    424.440002   \n",
            "2014-09-19    424.102997    427.834991    384.532013    394.795990   \n",
            "2014-09-20    394.673004    423.295990    389.882996    408.903992   \n",
            "2014-09-21    408.084991    412.425995    393.181000    398.821014   \n",
            "...                  ...           ...           ...           ...   \n",
            "2022-04-04  46445.273438  46791.089844  45235.816406  46622.675781   \n",
            "2022-04-05  46624.507812  47106.140625  45544.808594  45555.992188   \n",
            "2022-04-06  45544.355469  45544.355469  43193.953125  43206.738281   \n",
            "2022-04-07  43207.500000  43860.699219  42899.906250  43503.847656   \n",
            "2022-04-08  43442.605469  43887.855469  42911.308594  43615.015625   \n",
            "\n",
            "               Adj Close       Volume  \n",
            "Date                                   \n",
            "2014-09-17    457.334015     21056800  \n",
            "2014-09-18    424.440002     34483200  \n",
            "2014-09-19    394.795990     37919700  \n",
            "2014-09-20    408.903992     36863600  \n",
            "2014-09-21    398.821014     26580100  \n",
            "...                  ...          ...  \n",
            "2022-04-04  46622.675781  32499785455  \n",
            "2022-04-05  45555.992188  29640604055  \n",
            "2022-04-06  43206.738281  39393395788  \n",
            "2022-04-07  43503.847656  26101973106  \n",
            "2022-04-08  43615.015625  23330351104  \n",
            "\n",
            "[2761 rows x 6 columns]\n"
          ]
        }
      ]
    },
    {
      "cell_type": "code",
      "source": [
        "fixed_dfs = []\n",
        "for df in dfs:\n",
        "    full = []\n",
        "    df = np.array(df)\n",
        "    for i in range(15, df.shape[0]-1):\n",
        "        fifteen_days_ago = i-15\n",
        "        fourteen_days_ago = i-14\n",
        "        thirteen_days_ago = i-13\n",
        "        twelve_days_ago = i-12\n",
        "        eleven_days_ago = i-11\n",
        "        ten_days_ago = i-10\n",
        "        nine_days_ago = i-9\n",
        "        eight_days_ago = i-8\n",
        "        seven_days_ago = i-7\n",
        "        six_days_ago = i-6\n",
        "        five_days_ago = i-5\n",
        "        four_days_ago = i-4\n",
        "        three_days_ago = i-3\n",
        "        two_days_ago = i - 2\n",
        "        yesterday = i - 1\n",
        "        today = i\n",
        "        tomorrow = i + 1\n",
        "        if df[tomorrow][3] > df[today][3]:\n",
        "            future = 1\n",
        "        else:\n",
        "            future = 0\n",
        "\n",
        "\n",
        "        new_lst = [df[fifteen_days_ago][3],df[fourteen_days_ago][3],df[thirteen_days_ago][3],df[twelve_days_ago][3],df[eleven_days_ago][3],\n",
        "                   df[ten_days_ago][3], df[nine_days_ago][3], df[eight_days_ago][3], df[seven_days_ago][3], df[six_days_ago][3],\n",
        "                   df[five_days_ago][3], df[four_days_ago][3], df[three_days_ago][3], df[two_days_ago][3], df[yesterday][3],\n",
        "                   df[today][3], future]\n",
        "\n",
        "        full.append(new_lst)\n",
        "\n",
        "\n",
        "    fuu = np.array([full])\n",
        "    lst = []\n",
        "    for i in range(0, fuu.shape[1]):\n",
        "        lst.append(fuu[0][i])\n",
        "    \n",
        "    mm = np.array(lst)\n",
        "\n",
        "\n",
        "    column_names = [\"fifteen_days_ago\",\"fourteen_days_ago\",\"thirteen_days_ago\",\"twelve_days_ago\",\"eleven_days_ago\",\n",
        "                      \"ten_days_ago\", \"nine_days_ago\", \"eight_days_ago\", \"seven_days_ago\", \"six_days_ago\",\n",
        "                       \"five_days_ago\", \"four_days_ago\", \"three_days_ago\", \"two_days_ago\", \"yesterday\", \n",
        "                        \"today\", \"result\"]\n",
        "    \n",
        "    cnwr = [\"fifteen_days_ago\",\"fourteen_days_ago\",\"thirteen_days_ago\",\"twelve_days_ago\",\"eleven_days_ago\",\n",
        "                      \"ten_days_ago\", \"nine_days_ago\", \"eight_days_ago\", \"seven_days_ago\", \"six_days_ago\",\n",
        "                       \"five_days_ago\", \"four_days_ago\", \"three_days_ago\", \"two_days_ago\", \"yesterday\", \n",
        "                        \"today\"]\n",
        "    dff = pd.DataFrame(mm, columns=column_names)\n",
        "    \n",
        "    scaler = MinMaxScaler()\n",
        "    xx = dff[\"result\"]\n",
        "    dff = dff.drop([\"result\"],axis=1)\n",
        "    scaled = pd.DataFrame(scaler.fit_transform(dff.T).T, columns=cnwr)\n",
        "\n",
        "    scaled[\"result\"] = xx\n",
        "       \n",
        "    fixed_dfs.append(scaled)\n",
        "\n"
      ],
      "metadata": {
        "id": "IB_YMoe09qVP"
      },
      "execution_count": 279,
      "outputs": []
    },
    {
      "cell_type": "code",
      "source": [
        "for i in fixed_dfs:\n",
        "  print(i.shape)"
      ],
      "metadata": {
        "colab": {
          "base_uri": "https://localhost:8080/"
        },
        "id": "G2c_JcjfCzaT",
        "outputId": "5a9b079d-4a4b-413e-83e9-6a579d675d14"
      },
      "execution_count": 280,
      "outputs": [
        {
          "output_type": "stream",
          "name": "stdout",
          "text": [
            "(2745, 17)\n",
            "(2745, 17)\n",
            "(1596, 17)\n",
            "(1596, 17)\n",
            "(1596, 17)\n",
            "(1596, 17)\n",
            "(1596, 17)\n",
            "(1329, 17)\n",
            "(1596, 17)\n",
            "(1596, 17)\n",
            "(525, 17)\n"
          ]
        }
      ]
    },
    {
      "cell_type": "code",
      "source": [
        "data = fixed_dfs[0]\n",
        "for i in range(1,len(symbols)):\n",
        "  data = pd.concat([data,fixed_dfs[i]], ignore_index = True)"
      ],
      "metadata": {
        "id": "_aYjMIfT6y6u"
      },
      "execution_count": 281,
      "outputs": []
    },
    {
      "cell_type": "code",
      "source": [
        "data"
      ],
      "metadata": {
        "colab": {
          "base_uri": "https://localhost:8080/",
          "height": 467
        },
        "id": "ORjxJp0tEWil",
        "outputId": "6e2354f9-ae42-47dc-fe24-d63cdb7f24d8"
      },
      "execution_count": 282,
      "outputs": [
        {
          "output_type": "execute_result",
          "data": {
            "text/plain": [
              "       fifteen_days_ago  fourteen_days_ago  thirteen_days_ago  \\\n",
              "0              1.000000           0.600131           0.239770   \n",
              "1              0.851191           0.462565           0.647518   \n",
              "2              0.616600           0.748543           0.654244   \n",
              "3              0.766770           0.679306           0.708200   \n",
              "4              0.679306           0.708200           1.000000   \n",
              "...                 ...                ...                ...   \n",
              "18511          0.432286           0.435139           0.729767   \n",
              "18512          0.435139           0.729767           0.901981   \n",
              "18513          0.729767           0.901981           1.000000   \n",
              "18514          0.901981           1.000000           0.059502   \n",
              "18515          1.000000           0.059502           0.161047   \n",
              "\n",
              "       twelve_days_ago  eleven_days_ago  ten_days_ago  nine_days_ago  \\\n",
              "0             0.411271         0.288700      0.329192       0.738117   \n",
              "1             0.515332         0.559001      1.000000       0.835000   \n",
              "2             0.685396         1.000000      0.882291       0.773514   \n",
              "3             1.000000         0.890823      0.789931       0.727917   \n",
              "4             0.890823         0.789931      0.727917       0.685369   \n",
              "...                ...              ...           ...            ...   \n",
              "18511         0.901981         1.000000      0.059502       0.161047   \n",
              "18512         1.000000         0.059502      0.161047       0.100026   \n",
              "18513         0.059502         0.161047      0.100026       0.000000   \n",
              "18514         0.161047         0.100026      0.000000       0.095426   \n",
              "18515         0.100026         0.000000      0.095426       0.262285   \n",
              "\n",
              "       eight_days_ago  seven_days_ago  six_days_ago  five_days_ago  \\\n",
              "0            0.585118        0.443729      0.356823       0.297197   \n",
              "1            0.682521        0.588799      0.524496       0.231637   \n",
              "2            0.706654        0.660781      0.451859       0.435829   \n",
              "3            0.685369        0.491590      0.476722       0.576279   \n",
              "4            0.491590        0.476722      0.576279       0.547402   \n",
              "...               ...             ...           ...            ...   \n",
              "18511        0.100026        0.000000      0.095426       0.262285   \n",
              "18512        0.000000        0.095426      0.262285       0.231084   \n",
              "18513        0.095426        0.262285      0.231084       0.255399   \n",
              "18514        0.262285        0.231084      0.255399       0.479157   \n",
              "18515        0.231084        0.255399      0.479157       0.424032   \n",
              "\n",
              "       four_days_ago  three_days_ago  two_days_ago  yesterday     today  \\\n",
              "0           0.025638        0.004802      0.144319   0.103851  0.000000   \n",
              "1           0.209167        0.359627      0.315985   0.203988  0.000000   \n",
              "2           0.543166        0.512032      0.432135   0.286612  0.000000   \n",
              "3           0.547402        0.473296      0.338321   0.072484  0.000000   \n",
              "4           0.473296        0.338321      0.072484   0.000000  0.083006   \n",
              "...              ...             ...           ...        ...       ...   \n",
              "18511       0.231084        0.255399      0.479157   0.424032  0.467922   \n",
              "18512       0.255399        0.479157      0.424032   0.467922  0.535105   \n",
              "18513       0.479157        0.424032      0.467922   0.535105  0.403365   \n",
              "18514       0.424032        0.467922      0.535105   0.403365  0.431989   \n",
              "18515       0.467922        0.535105      0.403365   0.431989  0.698248   \n",
              "\n",
              "       result  \n",
              "0         0.0  \n",
              "1         0.0  \n",
              "2         0.0  \n",
              "3         1.0  \n",
              "4         1.0  \n",
              "...       ...  \n",
              "18511     1.0  \n",
              "18512     0.0  \n",
              "18513     1.0  \n",
              "18514     1.0  \n",
              "18515     1.0  \n",
              "\n",
              "[18516 rows x 17 columns]"
            ],
            "text/html": [
              "\n",
              "  <div id=\"df-d4228358-be09-4c1b-b5c0-33c91c4f85f4\">\n",
              "    <div class=\"colab-df-container\">\n",
              "      <div>\n",
              "<style scoped>\n",
              "    .dataframe tbody tr th:only-of-type {\n",
              "        vertical-align: middle;\n",
              "    }\n",
              "\n",
              "    .dataframe tbody tr th {\n",
              "        vertical-align: top;\n",
              "    }\n",
              "\n",
              "    .dataframe thead th {\n",
              "        text-align: right;\n",
              "    }\n",
              "</style>\n",
              "<table border=\"1\" class=\"dataframe\">\n",
              "  <thead>\n",
              "    <tr style=\"text-align: right;\">\n",
              "      <th></th>\n",
              "      <th>fifteen_days_ago</th>\n",
              "      <th>fourteen_days_ago</th>\n",
              "      <th>thirteen_days_ago</th>\n",
              "      <th>twelve_days_ago</th>\n",
              "      <th>eleven_days_ago</th>\n",
              "      <th>ten_days_ago</th>\n",
              "      <th>nine_days_ago</th>\n",
              "      <th>eight_days_ago</th>\n",
              "      <th>seven_days_ago</th>\n",
              "      <th>six_days_ago</th>\n",
              "      <th>five_days_ago</th>\n",
              "      <th>four_days_ago</th>\n",
              "      <th>three_days_ago</th>\n",
              "      <th>two_days_ago</th>\n",
              "      <th>yesterday</th>\n",
              "      <th>today</th>\n",
              "      <th>result</th>\n",
              "    </tr>\n",
              "  </thead>\n",
              "  <tbody>\n",
              "    <tr>\n",
              "      <th>0</th>\n",
              "      <td>1.000000</td>\n",
              "      <td>0.600131</td>\n",
              "      <td>0.239770</td>\n",
              "      <td>0.411271</td>\n",
              "      <td>0.288700</td>\n",
              "      <td>0.329192</td>\n",
              "      <td>0.738117</td>\n",
              "      <td>0.585118</td>\n",
              "      <td>0.443729</td>\n",
              "      <td>0.356823</td>\n",
              "      <td>0.297197</td>\n",
              "      <td>0.025638</td>\n",
              "      <td>0.004802</td>\n",
              "      <td>0.144319</td>\n",
              "      <td>0.103851</td>\n",
              "      <td>0.000000</td>\n",
              "      <td>0.0</td>\n",
              "    </tr>\n",
              "    <tr>\n",
              "      <th>1</th>\n",
              "      <td>0.851191</td>\n",
              "      <td>0.462565</td>\n",
              "      <td>0.647518</td>\n",
              "      <td>0.515332</td>\n",
              "      <td>0.559001</td>\n",
              "      <td>1.000000</td>\n",
              "      <td>0.835000</td>\n",
              "      <td>0.682521</td>\n",
              "      <td>0.588799</td>\n",
              "      <td>0.524496</td>\n",
              "      <td>0.231637</td>\n",
              "      <td>0.209167</td>\n",
              "      <td>0.359627</td>\n",
              "      <td>0.315985</td>\n",
              "      <td>0.203988</td>\n",
              "      <td>0.000000</td>\n",
              "      <td>0.0</td>\n",
              "    </tr>\n",
              "    <tr>\n",
              "      <th>2</th>\n",
              "      <td>0.616600</td>\n",
              "      <td>0.748543</td>\n",
              "      <td>0.654244</td>\n",
              "      <td>0.685396</td>\n",
              "      <td>1.000000</td>\n",
              "      <td>0.882291</td>\n",
              "      <td>0.773514</td>\n",
              "      <td>0.706654</td>\n",
              "      <td>0.660781</td>\n",
              "      <td>0.451859</td>\n",
              "      <td>0.435829</td>\n",
              "      <td>0.543166</td>\n",
              "      <td>0.512032</td>\n",
              "      <td>0.432135</td>\n",
              "      <td>0.286612</td>\n",
              "      <td>0.000000</td>\n",
              "      <td>0.0</td>\n",
              "    </tr>\n",
              "    <tr>\n",
              "      <th>3</th>\n",
              "      <td>0.766770</td>\n",
              "      <td>0.679306</td>\n",
              "      <td>0.708200</td>\n",
              "      <td>1.000000</td>\n",
              "      <td>0.890823</td>\n",
              "      <td>0.789931</td>\n",
              "      <td>0.727917</td>\n",
              "      <td>0.685369</td>\n",
              "      <td>0.491590</td>\n",
              "      <td>0.476722</td>\n",
              "      <td>0.576279</td>\n",
              "      <td>0.547402</td>\n",
              "      <td>0.473296</td>\n",
              "      <td>0.338321</td>\n",
              "      <td>0.072484</td>\n",
              "      <td>0.000000</td>\n",
              "      <td>1.0</td>\n",
              "    </tr>\n",
              "    <tr>\n",
              "      <th>4</th>\n",
              "      <td>0.679306</td>\n",
              "      <td>0.708200</td>\n",
              "      <td>1.000000</td>\n",
              "      <td>0.890823</td>\n",
              "      <td>0.789931</td>\n",
              "      <td>0.727917</td>\n",
              "      <td>0.685369</td>\n",
              "      <td>0.491590</td>\n",
              "      <td>0.476722</td>\n",
              "      <td>0.576279</td>\n",
              "      <td>0.547402</td>\n",
              "      <td>0.473296</td>\n",
              "      <td>0.338321</td>\n",
              "      <td>0.072484</td>\n",
              "      <td>0.000000</td>\n",
              "      <td>0.083006</td>\n",
              "      <td>1.0</td>\n",
              "    </tr>\n",
              "    <tr>\n",
              "      <th>...</th>\n",
              "      <td>...</td>\n",
              "      <td>...</td>\n",
              "      <td>...</td>\n",
              "      <td>...</td>\n",
              "      <td>...</td>\n",
              "      <td>...</td>\n",
              "      <td>...</td>\n",
              "      <td>...</td>\n",
              "      <td>...</td>\n",
              "      <td>...</td>\n",
              "      <td>...</td>\n",
              "      <td>...</td>\n",
              "      <td>...</td>\n",
              "      <td>...</td>\n",
              "      <td>...</td>\n",
              "      <td>...</td>\n",
              "      <td>...</td>\n",
              "    </tr>\n",
              "    <tr>\n",
              "      <th>18511</th>\n",
              "      <td>0.432286</td>\n",
              "      <td>0.435139</td>\n",
              "      <td>0.729767</td>\n",
              "      <td>0.901981</td>\n",
              "      <td>1.000000</td>\n",
              "      <td>0.059502</td>\n",
              "      <td>0.161047</td>\n",
              "      <td>0.100026</td>\n",
              "      <td>0.000000</td>\n",
              "      <td>0.095426</td>\n",
              "      <td>0.262285</td>\n",
              "      <td>0.231084</td>\n",
              "      <td>0.255399</td>\n",
              "      <td>0.479157</td>\n",
              "      <td>0.424032</td>\n",
              "      <td>0.467922</td>\n",
              "      <td>1.0</td>\n",
              "    </tr>\n",
              "    <tr>\n",
              "      <th>18512</th>\n",
              "      <td>0.435139</td>\n",
              "      <td>0.729767</td>\n",
              "      <td>0.901981</td>\n",
              "      <td>1.000000</td>\n",
              "      <td>0.059502</td>\n",
              "      <td>0.161047</td>\n",
              "      <td>0.100026</td>\n",
              "      <td>0.000000</td>\n",
              "      <td>0.095426</td>\n",
              "      <td>0.262285</td>\n",
              "      <td>0.231084</td>\n",
              "      <td>0.255399</td>\n",
              "      <td>0.479157</td>\n",
              "      <td>0.424032</td>\n",
              "      <td>0.467922</td>\n",
              "      <td>0.535105</td>\n",
              "      <td>0.0</td>\n",
              "    </tr>\n",
              "    <tr>\n",
              "      <th>18513</th>\n",
              "      <td>0.729767</td>\n",
              "      <td>0.901981</td>\n",
              "      <td>1.000000</td>\n",
              "      <td>0.059502</td>\n",
              "      <td>0.161047</td>\n",
              "      <td>0.100026</td>\n",
              "      <td>0.000000</td>\n",
              "      <td>0.095426</td>\n",
              "      <td>0.262285</td>\n",
              "      <td>0.231084</td>\n",
              "      <td>0.255399</td>\n",
              "      <td>0.479157</td>\n",
              "      <td>0.424032</td>\n",
              "      <td>0.467922</td>\n",
              "      <td>0.535105</td>\n",
              "      <td>0.403365</td>\n",
              "      <td>1.0</td>\n",
              "    </tr>\n",
              "    <tr>\n",
              "      <th>18514</th>\n",
              "      <td>0.901981</td>\n",
              "      <td>1.000000</td>\n",
              "      <td>0.059502</td>\n",
              "      <td>0.161047</td>\n",
              "      <td>0.100026</td>\n",
              "      <td>0.000000</td>\n",
              "      <td>0.095426</td>\n",
              "      <td>0.262285</td>\n",
              "      <td>0.231084</td>\n",
              "      <td>0.255399</td>\n",
              "      <td>0.479157</td>\n",
              "      <td>0.424032</td>\n",
              "      <td>0.467922</td>\n",
              "      <td>0.535105</td>\n",
              "      <td>0.403365</td>\n",
              "      <td>0.431989</td>\n",
              "      <td>1.0</td>\n",
              "    </tr>\n",
              "    <tr>\n",
              "      <th>18515</th>\n",
              "      <td>1.000000</td>\n",
              "      <td>0.059502</td>\n",
              "      <td>0.161047</td>\n",
              "      <td>0.100026</td>\n",
              "      <td>0.000000</td>\n",
              "      <td>0.095426</td>\n",
              "      <td>0.262285</td>\n",
              "      <td>0.231084</td>\n",
              "      <td>0.255399</td>\n",
              "      <td>0.479157</td>\n",
              "      <td>0.424032</td>\n",
              "      <td>0.467922</td>\n",
              "      <td>0.535105</td>\n",
              "      <td>0.403365</td>\n",
              "      <td>0.431989</td>\n",
              "      <td>0.698248</td>\n",
              "      <td>1.0</td>\n",
              "    </tr>\n",
              "  </tbody>\n",
              "</table>\n",
              "<p>18516 rows × 17 columns</p>\n",
              "</div>\n",
              "      <button class=\"colab-df-convert\" onclick=\"convertToInteractive('df-d4228358-be09-4c1b-b5c0-33c91c4f85f4')\"\n",
              "              title=\"Convert this dataframe to an interactive table.\"\n",
              "              style=\"display:none;\">\n",
              "        \n",
              "  <svg xmlns=\"http://www.w3.org/2000/svg\" height=\"24px\"viewBox=\"0 0 24 24\"\n",
              "       width=\"24px\">\n",
              "    <path d=\"M0 0h24v24H0V0z\" fill=\"none\"/>\n",
              "    <path d=\"M18.56 5.44l.94 2.06.94-2.06 2.06-.94-2.06-.94-.94-2.06-.94 2.06-2.06.94zm-11 1L8.5 8.5l.94-2.06 2.06-.94-2.06-.94L8.5 2.5l-.94 2.06-2.06.94zm10 10l.94 2.06.94-2.06 2.06-.94-2.06-.94-.94-2.06-.94 2.06-2.06.94z\"/><path d=\"M17.41 7.96l-1.37-1.37c-.4-.4-.92-.59-1.43-.59-.52 0-1.04.2-1.43.59L10.3 9.45l-7.72 7.72c-.78.78-.78 2.05 0 2.83L4 21.41c.39.39.9.59 1.41.59.51 0 1.02-.2 1.41-.59l7.78-7.78 2.81-2.81c.8-.78.8-2.07 0-2.86zM5.41 20L4 18.59l7.72-7.72 1.47 1.35L5.41 20z\"/>\n",
              "  </svg>\n",
              "      </button>\n",
              "      \n",
              "  <style>\n",
              "    .colab-df-container {\n",
              "      display:flex;\n",
              "      flex-wrap:wrap;\n",
              "      gap: 12px;\n",
              "    }\n",
              "\n",
              "    .colab-df-convert {\n",
              "      background-color: #E8F0FE;\n",
              "      border: none;\n",
              "      border-radius: 50%;\n",
              "      cursor: pointer;\n",
              "      display: none;\n",
              "      fill: #1967D2;\n",
              "      height: 32px;\n",
              "      padding: 0 0 0 0;\n",
              "      width: 32px;\n",
              "    }\n",
              "\n",
              "    .colab-df-convert:hover {\n",
              "      background-color: #E2EBFA;\n",
              "      box-shadow: 0px 1px 2px rgba(60, 64, 67, 0.3), 0px 1px 3px 1px rgba(60, 64, 67, 0.15);\n",
              "      fill: #174EA6;\n",
              "    }\n",
              "\n",
              "    [theme=dark] .colab-df-convert {\n",
              "      background-color: #3B4455;\n",
              "      fill: #D2E3FC;\n",
              "    }\n",
              "\n",
              "    [theme=dark] .colab-df-convert:hover {\n",
              "      background-color: #434B5C;\n",
              "      box-shadow: 0px 1px 3px 1px rgba(0, 0, 0, 0.15);\n",
              "      filter: drop-shadow(0px 1px 2px rgba(0, 0, 0, 0.3));\n",
              "      fill: #FFFFFF;\n",
              "    }\n",
              "  </style>\n",
              "\n",
              "      <script>\n",
              "        const buttonEl =\n",
              "          document.querySelector('#df-d4228358-be09-4c1b-b5c0-33c91c4f85f4 button.colab-df-convert');\n",
              "        buttonEl.style.display =\n",
              "          google.colab.kernel.accessAllowed ? 'block' : 'none';\n",
              "\n",
              "        async function convertToInteractive(key) {\n",
              "          const element = document.querySelector('#df-d4228358-be09-4c1b-b5c0-33c91c4f85f4');\n",
              "          const dataTable =\n",
              "            await google.colab.kernel.invokeFunction('convertToInteractive',\n",
              "                                                     [key], {});\n",
              "          if (!dataTable) return;\n",
              "\n",
              "          const docLinkHtml = 'Like what you see? Visit the ' +\n",
              "            '<a target=\"_blank\" href=https://colab.research.google.com/notebooks/data_table.ipynb>data table notebook</a>'\n",
              "            + ' to learn more about interactive tables.';\n",
              "          element.innerHTML = '';\n",
              "          dataTable['output_type'] = 'display_data';\n",
              "          await google.colab.output.renderOutput(dataTable, element);\n",
              "          const docLink = document.createElement('div');\n",
              "          docLink.innerHTML = docLinkHtml;\n",
              "          element.appendChild(docLink);\n",
              "        }\n",
              "      </script>\n",
              "    </div>\n",
              "  </div>\n",
              "  "
            ]
          },
          "metadata": {},
          "execution_count": 282
        }
      ]
    },
    {
      "cell_type": "code",
      "source": [
        "data = data.dropna()"
      ],
      "metadata": {
        "id": "46M8IzrdKgf8"
      },
      "execution_count": 283,
      "outputs": []
    },
    {
      "cell_type": "code",
      "source": [
        "X = data.drop(\"result\",axis=1)\n",
        "xTrain, xTest, yTrain, yTest = train_test_split(X, data[\"result\"], test_size=0.1,random_state=11)\n",
        "\n",
        "print(xTrain.shape)\n",
        "print(yTrain.shape)\n",
        "\n",
        "print(xTest.shape)\n",
        "print(yTest.shape)\n"
      ],
      "metadata": {
        "colab": {
          "base_uri": "https://localhost:8080/"
        },
        "id": "S1J0OHRSzeW8",
        "outputId": "01fae50d-97d6-479d-fbae-74918f6dd940"
      },
      "execution_count": 284,
      "outputs": [
        {
          "output_type": "stream",
          "name": "stdout",
          "text": [
            "(16664, 16)\n",
            "(16664,)\n",
            "(1852, 16)\n",
            "(1852,)\n"
          ]
        }
      ]
    },
    {
      "cell_type": "code",
      "source": [
        "clf = RandomForestClassifier(n_estimators=100)\n",
        "clf.fit(xTrain,yTrain)\n",
        "clf.score(xTest,yTest)"
      ],
      "metadata": {
        "colab": {
          "base_uri": "https://localhost:8080/"
        },
        "id": "JgRefOUSp70m",
        "outputId": "df7f76b3-0393-4058-c1ed-b62701448fd9"
      },
      "execution_count": 285,
      "outputs": [
        {
          "output_type": "execute_result",
          "data": {
            "text/plain": [
              "0.6144708423326134"
            ]
          },
          "metadata": {},
          "execution_count": 285
        }
      ]
    },
    {
      "cell_type": "code",
      "source": [
        "logisticRegr = LogisticRegression()\n",
        "logisticRegr.fit(xTrain, yTrain)\n",
        "logisticRegr.score(xTest, yTest)"
      ],
      "metadata": {
        "colab": {
          "base_uri": "https://localhost:8080/"
        },
        "id": "0xE04oaprnAX",
        "outputId": "0f14d035-07a0-4a86-a620-72a00754b0b5"
      },
      "execution_count": 286,
      "outputs": [
        {
          "output_type": "execute_result",
          "data": {
            "text/plain": [
              "0.5367170626349892"
            ]
          },
          "metadata": {},
          "execution_count": 286
        }
      ]
    },
    {
      "cell_type": "code",
      "source": [
        "svm = SVC()\n",
        "svm.fit(xTrain,yTrain)\n",
        "svm.score(xTest,yTest)"
      ],
      "metadata": {
        "colab": {
          "base_uri": "https://localhost:8080/"
        },
        "id": "D2pfGHIbPlOk",
        "outputId": "ed3f2e28-32e9-407f-8a12-b06087f5a243"
      },
      "execution_count": 287,
      "outputs": [
        {
          "output_type": "execute_result",
          "data": {
            "text/plain": [
              "0.576133909287257"
            ]
          },
          "metadata": {},
          "execution_count": 287
        }
      ]
    },
    {
      "cell_type": "code",
      "source": [
        "from sklearn.neighbors import NearestCentroid\n",
        "nc = NearestCentroid()\n",
        "nc.fit(xTrain,yTrain)\n",
        "nc.score(xTest,yTest)"
      ],
      "metadata": {
        "colab": {
          "base_uri": "https://localhost:8080/"
        },
        "id": "BVtW0X40PHx3",
        "outputId": "6d323249-8a1f-4def-e661-adb23bfc0c9e"
      },
      "execution_count": 288,
      "outputs": [
        {
          "output_type": "execute_result",
          "data": {
            "text/plain": [
              "0.49838012958963285"
            ]
          },
          "metadata": {},
          "execution_count": 288
        }
      ]
    },
    {
      "cell_type": "code",
      "source": [
        "from sklearn.naive_bayes import GaussianNB\n",
        "gnb = GaussianNB()\n",
        "gnb.fit(xTrain, yTrain).score(xTest,yTest)"
      ],
      "metadata": {
        "colab": {
          "base_uri": "https://localhost:8080/"
        },
        "id": "qwExbeX5ReEj",
        "outputId": "92e23bd3-274e-4e60-d710-3ca14982731f"
      },
      "execution_count": 289,
      "outputs": [
        {
          "output_type": "execute_result",
          "data": {
            "text/plain": [
              "0.509719222462203"
            ]
          },
          "metadata": {},
          "execution_count": 289
        }
      ]
    },
    {
      "cell_type": "code",
      "source": [
        "from sklearn import tree\n",
        "tree = tree.DecisionTreeClassifier()\n",
        "tree.fit(xTrain, yTrain)\n",
        "tree.score(xTest,yTest)"
      ],
      "metadata": {
        "colab": {
          "base_uri": "https://localhost:8080/"
        },
        "id": "J7dQTjK7Rwf9",
        "outputId": "8ea1aec1-668c-4ef4-e1f2-466ff5adfefe"
      },
      "execution_count": 290,
      "outputs": [
        {
          "output_type": "execute_result",
          "data": {
            "text/plain": [
              "0.550755939524838"
            ]
          },
          "metadata": {},
          "execution_count": 290
        }
      ]
    },
    {
      "cell_type": "code",
      "source": [
        "from sklearn.ensemble import GradientBoostingClassifier\n",
        "gb = GradientBoostingClassifier(n_estimators=100, learning_rate=1.0,\n",
        "   max_depth=1, random_state=0).fit(xTrain, yTrain)\n",
        "gb.score(xTest, yTest)"
      ],
      "metadata": {
        "colab": {
          "base_uri": "https://localhost:8080/"
        },
        "id": "iF9-IqlqSMAB",
        "outputId": "5a9cb39a-f8f3-42b2-c201-db5a021119fe"
      },
      "execution_count": 291,
      "outputs": [
        {
          "output_type": "execute_result",
          "data": {
            "text/plain": [
              "0.5464362850971922"
            ]
          },
          "metadata": {},
          "execution_count": 291
        }
      ]
    },
    {
      "cell_type": "code",
      "source": [
        "from sklearn.neighbors import KNeighborsClassifier\n",
        "clf2 = KNeighborsClassifier(n_neighbors=7)\n",
        "clf2.fit(xTrain, yTrain)\n",
        "clf2.score(xTest,yTest)"
      ],
      "metadata": {
        "colab": {
          "base_uri": "https://localhost:8080/"
        },
        "id": "5IMIL4Z5SsyU",
        "outputId": "8daf3721-257b-4472-9b96-f164daf5c3db"
      },
      "execution_count": 292,
      "outputs": [
        {
          "output_type": "execute_result",
          "data": {
            "text/plain": [
              "0.6214902807775378"
            ]
          },
          "metadata": {},
          "execution_count": 292
        }
      ]
    },
    {
      "cell_type": "code",
      "source": [
        "model = Sequential()\n",
        "model.add(Dense(256, activation='relu', kernel_initializer='he_normal', input_shape=(16,)))\n",
        "model.add(Dropout(0.2))\n",
        "model.add(Dense(256, activation='relu', kernel_initializer='he_normal'))\n",
        "model.add(Dropout(0.2))\n",
        "model.add(Dense(256, activation='relu', kernel_initializer='he_normal'))\n",
        "model.add(Dropout(0.2))\n",
        "model.add(Dense(1, activation='sigmoid'))\n",
        "\n",
        "model.compile(optimizer='adam', loss='binary_crossentropy',metrics=['accuracy'])\n",
        "\n",
        "model.summary()"
      ],
      "metadata": {
        "colab": {
          "base_uri": "https://localhost:8080/"
        },
        "id": "1rI1oRc9VRwO",
        "outputId": "c3b0ae90-d3e5-4a34-ee23-e5288133f753"
      },
      "execution_count": 297,
      "outputs": [
        {
          "output_type": "stream",
          "name": "stdout",
          "text": [
            "Model: \"sequential_20\"\n",
            "_________________________________________________________________\n",
            " Layer (type)                Output Shape              Param #   \n",
            "=================================================================\n",
            " dense_67 (Dense)            (None, 512)               8704      \n",
            "                                                                 \n",
            " dropout_50 (Dropout)        (None, 512)               0         \n",
            "                                                                 \n",
            " dense_68 (Dense)            (None, 512)               262656    \n",
            "                                                                 \n",
            " dropout_51 (Dropout)        (None, 512)               0         \n",
            "                                                                 \n",
            " dense_69 (Dense)            (None, 1)                 513       \n",
            "                                                                 \n",
            "=================================================================\n",
            "Total params: 271,873\n",
            "Trainable params: 271,873\n",
            "Non-trainable params: 0\n",
            "_________________________________________________________________\n"
          ]
        }
      ]
    },
    {
      "cell_type": "code",
      "source": [
        "model.fit(xTrain,yTrain,epochs=30,batch_size=25,validation_data=(xTest,yTest))"
      ],
      "metadata": {
        "colab": {
          "base_uri": "https://localhost:8080/"
        },
        "id": "9h7BV3HrVags",
        "outputId": "f1981e0d-7255-466e-88ed-1db5e979e32d"
      },
      "execution_count": 299,
      "outputs": [
        {
          "output_type": "stream",
          "name": "stdout",
          "text": [
            "Epoch 1/30\n",
            "667/667 [==============================] - 7s 10ms/step - loss: 0.6403 - accuracy: 0.6238 - val_loss: 0.6903 - val_accuracy: 0.5691\n",
            "Epoch 2/30\n",
            "667/667 [==============================] - 5s 8ms/step - loss: 0.6298 - accuracy: 0.6393 - val_loss: 0.6628 - val_accuracy: 0.6064\n",
            "Epoch 3/30\n",
            "667/667 [==============================] - 4s 6ms/step - loss: 0.6219 - accuracy: 0.6456 - val_loss: 0.6650 - val_accuracy: 0.5988\n",
            "Epoch 4/30\n",
            "667/667 [==============================] - 5s 8ms/step - loss: 0.6124 - accuracy: 0.6578 - val_loss: 0.6518 - val_accuracy: 0.6156\n",
            "Epoch 5/30\n",
            "667/667 [==============================] - 6s 9ms/step - loss: 0.6034 - accuracy: 0.6647 - val_loss: 0.6544 - val_accuracy: 0.6139\n",
            "Epoch 6/30\n",
            "667/667 [==============================] - 5s 7ms/step - loss: 0.5922 - accuracy: 0.6791 - val_loss: 0.6591 - val_accuracy: 0.6112\n",
            "Epoch 7/30\n",
            "667/667 [==============================] - 4s 6ms/step - loss: 0.5855 - accuracy: 0.6842 - val_loss: 0.6542 - val_accuracy: 0.6237\n",
            "Epoch 8/30\n",
            "667/667 [==============================] - 4s 6ms/step - loss: 0.5760 - accuracy: 0.6916 - val_loss: 0.6567 - val_accuracy: 0.6145\n",
            "Epoch 9/30\n",
            "667/667 [==============================] - 4s 6ms/step - loss: 0.5641 - accuracy: 0.6992 - val_loss: 0.6650 - val_accuracy: 0.6323\n",
            "Epoch 10/30\n",
            "667/667 [==============================] - 4s 6ms/step - loss: 0.5560 - accuracy: 0.7051 - val_loss: 0.6621 - val_accuracy: 0.6204\n",
            "Epoch 11/30\n",
            "667/667 [==============================] - 4s 6ms/step - loss: 0.5473 - accuracy: 0.7151 - val_loss: 0.6573 - val_accuracy: 0.6307\n",
            "Epoch 12/30\n",
            "667/667 [==============================] - 4s 7ms/step - loss: 0.5437 - accuracy: 0.7182 - val_loss: 0.6507 - val_accuracy: 0.6371\n",
            "Epoch 13/30\n",
            "667/667 [==============================] - 4s 6ms/step - loss: 0.5359 - accuracy: 0.7236 - val_loss: 0.6582 - val_accuracy: 0.6312\n",
            "Epoch 14/30\n",
            "667/667 [==============================] - 4s 6ms/step - loss: 0.5211 - accuracy: 0.7328 - val_loss: 0.6502 - val_accuracy: 0.6506\n",
            "Epoch 15/30\n",
            "667/667 [==============================] - 4s 6ms/step - loss: 0.5131 - accuracy: 0.7426 - val_loss: 0.6461 - val_accuracy: 0.6582\n",
            "Epoch 16/30\n",
            "667/667 [==============================] - 4s 6ms/step - loss: 0.5087 - accuracy: 0.7429 - val_loss: 0.6554 - val_accuracy: 0.6382\n",
            "Epoch 17/30\n",
            "667/667 [==============================] - 4s 6ms/step - loss: 0.4986 - accuracy: 0.7507 - val_loss: 0.6730 - val_accuracy: 0.6388\n",
            "Epoch 18/30\n",
            "667/667 [==============================] - 4s 6ms/step - loss: 0.4922 - accuracy: 0.7551 - val_loss: 0.6530 - val_accuracy: 0.6501\n",
            "Epoch 19/30\n",
            "667/667 [==============================] - 4s 6ms/step - loss: 0.4835 - accuracy: 0.7616 - val_loss: 0.6762 - val_accuracy: 0.6458\n",
            "Epoch 20/30\n",
            "667/667 [==============================] - 4s 6ms/step - loss: 0.4788 - accuracy: 0.7615 - val_loss: 0.6582 - val_accuracy: 0.6512\n",
            "Epoch 21/30\n",
            "667/667 [==============================] - 4s 6ms/step - loss: 0.4714 - accuracy: 0.7702 - val_loss: 0.6648 - val_accuracy: 0.6544\n",
            "Epoch 22/30\n",
            "667/667 [==============================] - 4s 6ms/step - loss: 0.4612 - accuracy: 0.7750 - val_loss: 0.6691 - val_accuracy: 0.6609\n",
            "Epoch 23/30\n",
            "667/667 [==============================] - 4s 6ms/step - loss: 0.4550 - accuracy: 0.7784 - val_loss: 0.6822 - val_accuracy: 0.6371\n",
            "Epoch 24/30\n",
            "667/667 [==============================] - 5s 7ms/step - loss: 0.4493 - accuracy: 0.7865 - val_loss: 0.6748 - val_accuracy: 0.6544\n",
            "Epoch 25/30\n",
            "667/667 [==============================] - 4s 6ms/step - loss: 0.4400 - accuracy: 0.7884 - val_loss: 0.6885 - val_accuracy: 0.6420\n",
            "Epoch 26/30\n",
            "667/667 [==============================] - 4s 6ms/step - loss: 0.4359 - accuracy: 0.7943 - val_loss: 0.6958 - val_accuracy: 0.6371\n",
            "Epoch 27/30\n",
            "667/667 [==============================] - 4s 7ms/step - loss: 0.4272 - accuracy: 0.7971 - val_loss: 0.6818 - val_accuracy: 0.6625\n",
            "Epoch 28/30\n",
            "667/667 [==============================] - 4s 7ms/step - loss: 0.4217 - accuracy: 0.8016 - val_loss: 0.6889 - val_accuracy: 0.6409\n",
            "Epoch 29/30\n",
            "667/667 [==============================] - 4s 6ms/step - loss: 0.4168 - accuracy: 0.8048 - val_loss: 0.6836 - val_accuracy: 0.6636\n",
            "Epoch 30/30\n",
            "667/667 [==============================] - 4s 6ms/step - loss: 0.4113 - accuracy: 0.8055 - val_loss: 0.7079 - val_accuracy: 0.6506\n"
          ]
        },
        {
          "output_type": "execute_result",
          "data": {
            "text/plain": [
              "<keras.callbacks.History at 0x7f8407036b50>"
            ]
          },
          "metadata": {},
          "execution_count": 299
        }
      ]
    }
  ],
  "metadata": {
    "colab": {
      "name": "Several_Symbol_Model.ipynb",
      "provenance": [],
      "authorship_tag": "ABX9TyNucZ0TYIwuVJyHPv5tenFo",
      "include_colab_link": true
    },
    "kernelspec": {
      "display_name": "Python 3",
      "name": "python3"
    },
    "language_info": {
      "name": "python"
    }
  },
  "nbformat": 4,
  "nbformat_minor": 0
}