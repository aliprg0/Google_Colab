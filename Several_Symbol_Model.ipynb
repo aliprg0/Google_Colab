{
  "cells": [
    {
      "cell_type": "code",
      "execution_count": 204,
      "metadata": {
        "colab": {
          "base_uri": "https://localhost:8080/"
        },
        "id": "_ygJ_wFxYm7M",
        "outputId": "03040f36-c73f-49d0-e2ba-cdb3ea1efd70"
      },
      "outputs": [
        {
          "output_type": "stream",
          "name": "stdout",
          "text": [
            "Requirement already satisfied: yfinance in /usr/local/lib/python3.7/dist-packages (0.1.70)\n",
            "Requirement already satisfied: lxml>=4.5.1 in /usr/local/lib/python3.7/dist-packages (from yfinance) (4.8.0)\n",
            "Requirement already satisfied: numpy>=1.15 in /usr/local/lib/python3.7/dist-packages (from yfinance) (1.21.5)\n",
            "Requirement already satisfied: multitasking>=0.0.7 in /usr/local/lib/python3.7/dist-packages (from yfinance) (0.0.10)\n",
            "Requirement already satisfied: requests>=2.26 in /usr/local/lib/python3.7/dist-packages (from yfinance) (2.27.1)\n",
            "Requirement already satisfied: pandas>=0.24.0 in /usr/local/lib/python3.7/dist-packages (from yfinance) (1.3.5)\n",
            "Requirement already satisfied: pytz>=2017.3 in /usr/local/lib/python3.7/dist-packages (from pandas>=0.24.0->yfinance) (2018.9)\n",
            "Requirement already satisfied: python-dateutil>=2.7.3 in /usr/local/lib/python3.7/dist-packages (from pandas>=0.24.0->yfinance) (2.8.2)\n",
            "Requirement already satisfied: six>=1.5 in /usr/local/lib/python3.7/dist-packages (from python-dateutil>=2.7.3->pandas>=0.24.0->yfinance) (1.15.0)\n",
            "Requirement already satisfied: charset-normalizer~=2.0.0 in /usr/local/lib/python3.7/dist-packages (from requests>=2.26->yfinance) (2.0.12)\n",
            "Requirement already satisfied: idna<4,>=2.5 in /usr/local/lib/python3.7/dist-packages (from requests>=2.26->yfinance) (2.10)\n",
            "Requirement already satisfied: urllib3<1.27,>=1.21.1 in /usr/local/lib/python3.7/dist-packages (from requests>=2.26->yfinance) (1.24.3)\n",
            "Requirement already satisfied: certifi>=2017.4.17 in /usr/local/lib/python3.7/dist-packages (from requests>=2.26->yfinance) (2021.10.8)\n"
          ]
        }
      ],
      "source": [
        "!pip install yfinance\n",
        "import yfinance as yf   \n",
        "import pandas as pd\n",
        "import numpy as np"
      ]
    },
    {
      "cell_type": "code",
      "source": [
        "from tensorflow.keras import Sequential\n",
        "from tensorflow.keras.layers import Dense,LSTM\n",
        "from tensorflow.keras.layers import Dropout\n",
        "from sklearn.linear_model import LogisticRegression\n",
        "from sklearn.ensemble import RandomForestClassifier\n",
        "from sklearn.model_selection import train_test_split\n",
        "from sklearn.preprocessing import MinMaxScaler\n",
        "from sklearn.svm import SVC\n"
      ],
      "metadata": {
        "id": "_5bxbCoe9do9"
      },
      "execution_count": 205,
      "outputs": []
    },
    {
      "cell_type": "code",
      "execution_count": 206,
      "metadata": {
        "colab": {
          "base_uri": "https://localhost:8080/"
        },
        "id": "kn3S59KUYp6P",
        "outputId": "8b7dee37-5255-4283-9211-4d52b3843fe4"
      },
      "outputs": [
        {
          "output_type": "stream",
          "name": "stdout",
          "text": [
            "\r[*********************100%***********************]  1 of 1 completed\n"
          ]
        }
      ],
      "source": [
        "#symbols = [\"MSFT\",\"AAPL\",\"GOOG\",\"TSLA\",\"BTC-USD\",\"LTC-USD\",\"TRX-USD\",\"GGPI\",\"BIM\",\"AI\",\"AMZN\"]\n",
        "#symbols = [\"BTC-USD\",\"LTC-USD\",\"TRX-USD\",\"XRP-USD\",\"ETH-USD\",\"BNB-USD\",\"DASH-USD\",\"VET-USD\",\"LINK-USD\",\"ADA-USD\",\"DOT-USD\"]\n",
        "symbols = [\"AAPL\"]\n",
        "\n",
        "dfs = []\n",
        "for i in symbols:\n",
        "   data = yf.download(i,period=\"MAX\",interval=\"1d\")\n",
        "   dfs.append(data)\n"
      ]
    },
    {
      "cell_type": "code",
      "source": [
        "for df in dfs:\n",
        "  print(df.isnull().sum(),end=\" \")\n",
        "  print(df.shape)\n",
        "  "
      ],
      "metadata": {
        "colab": {
          "base_uri": "https://localhost:8080/"
        },
        "id": "lIp18gMO_wfb",
        "outputId": "41fcf179-6282-49b3-b2b9-633d935857cc"
      },
      "execution_count": 207,
      "outputs": [
        {
          "output_type": "stream",
          "name": "stdout",
          "text": [
            "Open         0\n",
            "High         0\n",
            "Low          0\n",
            "Close        0\n",
            "Adj Close    0\n",
            "Volume       0\n",
            "dtype: int64 (10420, 6)\n"
          ]
        }
      ]
    },
    {
      "cell_type": "code",
      "source": [
        "print(dfs[0])"
      ],
      "metadata": {
        "colab": {
          "base_uri": "https://localhost:8080/"
        },
        "id": "vqqN0Lvk0Ed5",
        "outputId": "29579c37-c50d-4ae3-cb14-bfd2fbadb854"
      },
      "execution_count": 208,
      "outputs": [
        {
          "output_type": "stream",
          "name": "stdout",
          "text": [
            "                  Open        High         Low       Close   Adj Close  \\\n",
            "Date                                                                     \n",
            "1980-12-12    0.128348    0.128906    0.128348    0.128348    0.100323   \n",
            "1980-12-15    0.122210    0.122210    0.121652    0.121652    0.095089   \n",
            "1980-12-16    0.113281    0.113281    0.112723    0.112723    0.088110   \n",
            "1980-12-17    0.115513    0.116071    0.115513    0.115513    0.090291   \n",
            "1980-12-18    0.118862    0.119420    0.118862    0.118862    0.092908   \n",
            "...                ...         ...         ...         ...         ...   \n",
            "2022-04-04  174.570007  178.490005  174.440002  178.440002  178.440002   \n",
            "2022-04-05  177.500000  178.300003  174.419998  175.059998  175.059998   \n",
            "2022-04-06  172.360001  173.630005  170.130005  171.830002  171.830002   \n",
            "2022-04-07  171.160004  173.360001  169.850006  172.139999  172.139999   \n",
            "2022-04-08  171.779999  171.767197  169.220001  171.250000  171.250000   \n",
            "\n",
            "               Volume  \n",
            "Date                   \n",
            "1980-12-12  469033600  \n",
            "1980-12-15  175884800  \n",
            "1980-12-16  105728000  \n",
            "1980-12-17   86441600  \n",
            "1980-12-18   73449600  \n",
            "...               ...  \n",
            "2022-04-04   76468400  \n",
            "2022-04-05   73401800  \n",
            "2022-04-06   89058800  \n",
            "2022-04-07   77517700  \n",
            "2022-04-08   34837583  \n",
            "\n",
            "[10420 rows x 6 columns]\n"
          ]
        }
      ]
    },
    {
      "cell_type": "code",
      "source": [
        "\n"
      ],
      "metadata": {
        "id": "lu37GD6G0r4Z"
      },
      "execution_count": 208,
      "outputs": []
    },
    {
      "cell_type": "code",
      "source": [
        "fixed_dfs = []\n",
        "for df in dfs:\n",
        "    full = []\n",
        "    df = np.array(df)\n",
        "    for i in range(15, df.shape[0]-1):\n",
        "        fifteen_days_ago = i-15\n",
        "        fourteen_days_ago = i-14\n",
        "        thirteen_days_ago = i-13\n",
        "        twelve_days_ago = i-12\n",
        "        eleven_days_ago = i-11\n",
        "        ten_days_ago = i-10\n",
        "        nine_days_ago = i-9\n",
        "        eight_days_ago = i-8\n",
        "        seven_days_ago = i-7\n",
        "        six_days_ago = i-6\n",
        "        five_days_ago = i-5\n",
        "        four_days_ago = i-4\n",
        "        three_days_ago = i-3\n",
        "        two_days_ago = i - 2\n",
        "        yesterday = i - 1\n",
        "        today = i\n",
        "        tomorrow = i + 1\n",
        "        if df[tomorrow][3] > df[today][3]:\n",
        "            future = 1\n",
        "        else:\n",
        "            future = 0\n",
        "\n",
        "\n",
        "        new_lst = [df[fifteen_days_ago][3],df[fourteen_days_ago][3],df[thirteen_days_ago][3],df[twelve_days_ago][3],df[eleven_days_ago][3],\n",
        "                   df[ten_days_ago][3], df[nine_days_ago][3], df[eight_days_ago][3], df[seven_days_ago][3], df[six_days_ago][3],\n",
        "                   df[five_days_ago][3], df[four_days_ago][3], df[three_days_ago][3], df[two_days_ago][3], df[yesterday][3],\n",
        "                   df[today][3], future]\n",
        "\n",
        "        full.append(new_lst)\n",
        "\n",
        "\n",
        "    fuu = np.array([full])\n",
        "    lst = []\n",
        "    for i in range(0, fuu.shape[1]):\n",
        "        lst.append(fuu[0][i])\n",
        "    \n",
        "    mm = np.array(lst)\n",
        "\n",
        "\n",
        "    column_names = [\"fifteen_days_ago\",\"fourteen_days_ago\",\"thirteen_days_ago\",\"twelve_days_ago\",\"eleven_days_ago\",\n",
        "                      \"ten_days_ago\", \"nine_days_ago\", \"eight_days_ago\", \"seven_days_ago\", \"six_days_ago\",\n",
        "                       \"five_days_ago\", \"four_days_ago\", \"three_days_ago\", \"two_days_ago\", \"yesterday\", \n",
        "                        \"today\", \"result\"]\n",
        "\n",
        "    dff = pd.DataFrame(mm, columns=column_names)\n",
        "    \n",
        "    fixed_dfs.append(dff)"
      ],
      "metadata": {
        "id": "IB_YMoe09qVP"
      },
      "execution_count": 225,
      "outputs": []
    },
    {
      "cell_type": "code",
      "source": [
        "for i in fixed_dfs:\n",
        "  print(i.shape)"
      ],
      "metadata": {
        "colab": {
          "base_uri": "https://localhost:8080/"
        },
        "id": "G2c_JcjfCzaT",
        "outputId": "91554b49-a53f-49ba-f692-cc3de625630a"
      },
      "execution_count": 210,
      "outputs": [
        {
          "output_type": "stream",
          "name": "stdout",
          "text": [
            "(10404, 17)\n"
          ]
        }
      ]
    },
    {
      "cell_type": "code",
      "source": [
        "data = fixed_dfs[0]\n",
        "for i in range(1,len(symbols)):\n",
        "  data = pd.concat([data,fixed_dfs[i]], ignore_index = True)"
      ],
      "metadata": {
        "id": "_aYjMIfT6y6u"
      },
      "execution_count": 211,
      "outputs": []
    },
    {
      "cell_type": "code",
      "source": [
        "data"
      ],
      "metadata": {
        "colab": {
          "base_uri": "https://localhost:8080/",
          "height": 467
        },
        "id": "ORjxJp0tEWil",
        "outputId": "bebe7332-96cf-4902-b292-1ebabc00358f"
      },
      "execution_count": 212,
      "outputs": [
        {
          "output_type": "execute_result",
          "data": {
            "text/plain": [
              "       fifteen_days_ago  fourteen_days_ago  thirteen_days_ago  \\\n",
              "0              0.128348           0.121652           0.112723   \n",
              "1              0.121652           0.112723           0.115513   \n",
              "2              0.112723           0.115513           0.118862   \n",
              "3              0.115513           0.118862           0.126116   \n",
              "4              0.118862           0.126116           0.132254   \n",
              "...                 ...                ...                ...   \n",
              "10399        154.729996         150.619995         155.089996   \n",
              "10400        150.619995         155.089996         159.589996   \n",
              "10401        155.089996         159.589996         160.619995   \n",
              "10402        159.589996         160.619995         163.979996   \n",
              "10403        160.619995         163.979996         165.380005   \n",
              "\n",
              "       twelve_days_ago  eleven_days_ago  ten_days_ago  nine_days_ago  \\\n",
              "0             0.115513         0.118862      0.126116       0.132254   \n",
              "1             0.118862         0.126116      0.132254       0.137835   \n",
              "2             0.126116         0.132254      0.137835       0.145089   \n",
              "3             0.132254         0.137835      0.145089       0.158482   \n",
              "4             0.137835         0.145089      0.158482       0.160714   \n",
              "...                ...              ...           ...            ...   \n",
              "10399       159.589996       160.619995    163.979996     165.380005   \n",
              "10400       160.619995       163.979996    165.380005     168.820007   \n",
              "10401       163.979996       165.380005    168.820007     170.210007   \n",
              "10402       165.380005       168.820007    170.210007     174.070007   \n",
              "10403       168.820007       170.210007    174.070007     174.720001   \n",
              "\n",
              "       eight_days_ago  seven_days_ago  six_days_ago  five_days_ago  \\\n",
              "0            0.137835        0.145089      0.158482       0.160714   \n",
              "1            0.145089        0.158482      0.160714       0.156808   \n",
              "2            0.158482        0.160714      0.156808       0.152344   \n",
              "3            0.160714        0.156808      0.152344       0.154018   \n",
              "4            0.156808        0.152344      0.154018       0.150670   \n",
              "...               ...             ...           ...            ...   \n",
              "10399      168.820007      170.210007    174.070007     174.720001   \n",
              "10400      170.210007      174.070007    174.720001     175.600006   \n",
              "10401      174.070007      174.720001    175.600006     178.960007   \n",
              "10402      174.720001      175.600006    178.960007     177.770004   \n",
              "10403      175.600006      178.960007    177.770004     174.610001   \n",
              "\n",
              "       four_days_ago  three_days_ago  two_days_ago   yesterday       today  \\\n",
              "0           0.156808        0.152344      0.154018    0.150670    0.143973   \n",
              "1           0.152344        0.154018      0.150670    0.143973    0.137835   \n",
              "2           0.154018        0.150670      0.143973    0.137835    0.135045   \n",
              "3           0.150670        0.143973      0.137835    0.135045    0.142299   \n",
              "4           0.143973        0.137835      0.135045    0.142299    0.141183   \n",
              "...              ...             ...           ...         ...         ...   \n",
              "10399     175.600006      178.960007    177.770004  174.610001  174.309998   \n",
              "10400     178.960007      177.770004    174.610001  174.309998  178.440002   \n",
              "10401     177.770004      174.610001    174.309998  178.440002  175.059998   \n",
              "10402     174.610001      174.309998    178.440002  175.059998  171.830002   \n",
              "10403     174.309998      178.440002    175.059998  171.830002  172.139999   \n",
              "\n",
              "       result  \n",
              "0         0.0  \n",
              "1         0.0  \n",
              "2         1.0  \n",
              "3         0.0  \n",
              "4         0.0  \n",
              "...       ...  \n",
              "10399     1.0  \n",
              "10400     0.0  \n",
              "10401     0.0  \n",
              "10402     1.0  \n",
              "10403     0.0  \n",
              "\n",
              "[10404 rows x 17 columns]"
            ],
            "text/html": [
              "\n",
              "  <div id=\"df-3a8298fd-25a9-4dba-89c3-5e14acf5cf97\">\n",
              "    <div class=\"colab-df-container\">\n",
              "      <div>\n",
              "<style scoped>\n",
              "    .dataframe tbody tr th:only-of-type {\n",
              "        vertical-align: middle;\n",
              "    }\n",
              "\n",
              "    .dataframe tbody tr th {\n",
              "        vertical-align: top;\n",
              "    }\n",
              "\n",
              "    .dataframe thead th {\n",
              "        text-align: right;\n",
              "    }\n",
              "</style>\n",
              "<table border=\"1\" class=\"dataframe\">\n",
              "  <thead>\n",
              "    <tr style=\"text-align: right;\">\n",
              "      <th></th>\n",
              "      <th>fifteen_days_ago</th>\n",
              "      <th>fourteen_days_ago</th>\n",
              "      <th>thirteen_days_ago</th>\n",
              "      <th>twelve_days_ago</th>\n",
              "      <th>eleven_days_ago</th>\n",
              "      <th>ten_days_ago</th>\n",
              "      <th>nine_days_ago</th>\n",
              "      <th>eight_days_ago</th>\n",
              "      <th>seven_days_ago</th>\n",
              "      <th>six_days_ago</th>\n",
              "      <th>five_days_ago</th>\n",
              "      <th>four_days_ago</th>\n",
              "      <th>three_days_ago</th>\n",
              "      <th>two_days_ago</th>\n",
              "      <th>yesterday</th>\n",
              "      <th>today</th>\n",
              "      <th>result</th>\n",
              "    </tr>\n",
              "  </thead>\n",
              "  <tbody>\n",
              "    <tr>\n",
              "      <th>0</th>\n",
              "      <td>0.128348</td>\n",
              "      <td>0.121652</td>\n",
              "      <td>0.112723</td>\n",
              "      <td>0.115513</td>\n",
              "      <td>0.118862</td>\n",
              "      <td>0.126116</td>\n",
              "      <td>0.132254</td>\n",
              "      <td>0.137835</td>\n",
              "      <td>0.145089</td>\n",
              "      <td>0.158482</td>\n",
              "      <td>0.160714</td>\n",
              "      <td>0.156808</td>\n",
              "      <td>0.152344</td>\n",
              "      <td>0.154018</td>\n",
              "      <td>0.150670</td>\n",
              "      <td>0.143973</td>\n",
              "      <td>0.0</td>\n",
              "    </tr>\n",
              "    <tr>\n",
              "      <th>1</th>\n",
              "      <td>0.121652</td>\n",
              "      <td>0.112723</td>\n",
              "      <td>0.115513</td>\n",
              "      <td>0.118862</td>\n",
              "      <td>0.126116</td>\n",
              "      <td>0.132254</td>\n",
              "      <td>0.137835</td>\n",
              "      <td>0.145089</td>\n",
              "      <td>0.158482</td>\n",
              "      <td>0.160714</td>\n",
              "      <td>0.156808</td>\n",
              "      <td>0.152344</td>\n",
              "      <td>0.154018</td>\n",
              "      <td>0.150670</td>\n",
              "      <td>0.143973</td>\n",
              "      <td>0.137835</td>\n",
              "      <td>0.0</td>\n",
              "    </tr>\n",
              "    <tr>\n",
              "      <th>2</th>\n",
              "      <td>0.112723</td>\n",
              "      <td>0.115513</td>\n",
              "      <td>0.118862</td>\n",
              "      <td>0.126116</td>\n",
              "      <td>0.132254</td>\n",
              "      <td>0.137835</td>\n",
              "      <td>0.145089</td>\n",
              "      <td>0.158482</td>\n",
              "      <td>0.160714</td>\n",
              "      <td>0.156808</td>\n",
              "      <td>0.152344</td>\n",
              "      <td>0.154018</td>\n",
              "      <td>0.150670</td>\n",
              "      <td>0.143973</td>\n",
              "      <td>0.137835</td>\n",
              "      <td>0.135045</td>\n",
              "      <td>1.0</td>\n",
              "    </tr>\n",
              "    <tr>\n",
              "      <th>3</th>\n",
              "      <td>0.115513</td>\n",
              "      <td>0.118862</td>\n",
              "      <td>0.126116</td>\n",
              "      <td>0.132254</td>\n",
              "      <td>0.137835</td>\n",
              "      <td>0.145089</td>\n",
              "      <td>0.158482</td>\n",
              "      <td>0.160714</td>\n",
              "      <td>0.156808</td>\n",
              "      <td>0.152344</td>\n",
              "      <td>0.154018</td>\n",
              "      <td>0.150670</td>\n",
              "      <td>0.143973</td>\n",
              "      <td>0.137835</td>\n",
              "      <td>0.135045</td>\n",
              "      <td>0.142299</td>\n",
              "      <td>0.0</td>\n",
              "    </tr>\n",
              "    <tr>\n",
              "      <th>4</th>\n",
              "      <td>0.118862</td>\n",
              "      <td>0.126116</td>\n",
              "      <td>0.132254</td>\n",
              "      <td>0.137835</td>\n",
              "      <td>0.145089</td>\n",
              "      <td>0.158482</td>\n",
              "      <td>0.160714</td>\n",
              "      <td>0.156808</td>\n",
              "      <td>0.152344</td>\n",
              "      <td>0.154018</td>\n",
              "      <td>0.150670</td>\n",
              "      <td>0.143973</td>\n",
              "      <td>0.137835</td>\n",
              "      <td>0.135045</td>\n",
              "      <td>0.142299</td>\n",
              "      <td>0.141183</td>\n",
              "      <td>0.0</td>\n",
              "    </tr>\n",
              "    <tr>\n",
              "      <th>...</th>\n",
              "      <td>...</td>\n",
              "      <td>...</td>\n",
              "      <td>...</td>\n",
              "      <td>...</td>\n",
              "      <td>...</td>\n",
              "      <td>...</td>\n",
              "      <td>...</td>\n",
              "      <td>...</td>\n",
              "      <td>...</td>\n",
              "      <td>...</td>\n",
              "      <td>...</td>\n",
              "      <td>...</td>\n",
              "      <td>...</td>\n",
              "      <td>...</td>\n",
              "      <td>...</td>\n",
              "      <td>...</td>\n",
              "      <td>...</td>\n",
              "    </tr>\n",
              "    <tr>\n",
              "      <th>10399</th>\n",
              "      <td>154.729996</td>\n",
              "      <td>150.619995</td>\n",
              "      <td>155.089996</td>\n",
              "      <td>159.589996</td>\n",
              "      <td>160.619995</td>\n",
              "      <td>163.979996</td>\n",
              "      <td>165.380005</td>\n",
              "      <td>168.820007</td>\n",
              "      <td>170.210007</td>\n",
              "      <td>174.070007</td>\n",
              "      <td>174.720001</td>\n",
              "      <td>175.600006</td>\n",
              "      <td>178.960007</td>\n",
              "      <td>177.770004</td>\n",
              "      <td>174.610001</td>\n",
              "      <td>174.309998</td>\n",
              "      <td>1.0</td>\n",
              "    </tr>\n",
              "    <tr>\n",
              "      <th>10400</th>\n",
              "      <td>150.619995</td>\n",
              "      <td>155.089996</td>\n",
              "      <td>159.589996</td>\n",
              "      <td>160.619995</td>\n",
              "      <td>163.979996</td>\n",
              "      <td>165.380005</td>\n",
              "      <td>168.820007</td>\n",
              "      <td>170.210007</td>\n",
              "      <td>174.070007</td>\n",
              "      <td>174.720001</td>\n",
              "      <td>175.600006</td>\n",
              "      <td>178.960007</td>\n",
              "      <td>177.770004</td>\n",
              "      <td>174.610001</td>\n",
              "      <td>174.309998</td>\n",
              "      <td>178.440002</td>\n",
              "      <td>0.0</td>\n",
              "    </tr>\n",
              "    <tr>\n",
              "      <th>10401</th>\n",
              "      <td>155.089996</td>\n",
              "      <td>159.589996</td>\n",
              "      <td>160.619995</td>\n",
              "      <td>163.979996</td>\n",
              "      <td>165.380005</td>\n",
              "      <td>168.820007</td>\n",
              "      <td>170.210007</td>\n",
              "      <td>174.070007</td>\n",
              "      <td>174.720001</td>\n",
              "      <td>175.600006</td>\n",
              "      <td>178.960007</td>\n",
              "      <td>177.770004</td>\n",
              "      <td>174.610001</td>\n",
              "      <td>174.309998</td>\n",
              "      <td>178.440002</td>\n",
              "      <td>175.059998</td>\n",
              "      <td>0.0</td>\n",
              "    </tr>\n",
              "    <tr>\n",
              "      <th>10402</th>\n",
              "      <td>159.589996</td>\n",
              "      <td>160.619995</td>\n",
              "      <td>163.979996</td>\n",
              "      <td>165.380005</td>\n",
              "      <td>168.820007</td>\n",
              "      <td>170.210007</td>\n",
              "      <td>174.070007</td>\n",
              "      <td>174.720001</td>\n",
              "      <td>175.600006</td>\n",
              "      <td>178.960007</td>\n",
              "      <td>177.770004</td>\n",
              "      <td>174.610001</td>\n",
              "      <td>174.309998</td>\n",
              "      <td>178.440002</td>\n",
              "      <td>175.059998</td>\n",
              "      <td>171.830002</td>\n",
              "      <td>1.0</td>\n",
              "    </tr>\n",
              "    <tr>\n",
              "      <th>10403</th>\n",
              "      <td>160.619995</td>\n",
              "      <td>163.979996</td>\n",
              "      <td>165.380005</td>\n",
              "      <td>168.820007</td>\n",
              "      <td>170.210007</td>\n",
              "      <td>174.070007</td>\n",
              "      <td>174.720001</td>\n",
              "      <td>175.600006</td>\n",
              "      <td>178.960007</td>\n",
              "      <td>177.770004</td>\n",
              "      <td>174.610001</td>\n",
              "      <td>174.309998</td>\n",
              "      <td>178.440002</td>\n",
              "      <td>175.059998</td>\n",
              "      <td>171.830002</td>\n",
              "      <td>172.139999</td>\n",
              "      <td>0.0</td>\n",
              "    </tr>\n",
              "  </tbody>\n",
              "</table>\n",
              "<p>10404 rows × 17 columns</p>\n",
              "</div>\n",
              "      <button class=\"colab-df-convert\" onclick=\"convertToInteractive('df-3a8298fd-25a9-4dba-89c3-5e14acf5cf97')\"\n",
              "              title=\"Convert this dataframe to an interactive table.\"\n",
              "              style=\"display:none;\">\n",
              "        \n",
              "  <svg xmlns=\"http://www.w3.org/2000/svg\" height=\"24px\"viewBox=\"0 0 24 24\"\n",
              "       width=\"24px\">\n",
              "    <path d=\"M0 0h24v24H0V0z\" fill=\"none\"/>\n",
              "    <path d=\"M18.56 5.44l.94 2.06.94-2.06 2.06-.94-2.06-.94-.94-2.06-.94 2.06-2.06.94zm-11 1L8.5 8.5l.94-2.06 2.06-.94-2.06-.94L8.5 2.5l-.94 2.06-2.06.94zm10 10l.94 2.06.94-2.06 2.06-.94-2.06-.94-.94-2.06-.94 2.06-2.06.94z\"/><path d=\"M17.41 7.96l-1.37-1.37c-.4-.4-.92-.59-1.43-.59-.52 0-1.04.2-1.43.59L10.3 9.45l-7.72 7.72c-.78.78-.78 2.05 0 2.83L4 21.41c.39.39.9.59 1.41.59.51 0 1.02-.2 1.41-.59l7.78-7.78 2.81-2.81c.8-.78.8-2.07 0-2.86zM5.41 20L4 18.59l7.72-7.72 1.47 1.35L5.41 20z\"/>\n",
              "  </svg>\n",
              "      </button>\n",
              "      \n",
              "  <style>\n",
              "    .colab-df-container {\n",
              "      display:flex;\n",
              "      flex-wrap:wrap;\n",
              "      gap: 12px;\n",
              "    }\n",
              "\n",
              "    .colab-df-convert {\n",
              "      background-color: #E8F0FE;\n",
              "      border: none;\n",
              "      border-radius: 50%;\n",
              "      cursor: pointer;\n",
              "      display: none;\n",
              "      fill: #1967D2;\n",
              "      height: 32px;\n",
              "      padding: 0 0 0 0;\n",
              "      width: 32px;\n",
              "    }\n",
              "\n",
              "    .colab-df-convert:hover {\n",
              "      background-color: #E2EBFA;\n",
              "      box-shadow: 0px 1px 2px rgba(60, 64, 67, 0.3), 0px 1px 3px 1px rgba(60, 64, 67, 0.15);\n",
              "      fill: #174EA6;\n",
              "    }\n",
              "\n",
              "    [theme=dark] .colab-df-convert {\n",
              "      background-color: #3B4455;\n",
              "      fill: #D2E3FC;\n",
              "    }\n",
              "\n",
              "    [theme=dark] .colab-df-convert:hover {\n",
              "      background-color: #434B5C;\n",
              "      box-shadow: 0px 1px 3px 1px rgba(0, 0, 0, 0.15);\n",
              "      filter: drop-shadow(0px 1px 2px rgba(0, 0, 0, 0.3));\n",
              "      fill: #FFFFFF;\n",
              "    }\n",
              "  </style>\n",
              "\n",
              "      <script>\n",
              "        const buttonEl =\n",
              "          document.querySelector('#df-3a8298fd-25a9-4dba-89c3-5e14acf5cf97 button.colab-df-convert');\n",
              "        buttonEl.style.display =\n",
              "          google.colab.kernel.accessAllowed ? 'block' : 'none';\n",
              "\n",
              "        async function convertToInteractive(key) {\n",
              "          const element = document.querySelector('#df-3a8298fd-25a9-4dba-89c3-5e14acf5cf97');\n",
              "          const dataTable =\n",
              "            await google.colab.kernel.invokeFunction('convertToInteractive',\n",
              "                                                     [key], {});\n",
              "          if (!dataTable) return;\n",
              "\n",
              "          const docLinkHtml = 'Like what you see? Visit the ' +\n",
              "            '<a target=\"_blank\" href=https://colab.research.google.com/notebooks/data_table.ipynb>data table notebook</a>'\n",
              "            + ' to learn more about interactive tables.';\n",
              "          element.innerHTML = '';\n",
              "          dataTable['output_type'] = 'display_data';\n",
              "          await google.colab.output.renderOutput(dataTable, element);\n",
              "          const docLink = document.createElement('div');\n",
              "          docLink.innerHTML = docLinkHtml;\n",
              "          element.appendChild(docLink);\n",
              "        }\n",
              "      </script>\n",
              "    </div>\n",
              "  </div>\n",
              "  "
            ]
          },
          "metadata": {},
          "execution_count": 212
        }
      ]
    },
    {
      "cell_type": "code",
      "source": [
        "data = data.dropna()"
      ],
      "metadata": {
        "id": "46M8IzrdKgf8"
      },
      "execution_count": 213,
      "outputs": []
    },
    {
      "cell_type": "code",
      "source": [
        "X = data.drop(\"result\",axis=1)\n",
        "xTrain, xTest, yTrain, yTest = train_test_split(X, data[\"result\"], test_size=0.1,random_state=11)\n",
        "\n",
        "print(xTrain.shape)\n",
        "print(yTrain.shape)\n",
        "\n",
        "print(xTest.shape)\n",
        "print(yTest.shape)\n"
      ],
      "metadata": {
        "colab": {
          "base_uri": "https://localhost:8080/"
        },
        "id": "S1J0OHRSzeW8",
        "outputId": "3e74be31-77b8-4cf2-c1e9-ebb100def47e"
      },
      "execution_count": 214,
      "outputs": [
        {
          "output_type": "stream",
          "name": "stdout",
          "text": [
            "(9363, 16)\n",
            "(9363,)\n",
            "(1041, 16)\n",
            "(1041,)\n"
          ]
        }
      ]
    },
    {
      "cell_type": "code",
      "source": [
        "clf = RandomForestClassifier(n_estimators=100)\n",
        "clf.fit(xTrain,yTrain)\n",
        "clf.score(xTest,yTest)"
      ],
      "metadata": {
        "colab": {
          "base_uri": "https://localhost:8080/"
        },
        "id": "JgRefOUSp70m",
        "outputId": "3016fbd4-2be5-4bfc-b261-73d7a1863f0e"
      },
      "execution_count": 215,
      "outputs": [
        {
          "output_type": "execute_result",
          "data": {
            "text/plain": [
              "0.5360230547550432"
            ]
          },
          "metadata": {},
          "execution_count": 215
        }
      ]
    },
    {
      "cell_type": "code",
      "source": [
        "logisticRegr = LogisticRegression()\n",
        "logisticRegr.fit(xTrain, yTrain)\n",
        "logisticRegr.score(xTest, yTest)"
      ],
      "metadata": {
        "colab": {
          "base_uri": "https://localhost:8080/"
        },
        "id": "0xE04oaprnAX",
        "outputId": "98fca549-a738-491c-9aba-01a867f06f51"
      },
      "execution_count": 216,
      "outputs": [
        {
          "output_type": "stream",
          "name": "stderr",
          "text": [
            "/usr/local/lib/python3.7/dist-packages/sklearn/linear_model/_logistic.py:818: ConvergenceWarning: lbfgs failed to converge (status=1):\n",
            "STOP: TOTAL NO. of ITERATIONS REACHED LIMIT.\n",
            "\n",
            "Increase the number of iterations (max_iter) or scale the data as shown in:\n",
            "    https://scikit-learn.org/stable/modules/preprocessing.html\n",
            "Please also refer to the documentation for alternative solver options:\n",
            "    https://scikit-learn.org/stable/modules/linear_model.html#logistic-regression\n",
            "  extra_warning_msg=_LOGISTIC_SOLVER_CONVERGENCE_MSG,\n"
          ]
        },
        {
          "output_type": "execute_result",
          "data": {
            "text/plain": [
              "0.5206532180595581"
            ]
          },
          "metadata": {},
          "execution_count": 216
        }
      ]
    },
    {
      "cell_type": "code",
      "source": [
        "svm = SVC()\n",
        "svm.fit(xTrain,yTrain)\n",
        "svm.score(xTest,yTest)"
      ],
      "metadata": {
        "colab": {
          "base_uri": "https://localhost:8080/"
        },
        "id": "D2pfGHIbPlOk",
        "outputId": "16b199cf-7484-4097-da8a-16836449299d"
      },
      "execution_count": 217,
      "outputs": [
        {
          "output_type": "execute_result",
          "data": {
            "text/plain": [
              "0.5446685878962536"
            ]
          },
          "metadata": {},
          "execution_count": 217
        }
      ]
    },
    {
      "cell_type": "code",
      "source": [
        "from sklearn.neighbors import NearestCentroid\n",
        "nc = NearestCentroid()\n",
        "nc.fit(xTrain,yTrain)\n",
        "nc.score(xTest,yTest)"
      ],
      "metadata": {
        "colab": {
          "base_uri": "https://localhost:8080/"
        },
        "id": "BVtW0X40PHx3",
        "outputId": "b1b08d61-75e3-49be-f7cf-0292253dfb98"
      },
      "execution_count": 218,
      "outputs": [
        {
          "output_type": "execute_result",
          "data": {
            "text/plain": [
              "0.5302593659942363"
            ]
          },
          "metadata": {},
          "execution_count": 218
        }
      ]
    },
    {
      "cell_type": "code",
      "source": [
        "from sklearn.naive_bayes import GaussianNB\n",
        "gnb = GaussianNB()\n",
        "gnb.fit(xTrain, yTrain).score(xTest,yTest)"
      ],
      "metadata": {
        "colab": {
          "base_uri": "https://localhost:8080/"
        },
        "id": "qwExbeX5ReEj",
        "outputId": "6d484eb7-e211-476c-ccbf-13f2f15016a7"
      },
      "execution_count": 219,
      "outputs": [
        {
          "output_type": "execute_result",
          "data": {
            "text/plain": [
              "0.5244956772334294"
            ]
          },
          "metadata": {},
          "execution_count": 219
        }
      ]
    },
    {
      "cell_type": "code",
      "source": [
        "from sklearn import tree\n",
        "tree = tree.DecisionTreeClassifier()\n",
        "tree.fit(xTrain, yTrain)\n",
        "tree.score(xTest,yTest)"
      ],
      "metadata": {
        "colab": {
          "base_uri": "https://localhost:8080/"
        },
        "id": "J7dQTjK7Rwf9",
        "outputId": "4f9a0de3-4f57-4e92-d96a-6e373e788822"
      },
      "execution_count": 220,
      "outputs": [
        {
          "output_type": "execute_result",
          "data": {
            "text/plain": [
              "0.5225744476464937"
            ]
          },
          "metadata": {},
          "execution_count": 220
        }
      ]
    },
    {
      "cell_type": "code",
      "source": [
        "from sklearn.ensemble import GradientBoostingClassifier\n",
        "gb = GradientBoostingClassifier(n_estimators=100, learning_rate=1.0,\n",
        "   max_depth=1, random_state=0).fit(xTrain, yTrain)\n",
        "gb.score(xTest, yTest)"
      ],
      "metadata": {
        "colab": {
          "base_uri": "https://localhost:8080/"
        },
        "id": "iF9-IqlqSMAB",
        "outputId": "d378645a-7fd1-4f17-ba66-97c9f7edafed"
      },
      "execution_count": 221,
      "outputs": [
        {
          "output_type": "execute_result",
          "data": {
            "text/plain": [
              "0.5341018251681076"
            ]
          },
          "metadata": {},
          "execution_count": 221
        }
      ]
    },
    {
      "cell_type": "code",
      "source": [
        "from sklearn.neighbors import KNeighborsClassifier\n",
        "clf2 = KNeighborsClassifier(n_neighbors=7)\n",
        "clf2.fit(xTrain, yTrain)\n",
        "clf2.score(xTest,yTest)"
      ],
      "metadata": {
        "colab": {
          "base_uri": "https://localhost:8080/"
        },
        "id": "5IMIL4Z5SsyU",
        "outputId": "f3b38dee-5997-4af7-f3f9-5fa2e687f256"
      },
      "execution_count": 222,
      "outputs": [
        {
          "output_type": "execute_result",
          "data": {
            "text/plain": [
              "0.49279538904899134"
            ]
          },
          "metadata": {},
          "execution_count": 222
        }
      ]
    },
    {
      "cell_type": "code",
      "source": [
        "model = Sequential()\n",
        "model.add(Dense(64, activation='relu', kernel_initializer='he_normal', input_shape=(16,)))\n",
        "model.add(Dropout(0.2))\n",
        "model.add(Dense(64, activation='relu', kernel_initializer='he_normal'))\n",
        "model.add(Dropout(0.2))\n",
        "model.add(Dense(32, activation='relu', kernel_initializer='he_normal'))\n",
        "model.add(Dropout(0.2))\n",
        "model.add(Dense(1, activation='sigmoid'))\n",
        "\n",
        "model.compile(optimizer='adam', loss='binary_crossentropy',metrics=['accuracy'])\n",
        "\n",
        "model.summary()"
      ],
      "metadata": {
        "colab": {
          "base_uri": "https://localhost:8080/"
        },
        "id": "1rI1oRc9VRwO",
        "outputId": "5992a9ed-13f7-4ce3-e1e5-7cf655516528"
      },
      "execution_count": 223,
      "outputs": [
        {
          "output_type": "stream",
          "name": "stdout",
          "text": [
            "Model: \"sequential_15\"\n",
            "_________________________________________________________________\n",
            " Layer (type)                Output Shape              Param #   \n",
            "=================================================================\n",
            " dense_48 (Dense)            (None, 64)                1088      \n",
            "                                                                 \n",
            " dropout_36 (Dropout)        (None, 64)                0         \n",
            "                                                                 \n",
            " dense_49 (Dense)            (None, 64)                4160      \n",
            "                                                                 \n",
            " dropout_37 (Dropout)        (None, 64)                0         \n",
            "                                                                 \n",
            " dense_50 (Dense)            (None, 32)                2080      \n",
            "                                                                 \n",
            " dropout_38 (Dropout)        (None, 32)                0         \n",
            "                                                                 \n",
            " dense_51 (Dense)            (None, 1)                 33        \n",
            "                                                                 \n",
            "=================================================================\n",
            "Total params: 7,361\n",
            "Trainable params: 7,361\n",
            "Non-trainable params: 0\n",
            "_________________________________________________________________\n"
          ]
        }
      ]
    },
    {
      "cell_type": "code",
      "source": [
        "model.fit(xTrain,yTrain,epochs=15,batch_size=32,validation_data=(xTest,yTest))"
      ],
      "metadata": {
        "colab": {
          "base_uri": "https://localhost:8080/"
        },
        "id": "9h7BV3HrVags",
        "outputId": "e051b155-dcdc-4217-de39-4352a104ff40"
      },
      "execution_count": 224,
      "outputs": [
        {
          "output_type": "stream",
          "name": "stdout",
          "text": [
            "Epoch 1/15\n",
            "293/293 [==============================] - 4s 8ms/step - loss: 2.3522 - accuracy: 0.5057 - val_loss: 0.6978 - val_accuracy: 0.5120\n",
            "Epoch 2/15\n",
            "293/293 [==============================] - 2s 6ms/step - loss: 0.8565 - accuracy: 0.5083 - val_loss: 0.6930 - val_accuracy: 0.5120\n",
            "Epoch 3/15\n",
            "293/293 [==============================] - 2s 7ms/step - loss: 0.7434 - accuracy: 0.5087 - val_loss: 0.6930 - val_accuracy: 0.5120\n",
            "Epoch 4/15\n",
            "293/293 [==============================] - 1s 4ms/step - loss: 0.7023 - accuracy: 0.5052 - val_loss: 0.6930 - val_accuracy: 0.5120\n",
            "Epoch 5/15\n",
            "293/293 [==============================] - 2s 5ms/step - loss: 0.7063 - accuracy: 0.5081 - val_loss: 0.6930 - val_accuracy: 0.5120\n",
            "Epoch 6/15\n",
            "293/293 [==============================] - 2s 6ms/step - loss: 0.7001 - accuracy: 0.5065 - val_loss: 0.6929 - val_accuracy: 0.5120\n",
            "Epoch 7/15\n",
            "293/293 [==============================] - 1s 4ms/step - loss: 0.6988 - accuracy: 0.5081 - val_loss: 0.6929 - val_accuracy: 0.5120\n",
            "Epoch 8/15\n",
            "293/293 [==============================] - 1s 4ms/step - loss: 0.6970 - accuracy: 0.5037 - val_loss: 0.6929 - val_accuracy: 0.5120\n",
            "Epoch 9/15\n",
            "293/293 [==============================] - 2s 6ms/step - loss: 0.6962 - accuracy: 0.5042 - val_loss: 0.6929 - val_accuracy: 0.5120\n",
            "Epoch 10/15\n",
            "293/293 [==============================] - 2s 5ms/step - loss: 0.6942 - accuracy: 0.5033 - val_loss: 0.6930 - val_accuracy: 0.5120\n",
            "Epoch 11/15\n",
            "293/293 [==============================] - 2s 6ms/step - loss: 0.6936 - accuracy: 0.5084 - val_loss: 0.6929 - val_accuracy: 0.5120\n",
            "Epoch 12/15\n",
            "293/293 [==============================] - 1s 4ms/step - loss: 0.6934 - accuracy: 0.5033 - val_loss: 0.6930 - val_accuracy: 0.5120\n",
            "Epoch 13/15\n",
            "293/293 [==============================] - 2s 5ms/step - loss: 0.6944 - accuracy: 0.5056 - val_loss: 0.6930 - val_accuracy: 0.5120\n",
            "Epoch 14/15\n",
            "293/293 [==============================] - 2s 5ms/step - loss: 0.6939 - accuracy: 0.5030 - val_loss: 0.6930 - val_accuracy: 0.5120\n",
            "Epoch 15/15\n",
            "293/293 [==============================] - 1s 5ms/step - loss: 0.6951 - accuracy: 0.5053 - val_loss: 0.6930 - val_accuracy: 0.5120\n"
          ]
        },
        {
          "output_type": "execute_result",
          "data": {
            "text/plain": [
              "<keras.callbacks.History at 0x7f83ff909490>"
            ]
          },
          "metadata": {},
          "execution_count": 224
        }
      ]
    }
  ],
  "metadata": {
    "colab": {
      "name": "Serveral_Symbol_Model.ipynb",
      "provenance": [],
      "authorship_tag": "ABX9TyNDtCUibDq+3y+tqucal6uZ"
    },
    "kernelspec": {
      "display_name": "Python 3",
      "name": "python3"
    },
    "language_info": {
      "name": "python"
    }
  },
  "nbformat": 4,
  "nbformat_minor": 0
}