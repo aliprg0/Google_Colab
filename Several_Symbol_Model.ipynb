{
  "cells": [
    {
      "cell_type": "markdown",
      "metadata": {
        "id": "view-in-github",
        "colab_type": "text"
      },
      "source": [
        "<a href=\"https://colab.research.google.com/github/aliprg0/google_colab/blob/main/Several_Symbol_Model.ipynb\" target=\"_parent\"><img src=\"https://colab.research.google.com/assets/colab-badge.svg\" alt=\"Open In Colab\"/></a>"
      ]
    },
    {
      "cell_type": "code",
      "execution_count": 204,
      "metadata": {
        "colab": {
          "base_uri": "https://localhost:8080/"
        },
        "id": "_ygJ_wFxYm7M",
        "outputId": "03040f36-c73f-49d0-e2ba-cdb3ea1efd70"
      },
      "outputs": [
        {
          "output_type": "stream",
          "name": "stdout",
          "text": [
            "Requirement already satisfied: yfinance in /usr/local/lib/python3.7/dist-packages (0.1.70)\n",
            "Requirement already satisfied: lxml>=4.5.1 in /usr/local/lib/python3.7/dist-packages (from yfinance) (4.8.0)\n",
            "Requirement already satisfied: numpy>=1.15 in /usr/local/lib/python3.7/dist-packages (from yfinance) (1.21.5)\n",
            "Requirement already satisfied: multitasking>=0.0.7 in /usr/local/lib/python3.7/dist-packages (from yfinance) (0.0.10)\n",
            "Requirement already satisfied: requests>=2.26 in /usr/local/lib/python3.7/dist-packages (from yfinance) (2.27.1)\n",
            "Requirement already satisfied: pandas>=0.24.0 in /usr/local/lib/python3.7/dist-packages (from yfinance) (1.3.5)\n",
            "Requirement already satisfied: pytz>=2017.3 in /usr/local/lib/python3.7/dist-packages (from pandas>=0.24.0->yfinance) (2018.9)\n",
            "Requirement already satisfied: python-dateutil>=2.7.3 in /usr/local/lib/python3.7/dist-packages (from pandas>=0.24.0->yfinance) (2.8.2)\n",
            "Requirement already satisfied: six>=1.5 in /usr/local/lib/python3.7/dist-packages (from python-dateutil>=2.7.3->pandas>=0.24.0->yfinance) (1.15.0)\n",
            "Requirement already satisfied: charset-normalizer~=2.0.0 in /usr/local/lib/python3.7/dist-packages (from requests>=2.26->yfinance) (2.0.12)\n",
            "Requirement already satisfied: idna<4,>=2.5 in /usr/local/lib/python3.7/dist-packages (from requests>=2.26->yfinance) (2.10)\n",
            "Requirement already satisfied: urllib3<1.27,>=1.21.1 in /usr/local/lib/python3.7/dist-packages (from requests>=2.26->yfinance) (1.24.3)\n",
            "Requirement already satisfied: certifi>=2017.4.17 in /usr/local/lib/python3.7/dist-packages (from requests>=2.26->yfinance) (2021.10.8)\n"
          ]
        }
      ],
      "source": [
        "!pip install yfinance\n",
        "import yfinance as yf   \n",
        "import pandas as pd\n",
        "import numpy as np"
      ]
    },
    {
      "cell_type": "code",
      "source": [
        "from tensorflow.keras import Sequential\n",
        "from tensorflow.keras.layers import Dense,LSTM\n",
        "from tensorflow.keras.layers import Dropout\n",
        "from sklearn.linear_model import LogisticRegression\n",
        "from sklearn.ensemble import RandomForestClassifier\n",
        "from sklearn.model_selection import train_test_split\n",
        "from sklearn.preprocessing import MinMaxScaler\n",
        "from sklearn.svm import SVC\n"
      ],
      "metadata": {
        "id": "_5bxbCoe9do9"
      },
      "execution_count": 205,
      "outputs": []
    },
    {
      "cell_type": "code",
      "execution_count": 206,
      "metadata": {
        "colab": {
          "base_uri": "https://localhost:8080/"
        },
        "id": "kn3S59KUYp6P",
        "outputId": "8b7dee37-5255-4283-9211-4d52b3843fe4"
      },
      "outputs": [
        {
          "output_type": "stream",
          "name": "stdout",
          "text": [
            "\r[*********************100%***********************]  1 of 1 completed\n"
          ]
        }
      ],
      "source": [
        "#symbols = [\"MSFT\",\"AAPL\",\"GOOG\",\"TSLA\",\"BTC-USD\",\"LTC-USD\",\"TRX-USD\",\"GGPI\",\"BIM\",\"AI\",\"AMZN\"]\n",
        "#symbols = [\"BTC-USD\",\"LTC-USD\",\"TRX-USD\",\"XRP-USD\",\"ETH-USD\",\"BNB-USD\",\"DASH-USD\",\"VET-USD\",\"LINK-USD\",\"ADA-USD\",\"DOT-USD\"]\n",
        "symbols = [\"AAPL\"]\n",
        "\n",
        "dfs = []\n",
        "for i in symbols:\n",
        "   data = yf.download(i,period=\"MAX\",interval=\"1d\")\n",
        "   dfs.append(data)\n"
      ]
    },
    {
      "cell_type": "code",
      "source": [
        "for df in dfs:\n",
        "  print(df.isnull().sum(),end=\" \")\n",
        "  print(df.shape)\n",
        "  "
      ],
      "metadata": {
        "colab": {
          "base_uri": "https://localhost:8080/"
        },
        "id": "lIp18gMO_wfb",
        "outputId": "41fcf179-6282-49b3-b2b9-633d935857cc"
      },
      "execution_count": 207,
      "outputs": [
        {
          "output_type": "stream",
          "name": "stdout",
          "text": [
            "Open         0\n",
            "High         0\n",
            "Low          0\n",
            "Close        0\n",
            "Adj Close    0\n",
            "Volume       0\n",
            "dtype: int64 (10420, 6)\n"
          ]
        }
      ]
    },
    {
      "cell_type": "code",
      "source": [
        "print(dfs[0])"
      ],
      "metadata": {
        "colab": {
          "base_uri": "https://localhost:8080/"
        },
        "id": "vqqN0Lvk0Ed5",
        "outputId": "29579c37-c50d-4ae3-cb14-bfd2fbadb854"
      },
      "execution_count": 208,
      "outputs": [
        {
          "output_type": "stream",
          "name": "stdout",
          "text": [
            "                  Open        High         Low       Close   Adj Close  \\\n",
            "Date                                                                     \n",
            "1980-12-12    0.128348    0.128906    0.128348    0.128348    0.100323   \n",
            "1980-12-15    0.122210    0.122210    0.121652    0.121652    0.095089   \n",
            "1980-12-16    0.113281    0.113281    0.112723    0.112723    0.088110   \n",
            "1980-12-17    0.115513    0.116071    0.115513    0.115513    0.090291   \n",
            "1980-12-18    0.118862    0.119420    0.118862    0.118862    0.092908   \n",
            "...                ...         ...         ...         ...         ...   \n",
            "2022-04-04  174.570007  178.490005  174.440002  178.440002  178.440002   \n",
            "2022-04-05  177.500000  178.300003  174.419998  175.059998  175.059998   \n",
            "2022-04-06  172.360001  173.630005  170.130005  171.830002  171.830002   \n",
            "2022-04-07  171.160004  173.360001  169.850006  172.139999  172.139999   \n",
            "2022-04-08  171.779999  171.767197  169.220001  171.250000  171.250000   \n",
            "\n",
            "               Volume  \n",
            "Date                   \n",
            "1980-12-12  469033600  \n",
            "1980-12-15  175884800  \n",
            "1980-12-16  105728000  \n",
            "1980-12-17   86441600  \n",
            "1980-12-18   73449600  \n",
            "...               ...  \n",
            "2022-04-04   76468400  \n",
            "2022-04-05   73401800  \n",
            "2022-04-06   89058800  \n",
            "2022-04-07   77517700  \n",
            "2022-04-08   34837583  \n",
            "\n",
            "[10420 rows x 6 columns]\n"
          ]
        }
      ]
    },
    {
      "cell_type": "code",
      "source": [
        "\n"
      ],
      "metadata": {
        "id": "lu37GD6G0r4Z"
      },
      "execution_count": 208,
      "outputs": []
    },
    {
      "cell_type": "code",
      "source": [
        "fixed_dfs = []\n",
        "for df in dfs:\n",
        "    full = []\n",
        "    df = np.array(df)\n",
        "    for i in range(15, df.shape[0]-1):\n",
        "        fifteen_days_ago = i-15\n",
        "        fourteen_days_ago = i-14\n",
        "        thirteen_days_ago = i-13\n",
        "        twelve_days_ago = i-12\n",
        "        eleven_days_ago = i-11\n",
        "        ten_days_ago = i-10\n",
        "        nine_days_ago = i-9\n",
        "        eight_days_ago = i-8\n",
        "        seven_days_ago = i-7\n",
        "        six_days_ago = i-6\n",
        "        five_days_ago = i-5\n",
        "        four_days_ago = i-4\n",
        "        three_days_ago = i-3\n",
        "        two_days_ago = i - 2\n",
        "        yesterday = i - 1\n",
        "        today = i\n",
        "        tomorrow = i + 1\n",
        "        if df[tomorrow][3] > df[today][3]:\n",
        "            future = 1\n",
        "        else:\n",
        "            future = 0\n",
        "\n",
        "\n",
        "        new_lst = [df[fifteen_days_ago][3],df[fourteen_days_ago][3],df[thirteen_days_ago][3],df[twelve_days_ago][3],df[eleven_days_ago][3],\n",
        "                   df[ten_days_ago][3], df[nine_days_ago][3], df[eight_days_ago][3], df[seven_days_ago][3], df[six_days_ago][3],\n",
        "                   df[five_days_ago][3], df[four_days_ago][3], df[three_days_ago][3], df[two_days_ago][3], df[yesterday][3],\n",
        "                   df[today][3], future]\n",
        "\n",
        "        full.append(new_lst)\n",
        "\n",
        "\n",
        "    fuu = np.array([full])\n",
        "    lst = []\n",
        "    for i in range(0, fuu.shape[1]):\n",
        "        lst.append(fuu[0][i])\n",
        "    \n",
        "    mm = np.array(lst)\n",
        "\n",
        "\n",
        "    column_names = [\"fifteen_days_ago\",\"fourteen_days_ago\",\"thirteen_days_ago\",\"twelve_days_ago\",\"eleven_days_ago\",\n",
        "                      \"ten_days_ago\", \"nine_days_ago\", \"eight_days_ago\", \"seven_days_ago\", \"six_days_ago\",\n",
        "                       \"five_days_ago\", \"four_days_ago\", \"three_days_ago\", \"two_days_ago\", \"yesterday\", \n",
        "                        \"today\", \"result\"]\n",
        "    \n",
        "    cnwr = [\"fifteen_days_ago\",\"fourteen_days_ago\",\"thirteen_days_ago\",\"twelve_days_ago\",\"eleven_days_ago\",\n",
        "                      \"ten_days_ago\", \"nine_days_ago\", \"eight_days_ago\", \"seven_days_ago\", \"six_days_ago\",\n",
        "                       \"five_days_ago\", \"four_days_ago\", \"three_days_ago\", \"two_days_ago\", \"yesterday\", \n",
        "                        \"today\"]\n",
        "    dff = pd.DataFrame(mm, columns=column_names)\n",
        "    \n",
        "    for column in cnwr:\n",
        "      mms = MinMaxScaler()\n",
        "      ll = np.array(dff[column])\n",
        "      ll = np.reshape(ll,[-1,1])\n",
        "\n",
        "      bn = mms.fit_transform(ll)\n",
        "\n",
        "      dff[column] = bn\n",
        "\n",
        "    fixed_dfs.append(dff)\n",
        "\n"
      ],
      "metadata": {
        "id": "IB_YMoe09qVP"
      },
      "execution_count": 228,
      "outputs": []
    },
    {
      "cell_type": "code",
      "source": [
        "for i in fixed_dfs:\n",
        "  print(i.shape)"
      ],
      "metadata": {
        "colab": {
          "base_uri": "https://localhost:8080/"
        },
        "id": "G2c_JcjfCzaT",
        "outputId": "648b1951-00f5-4569-ed20-4ee718e7bab8"
      },
      "execution_count": 229,
      "outputs": [
        {
          "output_type": "stream",
          "name": "stdout",
          "text": [
            "(10404, 17)\n"
          ]
        }
      ]
    },
    {
      "cell_type": "code",
      "source": [
        "data = fixed_dfs[0]\n",
        "for i in range(1,len(symbols)):\n",
        "  data = pd.concat([data,fixed_dfs[i]], ignore_index = True)"
      ],
      "metadata": {
        "id": "_aYjMIfT6y6u"
      },
      "execution_count": 230,
      "outputs": []
    },
    {
      "cell_type": "code",
      "source": [
        "data"
      ],
      "metadata": {
        "colab": {
          "base_uri": "https://localhost:8080/",
          "height": 467
        },
        "id": "ORjxJp0tEWil",
        "outputId": "1671013b-e6a2-4420-f9a3-ef634f15ffe5"
      },
      "execution_count": 231,
      "outputs": [
        {
          "output_type": "execute_result",
          "data": {
            "text/plain": [
              "       fifteen_days_ago  fourteen_days_ago  thirteen_days_ago  \\\n",
              "0              0.000435           0.000399           0.000350   \n",
              "1              0.000399           0.000350           0.000365   \n",
              "2              0.000350           0.000365           0.000383   \n",
              "3              0.000365           0.000383           0.000423   \n",
              "4              0.000383           0.000423           0.000457   \n",
              "...                 ...                ...                ...   \n",
              "10399          0.850078           0.827490           0.852056   \n",
              "10400          0.827490           0.852056           0.876787   \n",
              "10401          0.852056           0.876787           0.882447   \n",
              "10402          0.876787           0.882447           0.900913   \n",
              "10403          0.882447           0.900913           0.908607   \n",
              "\n",
              "       twelve_days_ago  eleven_days_ago  ten_days_ago  nine_days_ago  \\\n",
              "0             0.000365         0.000383      0.000423       0.000457   \n",
              "1             0.000383         0.000423      0.000457       0.000488   \n",
              "2             0.000423         0.000457      0.000488       0.000527   \n",
              "3             0.000457         0.000488      0.000527       0.000601   \n",
              "4             0.000488         0.000527      0.000601       0.000613   \n",
              "...                ...              ...           ...            ...   \n",
              "10399         0.876787         0.882447      0.900913       0.908607   \n",
              "10400         0.882447         0.900913      0.908607       0.927512   \n",
              "10401         0.900913         0.908607      0.927512       0.935151   \n",
              "10402         0.908607         0.927512      0.935151       0.956364   \n",
              "10403         0.927512         0.935151      0.956364       0.959936   \n",
              "\n",
              "       eight_days_ago  seven_days_ago  six_days_ago  five_days_ago  \\\n",
              "0            0.000488        0.000527      0.000601       0.000613   \n",
              "1            0.000527        0.000601      0.000613       0.000592   \n",
              "2            0.000601        0.000613      0.000592       0.000567   \n",
              "3            0.000613        0.000592      0.000567       0.000577   \n",
              "4            0.000592        0.000567      0.000577       0.000558   \n",
              "...               ...             ...           ...            ...   \n",
              "10399        0.927512        0.935151      0.956364       0.959936   \n",
              "10400        0.935151        0.956364      0.959936       0.964773   \n",
              "10401        0.956364        0.959936      0.964773       0.983238   \n",
              "10402        0.959936        0.964773      0.983238       0.976698   \n",
              "10403        0.964773        0.983238      0.976698       0.959332   \n",
              "\n",
              "       four_days_ago  three_days_ago  two_days_ago  yesterday     today  \\\n",
              "0           0.000592        0.000567      0.000577   0.000558  0.000521   \n",
              "1           0.000567        0.000577      0.000558   0.000521  0.000488   \n",
              "2           0.000577        0.000558      0.000521   0.000488  0.000472   \n",
              "3           0.000558        0.000521      0.000488   0.000472  0.000512   \n",
              "4           0.000521        0.000488      0.000472   0.000512  0.000506   \n",
              "...              ...             ...           ...        ...       ...   \n",
              "10399       0.964773        0.983238      0.976698   0.959332  0.957683   \n",
              "10400       0.983238        0.976698      0.959332   0.957683  0.980380   \n",
              "10401       0.976698        0.959332      0.957683   0.980380  0.961805   \n",
              "10402       0.959332        0.957683      0.980380   0.961805  0.944054   \n",
              "10403       0.957683        0.980380      0.961805   0.944054  0.945758   \n",
              "\n",
              "       result  \n",
              "0         0.0  \n",
              "1         0.0  \n",
              "2         1.0  \n",
              "3         0.0  \n",
              "4         0.0  \n",
              "...       ...  \n",
              "10399     1.0  \n",
              "10400     0.0  \n",
              "10401     0.0  \n",
              "10402     1.0  \n",
              "10403     0.0  \n",
              "\n",
              "[10404 rows x 17 columns]"
            ],
            "text/html": [
              "\n",
              "  <div id=\"df-72f23a80-e60b-4658-aa9f-8235910eab2c\">\n",
              "    <div class=\"colab-df-container\">\n",
              "      <div>\n",
              "<style scoped>\n",
              "    .dataframe tbody tr th:only-of-type {\n",
              "        vertical-align: middle;\n",
              "    }\n",
              "\n",
              "    .dataframe tbody tr th {\n",
              "        vertical-align: top;\n",
              "    }\n",
              "\n",
              "    .dataframe thead th {\n",
              "        text-align: right;\n",
              "    }\n",
              "</style>\n",
              "<table border=\"1\" class=\"dataframe\">\n",
              "  <thead>\n",
              "    <tr style=\"text-align: right;\">\n",
              "      <th></th>\n",
              "      <th>fifteen_days_ago</th>\n",
              "      <th>fourteen_days_ago</th>\n",
              "      <th>thirteen_days_ago</th>\n",
              "      <th>twelve_days_ago</th>\n",
              "      <th>eleven_days_ago</th>\n",
              "      <th>ten_days_ago</th>\n",
              "      <th>nine_days_ago</th>\n",
              "      <th>eight_days_ago</th>\n",
              "      <th>seven_days_ago</th>\n",
              "      <th>six_days_ago</th>\n",
              "      <th>five_days_ago</th>\n",
              "      <th>four_days_ago</th>\n",
              "      <th>three_days_ago</th>\n",
              "      <th>two_days_ago</th>\n",
              "      <th>yesterday</th>\n",
              "      <th>today</th>\n",
              "      <th>result</th>\n",
              "    </tr>\n",
              "  </thead>\n",
              "  <tbody>\n",
              "    <tr>\n",
              "      <th>0</th>\n",
              "      <td>0.000435</td>\n",
              "      <td>0.000399</td>\n",
              "      <td>0.000350</td>\n",
              "      <td>0.000365</td>\n",
              "      <td>0.000383</td>\n",
              "      <td>0.000423</td>\n",
              "      <td>0.000457</td>\n",
              "      <td>0.000488</td>\n",
              "      <td>0.000527</td>\n",
              "      <td>0.000601</td>\n",
              "      <td>0.000613</td>\n",
              "      <td>0.000592</td>\n",
              "      <td>0.000567</td>\n",
              "      <td>0.000577</td>\n",
              "      <td>0.000558</td>\n",
              "      <td>0.000521</td>\n",
              "      <td>0.0</td>\n",
              "    </tr>\n",
              "    <tr>\n",
              "      <th>1</th>\n",
              "      <td>0.000399</td>\n",
              "      <td>0.000350</td>\n",
              "      <td>0.000365</td>\n",
              "      <td>0.000383</td>\n",
              "      <td>0.000423</td>\n",
              "      <td>0.000457</td>\n",
              "      <td>0.000488</td>\n",
              "      <td>0.000527</td>\n",
              "      <td>0.000601</td>\n",
              "      <td>0.000613</td>\n",
              "      <td>0.000592</td>\n",
              "      <td>0.000567</td>\n",
              "      <td>0.000577</td>\n",
              "      <td>0.000558</td>\n",
              "      <td>0.000521</td>\n",
              "      <td>0.000488</td>\n",
              "      <td>0.0</td>\n",
              "    </tr>\n",
              "    <tr>\n",
              "      <th>2</th>\n",
              "      <td>0.000350</td>\n",
              "      <td>0.000365</td>\n",
              "      <td>0.000383</td>\n",
              "      <td>0.000423</td>\n",
              "      <td>0.000457</td>\n",
              "      <td>0.000488</td>\n",
              "      <td>0.000527</td>\n",
              "      <td>0.000601</td>\n",
              "      <td>0.000613</td>\n",
              "      <td>0.000592</td>\n",
              "      <td>0.000567</td>\n",
              "      <td>0.000577</td>\n",
              "      <td>0.000558</td>\n",
              "      <td>0.000521</td>\n",
              "      <td>0.000488</td>\n",
              "      <td>0.000472</td>\n",
              "      <td>1.0</td>\n",
              "    </tr>\n",
              "    <tr>\n",
              "      <th>3</th>\n",
              "      <td>0.000365</td>\n",
              "      <td>0.000383</td>\n",
              "      <td>0.000423</td>\n",
              "      <td>0.000457</td>\n",
              "      <td>0.000488</td>\n",
              "      <td>0.000527</td>\n",
              "      <td>0.000601</td>\n",
              "      <td>0.000613</td>\n",
              "      <td>0.000592</td>\n",
              "      <td>0.000567</td>\n",
              "      <td>0.000577</td>\n",
              "      <td>0.000558</td>\n",
              "      <td>0.000521</td>\n",
              "      <td>0.000488</td>\n",
              "      <td>0.000472</td>\n",
              "      <td>0.000512</td>\n",
              "      <td>0.0</td>\n",
              "    </tr>\n",
              "    <tr>\n",
              "      <th>4</th>\n",
              "      <td>0.000383</td>\n",
              "      <td>0.000423</td>\n",
              "      <td>0.000457</td>\n",
              "      <td>0.000488</td>\n",
              "      <td>0.000527</td>\n",
              "      <td>0.000601</td>\n",
              "      <td>0.000613</td>\n",
              "      <td>0.000592</td>\n",
              "      <td>0.000567</td>\n",
              "      <td>0.000577</td>\n",
              "      <td>0.000558</td>\n",
              "      <td>0.000521</td>\n",
              "      <td>0.000488</td>\n",
              "      <td>0.000472</td>\n",
              "      <td>0.000512</td>\n",
              "      <td>0.000506</td>\n",
              "      <td>0.0</td>\n",
              "    </tr>\n",
              "    <tr>\n",
              "      <th>...</th>\n",
              "      <td>...</td>\n",
              "      <td>...</td>\n",
              "      <td>...</td>\n",
              "      <td>...</td>\n",
              "      <td>...</td>\n",
              "      <td>...</td>\n",
              "      <td>...</td>\n",
              "      <td>...</td>\n",
              "      <td>...</td>\n",
              "      <td>...</td>\n",
              "      <td>...</td>\n",
              "      <td>...</td>\n",
              "      <td>...</td>\n",
              "      <td>...</td>\n",
              "      <td>...</td>\n",
              "      <td>...</td>\n",
              "      <td>...</td>\n",
              "    </tr>\n",
              "    <tr>\n",
              "      <th>10399</th>\n",
              "      <td>0.850078</td>\n",
              "      <td>0.827490</td>\n",
              "      <td>0.852056</td>\n",
              "      <td>0.876787</td>\n",
              "      <td>0.882447</td>\n",
              "      <td>0.900913</td>\n",
              "      <td>0.908607</td>\n",
              "      <td>0.927512</td>\n",
              "      <td>0.935151</td>\n",
              "      <td>0.956364</td>\n",
              "      <td>0.959936</td>\n",
              "      <td>0.964773</td>\n",
              "      <td>0.983238</td>\n",
              "      <td>0.976698</td>\n",
              "      <td>0.959332</td>\n",
              "      <td>0.957683</td>\n",
              "      <td>1.0</td>\n",
              "    </tr>\n",
              "    <tr>\n",
              "      <th>10400</th>\n",
              "      <td>0.827490</td>\n",
              "      <td>0.852056</td>\n",
              "      <td>0.876787</td>\n",
              "      <td>0.882447</td>\n",
              "      <td>0.900913</td>\n",
              "      <td>0.908607</td>\n",
              "      <td>0.927512</td>\n",
              "      <td>0.935151</td>\n",
              "      <td>0.956364</td>\n",
              "      <td>0.959936</td>\n",
              "      <td>0.964773</td>\n",
              "      <td>0.983238</td>\n",
              "      <td>0.976698</td>\n",
              "      <td>0.959332</td>\n",
              "      <td>0.957683</td>\n",
              "      <td>0.980380</td>\n",
              "      <td>0.0</td>\n",
              "    </tr>\n",
              "    <tr>\n",
              "      <th>10401</th>\n",
              "      <td>0.852056</td>\n",
              "      <td>0.876787</td>\n",
              "      <td>0.882447</td>\n",
              "      <td>0.900913</td>\n",
              "      <td>0.908607</td>\n",
              "      <td>0.927512</td>\n",
              "      <td>0.935151</td>\n",
              "      <td>0.956364</td>\n",
              "      <td>0.959936</td>\n",
              "      <td>0.964773</td>\n",
              "      <td>0.983238</td>\n",
              "      <td>0.976698</td>\n",
              "      <td>0.959332</td>\n",
              "      <td>0.957683</td>\n",
              "      <td>0.980380</td>\n",
              "      <td>0.961805</td>\n",
              "      <td>0.0</td>\n",
              "    </tr>\n",
              "    <tr>\n",
              "      <th>10402</th>\n",
              "      <td>0.876787</td>\n",
              "      <td>0.882447</td>\n",
              "      <td>0.900913</td>\n",
              "      <td>0.908607</td>\n",
              "      <td>0.927512</td>\n",
              "      <td>0.935151</td>\n",
              "      <td>0.956364</td>\n",
              "      <td>0.959936</td>\n",
              "      <td>0.964773</td>\n",
              "      <td>0.983238</td>\n",
              "      <td>0.976698</td>\n",
              "      <td>0.959332</td>\n",
              "      <td>0.957683</td>\n",
              "      <td>0.980380</td>\n",
              "      <td>0.961805</td>\n",
              "      <td>0.944054</td>\n",
              "      <td>1.0</td>\n",
              "    </tr>\n",
              "    <tr>\n",
              "      <th>10403</th>\n",
              "      <td>0.882447</td>\n",
              "      <td>0.900913</td>\n",
              "      <td>0.908607</td>\n",
              "      <td>0.927512</td>\n",
              "      <td>0.935151</td>\n",
              "      <td>0.956364</td>\n",
              "      <td>0.959936</td>\n",
              "      <td>0.964773</td>\n",
              "      <td>0.983238</td>\n",
              "      <td>0.976698</td>\n",
              "      <td>0.959332</td>\n",
              "      <td>0.957683</td>\n",
              "      <td>0.980380</td>\n",
              "      <td>0.961805</td>\n",
              "      <td>0.944054</td>\n",
              "      <td>0.945758</td>\n",
              "      <td>0.0</td>\n",
              "    </tr>\n",
              "  </tbody>\n",
              "</table>\n",
              "<p>10404 rows × 17 columns</p>\n",
              "</div>\n",
              "      <button class=\"colab-df-convert\" onclick=\"convertToInteractive('df-72f23a80-e60b-4658-aa9f-8235910eab2c')\"\n",
              "              title=\"Convert this dataframe to an interactive table.\"\n",
              "              style=\"display:none;\">\n",
              "        \n",
              "  <svg xmlns=\"http://www.w3.org/2000/svg\" height=\"24px\"viewBox=\"0 0 24 24\"\n",
              "       width=\"24px\">\n",
              "    <path d=\"M0 0h24v24H0V0z\" fill=\"none\"/>\n",
              "    <path d=\"M18.56 5.44l.94 2.06.94-2.06 2.06-.94-2.06-.94-.94-2.06-.94 2.06-2.06.94zm-11 1L8.5 8.5l.94-2.06 2.06-.94-2.06-.94L8.5 2.5l-.94 2.06-2.06.94zm10 10l.94 2.06.94-2.06 2.06-.94-2.06-.94-.94-2.06-.94 2.06-2.06.94z\"/><path d=\"M17.41 7.96l-1.37-1.37c-.4-.4-.92-.59-1.43-.59-.52 0-1.04.2-1.43.59L10.3 9.45l-7.72 7.72c-.78.78-.78 2.05 0 2.83L4 21.41c.39.39.9.59 1.41.59.51 0 1.02-.2 1.41-.59l7.78-7.78 2.81-2.81c.8-.78.8-2.07 0-2.86zM5.41 20L4 18.59l7.72-7.72 1.47 1.35L5.41 20z\"/>\n",
              "  </svg>\n",
              "      </button>\n",
              "      \n",
              "  <style>\n",
              "    .colab-df-container {\n",
              "      display:flex;\n",
              "      flex-wrap:wrap;\n",
              "      gap: 12px;\n",
              "    }\n",
              "\n",
              "    .colab-df-convert {\n",
              "      background-color: #E8F0FE;\n",
              "      border: none;\n",
              "      border-radius: 50%;\n",
              "      cursor: pointer;\n",
              "      display: none;\n",
              "      fill: #1967D2;\n",
              "      height: 32px;\n",
              "      padding: 0 0 0 0;\n",
              "      width: 32px;\n",
              "    }\n",
              "\n",
              "    .colab-df-convert:hover {\n",
              "      background-color: #E2EBFA;\n",
              "      box-shadow: 0px 1px 2px rgba(60, 64, 67, 0.3), 0px 1px 3px 1px rgba(60, 64, 67, 0.15);\n",
              "      fill: #174EA6;\n",
              "    }\n",
              "\n",
              "    [theme=dark] .colab-df-convert {\n",
              "      background-color: #3B4455;\n",
              "      fill: #D2E3FC;\n",
              "    }\n",
              "\n",
              "    [theme=dark] .colab-df-convert:hover {\n",
              "      background-color: #434B5C;\n",
              "      box-shadow: 0px 1px 3px 1px rgba(0, 0, 0, 0.15);\n",
              "      filter: drop-shadow(0px 1px 2px rgba(0, 0, 0, 0.3));\n",
              "      fill: #FFFFFF;\n",
              "    }\n",
              "  </style>\n",
              "\n",
              "      <script>\n",
              "        const buttonEl =\n",
              "          document.querySelector('#df-72f23a80-e60b-4658-aa9f-8235910eab2c button.colab-df-convert');\n",
              "        buttonEl.style.display =\n",
              "          google.colab.kernel.accessAllowed ? 'block' : 'none';\n",
              "\n",
              "        async function convertToInteractive(key) {\n",
              "          const element = document.querySelector('#df-72f23a80-e60b-4658-aa9f-8235910eab2c');\n",
              "          const dataTable =\n",
              "            await google.colab.kernel.invokeFunction('convertToInteractive',\n",
              "                                                     [key], {});\n",
              "          if (!dataTable) return;\n",
              "\n",
              "          const docLinkHtml = 'Like what you see? Visit the ' +\n",
              "            '<a target=\"_blank\" href=https://colab.research.google.com/notebooks/data_table.ipynb>data table notebook</a>'\n",
              "            + ' to learn more about interactive tables.';\n",
              "          element.innerHTML = '';\n",
              "          dataTable['output_type'] = 'display_data';\n",
              "          await google.colab.output.renderOutput(dataTable, element);\n",
              "          const docLink = document.createElement('div');\n",
              "          docLink.innerHTML = docLinkHtml;\n",
              "          element.appendChild(docLink);\n",
              "        }\n",
              "      </script>\n",
              "    </div>\n",
              "  </div>\n",
              "  "
            ]
          },
          "metadata": {},
          "execution_count": 231
        }
      ]
    },
    {
      "cell_type": "code",
      "source": [
        "data = data.dropna()"
      ],
      "metadata": {
        "id": "46M8IzrdKgf8"
      },
      "execution_count": 232,
      "outputs": []
    },
    {
      "cell_type": "code",
      "source": [
        "X = data.drop(\"result\",axis=1)\n",
        "xTrain, xTest, yTrain, yTest = train_test_split(X, data[\"result\"], test_size=0.1,random_state=11)\n",
        "\n",
        "print(xTrain.shape)\n",
        "print(yTrain.shape)\n",
        "\n",
        "print(xTest.shape)\n",
        "print(yTest.shape)\n"
      ],
      "metadata": {
        "colab": {
          "base_uri": "https://localhost:8080/"
        },
        "id": "S1J0OHRSzeW8",
        "outputId": "1e04f13b-23b8-456c-c79d-72af7735b387"
      },
      "execution_count": 233,
      "outputs": [
        {
          "output_type": "stream",
          "name": "stdout",
          "text": [
            "(9363, 16)\n",
            "(9363,)\n",
            "(1041, 16)\n",
            "(1041,)\n"
          ]
        }
      ]
    },
    {
      "cell_type": "code",
      "source": [
        "clf = RandomForestClassifier(n_estimators=100)\n",
        "clf.fit(xTrain,yTrain)\n",
        "clf.score(xTest,yTest)"
      ],
      "metadata": {
        "colab": {
          "base_uri": "https://localhost:8080/"
        },
        "id": "JgRefOUSp70m",
        "outputId": "e0d71e44-07f2-4e63-ded6-a0ba22cc170f"
      },
      "execution_count": 234,
      "outputs": [
        {
          "output_type": "execute_result",
          "data": {
            "text/plain": [
              "0.5177713736791547"
            ]
          },
          "metadata": {},
          "execution_count": 234
        }
      ]
    },
    {
      "cell_type": "code",
      "source": [
        "logisticRegr = LogisticRegression()\n",
        "logisticRegr.fit(xTrain, yTrain)\n",
        "logisticRegr.score(xTest, yTest)"
      ],
      "metadata": {
        "colab": {
          "base_uri": "https://localhost:8080/"
        },
        "id": "0xE04oaprnAX",
        "outputId": "dd89c02e-fea8-4e47-d00c-1e3e8a2ab1b2"
      },
      "execution_count": 235,
      "outputs": [
        {
          "output_type": "execute_result",
          "data": {
            "text/plain": [
              "0.526416906820365"
            ]
          },
          "metadata": {},
          "execution_count": 235
        }
      ]
    },
    {
      "cell_type": "code",
      "source": [
        "svm = SVC()\n",
        "svm.fit(xTrain,yTrain)\n",
        "svm.score(xTest,yTest)"
      ],
      "metadata": {
        "colab": {
          "base_uri": "https://localhost:8080/"
        },
        "id": "D2pfGHIbPlOk",
        "outputId": "4ff70282-bdb2-4c07-cd88-1cc28fe185e8"
      },
      "execution_count": 236,
      "outputs": [
        {
          "output_type": "execute_result",
          "data": {
            "text/plain": [
              "0.5446685878962536"
            ]
          },
          "metadata": {},
          "execution_count": 236
        }
      ]
    },
    {
      "cell_type": "code",
      "source": [
        "from sklearn.neighbors import NearestCentroid\n",
        "nc = NearestCentroid()\n",
        "nc.fit(xTrain,yTrain)\n",
        "nc.score(xTest,yTest)"
      ],
      "metadata": {
        "colab": {
          "base_uri": "https://localhost:8080/"
        },
        "id": "BVtW0X40PHx3",
        "outputId": "20a56d7c-4777-4797-f931-7ab187f58022"
      },
      "execution_count": 237,
      "outputs": [
        {
          "output_type": "execute_result",
          "data": {
            "text/plain": [
              "0.5302593659942363"
            ]
          },
          "metadata": {},
          "execution_count": 237
        }
      ]
    },
    {
      "cell_type": "code",
      "source": [
        "from sklearn.naive_bayes import GaussianNB\n",
        "gnb = GaussianNB()\n",
        "gnb.fit(xTrain, yTrain).score(xTest,yTest)"
      ],
      "metadata": {
        "colab": {
          "base_uri": "https://localhost:8080/"
        },
        "id": "qwExbeX5ReEj",
        "outputId": "787d30af-ac93-4c25-d68d-e022372c784a"
      },
      "execution_count": 238,
      "outputs": [
        {
          "output_type": "execute_result",
          "data": {
            "text/plain": [
              "0.5244956772334294"
            ]
          },
          "metadata": {},
          "execution_count": 238
        }
      ]
    },
    {
      "cell_type": "code",
      "source": [
        "from sklearn import tree\n",
        "tree = tree.DecisionTreeClassifier()\n",
        "tree.fit(xTrain, yTrain)\n",
        "tree.score(xTest,yTest)"
      ],
      "metadata": {
        "colab": {
          "base_uri": "https://localhost:8080/"
        },
        "id": "J7dQTjK7Rwf9",
        "outputId": "f50192ca-7f55-4446-c86d-ed3a0a28e847"
      },
      "execution_count": 239,
      "outputs": [
        {
          "output_type": "execute_result",
          "data": {
            "text/plain": [
              "0.5331412103746398"
            ]
          },
          "metadata": {},
          "execution_count": 239
        }
      ]
    },
    {
      "cell_type": "code",
      "source": [
        "from sklearn.ensemble import GradientBoostingClassifier\n",
        "gb = GradientBoostingClassifier(n_estimators=100, learning_rate=1.0,\n",
        "   max_depth=1, random_state=0).fit(xTrain, yTrain)\n",
        "gb.score(xTest, yTest)"
      ],
      "metadata": {
        "colab": {
          "base_uri": "https://localhost:8080/"
        },
        "id": "iF9-IqlqSMAB",
        "outputId": "dc037643-a39b-476c-8667-d53c5ebbd1f8"
      },
      "execution_count": 240,
      "outputs": [
        {
          "output_type": "execute_result",
          "data": {
            "text/plain": [
              "0.5341018251681076"
            ]
          },
          "metadata": {},
          "execution_count": 240
        }
      ]
    },
    {
      "cell_type": "code",
      "source": [
        "from sklearn.neighbors import KNeighborsClassifier\n",
        "clf2 = KNeighborsClassifier(n_neighbors=7)\n",
        "clf2.fit(xTrain, yTrain)\n",
        "clf2.score(xTest,yTest)"
      ],
      "metadata": {
        "colab": {
          "base_uri": "https://localhost:8080/"
        },
        "id": "5IMIL4Z5SsyU",
        "outputId": "4b052894-038f-47d5-d328-742cd2bcf745"
      },
      "execution_count": 241,
      "outputs": [
        {
          "output_type": "execute_result",
          "data": {
            "text/plain": [
              "0.49279538904899134"
            ]
          },
          "metadata": {},
          "execution_count": 241
        }
      ]
    },
    {
      "cell_type": "code",
      "source": [
        "model = Sequential()\n",
        "model.add(Dense(64, activation='relu', kernel_initializer='he_normal', input_shape=(16,)))\n",
        "model.add(Dropout(0.2))\n",
        "model.add(Dense(64, activation='relu', kernel_initializer='he_normal'))\n",
        "model.add(Dropout(0.2))\n",
        "model.add(Dense(32, activation='relu', kernel_initializer='he_normal'))\n",
        "model.add(Dropout(0.2))\n",
        "model.add(Dense(1, activation='sigmoid'))\n",
        "\n",
        "model.compile(optimizer='adam', loss='binary_crossentropy',metrics=['accuracy'])\n",
        "\n",
        "model.summary()"
      ],
      "metadata": {
        "colab": {
          "base_uri": "https://localhost:8080/"
        },
        "id": "1rI1oRc9VRwO",
        "outputId": "babf71ab-23b6-45dd-dfe9-f996db72ea5c"
      },
      "execution_count": 242,
      "outputs": [
        {
          "output_type": "stream",
          "name": "stdout",
          "text": [
            "Model: \"sequential_16\"\n",
            "_________________________________________________________________\n",
            " Layer (type)                Output Shape              Param #   \n",
            "=================================================================\n",
            " dense_52 (Dense)            (None, 64)                1088      \n",
            "                                                                 \n",
            " dropout_39 (Dropout)        (None, 64)                0         \n",
            "                                                                 \n",
            " dense_53 (Dense)            (None, 64)                4160      \n",
            "                                                                 \n",
            " dropout_40 (Dropout)        (None, 64)                0         \n",
            "                                                                 \n",
            " dense_54 (Dense)            (None, 32)                2080      \n",
            "                                                                 \n",
            " dropout_41 (Dropout)        (None, 32)                0         \n",
            "                                                                 \n",
            " dense_55 (Dense)            (None, 1)                 33        \n",
            "                                                                 \n",
            "=================================================================\n",
            "Total params: 7,361\n",
            "Trainable params: 7,361\n",
            "Non-trainable params: 0\n",
            "_________________________________________________________________\n"
          ]
        }
      ]
    },
    {
      "cell_type": "code",
      "source": [
        "model.fit(xTrain,yTrain,epochs=15,batch_size=32,validation_data=(xTest,yTest))"
      ],
      "metadata": {
        "colab": {
          "base_uri": "https://localhost:8080/"
        },
        "id": "9h7BV3HrVags",
        "outputId": "456cd178-28a2-479c-90e8-9606cbb1f206"
      },
      "execution_count": 243,
      "outputs": [
        {
          "output_type": "stream",
          "name": "stdout",
          "text": [
            "Epoch 1/15\n",
            "293/293 [==============================] - 2s 3ms/step - loss: 0.6987 - accuracy: 0.5101 - val_loss: 0.6909 - val_accuracy: 0.5466\n",
            "Epoch 2/15\n",
            "293/293 [==============================] - 1s 3ms/step - loss: 0.6941 - accuracy: 0.5171 - val_loss: 0.6910 - val_accuracy: 0.5331\n",
            "Epoch 3/15\n",
            "293/293 [==============================] - 1s 3ms/step - loss: 0.6938 - accuracy: 0.5111 - val_loss: 0.6920 - val_accuracy: 0.5351\n",
            "Epoch 4/15\n",
            "293/293 [==============================] - 1s 3ms/step - loss: 0.6926 - accuracy: 0.5179 - val_loss: 0.6908 - val_accuracy: 0.5447\n",
            "Epoch 5/15\n",
            "293/293 [==============================] - 1s 3ms/step - loss: 0.6931 - accuracy: 0.5162 - val_loss: 0.6914 - val_accuracy: 0.5533\n",
            "Epoch 6/15\n",
            "293/293 [==============================] - 1s 3ms/step - loss: 0.6927 - accuracy: 0.5187 - val_loss: 0.6911 - val_accuracy: 0.5485\n",
            "Epoch 7/15\n",
            "293/293 [==============================] - 1s 3ms/step - loss: 0.6930 - accuracy: 0.5234 - val_loss: 0.6925 - val_accuracy: 0.5101\n",
            "Epoch 8/15\n",
            "293/293 [==============================] - 1s 3ms/step - loss: 0.6926 - accuracy: 0.5174 - val_loss: 0.6909 - val_accuracy: 0.5552\n",
            "Epoch 9/15\n",
            "293/293 [==============================] - 1s 3ms/step - loss: 0.6929 - accuracy: 0.5180 - val_loss: 0.6906 - val_accuracy: 0.5437\n",
            "Epoch 10/15\n",
            "293/293 [==============================] - 1s 3ms/step - loss: 0.6924 - accuracy: 0.5203 - val_loss: 0.6922 - val_accuracy: 0.5370\n",
            "Epoch 11/15\n",
            "293/293 [==============================] - 1s 3ms/step - loss: 0.6927 - accuracy: 0.5132 - val_loss: 0.6904 - val_accuracy: 0.5495\n",
            "Epoch 12/15\n",
            "293/293 [==============================] - 1s 3ms/step - loss: 0.6931 - accuracy: 0.5163 - val_loss: 0.6909 - val_accuracy: 0.5476\n",
            "Epoch 13/15\n",
            "293/293 [==============================] - 1s 3ms/step - loss: 0.6927 - accuracy: 0.5183 - val_loss: 0.6909 - val_accuracy: 0.5524\n",
            "Epoch 14/15\n",
            "293/293 [==============================] - 1s 3ms/step - loss: 0.6925 - accuracy: 0.5183 - val_loss: 0.6910 - val_accuracy: 0.5427\n",
            "Epoch 15/15\n",
            "293/293 [==============================] - 1s 3ms/step - loss: 0.6926 - accuracy: 0.5216 - val_loss: 0.6916 - val_accuracy: 0.5418\n"
          ]
        },
        {
          "output_type": "execute_result",
          "data": {
            "text/plain": [
              "<keras.callbacks.History at 0x7f840b1cd790>"
            ]
          },
          "metadata": {},
          "execution_count": 243
        }
      ]
    }
  ],
  "metadata": {
    "colab": {
      "name": "Serveral_Symbol_Model.ipynb",
      "provenance": [],
      "authorship_tag": "ABX9TyNi+Xlzy3rSHCBGy+rOSD+K",
      "include_colab_link": true
    },
    "kernelspec": {
      "display_name": "Python 3",
      "name": "python3"
    },
    "language_info": {
      "name": "python"
    }
  },
  "nbformat": 4,
  "nbformat_minor": 0
}