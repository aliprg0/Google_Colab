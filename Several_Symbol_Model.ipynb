{
  "cells": [
    {
      "cell_type": "markdown",
      "metadata": {
        "id": "view-in-github",
        "colab_type": "text"
      },
      "source": [
        "<a href=\"https://colab.research.google.com/github/aliprg0/google_colab/blob/main/Several_Symbol_Model.ipynb\" target=\"_parent\"><img src=\"https://colab.research.google.com/assets/colab-badge.svg\" alt=\"Open In Colab\"/></a>"
      ]
    },
    {
      "cell_type": "code",
      "execution_count": 1,
      "metadata": {
        "colab": {
          "base_uri": "https://localhost:8080/"
        },
        "id": "_ygJ_wFxYm7M",
        "outputId": "232f8332-df74-4955-b6f9-82cb2b5794ac"
      },
      "outputs": [
        {
          "output_type": "stream",
          "name": "stdout",
          "text": [
            "Requirement already satisfied: yfinance in /usr/local/lib/python3.7/dist-packages (0.1.70)\n",
            "Requirement already satisfied: multitasking>=0.0.7 in /usr/local/lib/python3.7/dist-packages (from yfinance) (0.0.10)\n",
            "Requirement already satisfied: lxml>=4.5.1 in /usr/local/lib/python3.7/dist-packages (from yfinance) (4.8.0)\n",
            "Requirement already satisfied: requests>=2.26 in /usr/local/lib/python3.7/dist-packages (from yfinance) (2.27.1)\n",
            "Requirement already satisfied: pandas>=0.24.0 in /usr/local/lib/python3.7/dist-packages (from yfinance) (1.3.5)\n",
            "Requirement already satisfied: numpy>=1.15 in /usr/local/lib/python3.7/dist-packages (from yfinance) (1.21.5)\n",
            "Requirement already satisfied: pytz>=2017.3 in /usr/local/lib/python3.7/dist-packages (from pandas>=0.24.0->yfinance) (2018.9)\n",
            "Requirement already satisfied: python-dateutil>=2.7.3 in /usr/local/lib/python3.7/dist-packages (from pandas>=0.24.0->yfinance) (2.8.2)\n",
            "Requirement already satisfied: six>=1.5 in /usr/local/lib/python3.7/dist-packages (from python-dateutil>=2.7.3->pandas>=0.24.0->yfinance) (1.15.0)\n",
            "Requirement already satisfied: charset-normalizer~=2.0.0 in /usr/local/lib/python3.7/dist-packages (from requests>=2.26->yfinance) (2.0.12)\n",
            "Requirement already satisfied: idna<4,>=2.5 in /usr/local/lib/python3.7/dist-packages (from requests>=2.26->yfinance) (2.10)\n",
            "Requirement already satisfied: certifi>=2017.4.17 in /usr/local/lib/python3.7/dist-packages (from requests>=2.26->yfinance) (2021.10.8)\n",
            "Requirement already satisfied: urllib3<1.27,>=1.21.1 in /usr/local/lib/python3.7/dist-packages (from requests>=2.26->yfinance) (1.24.3)\n"
          ]
        }
      ],
      "source": [
        "!pip install yfinance\n",
        "import yfinance as yf   \n",
        "import pandas as pd\n",
        "import numpy as np"
      ]
    },
    {
      "cell_type": "code",
      "source": [
        "from tensorflow.keras import Sequential\n",
        "from tensorflow.keras.layers import Dense,LSTM\n",
        "from tensorflow.keras.layers import Dropout\n",
        "from sklearn.linear_model import LogisticRegression\n",
        "from sklearn.ensemble import RandomForestClassifier\n",
        "from sklearn.model_selection import train_test_split\n",
        "from sklearn.preprocessing import MinMaxScaler\n",
        "from sklearn.svm import SVC\n"
      ],
      "metadata": {
        "id": "_5bxbCoe9do9"
      },
      "execution_count": 2,
      "outputs": []
    },
    {
      "cell_type": "code",
      "execution_count": 29,
      "metadata": {
        "colab": {
          "base_uri": "https://localhost:8080/"
        },
        "id": "kn3S59KUYp6P",
        "outputId": "8c64705f-3759-4b3d-adb6-03b49294ce61"
      },
      "outputs": [
        {
          "output_type": "stream",
          "name": "stdout",
          "text": [
            "\r[*********************100%***********************]  1 of 1 completed\n"
          ]
        }
      ],
      "source": [
        "#symbols = [\"MSFT\",\"AAPL\",\"GOOG\",\"TSLA\",\"GGPI\",\"BIM\",\"AI\",\"AMZN\"]\n",
        "#symbols = [\"BTC-USD\",\"LTC-USD\",\"TRX-USD\",\"XRP-USD\",\"ETH-USD\",\"BNB-USD\",\"DASH-USD\",\"VET-USD\",\"LINK-USD\",\"ADA-USD\",\"DOT-USD\",\"SOL-USD\",\"BCH-USD\",\"FTT-USD\",\"FIL-USD\",\"XMR-USD\"]\n",
        "#symbols = [\"AAPL\",\"MSFT\",\"TSLA\",\"GOOG\"]\n",
        "#symbols = [\"BTC-USD\",\"ETH-USD\"]\n",
        "symbols = [\"BTC-USD\"]\n",
        "dfs = []\n",
        "for i in symbols:\n",
        "   data = yf.download(i,period=\"MAX\",interval=\"1d\")\n",
        "   dfs.append(data)\n"
      ]
    },
    {
      "cell_type": "code",
      "source": [
        "fixed_dfs = []\n",
        "for df in dfs:\n",
        "    full = []\n",
        "    df = np.array(df)\n",
        "    for i in range(15, df.shape[0]-1):\n",
        "        fifteen_days_ago = i-15\n",
        "        fourteen_days_ago = i-14\n",
        "        thirteen_days_ago = i-13\n",
        "        twelve_days_ago = i-12\n",
        "        eleven_days_ago = i-11\n",
        "        ten_days_ago = i-10\n",
        "        nine_days_ago = i-9\n",
        "        eight_days_ago = i-8\n",
        "        seven_days_ago = i-7\n",
        "        six_days_ago = i-6\n",
        "        five_days_ago = i-5\n",
        "        four_days_ago = i-4\n",
        "        three_days_ago = i-3\n",
        "        two_days_ago = i - 2\n",
        "        yesterday = i - 1\n",
        "        today = i\n",
        "        tomorrow = i + 1\n",
        "        if df[tomorrow][3] > df[today][3]:\n",
        "            future = 1\n",
        "        else:\n",
        "            future = 0\n",
        "\n",
        "\n",
        "        new_lst = [df[fifteen_days_ago][3],df[fourteen_days_ago][3],df[thirteen_days_ago][3],df[twelve_days_ago][3],df[eleven_days_ago][3],\n",
        "                   df[ten_days_ago][3], df[nine_days_ago][3], df[eight_days_ago][3], df[seven_days_ago][3], df[six_days_ago][3],\n",
        "                   df[five_days_ago][3], df[four_days_ago][3], df[three_days_ago][3], df[two_days_ago][3], df[yesterday][3],\n",
        "                   df[today][3], future]\n",
        "\n",
        "        full.append(new_lst)\n",
        "\n",
        "\n",
        "    fuu = np.array([full])\n",
        "    lst = []\n",
        "    for i in range(0, fuu.shape[1]):\n",
        "        lst.append(fuu[0][i])\n",
        "    \n",
        "    mm = np.array(lst)\n",
        "\n",
        "\n",
        "    column_names = [\"fifteen_days_ago\",\"fourteen_days_ago\",\"thirteen_days_ago\",\"twelve_days_ago\",\"eleven_days_ago\",\n",
        "                      \"ten_days_ago\", \"nine_days_ago\", \"eight_days_ago\", \"seven_days_ago\", \"six_days_ago\",\n",
        "                       \"five_days_ago\", \"four_days_ago\", \"three_days_ago\", \"two_days_ago\", \"yesterday\", \n",
        "                        \"today\", \"result\"]\n",
        "    \n",
        "    cnwr = [\"fifteen_days_ago\",\"fourteen_days_ago\",\"thirteen_days_ago\",\"twelve_days_ago\",\"eleven_days_ago\",\n",
        "                      \"ten_days_ago\", \"nine_days_ago\", \"eight_days_ago\", \"seven_days_ago\", \"six_days_ago\",\n",
        "                       \"five_days_ago\", \"four_days_ago\", \"three_days_ago\", \"two_days_ago\", \"yesterday\", \n",
        "                        \"today\"]\n",
        "    dff = pd.DataFrame(mm, columns=column_names)\n",
        "    \n",
        "    scaler = MinMaxScaler()\n",
        "    xx = dff[\"result\"]\n",
        "    dff = dff.drop([\"result\"],axis=1)\n",
        "    scaled = pd.DataFrame(scaler.fit_transform(dff.T).T, columns=cnwr)\n",
        "\n",
        "    scaled[\"result\"] = xx\n",
        "       \n",
        "    fixed_dfs.append(scaled)\n",
        "\n"
      ],
      "metadata": {
        "id": "IB_YMoe09qVP"
      },
      "execution_count": 30,
      "outputs": []
    },
    {
      "cell_type": "code",
      "source": [
        "data = fixed_dfs[0]\n",
        "for i in range(1,len(symbols)):\n",
        "  data = pd.concat([data,fixed_dfs[i]], ignore_index = True)"
      ],
      "metadata": {
        "id": "_aYjMIfT6y6u"
      },
      "execution_count": 31,
      "outputs": []
    },
    {
      "cell_type": "code",
      "source": [
        "data"
      ],
      "metadata": {
        "colab": {
          "base_uri": "https://localhost:8080/",
          "height": 467
        },
        "id": "ORjxJp0tEWil",
        "outputId": "cc41e988-7190-46ca-c835-e508f93b2982"
      },
      "execution_count": 32,
      "outputs": [
        {
          "output_type": "execute_result",
          "data": {
            "text/plain": [
              "      fifteen_days_ago  fourteen_days_ago  thirteen_days_ago  twelve_days_ago  \\\n",
              "0             0.000000           0.018773           0.265120         0.229695   \n",
              "1             0.000000           0.242957           0.208019         0.395929   \n",
              "2             0.044114           0.000000           0.237266         0.319736   \n",
              "3             0.000000           0.202252           0.272551         0.420343   \n",
              "4             0.000000           0.064225           0.199245         0.316609   \n",
              "...                ...                ...                ...              ...   \n",
              "5721          0.646123           0.621278           0.894155         1.000000   \n",
              "5722          0.635278           0.898068           1.000000         0.932552   \n",
              "5723          0.898068           1.000000           0.932552         0.848786   \n",
              "5724          1.000000           0.932552           0.848786         0.823905   \n",
              "5725          1.000000           0.910175           0.883494         0.859045   \n",
              "\n",
              "      eleven_days_ago  ten_days_ago  nine_days_ago  eight_days_ago  \\\n",
              "0            0.420227      0.486453       0.625681        0.746702   \n",
              "1            0.461244      0.598556       0.717911        0.672036   \n",
              "2            0.493114      0.643819       0.585894        0.669069   \n",
              "3            0.548808      0.499432       0.570332        0.506930   \n",
              "4            0.271499      0.336273       0.278350        0.156342   \n",
              "...               ...           ...            ...             ...   \n",
              "5721         0.929963      0.842982       0.817145        0.793469   \n",
              "5722         0.848786      0.823905       0.801104        0.823747   \n",
              "5723         0.823905      0.801104       0.823747        0.760227   \n",
              "5724         0.801104      0.823747       0.760227        0.662831   \n",
              "5725         0.883325      0.815211       0.710770        0.522690   \n",
              "\n",
              "      seven_days_ago  six_days_ago  five_days_ago  four_days_ago  \\\n",
              "0           0.700186      0.766979       0.707251       0.581441   \n",
              "1           0.737909      0.679003       0.554925       0.420121   \n",
              "2           0.594691      0.438023       0.267812       0.257553   \n",
              "3           0.373382      0.228290       0.219545       0.705094   \n",
              "4           0.023788      0.015799       0.459389       0.562252   \n",
              "...              ...           ...            ...            ...   \n",
              "5721        0.816981      0.751023       0.649888       0.467761   \n",
              "5722        0.760227      0.662831       0.487436       0.240824   \n",
              "5723        0.662831      0.487436       0.240824       0.252030   \n",
              "5724        0.487436      0.240824       0.252030       0.245414   \n",
              "5725        0.258241      0.270258       0.263164       0.039640   \n",
              "\n",
              "      three_days_ago  two_days_ago  yesterday     today  result  \n",
              "0           0.444757      0.436518   0.893931  1.000000     1.0  \n",
              "1           0.411997      0.863115   0.967724  1.000000     0.0  \n",
              "2           0.827161      0.959246   1.000000  0.930495     1.0  \n",
              "3           0.817687      0.852427   0.793179  1.000000     1.0  \n",
              "4           0.593990      0.539862   0.728811  1.000000     1.0  \n",
              "...              ...           ...        ...       ...     ...  \n",
              "5721        0.211682      0.223319   0.216449  0.000000     0.0  \n",
              "5722        0.252030      0.245414   0.036967  0.000000     1.0  \n",
              "5723        0.245414      0.036967   0.000000  0.063153     1.0  \n",
              "5724        0.036967      0.000000   0.063153  0.191157     1.0  \n",
              "5725        0.000000      0.067720   0.204983  0.302141     1.0  \n",
              "\n",
              "[5726 rows x 17 columns]"
            ],
            "text/html": [
              "\n",
              "  <div id=\"df-ac479a5d-d6f7-497f-93e2-f9e0035f90f8\">\n",
              "    <div class=\"colab-df-container\">\n",
              "      <div>\n",
              "<style scoped>\n",
              "    .dataframe tbody tr th:only-of-type {\n",
              "        vertical-align: middle;\n",
              "    }\n",
              "\n",
              "    .dataframe tbody tr th {\n",
              "        vertical-align: top;\n",
              "    }\n",
              "\n",
              "    .dataframe thead th {\n",
              "        text-align: right;\n",
              "    }\n",
              "</style>\n",
              "<table border=\"1\" class=\"dataframe\">\n",
              "  <thead>\n",
              "    <tr style=\"text-align: right;\">\n",
              "      <th></th>\n",
              "      <th>fifteen_days_ago</th>\n",
              "      <th>fourteen_days_ago</th>\n",
              "      <th>thirteen_days_ago</th>\n",
              "      <th>twelve_days_ago</th>\n",
              "      <th>eleven_days_ago</th>\n",
              "      <th>ten_days_ago</th>\n",
              "      <th>nine_days_ago</th>\n",
              "      <th>eight_days_ago</th>\n",
              "      <th>seven_days_ago</th>\n",
              "      <th>six_days_ago</th>\n",
              "      <th>five_days_ago</th>\n",
              "      <th>four_days_ago</th>\n",
              "      <th>three_days_ago</th>\n",
              "      <th>two_days_ago</th>\n",
              "      <th>yesterday</th>\n",
              "      <th>today</th>\n",
              "      <th>result</th>\n",
              "    </tr>\n",
              "  </thead>\n",
              "  <tbody>\n",
              "    <tr>\n",
              "      <th>0</th>\n",
              "      <td>0.000000</td>\n",
              "      <td>0.018773</td>\n",
              "      <td>0.265120</td>\n",
              "      <td>0.229695</td>\n",
              "      <td>0.420227</td>\n",
              "      <td>0.486453</td>\n",
              "      <td>0.625681</td>\n",
              "      <td>0.746702</td>\n",
              "      <td>0.700186</td>\n",
              "      <td>0.766979</td>\n",
              "      <td>0.707251</td>\n",
              "      <td>0.581441</td>\n",
              "      <td>0.444757</td>\n",
              "      <td>0.436518</td>\n",
              "      <td>0.893931</td>\n",
              "      <td>1.000000</td>\n",
              "      <td>1.0</td>\n",
              "    </tr>\n",
              "    <tr>\n",
              "      <th>1</th>\n",
              "      <td>0.000000</td>\n",
              "      <td>0.242957</td>\n",
              "      <td>0.208019</td>\n",
              "      <td>0.395929</td>\n",
              "      <td>0.461244</td>\n",
              "      <td>0.598556</td>\n",
              "      <td>0.717911</td>\n",
              "      <td>0.672036</td>\n",
              "      <td>0.737909</td>\n",
              "      <td>0.679003</td>\n",
              "      <td>0.554925</td>\n",
              "      <td>0.420121</td>\n",
              "      <td>0.411997</td>\n",
              "      <td>0.863115</td>\n",
              "      <td>0.967724</td>\n",
              "      <td>1.000000</td>\n",
              "      <td>0.0</td>\n",
              "    </tr>\n",
              "    <tr>\n",
              "      <th>2</th>\n",
              "      <td>0.044114</td>\n",
              "      <td>0.000000</td>\n",
              "      <td>0.237266</td>\n",
              "      <td>0.319736</td>\n",
              "      <td>0.493114</td>\n",
              "      <td>0.643819</td>\n",
              "      <td>0.585894</td>\n",
              "      <td>0.669069</td>\n",
              "      <td>0.594691</td>\n",
              "      <td>0.438023</td>\n",
              "      <td>0.267812</td>\n",
              "      <td>0.257553</td>\n",
              "      <td>0.827161</td>\n",
              "      <td>0.959246</td>\n",
              "      <td>1.000000</td>\n",
              "      <td>0.930495</td>\n",
              "      <td>1.0</td>\n",
              "    </tr>\n",
              "    <tr>\n",
              "      <th>3</th>\n",
              "      <td>0.000000</td>\n",
              "      <td>0.202252</td>\n",
              "      <td>0.272551</td>\n",
              "      <td>0.420343</td>\n",
              "      <td>0.548808</td>\n",
              "      <td>0.499432</td>\n",
              "      <td>0.570332</td>\n",
              "      <td>0.506930</td>\n",
              "      <td>0.373382</td>\n",
              "      <td>0.228290</td>\n",
              "      <td>0.219545</td>\n",
              "      <td>0.705094</td>\n",
              "      <td>0.817687</td>\n",
              "      <td>0.852427</td>\n",
              "      <td>0.793179</td>\n",
              "      <td>1.000000</td>\n",
              "      <td>1.0</td>\n",
              "    </tr>\n",
              "    <tr>\n",
              "      <th>4</th>\n",
              "      <td>0.000000</td>\n",
              "      <td>0.064225</td>\n",
              "      <td>0.199245</td>\n",
              "      <td>0.316609</td>\n",
              "      <td>0.271499</td>\n",
              "      <td>0.336273</td>\n",
              "      <td>0.278350</td>\n",
              "      <td>0.156342</td>\n",
              "      <td>0.023788</td>\n",
              "      <td>0.015799</td>\n",
              "      <td>0.459389</td>\n",
              "      <td>0.562252</td>\n",
              "      <td>0.593990</td>\n",
              "      <td>0.539862</td>\n",
              "      <td>0.728811</td>\n",
              "      <td>1.000000</td>\n",
              "      <td>1.0</td>\n",
              "    </tr>\n",
              "    <tr>\n",
              "      <th>...</th>\n",
              "      <td>...</td>\n",
              "      <td>...</td>\n",
              "      <td>...</td>\n",
              "      <td>...</td>\n",
              "      <td>...</td>\n",
              "      <td>...</td>\n",
              "      <td>...</td>\n",
              "      <td>...</td>\n",
              "      <td>...</td>\n",
              "      <td>...</td>\n",
              "      <td>...</td>\n",
              "      <td>...</td>\n",
              "      <td>...</td>\n",
              "      <td>...</td>\n",
              "      <td>...</td>\n",
              "      <td>...</td>\n",
              "      <td>...</td>\n",
              "    </tr>\n",
              "    <tr>\n",
              "      <th>5721</th>\n",
              "      <td>0.646123</td>\n",
              "      <td>0.621278</td>\n",
              "      <td>0.894155</td>\n",
              "      <td>1.000000</td>\n",
              "      <td>0.929963</td>\n",
              "      <td>0.842982</td>\n",
              "      <td>0.817145</td>\n",
              "      <td>0.793469</td>\n",
              "      <td>0.816981</td>\n",
              "      <td>0.751023</td>\n",
              "      <td>0.649888</td>\n",
              "      <td>0.467761</td>\n",
              "      <td>0.211682</td>\n",
              "      <td>0.223319</td>\n",
              "      <td>0.216449</td>\n",
              "      <td>0.000000</td>\n",
              "      <td>0.0</td>\n",
              "    </tr>\n",
              "    <tr>\n",
              "      <th>5722</th>\n",
              "      <td>0.635278</td>\n",
              "      <td>0.898068</td>\n",
              "      <td>1.000000</td>\n",
              "      <td>0.932552</td>\n",
              "      <td>0.848786</td>\n",
              "      <td>0.823905</td>\n",
              "      <td>0.801104</td>\n",
              "      <td>0.823747</td>\n",
              "      <td>0.760227</td>\n",
              "      <td>0.662831</td>\n",
              "      <td>0.487436</td>\n",
              "      <td>0.240824</td>\n",
              "      <td>0.252030</td>\n",
              "      <td>0.245414</td>\n",
              "      <td>0.036967</td>\n",
              "      <td>0.000000</td>\n",
              "      <td>1.0</td>\n",
              "    </tr>\n",
              "    <tr>\n",
              "      <th>5723</th>\n",
              "      <td>0.898068</td>\n",
              "      <td>1.000000</td>\n",
              "      <td>0.932552</td>\n",
              "      <td>0.848786</td>\n",
              "      <td>0.823905</td>\n",
              "      <td>0.801104</td>\n",
              "      <td>0.823747</td>\n",
              "      <td>0.760227</td>\n",
              "      <td>0.662831</td>\n",
              "      <td>0.487436</td>\n",
              "      <td>0.240824</td>\n",
              "      <td>0.252030</td>\n",
              "      <td>0.245414</td>\n",
              "      <td>0.036967</td>\n",
              "      <td>0.000000</td>\n",
              "      <td>0.063153</td>\n",
              "      <td>1.0</td>\n",
              "    </tr>\n",
              "    <tr>\n",
              "      <th>5724</th>\n",
              "      <td>1.000000</td>\n",
              "      <td>0.932552</td>\n",
              "      <td>0.848786</td>\n",
              "      <td>0.823905</td>\n",
              "      <td>0.801104</td>\n",
              "      <td>0.823747</td>\n",
              "      <td>0.760227</td>\n",
              "      <td>0.662831</td>\n",
              "      <td>0.487436</td>\n",
              "      <td>0.240824</td>\n",
              "      <td>0.252030</td>\n",
              "      <td>0.245414</td>\n",
              "      <td>0.036967</td>\n",
              "      <td>0.000000</td>\n",
              "      <td>0.063153</td>\n",
              "      <td>0.191157</td>\n",
              "      <td>1.0</td>\n",
              "    </tr>\n",
              "    <tr>\n",
              "      <th>5725</th>\n",
              "      <td>1.000000</td>\n",
              "      <td>0.910175</td>\n",
              "      <td>0.883494</td>\n",
              "      <td>0.859045</td>\n",
              "      <td>0.883325</td>\n",
              "      <td>0.815211</td>\n",
              "      <td>0.710770</td>\n",
              "      <td>0.522690</td>\n",
              "      <td>0.258241</td>\n",
              "      <td>0.270258</td>\n",
              "      <td>0.263164</td>\n",
              "      <td>0.039640</td>\n",
              "      <td>0.000000</td>\n",
              "      <td>0.067720</td>\n",
              "      <td>0.204983</td>\n",
              "      <td>0.302141</td>\n",
              "      <td>1.0</td>\n",
              "    </tr>\n",
              "  </tbody>\n",
              "</table>\n",
              "<p>5726 rows × 17 columns</p>\n",
              "</div>\n",
              "      <button class=\"colab-df-convert\" onclick=\"convertToInteractive('df-ac479a5d-d6f7-497f-93e2-f9e0035f90f8')\"\n",
              "              title=\"Convert this dataframe to an interactive table.\"\n",
              "              style=\"display:none;\">\n",
              "        \n",
              "  <svg xmlns=\"http://www.w3.org/2000/svg\" height=\"24px\"viewBox=\"0 0 24 24\"\n",
              "       width=\"24px\">\n",
              "    <path d=\"M0 0h24v24H0V0z\" fill=\"none\"/>\n",
              "    <path d=\"M18.56 5.44l.94 2.06.94-2.06 2.06-.94-2.06-.94-.94-2.06-.94 2.06-2.06.94zm-11 1L8.5 8.5l.94-2.06 2.06-.94-2.06-.94L8.5 2.5l-.94 2.06-2.06.94zm10 10l.94 2.06.94-2.06 2.06-.94-2.06-.94-.94-2.06-.94 2.06-2.06.94z\"/><path d=\"M17.41 7.96l-1.37-1.37c-.4-.4-.92-.59-1.43-.59-.52 0-1.04.2-1.43.59L10.3 9.45l-7.72 7.72c-.78.78-.78 2.05 0 2.83L4 21.41c.39.39.9.59 1.41.59.51 0 1.02-.2 1.41-.59l7.78-7.78 2.81-2.81c.8-.78.8-2.07 0-2.86zM5.41 20L4 18.59l7.72-7.72 1.47 1.35L5.41 20z\"/>\n",
              "  </svg>\n",
              "      </button>\n",
              "      \n",
              "  <style>\n",
              "    .colab-df-container {\n",
              "      display:flex;\n",
              "      flex-wrap:wrap;\n",
              "      gap: 12px;\n",
              "    }\n",
              "\n",
              "    .colab-df-convert {\n",
              "      background-color: #E8F0FE;\n",
              "      border: none;\n",
              "      border-radius: 50%;\n",
              "      cursor: pointer;\n",
              "      display: none;\n",
              "      fill: #1967D2;\n",
              "      height: 32px;\n",
              "      padding: 0 0 0 0;\n",
              "      width: 32px;\n",
              "    }\n",
              "\n",
              "    .colab-df-convert:hover {\n",
              "      background-color: #E2EBFA;\n",
              "      box-shadow: 0px 1px 2px rgba(60, 64, 67, 0.3), 0px 1px 3px 1px rgba(60, 64, 67, 0.15);\n",
              "      fill: #174EA6;\n",
              "    }\n",
              "\n",
              "    [theme=dark] .colab-df-convert {\n",
              "      background-color: #3B4455;\n",
              "      fill: #D2E3FC;\n",
              "    }\n",
              "\n",
              "    [theme=dark] .colab-df-convert:hover {\n",
              "      background-color: #434B5C;\n",
              "      box-shadow: 0px 1px 3px 1px rgba(0, 0, 0, 0.15);\n",
              "      filter: drop-shadow(0px 1px 2px rgba(0, 0, 0, 0.3));\n",
              "      fill: #FFFFFF;\n",
              "    }\n",
              "  </style>\n",
              "\n",
              "      <script>\n",
              "        const buttonEl =\n",
              "          document.querySelector('#df-ac479a5d-d6f7-497f-93e2-f9e0035f90f8 button.colab-df-convert');\n",
              "        buttonEl.style.display =\n",
              "          google.colab.kernel.accessAllowed ? 'block' : 'none';\n",
              "\n",
              "        async function convertToInteractive(key) {\n",
              "          const element = document.querySelector('#df-ac479a5d-d6f7-497f-93e2-f9e0035f90f8');\n",
              "          const dataTable =\n",
              "            await google.colab.kernel.invokeFunction('convertToInteractive',\n",
              "                                                     [key], {});\n",
              "          if (!dataTable) return;\n",
              "\n",
              "          const docLinkHtml = 'Like what you see? Visit the ' +\n",
              "            '<a target=\"_blank\" href=https://colab.research.google.com/notebooks/data_table.ipynb>data table notebook</a>'\n",
              "            + ' to learn more about interactive tables.';\n",
              "          element.innerHTML = '';\n",
              "          dataTable['output_type'] = 'display_data';\n",
              "          await google.colab.output.renderOutput(dataTable, element);\n",
              "          const docLink = document.createElement('div');\n",
              "          docLink.innerHTML = docLinkHtml;\n",
              "          element.appendChild(docLink);\n",
              "        }\n",
              "      </script>\n",
              "    </div>\n",
              "  </div>\n",
              "  "
            ]
          },
          "metadata": {},
          "execution_count": 32
        }
      ]
    },
    {
      "cell_type": "code",
      "source": [
        "data = data.dropna()"
      ],
      "metadata": {
        "id": "46M8IzrdKgf8"
      },
      "execution_count": 33,
      "outputs": []
    },
    {
      "cell_type": "code",
      "source": [
        "X = data.drop(\"result\",axis=1)\n",
        "xTrain, xTest, yTrain, yTest = train_test_split(X, data[\"result\"], test_size=0.1,random_state=11)\n",
        "\n",
        "print(xTrain.shape)\n",
        "print(yTrain.shape)\n",
        "\n",
        "print(xTest.shape)\n",
        "print(yTest.shape)\n"
      ],
      "metadata": {
        "colab": {
          "base_uri": "https://localhost:8080/"
        },
        "id": "S1J0OHRSzeW8",
        "outputId": "889db585-1e9f-4005-d206-7126c3cb9ba3"
      },
      "execution_count": 34,
      "outputs": [
        {
          "output_type": "stream",
          "name": "stdout",
          "text": [
            "(5153, 16)\n",
            "(5153,)\n",
            "(573, 16)\n",
            "(573,)\n"
          ]
        }
      ]
    },
    {
      "cell_type": "code",
      "source": [
        "clf = RandomForestClassifier(n_estimators=100)\n",
        "clf.fit(xTrain,yTrain)\n",
        "clf.score(xTest,yTest)"
      ],
      "metadata": {
        "colab": {
          "base_uri": "https://localhost:8080/"
        },
        "id": "JgRefOUSp70m",
        "outputId": "8bbec801-53ff-4efc-8cc4-f21928c9f8cc"
      },
      "execution_count": 35,
      "outputs": [
        {
          "output_type": "execute_result",
          "data": {
            "text/plain": [
              "0.5113438045375218"
            ]
          },
          "metadata": {},
          "execution_count": 35
        }
      ]
    },
    {
      "cell_type": "code",
      "source": [
        "logisticRegr = LogisticRegression()\n",
        "logisticRegr.fit(xTrain, yTrain)\n",
        "logisticRegr.score(xTest, yTest)"
      ],
      "metadata": {
        "colab": {
          "base_uri": "https://localhost:8080/"
        },
        "id": "0xE04oaprnAX",
        "outputId": "b61aeb09-aec8-4ef3-ed67-49079e2074d8"
      },
      "execution_count": 36,
      "outputs": [
        {
          "output_type": "execute_result",
          "data": {
            "text/plain": [
              "0.5270506108202443"
            ]
          },
          "metadata": {},
          "execution_count": 36
        }
      ]
    },
    {
      "cell_type": "code",
      "source": [
        "from sklearn.neighbors import NearestCentroid\n",
        "nc = NearestCentroid()\n",
        "nc.fit(xTrain,yTrain)\n",
        "nc.score(xTest,yTest)"
      ],
      "metadata": {
        "colab": {
          "base_uri": "https://localhost:8080/"
        },
        "id": "BVtW0X40PHx3",
        "outputId": "3203864b-b4fe-4562-bcaa-688ad2dacec3"
      },
      "execution_count": 37,
      "outputs": [
        {
          "output_type": "execute_result",
          "data": {
            "text/plain": [
              "0.5619546247818499"
            ]
          },
          "metadata": {},
          "execution_count": 37
        }
      ]
    },
    {
      "cell_type": "code",
      "source": [
        "from sklearn.naive_bayes import GaussianNB\n",
        "gnb = GaussianNB()\n",
        "gnb.fit(xTrain, yTrain).score(xTest,yTest)"
      ],
      "metadata": {
        "colab": {
          "base_uri": "https://localhost:8080/"
        },
        "id": "qwExbeX5ReEj",
        "outputId": "47bc140b-a595-4f6d-ec22-16020d5a39f9"
      },
      "execution_count": 38,
      "outputs": [
        {
          "output_type": "execute_result",
          "data": {
            "text/plain": [
              "0.5584642233856894"
            ]
          },
          "metadata": {},
          "execution_count": 38
        }
      ]
    },
    {
      "cell_type": "code",
      "source": [
        "from sklearn import tree\n",
        "tree = tree.DecisionTreeClassifier()\n",
        "tree.fit(xTrain, yTrain)\n",
        "tree.score(xTest,yTest)"
      ],
      "metadata": {
        "colab": {
          "base_uri": "https://localhost:8080/"
        },
        "id": "J7dQTjK7Rwf9",
        "outputId": "346ce65a-dea7-411d-fc6a-e2b7b909c228"
      },
      "execution_count": 39,
      "outputs": [
        {
          "output_type": "execute_result",
          "data": {
            "text/plain": [
              "0.5130890052356021"
            ]
          },
          "metadata": {},
          "execution_count": 39
        }
      ]
    },
    {
      "cell_type": "code",
      "source": [
        "from sklearn.ensemble import GradientBoostingClassifier\n",
        "gb = GradientBoostingClassifier(n_estimators=100, learning_rate=1.0,\n",
        "   max_depth=1, random_state=0).fit(xTrain, yTrain)\n",
        "gb.score(xTest, yTest)"
      ],
      "metadata": {
        "colab": {
          "base_uri": "https://localhost:8080/"
        },
        "id": "iF9-IqlqSMAB",
        "outputId": "25d03a22-c8bb-4162-eed0-930ffba656e6"
      },
      "execution_count": 40,
      "outputs": [
        {
          "output_type": "execute_result",
          "data": {
            "text/plain": [
              "0.506108202443281"
            ]
          },
          "metadata": {},
          "execution_count": 40
        }
      ]
    },
    {
      "cell_type": "code",
      "source": [
        "from sklearn.neighbors import KNeighborsClassifier\n",
        "clf2 = KNeighborsClassifier(n_neighbors=7)\n",
        "clf2.fit(xTrain, yTrain)\n",
        "clf2.score(xTest,yTest)"
      ],
      "metadata": {
        "colab": {
          "base_uri": "https://localhost:8080/"
        },
        "id": "5IMIL4Z5SsyU",
        "outputId": "d932afdb-089e-4682-c04d-378739fe0cbb"
      },
      "execution_count": 41,
      "outputs": [
        {
          "output_type": "execute_result",
          "data": {
            "text/plain": [
              "0.5008726003490401"
            ]
          },
          "metadata": {},
          "execution_count": 41
        }
      ]
    },
    {
      "cell_type": "code",
      "source": [
        "model = Sequential()\n",
        "model.add(Dense(256, activation='relu', kernel_initializer='he_normal', input_shape=(16,)))\n",
        "model.add(Dropout(0.2))\n",
        "model.add(Dense(256, activation='relu', kernel_initializer='he_normal'))\n",
        "model.add(Dropout(0.2))\n",
        "model.add(Dense(256, activation='relu', kernel_initializer='he_normal'))\n",
        "model.add(Dropout(0.2))\n",
        "model.add(Dense(1, activation='sigmoid'))\n",
        "\n",
        "model.compile(optimizer='adam', loss='binary_crossentropy',metrics=['accuracy'])\n",
        "\n",
        "model.summary()"
      ],
      "metadata": {
        "colab": {
          "base_uri": "https://localhost:8080/"
        },
        "id": "1rI1oRc9VRwO",
        "outputId": "52271e63-5096-465d-e903-7df654cda7da"
      },
      "execution_count": 45,
      "outputs": [
        {
          "output_type": "stream",
          "name": "stdout",
          "text": [
            "Model: \"sequential_5\"\n",
            "_________________________________________________________________\n",
            " Layer (type)                Output Shape              Param #   \n",
            "=================================================================\n",
            " dense_20 (Dense)            (None, 16)                272       \n",
            "                                                                 \n",
            " dropout_15 (Dropout)        (None, 16)                0         \n",
            "                                                                 \n",
            " dense_21 (Dense)            (None, 16)                272       \n",
            "                                                                 \n",
            " dropout_16 (Dropout)        (None, 16)                0         \n",
            "                                                                 \n",
            " dense_22 (Dense)            (None, 4)                 68        \n",
            "                                                                 \n",
            " dropout_17 (Dropout)        (None, 4)                 0         \n",
            "                                                                 \n",
            " dense_23 (Dense)            (None, 1)                 5         \n",
            "                                                                 \n",
            "=================================================================\n",
            "Total params: 617\n",
            "Trainable params: 617\n",
            "Non-trainable params: 0\n",
            "_________________________________________________________________\n"
          ]
        }
      ]
    },
    {
      "cell_type": "code",
      "source": [
        "model.fit(xTrain,yTrain,epochs=30,batch_size=25,validation_data=(xTest,yTest))"
      ],
      "metadata": {
        "colab": {
          "base_uri": "https://localhost:8080/"
        },
        "id": "JDTaW4WnX330",
        "outputId": "f998e9ad-04cc-408c-9acc-44e0de95d76d"
      },
      "execution_count": 46,
      "outputs": [
        {
          "output_type": "stream",
          "name": "stdout",
          "text": [
            "Epoch 1/30\n",
            "207/207 [==============================] - 1s 3ms/step - loss: 0.7995 - accuracy: 0.4898 - val_loss: 0.6919 - val_accuracy: 0.5445\n",
            "Epoch 2/30\n",
            "207/207 [==============================] - 1s 2ms/step - loss: 0.6975 - accuracy: 0.5038 - val_loss: 0.6916 - val_accuracy: 0.5271\n",
            "Epoch 3/30\n",
            "207/207 [==============================] - 1s 2ms/step - loss: 0.6953 - accuracy: 0.4991 - val_loss: 0.6922 - val_accuracy: 0.5148\n",
            "Epoch 4/30\n",
            "207/207 [==============================] - 1s 3ms/step - loss: 0.6929 - accuracy: 0.5077 - val_loss: 0.6920 - val_accuracy: 0.5166\n",
            "Epoch 5/30\n",
            "207/207 [==============================] - 0s 2ms/step - loss: 0.6928 - accuracy: 0.5145 - val_loss: 0.6923 - val_accuracy: 0.5236\n",
            "Epoch 6/30\n",
            "207/207 [==============================] - 1s 3ms/step - loss: 0.6930 - accuracy: 0.5127 - val_loss: 0.6931 - val_accuracy: 0.5113\n",
            "Epoch 7/30\n",
            "207/207 [==============================] - 1s 3ms/step - loss: 0.6924 - accuracy: 0.5191 - val_loss: 0.6924 - val_accuracy: 0.5253\n",
            "Epoch 8/30\n",
            "207/207 [==============================] - 0s 2ms/step - loss: 0.6930 - accuracy: 0.5193 - val_loss: 0.6926 - val_accuracy: 0.5236\n",
            "Epoch 9/30\n",
            "207/207 [==============================] - 0s 2ms/step - loss: 0.6933 - accuracy: 0.5081 - val_loss: 0.6931 - val_accuracy: 0.5148\n",
            "Epoch 10/30\n",
            "207/207 [==============================] - 1s 2ms/step - loss: 0.6917 - accuracy: 0.5115 - val_loss: 0.6931 - val_accuracy: 0.5183\n",
            "Epoch 11/30\n",
            "207/207 [==============================] - 0s 2ms/step - loss: 0.6913 - accuracy: 0.5228 - val_loss: 0.6917 - val_accuracy: 0.5497\n",
            "Epoch 12/30\n",
            "207/207 [==============================] - 0s 2ms/step - loss: 0.6920 - accuracy: 0.5150 - val_loss: 0.6931 - val_accuracy: 0.5096\n",
            "Epoch 13/30\n",
            "207/207 [==============================] - 0s 2ms/step - loss: 0.6910 - accuracy: 0.5261 - val_loss: 0.6922 - val_accuracy: 0.5462\n",
            "Epoch 14/30\n",
            "207/207 [==============================] - 0s 2ms/step - loss: 0.6922 - accuracy: 0.5199 - val_loss: 0.6918 - val_accuracy: 0.5288\n",
            "Epoch 15/30\n",
            "207/207 [==============================] - 0s 2ms/step - loss: 0.6924 - accuracy: 0.5224 - val_loss: 0.6918 - val_accuracy: 0.5305\n",
            "Epoch 16/30\n",
            "207/207 [==============================] - 0s 2ms/step - loss: 0.6913 - accuracy: 0.5232 - val_loss: 0.6910 - val_accuracy: 0.5358\n",
            "Epoch 17/30\n",
            "207/207 [==============================] - 1s 2ms/step - loss: 0.6907 - accuracy: 0.5298 - val_loss: 0.6912 - val_accuracy: 0.5375\n",
            "Epoch 18/30\n",
            "207/207 [==============================] - 0s 2ms/step - loss: 0.6920 - accuracy: 0.5203 - val_loss: 0.6914 - val_accuracy: 0.5236\n",
            "Epoch 19/30\n",
            "207/207 [==============================] - 0s 2ms/step - loss: 0.6913 - accuracy: 0.5277 - val_loss: 0.6911 - val_accuracy: 0.5358\n",
            "Epoch 20/30\n",
            "207/207 [==============================] - 0s 2ms/step - loss: 0.6928 - accuracy: 0.5232 - val_loss: 0.6915 - val_accuracy: 0.5288\n",
            "Epoch 21/30\n",
            "207/207 [==============================] - 0s 2ms/step - loss: 0.6919 - accuracy: 0.5121 - val_loss: 0.6910 - val_accuracy: 0.5375\n",
            "Epoch 22/30\n",
            "207/207 [==============================] - 1s 3ms/step - loss: 0.6925 - accuracy: 0.5185 - val_loss: 0.6920 - val_accuracy: 0.5148\n",
            "Epoch 23/30\n",
            "207/207 [==============================] - 0s 2ms/step - loss: 0.6915 - accuracy: 0.5205 - val_loss: 0.6922 - val_accuracy: 0.5166\n",
            "Epoch 24/30\n",
            "207/207 [==============================] - 1s 2ms/step - loss: 0.6920 - accuracy: 0.5164 - val_loss: 0.6917 - val_accuracy: 0.5218\n",
            "Epoch 25/30\n",
            "207/207 [==============================] - 1s 3ms/step - loss: 0.6907 - accuracy: 0.5271 - val_loss: 0.6909 - val_accuracy: 0.5218\n",
            "Epoch 26/30\n",
            "207/207 [==============================] - 1s 3ms/step - loss: 0.6922 - accuracy: 0.5178 - val_loss: 0.6913 - val_accuracy: 0.5271\n",
            "Epoch 27/30\n",
            "207/207 [==============================] - 0s 2ms/step - loss: 0.6904 - accuracy: 0.5249 - val_loss: 0.6912 - val_accuracy: 0.5375\n",
            "Epoch 28/30\n",
            "207/207 [==============================] - 1s 2ms/step - loss: 0.6902 - accuracy: 0.5346 - val_loss: 0.6907 - val_accuracy: 0.5358\n",
            "Epoch 29/30\n",
            "207/207 [==============================] - 1s 3ms/step - loss: 0.6910 - accuracy: 0.5236 - val_loss: 0.6905 - val_accuracy: 0.5358\n",
            "Epoch 30/30\n",
            "207/207 [==============================] - 0s 2ms/step - loss: 0.6902 - accuracy: 0.5344 - val_loss: 0.6898 - val_accuracy: 0.5480\n"
          ]
        },
        {
          "output_type": "execute_result",
          "data": {
            "text/plain": [
              "<keras.callbacks.History at 0x7f2bfa746150>"
            ]
          },
          "metadata": {},
          "execution_count": 46
        }
      ]
    },
    {
      "cell_type": "code",
      "source": [
        "svm = SVC()\n",
        "svm.fit(xTrain,yTrain)\n",
        "svm.score(xTest,yTest)"
      ],
      "metadata": {
        "colab": {
          "base_uri": "https://localhost:8080/"
        },
        "id": "D2pfGHIbPlOk",
        "outputId": "48906927-5992-402f-968b-0e7a94ebefd9"
      },
      "execution_count": 44,
      "outputs": [
        {
          "output_type": "execute_result",
          "data": {
            "text/plain": [
              "0.5445026178010471"
            ]
          },
          "metadata": {},
          "execution_count": 44
        }
      ]
    }
  ],
  "metadata": {
    "colab": {
      "name": "Copy of Several_Symbol_Model.ipynb",
      "provenance": [],
      "authorship_tag": "ABX9TyOxBnlQVUOQWANwgUXQ/gQ+",
      "include_colab_link": true
    },
    "kernelspec": {
      "display_name": "Python 3",
      "name": "python3"
    },
    "language_info": {
      "name": "python"
    }
  },
  "nbformat": 4,
  "nbformat_minor": 0
}